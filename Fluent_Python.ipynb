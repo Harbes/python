{
 "cells": [
  {
   "cell_type": "markdown",
   "metadata": {},
   "source": [
    "# Chapter 1: the Python Data Model\n",
    "## 1.1 一摞Python风格的纸牌"
   ]
  },
  {
   "cell_type": "code",
   "execution_count": null,
   "metadata": {
    "collapsed": true
   },
   "outputs": [],
   "source": [
    "import collections\n",
    "Card=collections.namedtuple('Card',['rank','suit']) # namedtuple常用以构建只有一些属性(attributes)但没有方法(methods)的类(class)\n",
    "class FrenchDeck:\n",
    "    ranks=[str(n) for n in range(2,11)]+list('JQKA')\n",
    "    suits='spades diamonds clubs hearts'.split()\n",
    "    def __init__(self):\n",
    "        self._cards=[Card(rank,suit) for suit in self.suits for rank in self.ranks]\n",
    "    def __len__(self):\n",
    "        return len(self._cards)\n",
    "    def __getitem__(self,position):\n",
    "        return self._cards[position]\n"
   ]
  },
  {
   "cell_type": "code",
   "execution_count": null,
   "metadata": {
    "collapsed": true
   },
   "outputs": [],
   "source": [
    "beer_card=Card('7','diamonds')\n",
    "beer_card  # Card(rank='7', suit='diamonds')\n",
    "deck=FrenchDeck()\n",
    "len(deck) # 52 ;或者deck.__len__()\n",
    "deck[0] # Card(rank='2', suit='spades')\n",
    "deck[-1] # Card(rank='A', suit='hearts')\n",
    "from random import choice\n",
    "choice(deck)\n",
    "# 因为__getitem__方法把[]操作交给了self._cards列表，因此，deck类自动支持切片\n",
    "deck[:3]\n",
    "deck[12::13] # 先抽出索引号是12的牌，然后每13张取一张牌\n",
    "for card in deck: #  for card in reversed(deck): # 反向迭代\n",
    "       print(card)\n",
    "#当一个集合类型没有实现__contains__方法时，in运算就会按顺序做一次迭代搜索（前提是可迭代的）\n",
    "Card(\"Q\",\"hearts\") in deck # True\n",
    "# 排序，依据是点数以及花色：黑桃最大，红桃次之，方块再次，梅花最小;可以通过定义一个spades_high函数来作为sorted的key\n",
    "suit_values=dict(spades=3,hearts=2,diamonds=1,clubs=0)\n",
    "def spades_high(card):\n",
    "    rank_value=FrenchDeck.ranks.index(card.rank) # 返回list元素的index\n",
    "    return rank_value*len(suit_values)+suit_values[card.suit]\n",
    "for card in sorted(deck,key=spades_high):\n",
    "    print(card)"
   ]
  },
  {
   "cell_type": "markdown",
   "metadata": {},
   "source": [
    "## 1.2 如何使用特殊方法"
   ]
  },
  {
   "cell_type": "code",
   "execution_count": null,
   "metadata": {},
   "outputs": [],
   "source": [
    "# 自定义一个二维向量，可以实现向量的模(hypot)，向量加法以及向量与标量的乘法等，同时结果能被友好地打印出来(__repr__)\n",
    "from math import hypot\n",
    "class Vector:\n",
    "    def __init__(self,x=0,y=0):\n",
    "        self.x=x\n",
    "        self.y=y\n",
    "    def __repr__(self):\n",
    "        return 'Vector(%r,%r)'%(self.x,self.y)\n",
    "    def __abs__(self):\n",
    "        return hypot(self.x,self.y)\n",
    "    def __bool__(self):\n",
    "        return bool(abs(self))\n",
    "    def __add__(self,other):\n",
    "        x=self.x+other.x\n",
    "        y=self.y+other.y\n",
    "        return Vector(x,y)\n",
    "    def __mul__(self,scalar):\n",
    "        return Vector(self.x*scalar,self.y*scalar)\n",
    "print(Vector(1,2))"
   ]
  },
  {
   "cell_type": "markdown",
   "metadata": {},
   "source": [
    "## 1.3 特殊方法一览"
   ]
  },
  {
   "cell_type": "markdown",
   "metadata": {},
   "source": [
    "## 1.4 为什么len是特殊方法，而不是普通方法\n",
    "* 其他方法也是同理：len之所以不是一个普通方法，是为了让Python自带的数据结构可以走后门(直接使用CPython)"
   ]
  },
  {
   "cell_type": "markdown",
   "metadata": {},
   "source": [
    "# Chapter 2: 序列构成的数组\n",
    "## 2.1 内置序列类型概览"
   ]
  },
  {
   "cell_type": "code",
   "execution_count": null,
   "metadata": {
    "collapsed": true
   },
   "outputs": [],
   "source": [
    "# python内置的序列主要分为两种类型：\n",
    "## 容器序列(允许不同元素)，例如：list、tuple、collections.deque；容器序列存放的是任意类型的引用\n",
    "## 另外一种是扁平序列(只能存放一种数据类型)，例如：str、bytes、bytearray、memoryview和array.array；扁平序列存放的是值而不是引用，即扁平序列其实是一段连续的内存空间\n"
   ]
  },
  {
   "cell_type": "code",
   "execution_count": null,
   "metadata": {
    "collapsed": true
   },
   "outputs": [],
   "source": [
    "# 如果将序列按照能否被修改来分类，则可以分为\n",
    "## 可变序列MutableSequence：list、bytearray、array.array、collections.deque和memoryview\n",
    "## 不可变序列Sequence：tuple、str和bytes"
   ]
  },
  {
   "cell_type": "markdown",
   "metadata": {},
   "source": [
    "## 2.2 列表推导和生成器表达式\n",
    "* 通常的原则是只用列表推导式来创新新的列表，并且尽量保持简短（注意Python会忽略代码里[]、{}、()中的换行）"
   ]
  },
  {
   "cell_type": "code",
   "execution_count": null,
   "metadata": {
    "collapsed": true
   },
   "outputs": [],
   "source": [
    "symbols='abcdefg'\n",
    "codes=[]\n",
    "for symbol in symbols:\n",
    "    codes.append(ord(symbol))\n",
    "codes"
   ]
  },
  {
   "cell_type": "code",
   "execution_count": null,
   "metadata": {},
   "outputs": [],
   "source": [
    "# 列表推导同filter和map的比较\n",
    "symbols='abcdefg'\n",
    "beyond_ascii=[ord(s) for s in symbols if ord(s)>100]\n",
    "beyond_ascii\n",
    "beyond_ascii=list(filter(lambda c:c>100,map(ord,symbols)))\n",
    "beyond_ascii\n",
    "# 注意 map/filter 组合起来用不一定比列表推导式快\n",
    "import timeit\n",
    "\n",
    "TIMES = 10000\n",
    "\n",
    "SETUP = \"\"\"\n",
    "symbols = '$¢£¥€¤'\n",
    "def non_ascii(c):\n",
    "    return c > 127\n",
    "\"\"\"\n",
    "\n",
    "def clock(label, cmd):\n",
    "    res = timeit.repeat(cmd, setup=SETUP, number=TIMES)\n",
    "    print(label, *('{:.3f}'.format(x) for x in res))\n",
    "\n",
    "clock('listcomp        :', '[ord(s) for s in symbols if ord(s) > 127]')\n",
    "clock('listcomp + func :', '[ord(s) for s in symbols if non_ascii(ord(s))]')\n",
    "clock('filter + lambda :', 'list(filter(lambda c: c > 127, map(ord, symbols)))')\n",
    "clock('filter + func   :', 'list(filter(non_ascii, map(ord, symbols)))')"
   ]
  },
  {
   "cell_type": "code",
   "execution_count": null,
   "metadata": {},
   "outputs": [],
   "source": [
    "# 生成器(可以减少内存消耗)，语法与列表推导式相似，只是把方括号换成圆括号\n",
    "## 注意，如果生成器是某函数的唯一参数，则不需要圆括号，例如\n",
    "symbols='abcdefghijklmn'\n",
    "tuple(ord(symbol) for symbol in symbols)"
   ]
  },
  {
   "cell_type": "markdown",
   "metadata": {},
   "source": [
    "## 2.3 元组tuple不仅仅是不可变的列表\n",
    "* 元组实际上是对数据内容和未知的记录"
   ]
  },
  {
   "cell_type": "code",
   "execution_count": null,
   "metadata": {},
   "outputs": [],
   "source": [
    "# 元组拆包\n",
    "a=('Harbes','Arvin')\n",
    "b,c=a\n",
    "b\n",
    "b,c=c,b\n",
    "c\n",
    "b,c"
   ]
  },
  {
   "cell_type": "code",
   "execution_count": null,
   "metadata": {
    "scrolled": false
   },
   "outputs": [],
   "source": [
    "# 使用 * 运算符把一个可迭代对象超开胃函数的参数\n",
    "divmod(20,8)\n",
    "paras=(20,8)\n",
    "divmod(*paras)\n",
    "\n",
    "a=\"I'm Harbes\"\n",
    "_,b=a.split() # 拆包时，不是对所有元素都感兴趣\n",
    "b\n",
    "\n",
    "a=\"I'm Harbes Arvin\"\n",
    "*_,b=a.split()\n",
    "b\n",
    "_,b # ([\"I'm\", 'Harbes'], 'Arvin')\n",
    "\n",
    "a,b,*rest=range(3)\n",
    "a,b,rest # (0, 1, [2])\n",
    "a,b,*rest=range(2)\n",
    "a,b,rest # (0, 1, [])"
   ]
  },
  {
   "cell_type": "code",
   "execution_count": null,
   "metadata": {},
   "outputs": [],
   "source": [
    "# 嵌套元组拆包\n",
    "metro_areas = [\n",
    "    ('Tokyo', 'JP', 36.933, (35.689722, 139.691667)),   # <1>\n",
    "    ('Delhi NCR', 'IN', 21.935, (28.613889, 77.208889)),\n",
    "    ('Mexico City', 'MX', 20.142, (19.433333, -99.133333)),\n",
    "    ('New York-Newark', 'US', 20.104, (40.808611, -74.020386)),\n",
    "    ('Sao Paulo', 'BR', 19.649, (-23.547778, -46.635833)),\n",
    "]\n",
    "\n",
    "print('{:15} | {:^9} | {:^9}'.format('', 'lat.', 'long.'))\n",
    "fmt = '{:15} | {:9.4f} | {:9.4f}'\n",
    "for name, cc, pop, (latitude, longitude) in metro_areas:  # <2>\n",
    "    if longitude <= 0:  # <3>\n",
    "        print(fmt.format(name, latitude, longitude))"
   ]
  },
  {
   "cell_type": "code",
   "execution_count": null,
   "metadata": {},
   "outputs": [],
   "source": [
    "# namedtuple (from collections import namedtuple) 用来构建一个带字段名的元组和一个有名字的类\n",
    "from collections import namedtuple\n",
    "City=namedtuple('city','name country population coordinates') # City是类，city是名\n",
    "tokyo=City('Tokyo','JP',36,(36,140))\n",
    "tokyo # city(name='Tokyo', country='JP', population=36, coordinates=(36, 140))\n",
    "tokyo.population\n",
    "# 除了从普通元组那里继承来的属性之外，namedtuple还有一些自己专有的属性，例如 _fileds类属性, 类方法_make(iterable)和实例方法 _asdict()\n",
    "City._fields # ('name', 'country', 'population', 'coordinates') # 返回包含这个类所有字段名称的元组\n",
    "City._asdict(tokyo) # OrderedDict([('name', 'Tokyo'),('country', 'JP'),('population', 36),('coordinates', (36, 140))])\n",
    "t=City._make(('Tokyo','JP',36,(36,140))) # city(name='Tokyo', country='JP', population=36, coordinates=(36, 140)) # _make() 通过接受一个可迭代对象来生成这个类的一个实例\n",
    "City._asdict(t) # OrderedDict([('name', 'Tokyo'),('country', 'JP'),('population', 36),('coordinates', (36, 140))])\n",
    "for key,value in tokyo._asdict().items():\n",
    "    print(key+':',value)"
   ]
  },
  {
   "cell_type": "code",
   "execution_count": null,
   "metadata": {
    "collapsed": true
   },
   "outputs": [],
   "source": [
    "# 作为不可变列表的元组（列表与元组的异同）"
   ]
  },
  {
   "cell_type": "markdown",
   "metadata": {},
   "source": [
    "## 2.4 切片"
   ]
  },
  {
   "cell_type": "code",
   "execution_count": null,
   "metadata": {
    "collapsed": true
   },
   "outputs": [],
   "source": [
    "# 为什么切片以及区间会忽略最后一个元素，例如：a[:3]不返回a[3]\n",
    "### 当只有最后一个位置信息时，可以快速看出切片和区间的元素个数，例如a[:3]就是3个元素\n",
    "### 当起止信息可见时，，可以快速计算切片和区间的长度：stop-start\n",
    "### 可以利用任意一个下标将序列分割成不重叠的两部分：a[:x]和a[x:]"
   ]
  },
  {
   "cell_type": "code",
   "execution_count": null,
   "metadata": {
    "collapsed": true
   },
   "outputs": [],
   "source": [
    "# s[a:b:c]的形式对s在a和b之间以c为间隔取值；若c为负值，则反向取值"
   ]
  },
  {
   "cell_type": "code",
   "execution_count": null,
   "metadata": {
    "collapsed": true
   },
   "outputs": [],
   "source": [
    "# 多维切片和省略\n",
    "## a[m:n,x:y]\n",
    "## a[m,...] # 注意使用 ... "
   ]
  },
  {
   "cell_type": "code",
   "execution_count": null,
   "metadata": {},
   "outputs": [],
   "source": [
    "# 给切片赋值，注意：若要赋值的对象是一个切片，那么赋值语句右侧一定是一个可迭代对象iterable\n",
    "li=list(range(10))\n",
    "#li[2:5]=888 # 报错\n",
    "li[2:5]=[888];li"
   ]
  },
  {
   "cell_type": "markdown",
   "metadata": {},
   "source": [
    "## 2.5 对序列使用+和* \n",
    "* 一些陷阱：当a*n这个语句中，序列a中的元素是对其他可变对象的引用的话，需要引起格外的注意"
   ]
  },
  {
   "cell_type": "code",
   "execution_count": null,
   "metadata": {},
   "outputs": [],
   "source": [
    "# 当我们使用 * 来创建一个由列表组成的列表时，要注意，列表中的所有列表实际上是指代同一个对象\n",
    "board=[[\"_\"]*3 for i in range(3)]\n",
    "board[1][2]='x'\n",
    "board # [['_', '_', '_'], ['_', '_', 'x'], ['_', '_', '_']]\n",
    "weird_board=[['_']*3]*3\n",
    "weird_board[1][2]='0'\n",
    "weird_board # [['_', '_', '0'], ['_', '_', '0'], ['_', '_', '0']]"
   ]
  },
  {
   "cell_type": "markdown",
   "metadata": {},
   "source": [
    "## 2.6 序列的增量赋值"
   ]
  },
  {
   "cell_type": "code",
   "execution_count": null,
   "metadata": {},
   "outputs": [],
   "source": [
    "# *= 和 += 都有就地运算和非就地运算两种，取决于前面的对象是否是可变对象，例如\n",
    "li=[1,2,3]\n",
    "print(id(li)) # 2489839375432\n",
    "li *=2\n",
    "li # [1, 2, 3, 1, 2, 3]\n",
    "print(id(li)) # 2489839375432"
   ]
  },
  {
   "cell_type": "code",
   "execution_count": null,
   "metadata": {},
   "outputs": [],
   "source": [
    "tu=(1,2,3)\n",
    "print(id(tu))\n",
    "tu *=2\n",
    "print(tu)\n",
    "print(id(tu)) # 两次的id是不同的；由此可知，对不可变序列进行重复拼接操作的话，效率会很低，因为每次都会产生新的对象，解释器需要把原来的对象重新指向新的对象"
   ]
  },
  {
   "cell_type": "code",
   "execution_count": null,
   "metadata": {},
   "outputs": [],
   "source": [
    "# 关于 += 的谜题\n",
    "t=(1,2,[888])\n",
    "t[2] +=[888] # TypeError"
   ]
  },
  {
   "cell_type": "code",
   "execution_count": null,
   "metadata": {},
   "outputs": [],
   "source": [
    "# 上面虽然抛出了 TypeError 异常，但是print(t)的结果告诉我们，t改变了\n",
    "print(t)"
   ]
  },
  {
   "cell_type": "code",
   "execution_count": null,
   "metadata": {
    "collapsed": true
   },
   "outputs": [],
   "source": [
    "# 除了使用try except之外，上面的命令还可以通过 使用extend来避免异常\n",
    "t=(1,2,[888])\n",
    "t[2].extend([888])\n",
    "t"
   ]
  },
  {
   "cell_type": "markdown",
   "metadata": {},
   "source": [
    "## 2.7 list.sort方法和内置函数sorted\n",
    "* list.sort方法会就低排序列表，也就是说不会把原列表复制一份；而sorted会新建一个列表作为返回值。二者都有两个可选参数：reverse和key，其中key传入的是一个只有一个参数的函数。"
   ]
  },
  {
   "cell_type": "markdown",
   "metadata": {},
   "source": [
    "## 2.8 用bisect来管理已排序的序列\n",
    "* bisect模块包含两个主要函数：bisect和insort，都是利用二分查找算法来在有序序列中查找或插入元素。"
   ]
  },
  {
   "cell_type": "code",
   "execution_count": null,
   "metadata": {},
   "outputs": [],
   "source": [
    "import bisect\n",
    "import sys\n",
    "\n",
    "HAYSTACK = [1, 4, 5, 6, 8, 12, 15, 20, 21, 23, 23, 26, 29, 30]\n",
    "NEEDLES = [0, 1, 2, 5, 8, 10, 22, 23, 29, 30, 31]\n",
    "\n",
    "ROW_FMT = '{0:2d} @ {1:2d}    {2}{0:<2d}'\n",
    "\n",
    "def demo(bisect_fn):\n",
    "    for needle in reversed(NEEDLES):\n",
    "        position = bisect_fn(HAYSTACK, needle)  # <1>\n",
    "        offset = position * '  |'  # <2>\n",
    "        print(ROW_FMT.format(needle, position, offset))  # <3>\n",
    "\n",
    "if __name__ == '__main__':\n",
    "\n",
    "    if sys.argv[-1] == 'left':    # <4>\n",
    "        bisect_fn = bisect.bisect_left\n",
    "    else:\n",
    "        bisect_fn = bisect.bisect\n",
    "\n",
    "    print('DEMO:', bisect_fn.__name__)  # <5>\n",
    "    print('haystack ->', ' '.join('%2d' % n for n in HAYSTACK))\n",
    "    demo(bisect_fn)"
   ]
  },
  {
   "cell_type": "code",
   "execution_count": null,
   "metadata": {},
   "outputs": [],
   "source": [
    "# 用bisect.insort插入新元素,insort可以保持有序序列的顺序\n",
    "import bisect\n",
    "import random\n",
    "\n",
    "SIZE = 7\n",
    "\n",
    "random.seed(1729)\n",
    "\n",
    "my_list = []\n",
    "for i in range(SIZE):\n",
    "    new_item = random.randrange(SIZE*2)\n",
    "    bisect.insort(my_list, new_item)\n",
    "    print('%2d ->' % new_item, my_list)"
   ]
  },
  {
   "cell_type": "markdown",
   "metadata": {},
   "source": [
    "## 2.9 当列表不是首选时"
   ]
  },
  {
   "cell_type": "code",
   "execution_count": null,
   "metadata": {},
   "outputs": [],
   "source": [
    "# 数组,同时使用.tofile()和.fromfile()快速写入或读取文件\n",
    "from array import array\n",
    "from random import random \n",
    "floats=array('d',(random() for i in range(10**7)))\n",
    "floats[-1]\n",
    "fp=open('floats.bin','wb')\n",
    "floats.tofile(fp)\n",
    "fp.close()\n",
    "floats2=array('d')\n",
    "fp=open('floats.bin','rb')\n",
    "floats2.fromfile(fp,10**7)\n",
    "fp.close()\n",
    "floats2[-1] # 与floats[-1]一致\n",
    "# 对数组和列表的功能做了一些总结"
   ]
  },
  {
   "cell_type": "code",
   "execution_count": null,
   "metadata": {},
   "outputs": [],
   "source": [
    "# numpy 和 scipy\n",
    "### tips：使用 from time import perf_counter as pc来计时(精度和性能比较高)"
   ]
  },
  {
   "cell_type": "code",
   "execution_count": null,
   "metadata": {},
   "outputs": [],
   "source": [
    "# 双向队列和其他形式的队列\n",
    "## 双向队列是一个线程安全、可以快速从两端添加或删除元素的数据类型\n",
    "from collections import deque\n",
    "dq=deque(range(10),maxlen=10)\n",
    "print('1 ->',dq)\n",
    "dq.rotate(3) # 注意是就地变化，所以，返回的是None(print打印的结果是None)\n",
    "print('2 ->',dq)\n",
    "dq.rotate(-4)\n",
    "print('3 ->',dq)\n",
    "dq.appendleft(-1)\n",
    "print('4 ->',dq)\n",
    "dq.extend([11,22,33])\n",
    "print('5 ->',dq)\n",
    "dq.extendleft([10,20,30])\n",
    "print('6 ->',dq)\n",
    "# 列表和双向队列的方法"
   ]
  },
  {
   "cell_type": "markdown",
   "metadata": {},
   "source": [
    "# Chapter 3: 字典和集合"
   ]
  },
  {
   "cell_type": "code",
   "execution_count": null,
   "metadata": {},
   "outputs": [],
   "source": [
    "import this"
   ]
  },
  {
   "cell_type": "code",
   "execution_count": null,
   "metadata": {
    "collapsed": true
   },
   "outputs": [],
   "source": []
  }
 ],
 "metadata": {
  "kernelspec": {
   "display_name": "Python 3",
   "language": "python",
   "name": "python3"
  },
  "language_info": {
   "codemirror_mode": {
    "name": "ipython",
    "version": 3
   },
   "file_extension": ".py",
   "mimetype": "text/x-python",
   "name": "python",
   "nbconvert_exporter": "python",
   "pygments_lexer": "ipython3",
   "version": "3.6.1"
  }
 },
 "nbformat": 4,
 "nbformat_minor": 2
}
