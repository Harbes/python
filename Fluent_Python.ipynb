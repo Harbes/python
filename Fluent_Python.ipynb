{
 "cells": [
  {
   "cell_type": "markdown",
   "metadata": {},
   "source": [
    "# Chapter 1: the Python Data Model\n",
    "## 1.1 一摞Python风格的纸牌"
   ]
  },
  {
   "cell_type": "code",
   "execution_count": null,
   "metadata": {},
   "outputs": [],
   "source": [
    "import collections\n",
    "Card=collections.namedtuple('Card',['rank','suit']) # namedtuple常用以构建只有一些属性(attributes)但没有方法(methods)的类(class)\n",
    "class FrenchDeck:\n",
    "    ranks=[str(n) for n in range(2,11)]+list('JQKA')\n",
    "    suits='spades diamonds clubs hearts'.split()\n",
    "    def __init__(self):\n",
    "        self._cards=[Card(rank,suit) for suit in self.suits for rank in self.ranks]\n",
    "    def __len__(self):\n",
    "        return len(self._cards)\n",
    "    def __getitem__(self,position):\n",
    "        return self._cards[position]\n"
   ]
  },
  {
   "cell_type": "code",
   "execution_count": null,
   "metadata": {},
   "outputs": [],
   "source": [
    "beer_card=Card('7','diamonds')\n",
    "beer_card  # Card(rank='7', suit='diamonds')\n",
    "deck=FrenchDeck()\n",
    "len(deck) # 52 ;或者deck.__len__()\n",
    "deck[0] # Card(rank='2', suit='spades')\n",
    "deck[-1] # Card(rank='A', suit='hearts')\n",
    "from random import choice\n",
    "choice(deck)\n",
    "# 因为__getitem__方法把[]操作交给了self._cards列表，因此，deck类自动支持切片\n",
    "deck[:3]\n",
    "deck[12::13] # 先抽出索引号是12的牌，然后每13张取一张牌\n",
    "for card in deck: #  for card in reversed(deck): # 反向迭代\n",
    "       print(card)\n",
    "#当一个集合类型没有实现__contains__方法时，in运算就会按顺序做一次迭代搜索（前提是可迭代的）\n",
    "Card(\"Q\",\"hearts\") in deck # True\n",
    "# 排序，依据是点数以及花色：黑桃最大，红桃次之，方块再次，梅花最小;可以通过定义一个spades_high函数来作为sorted的key\n",
    "suit_values=dict(spades=3,hearts=2,diamonds=1,clubs=0)\n",
    "def spades_high(card):\n",
    "    rank_value=FrenchDeck.ranks.index(card.rank) # 返回list元素的index\n",
    "    return rank_value*len(suit_values)+suit_values[card.suit]\n",
    "for card in sorted(deck,key=spades_high):\n",
    "    print(card)"
   ]
  },
  {
   "cell_type": "markdown",
   "metadata": {},
   "source": [
    "## 1.2 如何使用特殊方法"
   ]
  },
  {
   "cell_type": "code",
   "execution_count": 44,
   "metadata": {},
   "outputs": [
    {
     "name": "stdout",
     "output_type": "stream",
     "text": [
      "Vector(1,2)\n"
     ]
    }
   ],
   "source": [
    "# 自定义一个二维向量，可以实现向量的模(hypot)，向量加法以及向量与标量的乘法等，同时结果能被友好地打印出来(__repr__)\n",
    "from math import hypot\n",
    "class Vector:\n",
    "    def __init__(self,x=0,y=0):\n",
    "        self.x=x\n",
    "        self.y=y\n",
    "    def __repr__(self):\n",
    "        return 'Vector(%r,%r)'%(self.x,self.y)\n",
    "    def __abs__(self):\n",
    "        return hypot(self.x,self.y)\n",
    "    def __bool__(self):\n",
    "        return bool(abs(self))\n",
    "    def __add__(self,other):\n",
    "        x=self.x+other.x\n",
    "        y=self.y+other.y\n",
    "        return Vector(x,y)\n",
    "    def __mul__(self,scalar):\n",
    "        return Vector(self.x*scalar,self.y*scalar)\n",
    "print(Vector(1,2))"
   ]
  },
  {
   "cell_type": "markdown",
   "metadata": {},
   "source": [
    "## 1.3 特殊方法一览"
   ]
  },
  {
   "cell_type": "markdown",
   "metadata": {},
   "source": [
    "## 1.4 为什么len是特殊方法，而不是普通方法\n",
    "* 其他方法也是同理：len之所以不是一个普通方法，是为了让Python自带的数据结构可以走后门(直接使用CPython)"
   ]
  },
  {
   "cell_type": "markdown",
   "metadata": {},
   "source": [
    "# Chapter 2: 序列构成的数组\n",
    "## 2.1 内置序列类型概览"
   ]
  },
  {
   "cell_type": "code",
   "execution_count": null,
   "metadata": {
    "collapsed": true
   },
   "outputs": [],
   "source": [
    "# python内置的序列主要分为两种类型：\n",
    "## 容器序列(允许不同元素)，例如：list、tuple、collections.deque；容器序列存放的是任意类型的引用\n",
    "## 另外一种是扁平序列(只能存放一种数据类型)，例如：str、bytes、bytearray、memoryview和array.array；扁平序列存放的是值而不是引用，即扁平序列其实是一段连续的内存空间\n"
   ]
  },
  {
   "cell_type": "code",
   "execution_count": null,
   "metadata": {
    "collapsed": true
   },
   "outputs": [],
   "source": [
    "# 如果将序列按照能否被修改来分类，则可以分为\n",
    "## 可变序列MutableSequence：list、bytearray、array.array、collections.deque和memoryview\n",
    "## 不可变序列Sequence：tuple、str和bytes"
   ]
  },
  {
   "cell_type": "markdown",
   "metadata": {},
   "source": [
    "## 2.2 列表推导和生成器表达式\n",
    "* 通常的原则是只用列表推导式来创新新的列表，并且尽量保持简短（注意Python会忽略代码里[]、{}、()中的换行）"
   ]
  },
  {
   "cell_type": "code",
   "execution_count": 45,
   "metadata": {
    "collapsed": true
   },
   "outputs": [],
   "source": [
    "symbols='abcdefg'\n",
    "codes=[]\n",
    "for symbol in symbols:\n",
    "    codes.append(ord(symbol))\n",
    "codes"
   ]
  },
  {
   "cell_type": "code",
   "execution_count": 49,
   "metadata": {},
   "outputs": [
    {
     "data": {
      "text/plain": [
       "[101, 102, 103]"
      ]
     },
     "execution_count": 49,
     "metadata": {},
     "output_type": "execute_result"
    }
   ],
   "source": [
    "# 列表推导同filter和map的比较\n",
    "symbols='abcdefg'\n",
    "beyond_ascii=[ord(s) for s in symbols if ord(s)>100]\n",
    "beyond_ascii\n",
    "beyond_ascii=list(filter(lambda c:c>100,map(ord,symbols)))\n",
    "beyond_ascii\n",
    "# 注意 map/filter 组合起来用不一定比列表推导式快"
   ]
  },
  {
   "cell_type": "code",
   "execution_count": null,
   "metadata": {
    "collapsed": true
   },
   "outputs": [],
   "source": []
  }
 ],
 "metadata": {
  "kernelspec": {
   "display_name": "Python 3",
   "language": "python",
   "name": "python3"
  },
  "language_info": {
   "codemirror_mode": {
    "name": "ipython",
    "version": 3
   },
   "file_extension": ".py",
   "mimetype": "text/x-python",
   "name": "python",
   "nbconvert_exporter": "python",
   "pygments_lexer": "ipython3",
   "version": "3.6.1"
  }
 },
 "nbformat": 4,
 "nbformat_minor": 2
}
