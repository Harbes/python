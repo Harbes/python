{
 "cells": [
  {
   "cell_type": "markdown",
   "metadata": {
    "slideshow": {
     "slide_type": "slide"
    }
   },
   "source": [
    "# python中的概率与统计函数。主要分为两部分：numpy和scipy"
   ]
  },
  {
   "cell_type": "markdown",
   "metadata": {},
   "source": [
    "## 第一部分：numpy中的概率分布与统计函数"
   ]
  },
  {
   "cell_type": "markdown",
   "metadata": {
    "slideshow": {
     "slide_type": "slide"
    }
   },
   "source": [
    "1、模拟随机变量simulating random variables\n",
    "\n",
    "1.1 核心随机数生成器core random number generators\n",
    "* rand,random_sample:  0-1的均匀分布  前者接受不定数量的整数作为参数（表示生成的维度）；而后者只接受以元组形式表示的维度参数\n",
    "* randn,standard_normal:  标准正态分布  参数引入方式与上述一致\n",
    "* randint,random_integers:  整数均匀分布  二者的参数形式为（left,right,(dims)）\n",
    "1.2 随机数组函数random array function\n",
    "* shuffle:  对已存在的数组元素重新随机排列  参数就是已存在的数组\n",
    "* permutation:  与shuffle相似，只是permutation不改变原数组，而是copy了一份\n",
    "1.3 其他select random number generators\n",
    "* binomial(1,p)，binomial(1,p,(dims))：  Bernoulli分布/两点分布\n",
    "* beta(a,b),beta(a,b,(dims)):  beta分布\n",
    "* binomial(n,p),binomial(n,p,(dims)):  二项分布\n",
    "* chisquare(nu):  卡方分布\n",
    "* exponential(lambda),exponential(lambda,(dims))：  指数分布\n",
    "* f(v1,v2),f(v1,v2,(dims)):  f分布\n",
    "* gamma(a):  Gamma(alpha,1)分布\n",
    "* gamma(a,theta,(dims)):  Gamma(alpha,theta)\n",
    "* laplace(),laplace(loc,scale,(dims)):  Laplace分布/双指数分布，前者默认loc=0,scale=1\n",
    "* lognormal(),lognormal(mu,sigma,(dims)):  对数正态\n",
    "* multinomial(n,p),multinomial(n,p,(dims)):  多项分布，p为元素和为一的k-维数组\n",
    "* multivariate_normal(mu,sigma),multivariate_normal(mu,sigma,(dims)):  多元正态前者k维，后者dims * k维度\n",
    "* normal(),normal(mu,sigma,(dims)):   正态分布\n",
    "* poisson(),poisson(lambda,(dims)):   泊松分布\n",
    "* standard_t(nu),standard_t(nu,(dims)):   学生氏t分布\n",
    "* uniform(),uniform(los,high,(dims)):   均匀分布"
   ]
  },
  {
   "cell_type": "code",
   "execution_count": 11,
   "metadata": {
    "collapsed": true
   },
   "outputs": [
    {
     "name": "stdout",
     "output_type": "stream",
     "text": [
      "[[ 0.45541455  0.34519114  0.38035817  0.13596256  0.09770079  0.90587807]\n",
      " [ 0.66858928  0.11530243  0.0070134   0.70220992  0.07741777  0.48582076]\n",
      " [ 0.83629947  0.48757787  0.31412497  0.99734468  0.21299632  0.32901533]\n",
      " [ 0.59240841  0.78519985  0.06362882  0.5358063   0.77756473  0.11088861]\n",
      " [ 0.90395881  0.77649987  0.33622843  0.43588162  0.5180097   0.8706856 ]\n",
      " [ 0.99403051  0.87630738  0.47054876  0.35361306  0.47767731  0.43029207]]\n",
      "b: [[ 28.02233546  18.45563017   8.19815659  22.84379309  21.36690746\n",
      "   26.47822942]\n",
      " [ 31.48059425  16.45206226  18.69631455  23.84889509  21.46299497\n",
      "   17.32223823]\n",
      " [  5.5833815   23.77121471  23.53332777  11.51882654  27.06626443\n",
      "   15.17941931]\n",
      " [ 16.15900861  16.55015904  25.11391145  25.07206488  24.06788781\n",
      "   23.72963073]\n",
      " [ 23.52225461  12.35424019  39.30544866  22.87101896  18.93941171\n",
      "   21.77803372]\n",
      " [ 18.61855629  10.34898514  24.48253678  35.33144201  30.36237926\n",
      "   10.90541595]]\n"
     ]
    }
   ],
   "source": [
    "import numpy as np\n",
    "a=np.random.rand(6,6)\n",
    "b=np.random.gamma(10,2,(6,6))\n",
    "print(a)\n",
    "print('b:',b)"
   ]
  },
  {
   "cell_type": "markdown",
   "metadata": {},
   "source": [
    "2、 模拟和随机数生成simulation and random number generation\n",
    "* RandomState()用于控制随机数生成器\n",
    "2.1 state:若随机数生成器的state相同，则同一分布会生成相同的随机数\n",
    "* 可用np.random.get_state()获取state\n",
    "2.2 seed：np.random.seed()是一个更实用的初始化生成器的函数\n",
    "* seed()随机初始化\n",
    "* seed(s)选择特定的初始化,注意s为int64类"
   ]
  },
  {
   "cell_type": "code",
   "execution_count": 13,
   "metadata": {
    "collapsed": false
   },
   "outputs": [
    {
     "data": {
      "text/plain": [
       "array([[ True,  True,  True,  True,  True,  True],\n",
       "       [ True,  True,  True,  True,  True,  True],\n",
       "       [ True,  True,  True,  True,  True,  True],\n",
       "       [ True,  True,  True,  True,  True,  True],\n",
       "       [ True,  True,  True,  True,  True,  True],\n",
       "       [ True,  True,  True,  True,  True,  True]], dtype=bool)"
      ]
     },
     "execution_count": 13,
     "metadata": {},
     "output_type": "execute_result"
    }
   ],
   "source": [
    "import numpy as np\n",
    "gen1=np.random.RandomState()\n",
    "gen2=np.random.RandomState()\n",
    "state1=gen1.get_state()\n",
    "gen2.set_state(state1)\n",
    "sample1=gen1.uniform(0,1,(6,6))\n",
    "sample2=gen2.uniform(0,1,(6,6))\n",
    "sample1==sample2"
   ]
  },
  {
   "cell_type": "code",
   "execution_count": 15,
   "metadata": {
    "collapsed": false,
    "scrolled": true
   },
   "outputs": [
    {
     "data": {
      "text/plain": [
       "True"
      ]
     },
     "execution_count": 15,
     "metadata": {},
     "output_type": "execute_result"
    }
   ],
   "source": [
    "import numpy as np\n",
    "np.random.seed(6)\n",
    "a=np.random.randn()\n",
    "np.random.seed(6)\n",
    "b=np.random.randn()\n",
    "a==b"
   ]
  },
  {
   "cell_type": "markdown",
   "metadata": {},
   "source": [
    "3、常用统计函数\n",
    "* mean\n",
    "* median\n",
    "* std\n",
    "* var\n",
    "* corrcoef\n",
    "* cov\n",
    "* histgram\n",
    "* histgram2d"
   ]
  },
  {
   "cell_type": "markdown",
   "metadata": {},
   "source": [
    "## 第二部分 scipy中的概率分布与统计函数：随机数生成器，概率分布和统计检验"
   ]
  },
  {
   "cell_type": "markdown",
   "metadata": {},
   "source": [
    "* import scipy\n",
    "* import scipy.stats as stats"
   ]
  },
  {
   "cell_type": "markdown",
   "metadata": {},
   "source": [
    "1、连续随机变量continuous random variables\n",
    "* dist.rvs(*args,loc=0,scale=1,size=(dims))：  抽样\n",
    "* dis.pdf(x,*args,loc=0,scale=1),其中x为自变量数组：  密度函数\n",
    "* dist.logpdf(x,*args,loc=0,scale=1),其中x为自变量数组：  对数密度\n",
    "* dist.cdf(x,*args,loc=0,scale=1),其中x为自变量数组：  累积分布\n",
    "* dist.ppf(p,*args,loc=0,scale=1),其中p为元素取值范围为0-1的数组：  逆cdf函数\n",
    "* dist.fit(data,*args,floc=0,fscale=1),其中x为自变量数组：\n",
    "* dist.mean(*args,loc=0,scale=1)\n",
    "* dist.median(r,*args,loc=0,scale=1)  其中r为矩的阶数,注意：非中心矩 \n",
    "* dist.moment\n",
    "* dist.var\n",
    "* dist.std\n",
    "\n",
    "2、连续分布\n",
    "\n",
    "2.1 常见的分布\n",
    "* norm\n",
    "* beta\n",
    "* cauchy\n",
    "* chi2\n",
    "* expon\n",
    "* exponpow\n",
    "* f\n",
    "* gamma\n",
    "* gompertz\n",
    "* laplace\n",
    "* levy\n",
    "* logistic\n",
    "* lognorm\n",
    "* skewnorm\n",
    "* t\n",
    "* uniform\n",
    "* wald\n",
    "\n",
    "\n",
    "2.2 不常见的分布\n",
    "* alpha\n",
    "* anglit\n",
    "* arcsine\n",
    "* betaprime\n",
    "* bradford\n",
    "* burr\n",
    "* burr12\n",
    "* chi\n",
    "* cosine\n",
    "* dgamma\n",
    "* dweibull\n",
    "* erlang\n",
    "* exponnorm\n",
    "* exponweib\n",
    "* fatiguelife\n",
    "* fisk\n",
    "* foldcauchy\n",
    "* foldnorm\n",
    "* frechet\n",
    "* frechet_r\n",
    "* frechet_l\n",
    "* genlogistic\n",
    "* gennorm\n",
    "* genpareto\n",
    "* genexpon\n",
    "* genextreme\n",
    "* gausshyper\n",
    "* gengamma\n",
    "* genhalflogistic\n",
    "* gilbrat\n",
    "\n"
   ]
  },
  {
   "cell_type": "code",
   "execution_count": 20,
   "metadata": {
    "collapsed": false
   },
   "outputs": [
    {
     "name": "stdout",
     "output_type": "stream",
     "text": [
      "2.0 1.67834699002 2 2.0 2.0\n"
     ]
    }
   ],
   "source": [
    "import scipy.stats as stats\n",
    "gamma=stats.gamma\n",
    "m,md=gamma.mean(2),gamma.median(2)\n",
    "var1=gamma.moment(2,2)-gamma.moment(1,2)**2#方差\n",
    "var2=gamma.var(2)#方差\n",
    "var3=gamma.moment(2,2,loc=-gamma.mean(2))#方差,利用位置参数將中心转至零点\n",
    "print(m,md,var1,var2,var3)"
   ]
  },
  {
   "cell_type": "markdown",
   "metadata": {},
   "source": [
    "2、统计函数select statistics functions\n",
    "* mode(data,axis) #axis可以没有\n",
    "* moment(data,order,axis)#axis没有的话，就默认cover整个数组\n",
    "* skew(data,axis)    #axis可以没有\n",
    "* kurtosis(data,axis,fisher=True)   #axis可以没有，fisher=True表明计算excess kurtosis(=实际的kurtosis-3)\n",
    "* pearsonr(X,Y)\n",
    "* spearmanr(X)\n",
    "* kendalltau\n",
    "* lingress\n"
   ]
  },
  {
   "cell_type": "markdown",
   "metadata": {},
   "source": [
    "3、统计检验select statistical tests\n",
    "* normaltest\n",
    "* kstest\n",
    "* ks_2samp\n",
    "* shapiro\n"
   ]
  }
 ],
 "metadata": {
  "kernelspec": {
   "display_name": "Python 3",
   "language": "python",
   "name": "python3"
  },
  "language_info": {
   "codemirror_mode": {
    "name": "ipython",
    "version": 3
   },
   "file_extension": ".py",
   "mimetype": "text/x-python",
   "name": "python",
   "nbconvert_exporter": "python",
   "pygments_lexer": "ipython3",
   "version": "3.6.0"
  }
 },
 "nbformat": 4,
 "nbformat_minor": 0
}
