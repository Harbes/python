{
 "cells": [
  {
   "cell_type": "markdown",
   "metadata": {},
   "source": [
    "# 量化投资：以R语言和Python为工具"
   ]
  },
  {
   "cell_type": "code",
   "execution_count": 14,
   "metadata": {
    "scrolled": false
   },
   "outputs": [
    {
     "name": "stderr",
     "output_type": "stream",
     "text": [
      "The following objects are masked from w (pos = 3):\n",
      "\n",
      "    CO, Hour, Traffic, Wind\n",
      "\n",
      "The following objects are masked from w (pos = 4):\n",
      "\n",
      "    CO, Hour, Traffic, Wind\n",
      "\n",
      "The following objects are masked from w (pos = 5):\n",
      "\n",
      "    CO, Hour, Traffic, Wind\n",
      "\n",
      "The following objects are masked from w (pos = 6):\n",
      "\n",
      "    CO, Hour, Traffic, Wind\n",
      "\n",
      "The following objects are masked from w (pos = 7):\n",
      "\n",
      "    CO, Hour, Traffic, Wind\n",
      "\n",
      "The following objects are masked from w (pos = 8):\n",
      "\n",
      "    CO, Hour, Traffic, Wind\n",
      "\n",
      "The following objects are masked from w (pos = 9):\n",
      "\n",
      "    CO, Hour, Traffic, Wind\n",
      "\n",
      "The following objects are masked from w (pos = 10):\n",
      "\n",
      "    CO, Hour, Traffic, Wind\n",
      "\n"
     ]
    },
    {
     "data": {
      "text/html": [
       "<table>\n",
       "<thead><tr><th></th><th scope=col>CO</th><th scope=col>Traffic</th><th scope=col>Tsq</th><th scope=col>Tcub</th><th scope=col>Hour</th><th scope=col>Hsq</th><th scope=col>Hcub</th><th scope=col>Wind</th><th scope=col>Wsq</th><th scope=col>Wcub</th></tr></thead>\n",
       "<tbody>\n",
       "\t<tr><th scope=row>CO</th><td>1.00 </td><td>0.96 </td><td>0.90 </td><td> 0.83</td><td>0.43 </td><td>0.24 </td><td> 0.10</td><td>0.71 </td><td>0.63 </td><td>0.57 </td></tr>\n",
       "\t<tr><th scope=row>Traffic</th><td>0.96 </td><td>1.00 </td><td>0.97 </td><td> 0.91</td><td>0.43 </td><td>0.25 </td><td> 0.12</td><td>0.61 </td><td>0.56 </td><td>0.52 </td></tr>\n",
       "\t<tr><th scope=row>Tsq</th><td>0.90 </td><td>0.97 </td><td>1.00 </td><td> 0.99</td><td>0.30 </td><td>0.14 </td><td> 0.02</td><td>0.56 </td><td>0.53 </td><td>0.50 </td></tr>\n",
       "\t<tr><th scope=row>Tcub</th><td>0.83 </td><td>0.91 </td><td>0.99 </td><td> 1.00</td><td>0.24 </td><td>0.09 </td><td>-0.01</td><td>0.50 </td><td>0.49 </td><td>0.47 </td></tr>\n",
       "\t<tr><th scope=row>Hour</th><td>0.43 </td><td>0.43 </td><td>0.30 </td><td> 0.24</td><td>1.00 </td><td>0.97 </td><td> 0.92</td><td>0.42 </td><td>0.33 </td><td>0.29 </td></tr>\n",
       "\t<tr><th scope=row>Hsq</th><td>0.24 </td><td>0.25 </td><td>0.14 </td><td> 0.09</td><td>0.97 </td><td>1.00 </td><td> 0.99</td><td>0.26 </td><td>0.18 </td><td>0.16 </td></tr>\n",
       "\t<tr><th scope=row>Hcub</th><td>0.10 </td><td>0.12 </td><td>0.02 </td><td>-0.01</td><td>0.92 </td><td>0.99 </td><td> 1.00</td><td>0.12 </td><td>0.05 </td><td>0.03 </td></tr>\n",
       "\t<tr><th scope=row>Wind</th><td>0.71 </td><td>0.61 </td><td>0.56 </td><td> 0.50</td><td>0.42 </td><td>0.26 </td><td> 0.12</td><td>1.00 </td><td>0.97 </td><td>0.93 </td></tr>\n",
       "\t<tr><th scope=row>Wsq</th><td>0.63 </td><td>0.56 </td><td>0.53 </td><td> 0.49</td><td>0.33 </td><td>0.18 </td><td> 0.05</td><td>0.97 </td><td>1.00 </td><td>0.99 </td></tr>\n",
       "\t<tr><th scope=row>Wcub</th><td>0.57 </td><td>0.52 </td><td>0.50 </td><td> 0.47</td><td>0.29 </td><td>0.16 </td><td> 0.03</td><td>0.93 </td><td>0.99 </td><td>1.00 </td></tr>\n",
       "</tbody>\n",
       "</table>\n"
      ],
      "text/latex": [
       "\\begin{tabular}{r|llllllllll}\n",
       "  & CO & Traffic & Tsq & Tcub & Hour & Hsq & Hcub & Wind & Wsq & Wcub\\\\\n",
       "\\hline\n",
       "\tCO & 1.00  & 0.96  & 0.90  &  0.83 & 0.43  & 0.24  &  0.10 & 0.71  & 0.63  & 0.57 \\\\\n",
       "\tTraffic & 0.96  & 1.00  & 0.97  &  0.91 & 0.43  & 0.25  &  0.12 & 0.61  & 0.56  & 0.52 \\\\\n",
       "\tTsq & 0.90  & 0.97  & 1.00  &  0.99 & 0.30  & 0.14  &  0.02 & 0.56  & 0.53  & 0.50 \\\\\n",
       "\tTcub & 0.83  & 0.91  & 0.99  &  1.00 & 0.24  & 0.09  & -0.01 & 0.50  & 0.49  & 0.47 \\\\\n",
       "\tHour & 0.43  & 0.43  & 0.30  &  0.24 & 1.00  & 0.97  &  0.92 & 0.42  & 0.33  & 0.29 \\\\\n",
       "\tHsq & 0.24  & 0.25  & 0.14  &  0.09 & 0.97  & 1.00  &  0.99 & 0.26  & 0.18  & 0.16 \\\\\n",
       "\tHcub & 0.10  & 0.12  & 0.02  & -0.01 & 0.92  & 0.99  &  1.00 & 0.12  & 0.05  & 0.03 \\\\\n",
       "\tWind & 0.71  & 0.61  & 0.56  &  0.50 & 0.42  & 0.26  &  0.12 & 1.00  & 0.97  & 0.93 \\\\\n",
       "\tWsq & 0.63  & 0.56  & 0.53  &  0.49 & 0.33  & 0.18  &  0.05 & 0.97  & 1.00  & 0.99 \\\\\n",
       "\tWcub & 0.57  & 0.52  & 0.50  &  0.47 & 0.29  & 0.16  &  0.03 & 0.93  & 0.99  & 1.00 \\\\\n",
       "\\end{tabular}\n"
      ],
      "text/markdown": [
       "\n",
       "| <!--/--> | CO | Traffic | Tsq | Tcub | Hour | Hsq | Hcub | Wind | Wsq | Wcub | \n",
       "|---|---|---|---|---|---|---|---|---|---|\n",
       "| CO | 1.00  | 0.96  | 0.90  |  0.83 | 0.43  | 0.24  |  0.10 | 0.71  | 0.63  | 0.57  | \n",
       "| Traffic | 0.96  | 1.00  | 0.97  |  0.91 | 0.43  | 0.25  |  0.12 | 0.61  | 0.56  | 0.52  | \n",
       "| Tsq | 0.90  | 0.97  | 1.00  |  0.99 | 0.30  | 0.14  |  0.02 | 0.56  | 0.53  | 0.50  | \n",
       "| Tcub | 0.83  | 0.91  | 0.99  |  1.00 | 0.24  | 0.09  | -0.01 | 0.50  | 0.49  | 0.47  | \n",
       "| Hour | 0.43  | 0.43  | 0.30  |  0.24 | 1.00  | 0.97  |  0.92 | 0.42  | 0.33  | 0.29  | \n",
       "| Hsq | 0.24  | 0.25  | 0.14  |  0.09 | 0.97  | 1.00  |  0.99 | 0.26  | 0.18  | 0.16  | \n",
       "| Hcub | 0.10  | 0.12  | 0.02  | -0.01 | 0.92  | 0.99  |  1.00 | 0.12  | 0.05  | 0.03  | \n",
       "| Wind | 0.71  | 0.61  | 0.56  |  0.50 | 0.42  | 0.26  |  0.12 | 1.00  | 0.97  | 0.93  | \n",
       "| Wsq | 0.63  | 0.56  | 0.53  |  0.49 | 0.33  | 0.18  |  0.05 | 0.97  | 1.00  | 0.99  | \n",
       "| Wcub | 0.57  | 0.52  | 0.50  |  0.47 | 0.29  | 0.16  |  0.03 | 0.93  | 0.99  | 1.00  | \n",
       "\n",
       "\n"
      ],
      "text/plain": [
       "        CO   Traffic Tsq  Tcub  Hour Hsq  Hcub  Wind Wsq  Wcub\n",
       "CO      1.00 0.96    0.90  0.83 0.43 0.24  0.10 0.71 0.63 0.57\n",
       "Traffic 0.96 1.00    0.97  0.91 0.43 0.25  0.12 0.61 0.56 0.52\n",
       "Tsq     0.90 0.97    1.00  0.99 0.30 0.14  0.02 0.56 0.53 0.50\n",
       "Tcub    0.83 0.91    0.99  1.00 0.24 0.09 -0.01 0.50 0.49 0.47\n",
       "Hour    0.43 0.43    0.30  0.24 1.00 0.97  0.92 0.42 0.33 0.29\n",
       "Hsq     0.24 0.25    0.14  0.09 0.97 1.00  0.99 0.26 0.18 0.16\n",
       "Hcub    0.10 0.12    0.02 -0.01 0.92 0.99  1.00 0.12 0.05 0.03\n",
       "Wind    0.71 0.61    0.56  0.50 0.42 0.26  0.12 1.00 0.97 0.93\n",
       "Wsq     0.63 0.56    0.53  0.49 0.33 0.18  0.05 0.97 1.00 0.99\n",
       "Wcub    0.57 0.52    0.50  0.47 0.29 0.16  0.03 0.93 0.99 1.00"
      ]
     },
     "metadata": {},
     "output_type": "display_data"
    },
    {
     "name": "stdout",
     "output_type": "stream",
     "text": [
      "Start:  AIC=-64.06\n",
      "CO ~ Traffic + Wind + I(Wind^2) + I(Wind^3) + I(sin((2 * pi/24) * \n",
      "    Hour)) + cos((2 * pi/24) * Hour) + sin((4 * pi/24) * Hour) + \n",
      "    cos((4 * pi/24) * Hour)\n",
      "\n",
      "                             Df Sum of Sq    RSS     AIC\n",
      "- I(sin((2 * pi/24) * Hour))  1    0.0000 0.7857 -66.061\n",
      "- cos((2 * pi/24) * Hour)     1    0.0108 0.7965 -65.734\n",
      "- sin((4 * pi/24) * Hour)     1    0.0142 0.7999 -65.631\n",
      "- I(Wind^3)                   1    0.0594 0.8451 -64.312\n",
      "<none>                                    0.7857 -64.062\n",
      "- Wind                        1    0.1040 0.8897 -63.078\n",
      "- I(Wind^2)                   1    0.1465 0.9322 -61.959\n",
      "- cos((4 * pi/24) * Hour)     1    0.3081 1.0938 -58.122\n",
      "- Traffic                     1    8.7013 9.4870  -6.275\n",
      "\n",
      "Step:  AIC=-66.06\n",
      "CO ~ Traffic + Wind + I(Wind^2) + I(Wind^3) + cos((2 * pi/24) * \n",
      "    Hour) + sin((4 * pi/24) * Hour) + cos((4 * pi/24) * Hour)\n",
      "\n",
      "                          Df Sum of Sq     RSS     AIC\n",
      "<none>                                  0.7857 -66.061\n",
      "- I(Wind^3)                1    0.0774  0.8631 -65.807\n",
      "- sin((4 * pi/24) * Hour)  1    0.0833  0.8690 -65.643\n",
      "- I(Wind^2)                1    0.1768  0.9625 -63.191\n",
      "- Wind                     1    0.5036  1.2893 -56.175\n",
      "- cos((2 * pi/24) * Hour)  1    0.8084  1.5941 -51.081\n",
      "- cos((4 * pi/24) * Hour)  1    1.2853  2.0711 -44.800\n",
      "- Traffic                  1    9.9464 10.7322  -5.315\n"
     ]
    },
    {
     "data": {
      "text/plain": [
       "\n",
       "Call:\n",
       "lm(formula = CO ~ Traffic + Wind + I(Wind^2) + I(Wind^3) + cos((2 * \n",
       "    pi/24) * Hour) + sin((4 * pi/24) * Hour) + cos((4 * pi/24) * \n",
       "    Hour))\n",
       "\n",
       "Residuals:\n",
       "     Min       1Q   Median       3Q      Max \n",
       "-0.33393 -0.10924 -0.02143  0.11008  0.44462 \n",
       "\n",
       "Coefficients:\n",
       "                         Estimate Std. Error t value Pr(>|t|)    \n",
       "(Intercept)              1.236009   0.165331   7.476 1.32e-06 ***\n",
       "Traffic                  0.018611   0.001308  14.232 1.68e-10 ***\n",
       "Wind                     0.780056   0.243592   3.202 0.005551 ** \n",
       "I(Wind^2)               -0.203563   0.107293  -1.897 0.075992 .  \n",
       "I(Wind^3)                0.013957   0.011121   1.255 0.227478    \n",
       "cos((2 * pi/24) * Hour) -0.354207   0.087300  -4.057 0.000915 ***\n",
       "sin((4 * pi/24) * Hour)  0.241455   0.185397   1.302 0.211227    \n",
       "cos((4 * pi/24) * Hour)  0.363625   0.071076   5.116 0.000104 ***\n",
       "---\n",
       "Signif. codes:  0 '***' 0.001 '**' 0.01 '*' 0.05 '.' 0.1 ' ' 1\n",
       "\n",
       "Residual standard error: 0.2216 on 16 degrees of freedom\n",
       "Multiple R-squared:  0.9924,\tAdjusted R-squared:  0.9891 \n",
       "F-statistic: 298.7 on 7 and 16 DF,  p-value: 9.664e-16\n"
      ]
     },
     "metadata": {},
     "output_type": "display_data"
    },
    {
     "data": {
      "text/html": [
       "<table>\n",
       "<thead><tr><th></th><th scope=col>Df</th><th scope=col>Sum Sq</th><th scope=col>Mean Sq</th><th scope=col>F value</th><th scope=col>Pr(&gt;F)</th></tr></thead>\n",
       "<tbody>\n",
       "\t<tr><th scope=row>Traffic</th><td> 1          </td><td>95.8754716  </td><td>95.87547155 </td><td>1952.354619 </td><td>3.756700e-18</td></tr>\n",
       "\t<tr><th scope=row>Wind</th><td> 1          </td><td> 2.3572118  </td><td> 2.35721182 </td><td>  48.000946 </td><td>3.398592e-06</td></tr>\n",
       "\t<tr><th scope=row>I(Wind^2)</th><td> 1          </td><td> 1.4089281  </td><td> 1.40892806 </td><td>  28.690625 </td><td>6.425847e-05</td></tr>\n",
       "\t<tr><th scope=row>I(Wind^3)</th><td> 1          </td><td> 0.0515634  </td><td> 0.05156340 </td><td>   1.050008 </td><td>3.207490e-01</td></tr>\n",
       "\t<tr><th scope=row>cos((2 * pi/24) * Hour)</th><td> 1          </td><td> 1.4741371  </td><td> 1.47413706 </td><td>  30.018505 </td><td>5.049669e-05</td></tr>\n",
       "\t<tr><th scope=row>sin((4 * pi/24) * Hour)</th><td> 1          </td><td> 0.2178868  </td><td> 0.21788679 </td><td>   4.436925 </td><td>5.130914e-02</td></tr>\n",
       "\t<tr><th scope=row>cos((4 * pi/24) * Hour)</th><td> 1          </td><td> 1.2853296  </td><td> 1.28532955 </td><td>  26.173734 </td><td>1.036424e-04</td></tr>\n",
       "\t<tr><th scope=row>Residuals</th><td>16          </td><td> 0.7857218  </td><td> 0.04910761 </td><td>         NA </td><td>          NA</td></tr>\n",
       "</tbody>\n",
       "</table>\n"
      ],
      "text/latex": [
       "\\begin{tabular}{r|lllll}\n",
       "  & Df & Sum Sq & Mean Sq & F value & Pr(>F)\\\\\n",
       "\\hline\n",
       "\tTraffic &  1           & 95.8754716   & 95.87547155  & 1952.354619  & 3.756700e-18\\\\\n",
       "\tWind &  1           &  2.3572118   &  2.35721182  &   48.000946  & 3.398592e-06\\\\\n",
       "\tI(Wind\\textasciicircum{}2) &  1           &  1.4089281   &  1.40892806  &   28.690625  & 6.425847e-05\\\\\n",
       "\tI(Wind\\textasciicircum{}3) &  1           &  0.0515634   &  0.05156340  &    1.050008  & 3.207490e-01\\\\\n",
       "\tcos((2 * pi/24) * Hour) &  1           &  1.4741371   &  1.47413706  &   30.018505  & 5.049669e-05\\\\\n",
       "\tsin((4 * pi/24) * Hour) &  1           &  0.2178868   &  0.21788679  &    4.436925  & 5.130914e-02\\\\\n",
       "\tcos((4 * pi/24) * Hour) &  1           &  1.2853296   &  1.28532955  &   26.173734  & 1.036424e-04\\\\\n",
       "\tResiduals & 16           &  0.7857218   &  0.04910761  &          NA  &           NA\\\\\n",
       "\\end{tabular}\n"
      ],
      "text/markdown": [
       "\n",
       "| <!--/--> | Df | Sum Sq | Mean Sq | F value | Pr(>F) | \n",
       "|---|---|---|---|---|---|---|---|\n",
       "| Traffic |  1           | 95.8754716   | 95.87547155  | 1952.354619  | 3.756700e-18 | \n",
       "| Wind |  1           |  2.3572118   |  2.35721182  |   48.000946  | 3.398592e-06 | \n",
       "| I(Wind^2) |  1           |  1.4089281   |  1.40892806  |   28.690625  | 6.425847e-05 | \n",
       "| I(Wind^3) |  1           |  0.0515634   |  0.05156340  |    1.050008  | 3.207490e-01 | \n",
       "| cos((2 * pi/24) * Hour) |  1           |  1.4741371   |  1.47413706  |   30.018505  | 5.049669e-05 | \n",
       "| sin((4 * pi/24) * Hour) |  1           |  0.2178868   |  0.21788679  |    4.436925  | 5.130914e-02 | \n",
       "| cos((4 * pi/24) * Hour) |  1           |  1.2853296   |  1.28532955  |   26.173734  | 1.036424e-04 | \n",
       "| Residuals | 16           |  0.7857218   |  0.04910761  |          NA  |           NA | \n",
       "\n",
       "\n"
      ],
      "text/plain": [
       "                        Df Sum Sq     Mean Sq     F value     Pr(>F)      \n",
       "Traffic                  1 95.8754716 95.87547155 1952.354619 3.756700e-18\n",
       "Wind                     1  2.3572118  2.35721182   48.000946 3.398592e-06\n",
       "I(Wind^2)                1  1.4089281  1.40892806   28.690625 6.425847e-05\n",
       "I(Wind^3)                1  0.0515634  0.05156340    1.050008 3.207490e-01\n",
       "cos((2 * pi/24) * Hour)  1  1.4741371  1.47413706   30.018505 5.049669e-05\n",
       "sin((4 * pi/24) * Hour)  1  0.2178868  0.21788679    4.436925 5.130914e-02\n",
       "cos((4 * pi/24) * Hour)  1  1.2853296  1.28532955   26.173734 1.036424e-04\n",
       "Residuals               16  0.7857218  0.04910761          NA           NA"
      ]
     },
     "metadata": {},
     "output_type": "display_data"
    },
    {
     "data": {
      "text/plain": [
       "\n",
       "\tShapiro-Wilk normality test\n",
       "\n",
       "data:  b$res\n",
       "W = 0.97841, p-value = 0.8649\n"
      ]
     },
     "metadata": {},
     "output_type": "display_data"
    }
   ],
   "source": [
    "w=read.table('F:/pythonD/COfreewy.txt',header=T); \n",
    "attach(w)\n",
    "round(cor(cbind(CO,Traffic,Tsq=Traffic^2,Tcub=Traffic^3,Hour,Hsq=Hour^2,Hcub=Hour^3,Wind,Wsq=Wind^2,Wcub=Wind^3)),digits=2)\n",
    "a=lm(CO~Traffic+Wind+I(Wind^2)+I(Wind^3)+sin((2*pi/24)*Hour)+cos((2*pi/24)*Hour)+sin((4*pi/24)*Hour)+cos((4*pi/24)*Hour))\n",
    "b=step(a)\n",
    "summary(b);anova(b);shapiro.test(b$res)"
   ]
  },
  {
   "cell_type": "code",
   "execution_count": 7,
   "metadata": {},
   "outputs": [
    {
     "data": {
      "text/plain": [
       " [1] -0.2  0.0  0.0  0.0  0.1 -0.1 -0.1 -0.2  0.2  1.0  2.3  3.8  4.6  5.4  5.9\n",
       "[16]  5.9  5.6  4.9  3.8  2.5  1.4  0.6  0.4  0.1"
      ]
     },
     "metadata": {},
     "output_type": "display_data"
    },
    {
     "data": {
      "text/plain": [
       " [1]  0.04  0.00  0.00  0.00  0.01  0.01  0.01  0.04  0.04  1.00  5.29 14.44\n",
       "[13] 21.16 29.16 34.81 34.81 31.36 24.01 14.44  6.25  1.96  0.36  0.16  0.01"
      ]
     },
     "metadata": {},
     "output_type": "display_data"
    },
    {
     "data": {
      "text/html": [
       "<ol class=list-inline>\n",
       "\t<li>0.04</li>\n",
       "\t<li>0</li>\n",
       "\t<li>0</li>\n",
       "\t<li>0</li>\n",
       "\t<li>0.01</li>\n",
       "\t<li>0.01</li>\n",
       "\t<li>0.01</li>\n",
       "\t<li>0.04</li>\n",
       "\t<li>0.04</li>\n",
       "\t<li>1</li>\n",
       "\t<li>5.29</li>\n",
       "\t<li>14.44</li>\n",
       "\t<li>21.16</li>\n",
       "\t<li>29.16</li>\n",
       "\t<li>34.81</li>\n",
       "\t<li>34.81</li>\n",
       "\t<li>31.36</li>\n",
       "\t<li>24.01</li>\n",
       "\t<li>14.44</li>\n",
       "\t<li>6.25</li>\n",
       "\t<li>1.96</li>\n",
       "\t<li>0.36</li>\n",
       "\t<li>0.16</li>\n",
       "\t<li>0.01</li>\n",
       "</ol>\n"
      ],
      "text/latex": [
       "\\begin{enumerate*}\n",
       "\\item 0.04\n",
       "\\item 0\n",
       "\\item 0\n",
       "\\item 0\n",
       "\\item 0.01\n",
       "\\item 0.01\n",
       "\\item 0.01\n",
       "\\item 0.04\n",
       "\\item 0.04\n",
       "\\item 1\n",
       "\\item 5.29\n",
       "\\item 14.44\n",
       "\\item 21.16\n",
       "\\item 29.16\n",
       "\\item 34.81\n",
       "\\item 34.81\n",
       "\\item 31.36\n",
       "\\item 24.01\n",
       "\\item 14.44\n",
       "\\item 6.25\n",
       "\\item 1.96\n",
       "\\item 0.36\n",
       "\\item 0.16\n",
       "\\item 0.01\n",
       "\\end{enumerate*}\n"
      ],
      "text/markdown": [
       "1. 0.04\n",
       "2. 0\n",
       "3. 0\n",
       "4. 0\n",
       "5. 0.01\n",
       "6. 0.01\n",
       "7. 0.01\n",
       "8. 0.04\n",
       "9. 0.04\n",
       "10. 1\n",
       "11. 5.29\n",
       "12. 14.44\n",
       "13. 21.16\n",
       "14. 29.16\n",
       "15. 34.81\n",
       "16. 34.81\n",
       "17. 31.36\n",
       "18. 24.01\n",
       "19. 14.44\n",
       "20. 6.25\n",
       "21. 1.96\n",
       "22. 0.36\n",
       "23. 0.16\n",
       "24. 0.01\n",
       "\n",
       "\n"
      ],
      "text/plain": [
       " [1]  0.04  0.00  0.00  0.00  0.01  0.01  0.01  0.04  0.04  1.00  5.29 14.44\n",
       "[13] 21.16 29.16 34.81 34.81 31.36 24.01 14.44  6.25  1.96  0.36  0.16  0.01"
      ]
     },
     "metadata": {},
     "output_type": "display_data"
    }
   ],
   "source": [
    "I(Wind);I(Wind^2);Wind^2"
   ]
  },
  {
   "cell_type": "code",
   "execution_count": null,
   "metadata": {
    "collapsed": true
   },
   "outputs": [],
   "source": []
  }
 ],
 "metadata": {
  "kernelspec": {
   "display_name": "R",
   "language": "R",
   "name": "ir"
  },
  "language_info": {
   "codemirror_mode": "r",
   "file_extension": ".r",
   "mimetype": "text/x-r-source",
   "name": "R",
   "pygments_lexer": "r",
   "version": "3.4.1"
  }
 },
 "nbformat": 4,
 "nbformat_minor": 2
}
