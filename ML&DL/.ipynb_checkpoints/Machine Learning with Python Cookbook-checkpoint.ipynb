{
 "cells": [
  {
   "cell_type": "markdown",
   "metadata": {},
   "source": [
    "# Chapter 4: Handling Numerical Data\n",
    "* scaling的方法：min-max、standard\n",
    "## 4.1 rescaling a feature: rescale the values of a numerical feature to be between two values.（适合神经网络）"
   ]
  },
  {
   "cell_type": "code",
   "execution_count": 7,
   "metadata": {},
   "outputs": [
    {
     "name": "stdout",
     "output_type": "stream",
     "text": [
      "[[0.        ]\n",
      " [0.28579586]\n",
      " [0.35724483]\n",
      " [0.42869379]\n",
      " [1.        ]]\n",
      "[[-500.5]\n",
      " [-100.1]\n",
      " [   0. ]\n",
      " [ 100.1]\n",
      " [ 900.5]]\n"
     ]
    }
   ],
   "source": [
    "# 采用的是 min-max scaling方法\n",
    "import numpy as np\n",
    "from sklearn import preprocessing\n",
    "#feature = np.array([-500.5,-100.1,0.0,100.1,500.5]) # 需要输入 2D-array\n",
    "feature = np.array([\n",
    "    [-500.5],\n",
    "    [-100.1],\n",
    "    [0.0],\n",
    "    [100.1],\n",
    "    [900.5]\n",
    "])\n",
    "\n",
    "# create scaler\n",
    "minmax_scale=preprocessing.MinMaxScaler(feature_range=(0,1))\n",
    "\n",
    "# Scale feature\n",
    "scaled_feature=minmax_scale.fit_transform(feature)\n",
    "print(scaled_feature)\n",
    "print(feature)"
   ]
  },
  {
   "cell_type": "markdown",
   "metadata": {},
   "source": [
    "## 4.2 standardizing a feature: transform a feature to have a mean of 0 and a standard deviation of 1.（适合主成分分析）\n",
    "* 注意：当存在异常值时，建议 suing the median and quantile range(取代均值和标准差)"
   ]
  },
  {
   "cell_type": "code",
   "execution_count": 18,
   "metadata": {},
   "outputs": [
    {
     "data": {
      "text/plain": [
       "array([[-1.58713949],\n",
       "       [-0.56345921],\n",
       "       [ 0.33302878],\n",
       "       [ 0.46111678],\n",
       "       [ 1.35645314]])"
      ]
     },
     "execution_count": 18,
     "metadata": {},
     "output_type": "execute_result"
    }
   ],
   "source": [
    "import numpy as np \n",
    "from sklearn import preprocessing\n",
    "x=np.array((\n",
    "[-1000.1],\n",
    "[-200.1],\n",
    "[500.5],\n",
    "[600.6],\n",
    "[1300.3]))\n",
    "\n",
    "# create a scaler\n",
    "scaler=preprocessing.StandardScaler()\n",
    "\n",
    "# fit & transform\n",
    "standardized=scaler.fit_transform(x)\n",
    "standardized"
   ]
  },
  {
   "cell_type": "code",
   "execution_count": 12,
   "metadata": {},
   "outputs": [
    {
     "data": {
      "text/plain": [
       "array([[-1.87411015],\n",
       "       [-0.87498439],\n",
       "       [ 0.        ],\n",
       "       [ 0.12501561],\n",
       "       [ 0.99887598]])"
      ]
     },
     "execution_count": 12,
     "metadata": {},
     "output_type": "execute_result"
    }
   ],
   "source": [
    "# create scaler\n",
    "robust_scaler=preprocessing.RobustScaler()\n",
    "# transform\n",
    "robust_scaler.fit_transform(x)"
   ]
  },
  {
   "cell_type": "markdown",
   "metadata": {},
   "source": [
    "## 4.3 Normalizing Observation: rescale the feature values of observations to have unit norm(a total length of 1)"
   ]
  },
  {
   "cell_type": "code",
   "execution_count": 17,
   "metadata": {},
   "outputs": [
    {
     "data": {
      "text/plain": [
       "array([[-0.5       ,  0.5       ],\n",
       "       [ 0.06912442,  0.93087558],\n",
       "       [ 0.04524008,  0.95475992],\n",
       "       [ 0.76760563,  0.23239437]])"
      ]
     },
     "execution_count": 17,
     "metadata": {},
     "output_type": "execute_result"
    }
   ],
   "source": [
    "import numpy as np\n",
    "from sklearn.preprocessing import Normalizer\n",
    "features=np.array([\n",
    "    [-0.5,0.5],\n",
    "    [1.5,20.2],\n",
    "    [1.63,34.4],\n",
    "    [10.9,3.3]\n",
    "])\n",
    "\n",
    "# create normalizer\n",
    "normalizer=Normalizer(norm=\"l2\") # \"2\"表示欧几里得范数中的次数是2\n",
    "\n",
    "# transform\n",
    "normalizer.transform(features) # 每一行的norm为1"
   ]
  },
  {
   "cell_type": "markdown",
   "metadata": {},
   "source": [
    "## 4.4 _Generating_ Polynomial and Interaction Features"
   ]
  },
  {
   "cell_type": "code",
   "execution_count": 21,
   "metadata": {},
   "outputs": [
    {
     "data": {
      "text/plain": [
       "array([[ 2.,  3.,  4.,  6.,  9.],\n",
       "       [ 4.,  5., 16., 20., 25.],\n",
       "       [ 6.,  7., 36., 42., 49.]])"
      ]
     },
     "execution_count": 21,
     "metadata": {},
     "output_type": "execute_result"
    }
   ],
   "source": [
    "import numpy as np\n",
    "from sklearn.preprocessing import PolynomialFeatures\n",
    "features = np.array([[2, 3], [4, 5], [6, 7]])\n",
    "\n",
    "# create PolynomialFeatures object\n",
    "polynomial_interaction= PolynomialFeatures(degree=2,include_bias=False) # 2是多项式的最高次\n",
    "\n",
    "# create polynomial features\n",
    "polynomial_interaction.fit_transform(features) # 两个一次项，两个平方项以及一个交叉项"
   ]
  },
  {
   "cell_type": "code",
   "execution_count": 22,
   "metadata": {},
   "outputs": [
    {
     "data": {
      "text/plain": [
       "array([[ 2.,  3.,  6.],\n",
       "       [ 4.,  5., 20.],\n",
       "       [ 6.,  7., 42.]])"
      ]
     },
     "execution_count": 22,
     "metadata": {},
     "output_type": "execute_result"
    }
   ],
   "source": [
    "# create PolynomialFeatures object with only interaction features by setting \"interaction_only\" to True\n",
    "interaction = PolynomialFeatures(degree=2, \n",
    "                                 interaction_only=True, \n",
    "                                 include_bias=False) \n",
    "interaction.fit_transform(features)"
   ]
  },
  {
   "cell_type": "markdown",
   "metadata": {},
   "source": [
    "## 4.5 Transforming Features: make a custom transformation to one or more features"
   ]
  },
  {
   "cell_type": "code",
   "execution_count": 24,
   "metadata": {},
   "outputs": [
    {
     "data": {
      "text/plain": [
       "array([[12, 13],\n",
       "       [14, 15],\n",
       "       [16, 17]])"
      ]
     },
     "execution_count": 24,
     "metadata": {},
     "output_type": "execute_result"
    }
   ],
   "source": [
    "import numpy as np\n",
    "from sklearn.preprocessing import FunctionTransformer\n",
    "features = np.array([[2, 3], [4, 5], [6, 7]])\n",
    "\n",
    "# Define a simple function\n",
    "def add_ten(x):\n",
    "    return x+10\n",
    "\n",
    "# create transformer\n",
    "ten_transformer=FunctionTransformer(add_ten)\n",
    "\n",
    "ten_transformer.transform(features)"
   ]
  },
  {
   "cell_type": "code",
   "execution_count": 26,
   "metadata": {},
   "outputs": [
    {
     "data": {
      "text/html": [
       "<div>\n",
       "<style scoped>\n",
       "    .dataframe tbody tr th:only-of-type {\n",
       "        vertical-align: middle;\n",
       "    }\n",
       "\n",
       "    .dataframe tbody tr th {\n",
       "        vertical-align: top;\n",
       "    }\n",
       "\n",
       "    .dataframe thead th {\n",
       "        text-align: right;\n",
       "    }\n",
       "</style>\n",
       "<table border=\"1\" class=\"dataframe\">\n",
       "  <thead>\n",
       "    <tr style=\"text-align: right;\">\n",
       "      <th></th>\n",
       "      <th>feature1</th>\n",
       "      <th>feature2</th>\n",
       "    </tr>\n",
       "  </thead>\n",
       "  <tbody>\n",
       "    <tr>\n",
       "      <th>0</th>\n",
       "      <td>12</td>\n",
       "      <td>13</td>\n",
       "    </tr>\n",
       "    <tr>\n",
       "      <th>1</th>\n",
       "      <td>14</td>\n",
       "      <td>15</td>\n",
       "    </tr>\n",
       "    <tr>\n",
       "      <th>2</th>\n",
       "      <td>16</td>\n",
       "      <td>17</td>\n",
       "    </tr>\n",
       "  </tbody>\n",
       "</table>\n",
       "</div>"
      ],
      "text/plain": [
       "   feature1  feature2\n",
       "0        12        13\n",
       "1        14        15\n",
       "2        16        17"
      ]
     },
     "execution_count": 26,
     "metadata": {},
     "output_type": "execute_result"
    }
   ],
   "source": [
    "# we can use the same transfromation in pandas using apply\n",
    "import pandas as pd\n",
    "df=pd.DataFrame(features,columns=[\"feature1\",\"feature2\"])\n",
    "# apply function\n",
    "df.apply(add_ten)"
   ]
  },
  {
   "cell_type": "markdown",
   "metadata": {},
   "source": [
    "## 4.6 Detecting Outliers: identify extreme observations\n",
    "* 方法一：EllipticEnvelope-> 此方法的一个局限性在于：需要实现设定一个 contamination(污染)参数，即观测值中outlier的比例\n",
    "* 方法二：IQR-based detection"
   ]
  },
  {
   "cell_type": "code",
   "execution_count": 31,
   "metadata": {},
   "outputs": [
    {
     "name": "stdout",
     "output_type": "stream",
     "text": [
      "[[ 1.00000000e+04  3.52863145e+00]\n",
      " [ 1.00000000e+04  5.55121358e+00]\n",
      " [-1.61734616e+00  4.98930508e+00]\n",
      " [-5.25790464e-01  3.30659860e+00]\n",
      " [ 8.52518583e-02  3.64528297e+00]\n",
      " [-7.94152277e-01  2.10495117e+00]\n",
      " [-1.34052081e+00  4.15711949e+00]\n",
      " [-1.98197711e+00  4.02243551e+00]\n",
      " [-2.18773166e+00  3.33352125e+00]\n",
      " [-1.97451969e-01  2.34634916e+00]]\n"
     ]
    },
    {
     "data": {
      "text/plain": [
       "array([ 1, -1,  1,  1,  1,  1,  1,  1,  1,  1])"
      ]
     },
     "execution_count": 31,
     "metadata": {},
     "output_type": "execute_result"
    }
   ],
   "source": [
    "import numpy as np\n",
    "from sklearn.covariance import EllipticEnvelope\n",
    "from sklearn.datasets import make_blobs\n",
    "\n",
    "# create simuylated data\n",
    "features,_=make_blobs(n_samples=10,n_features=2,centers=1,random_state=1)\n",
    "\n",
    "# replace the first observation's values with extreme values\n",
    "features[0,0]=10000\n",
    "features[1,0]=10000\n",
    "\n",
    "# create detector\n",
    "outlier_detector=EllipticEnvelope(contamination=.1)\n",
    "\n",
    "# fit detector\n",
    "outlier_detector.fit(features)\n",
    "\n",
    "# predict outliers\n",
    "print(features)\n",
    "outlier_detector.predict(features) # 1表示 inlier，-1 表示outlier"
   ]
  },
  {
   "cell_type": "code",
   "execution_count": 36,
   "metadata": {},
   "outputs": [
    {
     "name": "stdout",
     "output_type": "stream",
     "text": [
      "[ 1.00000000e+04  1.00000000e+04 -1.61734616e+00 -5.25790464e-01\n",
      "  8.52518583e-02 -7.94152277e-01 -1.34052081e+00 -1.98197711e+00\n",
      " -2.18773166e+00 -1.97451969e-01]\n"
     ]
    },
    {
     "data": {
      "text/plain": [
       "(array([0, 1]),)"
      ]
     },
     "execution_count": 36,
     "metadata": {},
     "output_type": "execute_result"
    }
   ],
   "source": [
    "# using interquartile range to identify extreme values\n",
    "feature=features[:,0]\n",
    "\n",
    "# create a function to return index of outliers\n",
    "def indices_of_outliers(x):\n",
    "    q1,q3=np.percentile(x,[25,75])\n",
    "    iqr=q3-q1\n",
    "    lower_bound=q1-iqr*1.5\n",
    "    upper_bound=q3+iqr*1.5\n",
    "    return np.where((x>upper_bound) | (x< lower_bound))\n",
    "\n",
    "print(feature)\n",
    "indices_of_outliers(feature)"
   ]
  },
  {
   "cell_type": "markdown",
   "metadata": {},
   "source": [
    "## 4.7 Handling Outliers"
   ]
  },
  {
   "cell_type": "code",
   "execution_count": 40,
   "metadata": {},
   "outputs": [
    {
     "data": {
      "text/html": [
       "<div>\n",
       "<style scoped>\n",
       "    .dataframe tbody tr th:only-of-type {\n",
       "        vertical-align: middle;\n",
       "    }\n",
       "\n",
       "    .dataframe tbody tr th {\n",
       "        vertical-align: top;\n",
       "    }\n",
       "\n",
       "    .dataframe thead th {\n",
       "        text-align: right;\n",
       "    }\n",
       "</style>\n",
       "<table border=\"1\" class=\"dataframe\">\n",
       "  <thead>\n",
       "    <tr style=\"text-align: right;\">\n",
       "      <th></th>\n",
       "      <th>Price</th>\n",
       "      <th>Bathrooms</th>\n",
       "      <th>Square_Feet</th>\n",
       "      <th>outlier</th>\n",
       "      <th>log_of_square_feet</th>\n",
       "    </tr>\n",
       "  </thead>\n",
       "  <tbody>\n",
       "    <tr>\n",
       "      <th>0</th>\n",
       "      <td>524433</td>\n",
       "      <td>2.0</td>\n",
       "      <td>1500</td>\n",
       "      <td>0</td>\n",
       "      <td>7.313220</td>\n",
       "    </tr>\n",
       "    <tr>\n",
       "      <th>1</th>\n",
       "      <td>392333</td>\n",
       "      <td>3.5</td>\n",
       "      <td>2500</td>\n",
       "      <td>0</td>\n",
       "      <td>7.824046</td>\n",
       "    </tr>\n",
       "    <tr>\n",
       "      <th>2</th>\n",
       "      <td>293222</td>\n",
       "      <td>2.0</td>\n",
       "      <td>1500</td>\n",
       "      <td>0</td>\n",
       "      <td>7.313220</td>\n",
       "    </tr>\n",
       "    <tr>\n",
       "      <th>3</th>\n",
       "      <td>4322032</td>\n",
       "      <td>116.0</td>\n",
       "      <td>48000</td>\n",
       "      <td>1</td>\n",
       "      <td>10.778956</td>\n",
       "    </tr>\n",
       "  </tbody>\n",
       "</table>\n",
       "</div>"
      ],
      "text/plain": [
       "     Price  Bathrooms  Square_Feet  outlier  log_of_square_feet\n",
       "0   524433        2.0         1500        0            7.313220\n",
       "1   392333        3.5         2500        0            7.824046\n",
       "2   293222        2.0         1500        0            7.313220\n",
       "3  4322032      116.0        48000        1           10.778956"
      ]
     },
     "execution_count": 40,
     "metadata": {},
     "output_type": "execute_result"
    }
   ],
   "source": [
    "import pandas as pd\n",
    "houses = pd.DataFrame()\n",
    "houses['Price']=[524433,392333,293222,4322032]\n",
    "houses['Bathrooms']=[2,3.5,2,116]\n",
    "houses['Square_Feet']=[1500,2500,1500,48000]\n",
    "\n",
    "#Filter observations\n",
    "houses[houses['Bathrooms']<20]\n",
    "\n",
    "# 接下来可以 mark them as outliers and include it as a feature\n",
    "\n",
    "import numpy as np\n",
    "# create feature based on boolean condition\n",
    "houses[\"outlier\"]=np.where(houses['Bathrooms']<20,0,1)\n",
    "houses\n",
    "\n",
    "# 最后，we can transfrom the feature to dampen the effect of the outlier(取对数)\n",
    "houses['log_of_square_feet']=[np.log(x) for x in houses['Square_Feet']]\n",
    "houses"
   ]
  },
  {
   "cell_type": "markdown",
   "metadata": {},
   "source": [
    "## 4.8 Discretizating Features"
   ]
  },
  {
   "cell_type": "code",
   "execution_count": null,
   "metadata": {},
   "outputs": [],
   "source": []
  }
 ],
 "metadata": {
  "kernelspec": {
   "display_name": "Python 3",
   "language": "python",
   "name": "python3"
  },
  "language_info": {
   "codemirror_mode": {
    "name": "ipython",
    "version": 3
   },
   "file_extension": ".py",
   "mimetype": "text/x-python",
   "name": "python",
   "nbconvert_exporter": "python",
   "pygments_lexer": "ipython3",
   "version": "3.6.5"
  }
 },
 "nbformat": 4,
 "nbformat_minor": 2
}
