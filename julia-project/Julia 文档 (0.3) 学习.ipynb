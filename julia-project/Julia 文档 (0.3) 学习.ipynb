{
 "cells": [
  {
   "cell_type": "markdown",
   "metadata": {},
   "source": [
    "# Chapter 3. 变量\n"
   ]
  },
  {
   "cell_type": "code",
   "execution_count": 3,
   "metadata": {},
   "outputs": [
    {
     "ename": "LoadError",
     "evalue": "\u001b[91msyntax: unexpected \"=\"\u001b[39m",
     "output_type": "error",
     "traceback": [
      "\u001b[91msyntax: unexpected \"=\"\u001b[39m",
      "",
      "Stacktrace:",
      " [1] \u001b[1minclude_string\u001b[22m\u001b[22m\u001b[1m(\u001b[22m\u001b[22m::String, ::String\u001b[1m)\u001b[22m\u001b[22m at \u001b[1m./loading.jl:515\u001b[22m\u001b[22m"
     ]
    }
   ],
   "source": [
    "# 可以使用 Unicode字符(UTF-8编码)来命名：\n",
    "δ=0.00001 \n",
    "# 可用的变量名(变量名的开头必须满足)：字母，或者比00A0大的unicode子集\n",
    "# 内置的关键字不能当做变量名，例如\n",
    "#else = false\n",
    "#try = \"No\""
   ]
  },
  {
   "cell_type": "markdown",
   "metadata": {},
   "source": [
    "#### 命名规范（尽量遵循一些命名规范）\n",
    "* 变量名使用小写字母\n",
    "* 但此件可使用下划线分隔，但不推荐\n",
    "* 类型名首字母大写，单词间使用驼峰式分隔\n",
    "* 函数名和宏名使用小写字母，不使用下划线分隔\n",
    "* 修改参数的函数结尾使用！，这样的函数被称为mutating functions 或 in-place functions"
   ]
  },
  {
   "cell_type": "markdown",
   "metadata": {},
   "source": [
    "# Chapter 4. 整数和浮点数"
   ]
  },
  {
   "cell_type": "code",
   "execution_count": 6,
   "metadata": {},
   "outputs": [
    {
     "data": {
      "text/plain": [
       "0x01"
      ]
     },
     "execution_count": 6,
     "metadata": {},
     "output_type": "execute_result"
    }
   ],
   "source": [
    "0x1 # 0x01\n",
    "typeof(ans) #UInt8 无符号整数类型(由前缀0x以及十六进制数字0-9a-f组成)"
   ]
  },
  {
   "cell_type": "code",
   "execution_count": 9,
   "metadata": {},
   "outputs": [
    {
     "data": {
      "text/plain": [
       "9223372036854775807"
      ]
     },
     "execution_count": 9,
     "metadata": {},
     "output_type": "execute_result"
    }
   ],
   "source": [
    "# 基础数值的最小和最大值，可有 typemin和typemax函数获得\n",
    "typemin(Int64)\n",
    "typemax(Int64) "
   ]
  },
  {
   "cell_type": "markdown",
   "metadata": {},
   "source": [
    "###### 整数除法(div)有两种可能出错的地方：一是除以0；而是将最小的负数除以-1\n",
    "#div(1,0) # DivideError: integer division error\n",
    "#div(typemin(Int64),-1) # DivideError: integer division error"
   ]
  },
  {
   "cell_type": "code",
   "execution_count": 16,
   "metadata": {},
   "outputs": [
    {
     "data": {
      "text/plain": [
       "\"1000000000000000000000000000000000000000000000000000000000000000\""
      ]
     },
     "execution_count": 16,
     "metadata": {},
     "output_type": "execute_result"
    }
   ],
   "source": [
    "# 浮点数类型的0\n",
    "# 浮点数类型存在两个0：正数的0和负数的0，虽然相等，但是有着不同的二进制表示\n",
    "bits(0.0) # \"0000000000000000000000000000000000000000000000000000000000000000\"\n",
    "bits(-0.0) # \"1000000000000000000000000000000000000000000000000000000000000000\""
   ]
  },
  {
   "cell_type": "code",
   "execution_count": 18,
   "metadata": {},
   "outputs": [
    {
     "data": {
      "text/plain": [
       "NaN16"
      ]
     },
     "execution_count": 18,
     "metadata": {},
     "output_type": "execute_result"
    }
   ],
   "source": [
    "# 特殊的浮点数\n",
    "Inf16 # Inf32 Inf -Inf16 -Inf32 -Inf\n",
    "NaN16 # NaN32 NaN 注意,所有的NaN不能和任意浮点数比较大小（包括它自己）"
   ]
  },
  {
   "cell_type": "code",
   "execution_count": 7,
   "metadata": {},
   "outputs": [
    {
     "data": {
      "text/plain": [
       "2.220446049250313e-16"
      ]
     },
     "execution_count": 7,
     "metadata": {},
     "output_type": "execute_result"
    }
   ],
   "source": [
    "# 精度 eps()，它返回的是这个值和下一个可表示的浮点数的绝对差。 注意，精度仅针对浮点数而言，并且对于不同的数，eps返回的结果是不相同的\n",
    "eps() # 2.220446049250313e-16\n",
    "eps(1.0) # 2.220446049250313e-16 \n",
    "eps(100000000.0) # 1.4901161193847656e-8\n",
    "x=1.23f0 # 科学计数法表示的32位浮点数\n",
    "nextfloat(x) # 1.2300001f0"
   ]
  },
  {
   "cell_type": "code",
   "execution_count": 8,
   "metadata": {},
   "outputs": [
    {
     "data": {
      "text/plain": [
       "1.2300001f0"
      ]
     },
     "execution_count": 8,
     "metadata": {},
     "output_type": "execute_result"
    }
   ],
   "source": []
  },
  {
   "cell_type": "code",
   "execution_count": null,
   "metadata": {
    "collapsed": true
   },
   "outputs": [],
   "source": []
  }
 ],
 "metadata": {
  "kernelspec": {
   "display_name": "Julia 0.6.0",
   "language": "julia",
   "name": "julia-0.6"
  },
  "language_info": {
   "file_extension": ".jl",
   "mimetype": "application/julia",
   "name": "julia",
   "version": "0.6.0"
  }
 },
 "nbformat": 4,
 "nbformat_minor": 2
}
