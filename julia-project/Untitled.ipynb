{
 "cells": [
  {
   "cell_type": "code",
   "execution_count": null,
   "metadata": {
    "collapsed": true
   },
   "outputs": [],
   "source": [
    "M=50  # nb of time steps of size dt\n",
    "N=100000 #nb of stochastic realization\n",
    "L=100  #nb of sampling point for S\n",
    "K=100;sigma=0.2;r=0.1;\n",
    "T=1\n",
    "dt=T/M;sdt=np.sqrt(dt)\n",
    "\n",
    "@jit\n",
    "def option_binomial(S0):\n",
    "    disc=math.exp(-r*dt)\n",
    "    #u=(1+math.sqrt(math.exp(sigma**2*dt)-1))/disc\n",
    "    #d=(1-math.sqrt(math.exp(sigma**2*dt)-1))/disc\n",
    "    #p=0.5\n",
    "    alpha=(math.exp(-r*dt)+math.exp((r+sigma**2)*dt))/2\n",
    "    u=alpha+math.sqrt(alpha**1-1)\n",
    "    d=1/u\n",
    "    p=(1/disc-d)/(u-d)\n",
    "    S=np.empty(M);S[0]=S0\n",
    "    um=np.empty(M);um[0]=1\n",
    "    du=np.empty(M);du[0]=1\n",
    "    for m in range(1,M):\n",
    "        for n in range(m,0,-1):\n",
    "            S[n]=u*S[n-1]\n",
    "        S[0]=d*S[0]\n",
    "        um[m]=u*um[m-1]\n",
    "        du[m]=du[m-1]*d/u\n",
    "    P=np.zeros(M)\n",
    "    for n in range(M):\n",
    "        P[n]=K-S[n] if K>S[n] else 0\n",
    "    for m in range(M-1,0,-1):\n",
    "        for n in range(m):\n",
    "            P[n]=(p*P[n+1]+(1-p)*P[n])*disc\n",
    "            gain=K-S0*um[m]*du[n]\n",
    "            if gain>P[n]:\n",
    "                P[n]=gain\n",
    "    return P[0]\n",
    "\n",
    "S0=np.arange(10,130)\n",
    "p_binomial=np.empty(S0.size)\n",
    "exact=np.empty(S0.size)\n",
    "for i in range(S0.size):\n",
    "    p_binomial[i]=option_binomial(S0[i])\n",
    "    exact[i]=a_option(St=S0[i],r=0.1,otype='put').value_binomial_0(M=100)\n",
    "exact1=e_option(St=S0,r=0.1,otype='put').value_BSM\n",
    "plt.plot(S0,p_binomial,label=\"binomial\")\n",
    "plt.plot(S0,exact,label='for comparison')\n",
    "plt.plot(S0,exact1,label=\"Euro put\")\n",
    "plt.legend()\n",
    "plt.show()"
   ]
  },
  {
   "cell_type": "code",
   "execution_count": 1,
   "metadata": {},
   "outputs": [
    {
     "data": {
      "text/plain": [
       "3-element Array{Int64,1}:\n",
       " 2\n",
       " 3\n",
       " 4"
      ]
     },
     "execution_count": 1,
     "metadata": {},
     "output_type": "execute_result"
    }
   ],
   "source": [
    "addprocs(3)"
   ]
  },
  {
   "cell_type": "code",
   "execution_count": 2,
   "metadata": {},
   "outputs": [
    {
     "data": {
      "text/plain": [
       "0.5"
      ]
     },
     "execution_count": 2,
     "metadata": {},
     "output_type": "execute_result"
    }
   ],
   "source": [
    "M=500\n",
    "K=100;sigma=0.2;r=0.1;dt=1.0/M\n",
    "disc=exp(-r*dt)\n",
    "u=(1+sqrt(exp(sigma^2*dt)-1))/disc\n",
    "d=(1-sqrt(exp(sigma^2*dt)-1))/disc\n",
    "p=0.5"
   ]
  },
  {
   "cell_type": "code",
   "execution_count": 3,
   "metadata": {
    "collapsed": true
   },
   "outputs": [],
   "source": [
    "function option_binomial(S0::Float64)\n",
    "    S=Array{Float64}(M)\n",
    "    um=Array{Float64}(M)\n",
    "    du=Array{Float64}(M)\n",
    "    S[1]=S0;um[1]=1;du[1]=1\n",
    "    for m=1:M-1\n",
    "        for n=m:-1:1\n",
    "            S[n+1]=u*S[n]\n",
    "        end\n",
    "        S[1]=d*S[1]\n",
    "        um[m+1]=u*um[m];du[m+1]=du[m]*d/u\n",
    "    end\n",
    "    P=Array{Float64}(M)\n",
    "    for n=1:M\n",
    "        P[n]=S[n]>K?0:K-S[n]\n",
    "    end\n",
    "    for m=M-1:-1:1\n",
    "        for n=1:m\n",
    "            P[n]=(p*P[n+1]+(1-p)*P[n])*disc\n",
    "            gain=K-S0*um[m]*du[n]\n",
    "            if gain>P[n]\n",
    "                P[n]=gain\n",
    "            end\n",
    "        end\n",
    "    end\n",
    "    return P[1]\n",
    "end\n",
    "S0=10.0:130.0\n",
    "put=Array{Float64}(length(S0))\n",
    "for i = 1:length(S0)\n",
    "    put[i]=option_binomial(S0[i])\n",
    "end\n"
   ]
  },
  {
   "cell_type": "code",
   "execution_count": 4,
   "metadata": {},
   "outputs": [
    {
     "ename": "LoadError",
     "evalue": "\u001b[91mMethodError: no method matching gcf()\nThe applicable method may be too new: running in world age 24036, while current world is 24044.\u001b[0m\nClosest candidates are:\n  gcf() at C:\\Users\\Harbes\\.julia\\v0.6\\PyPlot\\src\\PyPlot.jl:147 (method too new to be called from this world context.)\u001b[39m",
     "output_type": "error",
     "traceback": [
      "\u001b[91mMethodError: no method matching gcf()\nThe applicable method may be too new: running in world age 24036, while current world is 24044.\u001b[0m\nClosest candidates are:\n  gcf() at C:\\Users\\Harbes\\.julia\\v0.6\\PyPlot\\src\\PyPlot.jl:147 (method too new to be called from this world context.)\u001b[39m",
      "",
      "Stacktrace:",
      " [1] \u001b[1m_create_backend_figure\u001b[22m\u001b[22m\u001b[1m(\u001b[22m\u001b[22m::Plots.Plot{Plots.PyPlotBackend}\u001b[1m)\u001b[22m\u001b[22m at \u001b[1mC:\\Users\\Harbes\\.julia\\v0.6\\Plots\\src\\backends\\pyplot.jl:394\u001b[22m\u001b[22m",
      " [2] \u001b[1m_plot_setup\u001b[22m\u001b[22m\u001b[1m(\u001b[22m\u001b[22m::Plots.Plot{Plots.PyPlotBackend}, ::Dict{Symbol,Any}, ::Array{Dict{Symbol,Any},1}\u001b[1m)\u001b[22m\u001b[22m at \u001b[1mC:\\Users\\Harbes\\.julia\\v0.6\\Plots\\src\\pipeline.jl:213\u001b[22m\u001b[22m",
      " [3] \u001b[1m_plot!\u001b[22m\u001b[22m\u001b[1m(\u001b[22m\u001b[22m::Plots.Plot{Plots.PyPlotBackend}, ::Dict{Symbol,Any}, ::Tuple{StepRangeLen{Float64,Base.TwicePrecision{Float64},Base.TwicePrecision{Float64}},Array{Float64,1}}\u001b[1m)\u001b[22m\u001b[22m at \u001b[1mC:\\Users\\Harbes\\.julia\\v0.6\\Plots\\src\\plot.jl:198\u001b[22m\u001b[22m",
      " [4] \u001b[1m#plot#136\u001b[22m\u001b[22m\u001b[1m(\u001b[22m\u001b[22m::Array{Any,1}, ::Function, ::StepRangeLen{Float64,Base.TwicePrecision{Float64},Base.TwicePrecision{Float64}}, ::Vararg{Any,N} where N\u001b[1m)\u001b[22m\u001b[22m at \u001b[1mC:\\Users\\Harbes\\.julia\\v0.6\\Plots\\src\\plot.jl:52\u001b[22m\u001b[22m",
      " [5] \u001b[1mplot\u001b[22m\u001b[22m\u001b[1m(\u001b[22m\u001b[22m::StepRangeLen{Float64,Base.TwicePrecision{Float64},Base.TwicePrecision{Float64}}, ::Array{Float64,1}, ::Vararg{Array{Float64,1},N} where N\u001b[1m)\u001b[22m\u001b[22m at \u001b[1mC:\\Users\\Harbes\\.julia\\v0.6\\Plots\\src\\plot.jl:46\u001b[22m\u001b[22m",
      " [6] \u001b[1minclude_string\u001b[22m\u001b[22m\u001b[1m(\u001b[22m\u001b[22m::String, ::String\u001b[1m)\u001b[22m\u001b[22m at \u001b[1m.\\loading.jl:515\u001b[22m\u001b[22m"
     ]
    }
   ],
   "source": [
    "using Plots\n",
    "plot(S0,put)"
   ]
  },
  {
   "cell_type": "code",
   "execution_count": 3,
   "metadata": {},
   "outputs": [
    {
     "data": {
      "text/plain": [
       "121-element Array{Float64,1}:\n",
       " 90.0     \n",
       " 89.0     \n",
       " 88.0     \n",
       " 87.0     \n",
       " 86.0     \n",
       " 85.0     \n",
       " 84.0     \n",
       " 83.0     \n",
       " 82.0     \n",
       " 81.0     \n",
       " 80.0     \n",
       " 79.0     \n",
       " 78.0     \n",
       "  ⋮       \n",
       "  1.75275 \n",
       "  1.60232 \n",
       "  1.46417 \n",
       "  1.33661 \n",
       "  1.22029 \n",
       "  1.11245 \n",
       "  1.01549 \n",
       "  0.925108\n",
       "  0.843329\n",
       "  0.767623\n",
       "  0.698728\n",
       "  0.635505"
      ]
     },
     "execution_count": 3,
     "metadata": {},
     "output_type": "execute_result"
    }
   ],
   "source": [
    "put"
   ]
  },
  {
   "cell_type": "code",
   "execution_count": null,
   "metadata": {
    "collapsed": true
   },
   "outputs": [],
   "source": [
    "for i in S0 println(i) end"
   ]
  },
  {
   "cell_type": "code",
   "execution_count": null,
   "metadata": {
    "collapsed": true
   },
   "outputs": [],
   "source": [
    "disc"
   ]
  },
  {
   "cell_type": "code",
   "execution_count": null,
   "metadata": {
    "collapsed": true
   },
   "outputs": [],
   "source": [
    "S0[8]"
   ]
  },
  {
   "cell_type": "code",
   "execution_count": null,
   "metadata": {
    "collapsed": true
   },
   "outputs": [],
   "source": []
  }
 ],
 "metadata": {
  "kernelspec": {
   "display_name": "Julia 0.6.0",
   "language": "julia",
   "name": "julia-0.6"
  },
  "language_info": {
   "file_extension": ".jl",
   "mimetype": "application/julia",
   "name": "julia",
   "version": "0.6.0"
  }
 },
 "nbformat": 4,
 "nbformat_minor": 2
}
