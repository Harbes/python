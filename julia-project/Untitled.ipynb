{
 "cells": [
  {
   "cell_type": "code",
   "execution_count": null,
   "metadata": {
    "collapsed": true
   },
   "outputs": [],
   "source": [
    "M=50  # nb of time steps of size dt\n",
    "N=100000 #nb of stochastic realization\n",
    "L=100  #nb of sampling point for S\n",
    "K=100;sigma=0.2;r=0.1;\n",
    "T=1\n",
    "dt=T/M;sdt=np.sqrt(dt)\n",
    "\n",
    "@jit\n",
    "def option_binomial(S0):\n",
    "    disc=math.exp(-r*dt)\n",
    "    #u=(1+math.sqrt(math.exp(sigma**2*dt)-1))/disc\n",
    "    #d=(1-math.sqrt(math.exp(sigma**2*dt)-1))/disc\n",
    "    #p=0.5\n",
    "    alpha=(math.exp(-r*dt)+math.exp((r+sigma**2)*dt))/2\n",
    "    u=alpha+math.sqrt(alpha**1-1)\n",
    "    d=1/u\n",
    "    p=(1/disc-d)/(u-d)\n",
    "    S=np.empty(M);S[0]=S0\n",
    "    um=np.empty(M);um[0]=1\n",
    "    du=np.empty(M);du[0]=1\n",
    "    for m in range(1,M):\n",
    "        for n in range(m,0,-1):\n",
    "            S[n]=u*S[n-1]\n",
    "        S[0]=d*S[0]\n",
    "        um[m]=u*um[m-1]\n",
    "        du[m]=du[m-1]*d/u\n",
    "    P=np.zeros(M)\n",
    "    for n in range(M):\n",
    "        P[n]=K-S[n] if K>S[n] else 0\n",
    "    for m in range(M-1,0,-1):\n",
    "        for n in range(m):\n",
    "            P[n]=(p*P[n+1]+(1-p)*P[n])*disc\n",
    "            gain=K-S0*um[m]*du[n]\n",
    "            if gain>P[n]:\n",
    "                P[n]=gain\n",
    "    return P[0]\n",
    "\n",
    "S0=np.arange(10,130)\n",
    "p_binomial=np.empty(S0.size)\n",
    "exact=np.empty(S0.size)\n",
    "for i in range(S0.size):\n",
    "    p_binomial[i]=option_binomial(S0[i])\n",
    "    exact[i]=a_option(St=S0[i],r=0.1,otype='put').value_binomial_0(M=100)\n",
    "exact1=e_option(St=S0,r=0.1,otype='put').value_BSM\n",
    "plt.plot(S0,p_binomial,label=\"binomial\")\n",
    "plt.plot(S0,exact,label='for comparison')\n",
    "plt.plot(S0,exact1,label=\"Euro put\")\n",
    "plt.legend()\n",
    "plt.show()"
   ]
  },
  {
   "cell_type": "code",
   "execution_count": 1,
   "metadata": {},
   "outputs": [
    {
     "data": {
      "text/plain": [
       "3-element Array{Int64,1}:\n",
       " 2\n",
       " 3\n",
       " 4"
      ]
     },
     "execution_count": 1,
     "metadata": {},
     "output_type": "execute_result"
    }
   ],
   "source": [
    "addprocs(3)"
   ]
  },
  {
   "cell_type": "code",
   "execution_count": 1,
   "metadata": {},
   "outputs": [
    {
     "data": {
      "text/plain": [
       "0.5"
      ]
     },
     "execution_count": 1,
     "metadata": {},
     "output_type": "execute_result"
    }
   ],
   "source": [
    "M=50\n",
    "K=100;sigma=0.2;r=0.1;dt=1.0/M\n",
    "disc=exp(-r*dt)\n",
    "u=(1+sqrt(exp(sigma^2*dt)-1))/disc\n",
    "d=(1-sqrt(exp(sigma^2*dt)-1))/disc\n",
    "p=0.5"
   ]
  },
  {
   "cell_type": "code",
   "execution_count": 2,
   "metadata": {
    "collapsed": true
   },
   "outputs": [],
   "source": [
    "function option_binomial(S0::Float64)\n",
    "    S=Array{Float64}(M)\n",
    "    um=Array{Float64}(M)\n",
    "    du=Array{Float64}(M)\n",
    "    S[1]=S0;um[1]=1;du[1]=1\n",
    "    for m=1:M-1\n",
    "        for n=m:-1:1\n",
    "            S[n+1]=u*S[n]\n",
    "        end\n",
    "        S[1]=d*S[1]\n",
    "        um[m+1]=u*um[m];du[m+1]=du[m]*d/u\n",
    "    end\n",
    "    P=Array{Float64}(M)\n",
    "    for n=1:M\n",
    "        P[n]=S[n]>K?0:K-S[n]\n",
    "    end\n",
    "    for m=M-1:-1:1\n",
    "        for n=1:m\n",
    "            P[n]=(p*P[n+1]+(1-p)*P[n])*disc\n",
    "            gain=K-S0*um[m]*du[n]\n",
    "            if gain>P[n]\n",
    "                P[n]=gain\n",
    "            end\n",
    "        end\n",
    "    end\n",
    "    return P[1]\n",
    "end\n",
    "S0=10.0:130.0\n",
    "put=Array{Float64}(length(S0))\n",
    "for i = 1:length(S0)\n",
    "    put[i]=option_binomial(S0[i])\n",
    "end\n"
   ]
  },
  {
   "cell_type": "code",
   "execution_count": 3,
   "metadata": {},
   "outputs": [
    {
     "name": "stderr",
     "output_type": "stream",
     "text": [
      "\u001b[1m\u001b[36mINFO: \u001b[39m\u001b[22m\u001b[36mPrecompiling module PyPlot.\n",
      "\u001b[39m\u001b[1m\u001b[36mINFO: \u001b[39m\u001b[22m\u001b[36mInstalling matplotlib via the Conda matplotlib package...\n",
      "\u001b[39m"
     ]
    },
    {
     "name": "stdout",
     "output_type": "stream",
     "text": [
      "Fetching package metadata ...........\n",
      "Solving package specifications: .\n",
      "\n",
      "Package plan for installation in environment /Users/harbes/.julia/v0.6/Conda/deps/usr:\n",
      "\n",
      "The following NEW packages will be INSTALLED:\n",
      "\n",
      "    cycler:       0.10.0-py27_0     defaults\n",
      "    freetype:     2.5.5-2           defaults\n",
      "    libpng:       1.6.30-1          defaults\n",
      "    matplotlib:   2.0.2-np113py27_0 defaults\n",
      "    pytz:         2017.2-py27_0     defaults\n",
      "    subprocess32: 3.2.7-py27_0      defaults\n",
      "\n",
      "libpng-1.6.30- 100% |###############################| Time: 0:00:00 361.12 kB/s\n",
      "freetype-2.5.5 100% |###############################| Time: 0:00:00   2.19 MB/s\n",
      "pytz-2017.2-py 100% |###############################| Time: 0:00:00   7.47 MB/s\n",
      "subprocess32-3 100% |###############################| Time: 0:00:00  13.77 MB/s\n",
      "cycler-0.10.0- 100% |###############################| Time: 0:00:00  15.88 MB/s\n",
      "matplotlib-2.0 100% |###############################| Time: 0:00:02   3.66 MB/s| Time: 0:00:00   4.04 MB/s###             | Time: 0:00:01   3.61 MB/s|############################## | Time: 0:00:02   3.65 MB/s\n"
     ]
    },
    {
     "data": {
      "image/png": "[encoded data removed]",
      "text/plain": [
       "PyPlot.Figure(PyObject <matplotlib.figure.Figure object at 0x125e127d0>)"
      ]
     },
     "metadata": {},
     "output_type": "display_data"
    },
    {
     "data": {
      "text/plain": [
       "1-element Array{Any,1}:\n",
       " PyObject <matplotlib.lines.Line2D object at 0x130107ed0>"
      ]
     },
     "execution_count": 3,
     "metadata": {},
     "output_type": "execute_result"
    }
   ],
   "source": [
    "using PyPlot\n",
    "plot(S0,put)"
   ]
  },
  {
   "cell_type": "code",
   "execution_count": 3,
   "metadata": {},
   "outputs": [
    {
     "data": {
      "text/plain": [
       "121-element Array{Float64,1}:\n",
       " 90.0     \n",
       " 89.0     \n",
       " 88.0     \n",
       " 87.0     \n",
       " 86.0     \n",
       " 85.0     \n",
       " 84.0     \n",
       " 83.0     \n",
       " 82.0     \n",
       " 81.0     \n",
       " 80.0     \n",
       " 79.0     \n",
       " 78.0     \n",
       "  ⋮       \n",
       "  1.75275 \n",
       "  1.60232 \n",
       "  1.46417 \n",
       "  1.33661 \n",
       "  1.22029 \n",
       "  1.11245 \n",
       "  1.01549 \n",
       "  0.925108\n",
       "  0.843329\n",
       "  0.767623\n",
       "  0.698728\n",
       "  0.635505"
      ]
     },
     "execution_count": 3,
     "metadata": {},
     "output_type": "execute_result"
    }
   ],
   "source": [
    "put"
   ]
  },
  {
   "cell_type": "code",
   "execution_count": null,
   "metadata": {
    "collapsed": true
   },
   "outputs": [],
   "source": [
    "for i in S0 println(i) end"
   ]
  },
  {
   "cell_type": "code",
   "execution_count": null,
   "metadata": {
    "collapsed": true
   },
   "outputs": [],
   "source": [
    "disc"
   ]
  },
  {
   "cell_type": "code",
   "execution_count": null,
   "metadata": {
    "collapsed": true
   },
   "outputs": [],
   "source": [
    "S0[8]"
   ]
  },
  {
   "cell_type": "code",
   "execution_count": null,
   "metadata": {
    "collapsed": true
   },
   "outputs": [],
   "source": []
  }
 ],
 "metadata": {
  "kernelspec": {
   "display_name": "Julia 0.6.0",
   "language": "julia",
   "name": "julia-0.6"
  },
  "language_info": {
   "file_extension": ".jl",
   "mimetype": "application/julia",
   "name": "julia",
   "version": "0.6.0"
  }
 },
 "nbformat": 4,
 "nbformat_minor": 2
}
