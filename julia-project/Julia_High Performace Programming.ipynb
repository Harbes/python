{
 "cells": [
  {
   "cell_type": "markdown",
   "metadata": {},
   "source": [
    "# Chapter 2. Variables, Types, and Operations"
   ]
  },
  {
   "cell_type": "markdown",
   "metadata": {},
   "source": [
    "* Contrary to many other languages, everything in Julia is an expression.\n",
    "* Julia is a strongly-typed language"
   ]
  },
  {
   "cell_type": "markdown",
   "metadata": {},
   "source": [
    "## Types\n",
    "* Julia 用 var::TypeName来限定函数的输入变量var的类型；或者作为对变量的断言，若错误则停止，正确则继续\n",
    "* 为了追求最高性能，需要经常编写 type-stable code"
   ]
  },
  {
   "cell_type": "code",
   "execution_count": null,
   "metadata": {
    "collapsed": true
   },
   "outputs": [],
   "source": [
    "#(2+3)::String #TypeError: typeassert: expected String, got Int64\n",
    "(2+3)::Int64\n",
    "typeof(2)\n",
    "isa(2,Int64)\n"
   ]
  },
  {
   "cell_type": "markdown",
   "metadata": {},
   "source": [
    "## Integers\n",
    "* Julia有 Int8,Int16,Int32,Int64,Int128，注意Int64和Int128存在溢出(overflow)现象，例如：typemax(Int128)+1\n",
    "* Integers也可以写成 binary(0b,二进制)、octal(0o,八进制)、hexadecimal(0x,十六进制)"
   ]
  },
  {
   "cell_type": "code",
   "execution_count": null,
   "metadata": {
    "collapsed": true
   },
   "outputs": [],
   "source": [
    "!true==false"
   ]
  },
  {
   "cell_type": "markdown",
   "metadata": {},
   "source": [
    "## Floating point numbers\n",
    "* Float16，Float32(单精度)，Float64(双精度)\n",
    "* 科学计数法形式：单精度用字母f——3.14f2；双精度用字母e——3.14e-2"
   ]
  },
  {
   "cell_type": "code",
   "execution_count": null,
   "metadata": {
    "collapsed": true
   },
   "outputs": [],
   "source": [
    "0.1+0.2==0.3#false，因此浮点数比较尽量使用<=或者>="
   ]
  },
  {
   "cell_type": "markdown",
   "metadata": {},
   "source": [
    "## Elementary mathematical functions and operations"
   ]
  },
  {
   "cell_type": "markdown",
   "metadata": {},
   "source": [
    "## Rational and complex numbers\n"
   ]
  },
  {
   "cell_type": "code",
   "execution_count": null,
   "metadata": {
    "collapsed": true
   },
   "outputs": [],
   "source": [
    "num(3//4)#depreciated\n",
    "numerator(3//4)\n",
    "den(3//4)#depreciated\n",
    "denominator(3//4)"
   ]
  },
  {
   "cell_type": "code",
   "execution_count": null,
   "metadata": {
    "collapsed": true
   },
   "outputs": [],
   "source": [
    "exp(1.2+6.8im)\n",
    "abs(1.2+6.8im)\n",
    "sinh(1.2+6.8im)\n",
    "real(1.2+6.8im)\n",
    "imag(1.2+6.8im)\n",
    "sqrt(1.2+6.8im)"
   ]
  },
  {
   "cell_type": "markdown",
   "metadata": {},
   "source": [
    "## Characters\n",
    "* julia不同于python，julia区分Char类型和String类型，主要依靠单引号和双引号区分，而且单引号只接受单字母"
   ]
  },
  {
   "cell_type": "code",
   "execution_count": null,
   "metadata": {
    "collapsed": true
   },
   "outputs": [],
   "source": [
    "typeof('A')#Char\n",
    "typeof(\"A\")#String\n",
    "typeof(\"Harbes\")#String\n"
   ]
  },
  {
   "cell_type": "markdown",
   "metadata": {},
   "source": [
    "## Strings\n",
    "* methodswith(String)可以查询更多的methods"
   ]
  },
  {
   "cell_type": "code",
   "execution_count": null,
   "metadata": {
    "collapsed": true
   },
   "outputs": [],
   "source": [
    "a=\"Harbes\"\n",
    "endof(a)#反悔array的最后一个序号,某种程度上等同于length，不过速度似乎更快；不过在字符串(当包含multi-byte Unicode时)上面还是有较大区别的，慎用\n",
    "#而且在对字符串使用循环时，最好不要使用index，而应使用iteration，如 for c in string\n"
   ]
  },
  {
   "cell_type": "code",
   "execution_count": null,
   "metadata": {
    "collapsed": true
   },
   "outputs": [],
   "source": [
    "#在字符串中，符号$往往用于插入一个变量数值；如果需要使用符号$，应该 \\$"
   ]
  },
  {
   "cell_type": "code",
   "execution_count": null,
   "metadata": {
    "collapsed": true
   },
   "outputs": [],
   "source": [
    "#python中字符串的拼接使用 + ，而在julia中字符串的拼接使用 * 或者使用函数 string()\n",
    "string(\"a\",\"b\")"
   ]
  },
  {
   "cell_type": "markdown",
   "metadata": {},
   "source": [
    "### formatting numbers and strings"
   ]
  },
  {
   "cell_type": "code",
   "execution_count": null,
   "metadata": {
    "collapsed": true,
    "scrolled": true
   },
   "outputs": [],
   "source": [
    "name=\"Harbes\"\n",
    "@printf(\"Hello,%s\\n\",name)#其中s代表字符串;\\n表示换行，不然会后面的打印会挤在一起\n",
    "@printf(\"%d\\n\",1e5)#d表示integers\n",
    "@printf(\"%0.3f\\n\",1.23456)#0.3表示小数点后保留三位有效数字；f表示浮点数\n",
    "@printf(\"%.2f %0.3f\\n\",1.234,1.2345);\n",
    "str=@sprintf(\"%0.3f\",6.78);show(str);println()#注意此时输出是以字符串形式输出的；而且此时字符串中没有加入\\n换行，所以，后面加了一个println()函数\n",
    "@printf(\"%0.3e\\n\",1.2345678)#e表示科学计数法\n",
    "@printf(\"output: %c\\n\",'α')#c表示character\n",
    "@printf(\"%50s %20s\\n\",\"I like Julia\",\"and you?\")#50和20表示前面空50字符和20字符\n",
    "#Julia的版本号\n",
    "if v\"0.5\"<=VERSION<=v\"0.6\"\n",
    "    print(\"Harbes\")\n",
    "end"
   ]
  },
  {
   "cell_type": "markdown",
   "metadata": {},
   "source": [
    "## Regular expression"
   ]
  },
  {
   "cell_type": "markdown",
   "metadata": {},
   "source": [
    "## Ranges and arrays\n",
    "* array的一般type format是 __Array{Type,n}__，其中n表示维度"
   ]
  },
  {
   "cell_type": "code",
   "execution_count": null,
   "metadata": {
    "collapsed": true
   },
   "outputs": [],
   "source": [
    "typeof(search(\"Julia\",\"uli\"))#UnitRange{Int64}\n",
    "typeof(1:5:1000)#StepRange{Int64,Int64}\n",
    "a=split(\"Harbes\",\"\");typeof(a)#Array{SubString{String},1}"
   ]
  },
  {
   "cell_type": "code",
   "execution_count": null,
   "metadata": {
    "collapsed": true
   },
   "outputs": [],
   "source": [
    "[1,2,3]#Array{Int64,1}\n",
    "Any[1,1.0,'a',\"Harbes\"]#Array{Any,1}\n",
    "eye(3)#Array{Float64,2}\n",
    "Array{Float64}(5)#Array{Float64,1}，一般用于创建空矩阵\n",
    "Float64[]#0-element Array{Float64,1}，注意此处最好不推荐使用[]，因为这样元素的类型就是Any，不符合julia高效的设定\n",
    "[1:7]#Array{UnitRange{Int64},1}"
   ]
  },
  {
   "cell_type": "code",
   "execution_count": null,
   "metadata": {
    "collapsed": true
   },
   "outputs": [],
   "source": [
    "arr=[1,8]\n",
    "eltype(arr)#查看元素类型\n",
    "length(arr)\n",
    "ndims(arr)\n",
    "size(arr)#size(arr,n)"
   ]
  },
  {
   "cell_type": "code",
   "execution_count": null,
   "metadata": {
    "collapsed": true
   },
   "outputs": [],
   "source": [
    "arr=[1,2,3,4,5,6,7,8]\n",
    "join(arr,\",\")#加入逗号，转变为字符串"
   ]
  },
  {
   "cell_type": "code",
   "execution_count": null,
   "metadata": {
    "collapsed": true
   },
   "outputs": [],
   "source": [
    "zeros(2,8)\n",
    "ones(1,8)\n",
    "linspace(0,10,10000)#linspace(start,stop,n)\n"
   ]
  },
  {
   "cell_type": "code",
   "execution_count": null,
   "metadata": {
    "collapsed": true
   },
   "outputs": [],
   "source": [
    "arr=[1,2,3]\n",
    "fill!(arr,8)#注意此时arr元素全部变成了8；注意fill!()与fill()的区别\n",
    "rand(Int32,8)"
   ]
  },
  {
   "cell_type": "markdown",
   "metadata": {},
   "source": [
    "**some common functions for array**"
   ]
  },
  {
   "cell_type": "code",
   "execution_count": null,
   "metadata": {
    "collapsed": true
   },
   "outputs": [],
   "source": [
    "a=[1,2,3]\n",
    "#b=[1:8]\n",
    "#append!(a,b)#Cannot `convert` an object of type Int64 to an object of type UnitRange{Int64}\n",
    "b=[6,7,8]\n",
    "append!(a,b)#注意感叹号！往往意味着该函数的第一个输入变量会发生变化\n",
    "pop!(a)#剔除a结尾的元素，并且返回该元素\n",
    "push!(a,8)#在a结尾添加元素，并返回改变后的a\n",
    "shift!(a)#剔除a开头的元素，并且返回该元素\n",
    "unshift!(a,1)#在a开头添加元素，并返回改变后的a\n",
    "splice!(a,2)#剔除a中特定位置的元素，并返回该元素\n",
    "in(8,a)#检查某个元素是否在a中\n",
    "sort(a)\n",
    "sort!(a)#注意与sort()的区别，一个改变a，另一个不改变"
   ]
  },
  {
   "cell_type": "code",
   "execution_count": null,
   "metadata": {
    "collapsed": true
   },
   "outputs": [],
   "source": [
    "a=[1,2,3]\n",
    "b=[6,7,8]\n",
    "a'*b==dot(a,b)"
   ]
  },
  {
   "cell_type": "code",
   "execution_count": null,
   "metadata": {
    "collapsed": true
   },
   "outputs": [],
   "source": [
    "a=[1,2,3]\n",
    "repeat(a,inner=[3])\n",
    "repeat(a,inner=[3,3])\n",
    "repeat(a,outer=[3])\n",
    "repeat(a,outer=[3,3])\n",
    "repeat(a,inner=[1,3])==repeat(a,outer=[1,3])"
   ]
  },
  {
   "cell_type": "code",
   "execution_count": null,
   "metadata": {
    "collapsed": true
   },
   "outputs": [],
   "source": [
    "#注意\n",
    "a=b#意味着a和b指向同一个对象，当其中一个变化时，另一个也变化\n",
    "#可以使用copy()或者deepcopy()"
   ]
  },
  {
   "cell_type": "code",
   "execution_count": null,
   "metadata": {
    "collapsed": true
   },
   "outputs": [],
   "source": [
    "#将一个关于 char的array转化为一个string，可以使用join()，也可以使用LegacyStrings包中的utf32()\n",
    "a=['H','a','r','b','e','s']\n",
    "join(a)\n"
   ]
  },
  {
   "cell_type": "markdown",
   "metadata": {},
   "source": [
    "## Dates and times"
   ]
  },
  {
   "cell_type": "markdown",
   "metadata": {},
   "source": [
    "## Scope and constants"
   ]
  },
  {
   "cell_type": "code",
   "execution_count": null,
   "metadata": {
    "collapsed": true
   },
   "outputs": [],
   "source": [
    "x=1\n",
    "#y::Float64=1.0#type declarations on global variables are not yet supported\n",
    "function scope_test()\n",
    "    println(x)\n",
    "    y::Float64=1.0\n",
    "end\n",
    "scope_test()\n",
    "println(y)#函数scope_test()中的y只是局部变量"
   ]
  },
  {
   "cell_type": "code",
   "execution_count": null,
   "metadata": {
    "collapsed": true
   },
   "outputs": [],
   "source": [
    "#julia中许多code constructs会引入新的scope(也就意味着有局部变量)，如for，while，try，let，type\n",
    "#compund expression（which does not introduce a new scope），意味着compound中的变量都是全局变量\n",
    "x=begin\n",
    "    a=5\n",
    "    a*2\n",
    "end#x现在等于10\n",
    "#或者可以简单的写成\n",
    "x=(a=8;a*2)\n",
    "a"
   ]
  },
  {
   "cell_type": "code",
   "execution_count": null,
   "metadata": {
    "collapsed": true
   },
   "outputs": [],
   "source": [
    "#使用const可以让变量变得immutable并且type is inferred\n",
    "#改变global constant的数值会有一个warning，如果改变其type，则会有error，因此使用const更多的是固定type\n",
    "const GC=1\n",
    "GC=8#WARNING: redefining constant GC\n",
    "GC=8.0#invalid redefinition of constant GC"
   ]
  },
  {
   "cell_type": "markdown",
   "metadata": {},
   "source": [
    "# Chapter 3. Functions"
   ]
  },
  {
   "cell_type": "markdown",
   "metadata": {},
   "source": [
    "## Defining functions"
   ]
  },
  {
   "cell_type": "code",
   "execution_count": null,
   "metadata": {
    "collapsed": true
   },
   "outputs": [],
   "source": [
    "#一般格式\n",
    "function f_name(arglist)\n",
    "    #function body\n",
    "    return values#允许没有return\n",
    "end\n",
    "#有时候，有些函数更适合简单形式，例如\n",
    "f(x,y)=x+y+x*y"
   ]
  },
  {
   "cell_type": "code",
   "execution_count": null,
   "metadata": {
    "collapsed": true
   },
   "outputs": [],
   "source": [
    "function α(x,y)\n",
    "    return x+y\n",
    "end\n",
    "α(1,2)"
   ]
  },
  {
   "cell_type": "code",
   "execution_count": null,
   "metadata": {
    "collapsed": true
   },
   "outputs": [],
   "source": [
    "function varargs(n,m,args...)\n",
    "    println(\"arguments:$n $m $args\")\n",
    "end\n",
    "varargs(1,2,3,4,5,6,7,8)"
   ]
  },
  {
   "cell_type": "markdown",
   "metadata": {},
   "source": [
    "## Optional and keyword arguments"
   ]
  },
  {
   "cell_type": "code",
   "execution_count": null,
   "metadata": {
    "collapsed": true
   },
   "outputs": [],
   "source": [
    "function f(x,y=1)#注意这并不是keyword argument\n",
    "    x+y\n",
    "end\n",
    "f(1)#2\n",
    "f(1,8)#9\n",
    "f(1,y=8)#function f does not accept keyword arguments\n"
   ]
  },
  {
   "cell_type": "code",
   "execution_count": null,
   "metadata": {
    "collapsed": true
   },
   "outputs": [],
   "source": [
    "#正确的做法是：keyword argument与positional argument之间以分号隔开，并且，keyword argument放在后面\n",
    "function f(x;y=1)\n",
    "    x+y\n",
    "end\n",
    "f(1)#2\n",
    "f(1,8)#9\n",
    "f(1,y=8)#9"
   ]
  },
  {
   "cell_type": "code",
   "execution_count": null,
   "metadata": {
    "collapsed": true
   },
   "outputs": [],
   "source": [
    "function var_args(;args...)\n",
    "    args\n",
    "end\n",
    "var_args(a=1,b=2,c=3)"
   ]
  },
  {
   "cell_type": "markdown",
   "metadata": {},
   "source": [
    "## Anonymous functions\n",
    "* 如果考虑性能，建议使用命名函数named function"
   ]
  },
  {
   "cell_type": "code",
   "execution_count": null,
   "metadata": {
    "collapsed": true
   },
   "outputs": [],
   "source": [
    "#匿名函数\n",
    "(x,y)->x^3-y+x*y#如果变成一般函数就是f=(x,y)->x^3-y+x*y\n",
    "#或者\n",
    "function (x,y)\n",
    "    return x^3-y+x*y\n",
    "end\n",
    "#匿名函数的调用，一般还是要指定一个名称\n",
    "func=(x,y)->x^3-y+x*y\n",
    "func(2,1)\n",
    "func=function (x,y)\n",
    "        return x^3-y+x*y\n",
    "     end\n",
    "func(2,1)\n",
    "#匿名函数还可以使用begin或者do来创造\n"
   ]
  },
  {
   "cell_type": "markdown",
   "metadata": {},
   "source": [
    "## First-class functions and closures"
   ]
  },
  {
   "cell_type": "code",
   "execution_count": null,
   "metadata": {
    "collapsed": true
   },
   "outputs": [],
   "source": [
    "function f()\n",
    "    #pass\n",
    "end\n",
    "typeof(f)"
   ]
  },
  {
   "cell_type": "code",
   "execution_count": null,
   "metadata": {
    "collapsed": true
   },
   "outputs": [],
   "source": [
    "#函数可以作为另一个函数的参数\n",
    "function numerical_deriv(f,x;dx=1e-5)\n",
    "    deriv=(f(x+dx)-f(x-dx))/(2dx)\n",
    "    return deriv\n",
    "end\n",
    "func=function (x;y=1)\n",
    "        return x^3-y+x*y\n",
    "     end\n",
    "numerical_deriv(func,1)\n",
    "    "
   ]
  },
  {
   "cell_type": "code",
   "execution_count": null,
   "metadata": {
    "collapsed": true
   },
   "outputs": [],
   "source": [
    "#函数的返回也可以是一个或多个函数——》闭包closure\n",
    "function deriv(f)\n",
    "    return function(x)\n",
    "                h= x==0? sqrt(eps(Float64)):sqrt(eps(Float64))*x\n",
    "                xph=x+h\n",
    "                dx=xph-x\n",
    "                f1=f(xph)#evaluate f at x+h\n",
    "                f0=f(x)#evaluate f at x\n",
    "                return (f1-f0)/dx\n",
    "            end\n",
    "end\n",
    "function func(x;y=1)\n",
    "    return x^3-y+x*y\n",
    "end\n",
    "df=deriv(func)\n",
    "df(1.0)#但是无法使用keyword argument       "
   ]
  },
  {
   "cell_type": "code",
   "execution_count": null,
   "metadata": {
    "collapsed": true
   },
   "outputs": [],
   "source": [
    "#返回多个函数\n",
    "function counter()\n",
    "    n=0\n",
    "    ()->n+=1,()->n=0\n",
    "end\n",
    "(addOne,reset)=counter()\n",
    "addOne()\n",
    "reset()"
   ]
  },
  {
   "cell_type": "code",
   "execution_count": null,
   "metadata": {
    "collapsed": true
   },
   "outputs": [],
   "source": [
    "# currying(柯里化)是一种技术，让一个多参数函数转变为evaluate一系列单参数函数\n",
    "function add(x)\n",
    "    return function f(y)\n",
    "        return x+y\n",
    "    end\n",
    "end\n",
    "add(1)(2)#3\n",
    "#上面可以简化成\n",
    "add(x)=f(y)=x+y\n",
    "add(1)(2)#3"
   ]
  },
  {
   "cell_type": "markdown",
   "metadata": {
    "collapsed": true
   },
   "source": [
    "## Recursive functions"
   ]
  },
  {
   "cell_type": "code",
   "execution_count": null,
   "metadata": {
    "collapsed": true
   },
   "outputs": [],
   "source": [
    "#函数里可以嵌套一个函数\n",
    "#函数也可以是recursive，也就是it can call itself。但是请注意可能存在stack overflow(栈溢出)问题\n",
    "sum_(n)= n>1? sum_(n-1)+n : n #1-n的求和\n",
    "sum_(5)\n",
    "fib(n)=n<2? n : fib(n-1)+fib(n-2)\n",
    "fib(6)"
   ]
  },
  {
   "cell_type": "markdown",
   "metadata": {},
   "source": [
    "## Map，filter，and list comprehension\n",
    "* map(func,coll)，其中func表示function，而且常使用anonymous function；coll表示collection；结果返回一个新的collection\n",
    "* filter(func,coll)，其中，func是一个Boolean function(常使用匿名函数)，于是返回结果是func结果为true对应的子collection\n",
    "* list comprehension常用于创建一个array"
   ]
  },
  {
   "cell_type": "code",
   "execution_count": null,
   "metadata": {
    "collapsed": true
   },
   "outputs": [],
   "source": [
    "map(x->x*10,[1,2,3])\n",
    "cubes=map(x->x.^3,[1:8])#注意，返回的结果是array的嵌套结构：1-element Array{Array{Int64,1},1}\n",
    "map(*,[1,2,3],[6,7,8])#map也可应用于多个参数的函数\n"
   ]
  },
  {
   "cell_type": "code",
   "execution_count": null,
   "metadata": {
    "collapsed": true
   },
   "outputs": [],
   "source": [
    "#如果函数code较长\n",
    "map(x-> begin\n",
    "    if x==0 return 0\n",
    "            elseif iseven(x) return 2\n",
    "            elseif isodd(x) return 1\n",
    "            end\n",
    "        end,-3:3)#注意,可以使用-3:3，也可以(-3:3)，但不要使用[-3:3]"
   ]
  },
  {
   "cell_type": "code",
   "execution_count": null,
   "metadata": {
    "collapsed": true
   },
   "outputs": [],
   "source": [
    "#上面可以用do来简化（使用do也可以创造一个匿名函数）\n",
    "map(-3:3) do x\n",
    "    if x==0 return 0\n",
    "    elseif iseven(x) return 2\n",
    "    elseif isodd(x) return 1\n",
    "    end\n",
    "end"
   ]
  },
  {
   "cell_type": "code",
   "execution_count": null,
   "metadata": {
    "collapsed": true
   },
   "outputs": [],
   "source": [
    "filter(x->iseven(x),1:10)"
   ]
  },
  {
   "cell_type": "code",
   "execution_count": null,
   "metadata": {
    "collapsed": true
   },
   "outputs": [],
   "source": [
    "arr=Float64[x^2 for x in 1:4]\n",
    "[x^3 for x in 1:5]\n",
    "mat=[x+y for x in  1:2,y in 1:3]#2×3 Array{Int64,2}\n",
    "arr_any=Any[2i for i in 1:5]#5-element Array{Any,1}"
   ]
  },
  {
   "cell_type": "markdown",
   "metadata": {},
   "source": [
    "## Generic functions and multiple dispatch\n",
    "* 只有位置参数需要考虑多分派\n",
    "* type-stable：if the return type(s) of all the output variables can deduced from the types of the inputs."
   ]
  },
  {
   "cell_type": "code",
   "execution_count": null,
   "metadata": {
    "collapsed": true
   },
   "outputs": [],
   "source": [
    "# multiple dispatch\n",
    "f(n,m)=\"base case\"\n",
    "f(n::Number,m::Number)=\"n and m are both Numbers\"\n",
    "f(n::Number,m)=\"n is a Number\"\n",
    "f(n,m::Number)=\"m is a Number\"\n",
    "f(n::Integer,m::Integer)=\"n and m are both Integers\"#f (generic function with 5 methods)\n",
    "#我们可以通过 methods(func_name)来查询 func_name 的所有版本，通过@which 查询具体用法以及source code位置\n",
    "methods(+)\n",
    "@which 2*2"
   ]
  },
  {
   "cell_type": "code",
   "execution_count": null,
   "metadata": {},
   "outputs": [],
   "source": [
    "fib(n)=n<2? n : fib(n-1)+fib(n-2)\n",
    "@time fib(5)# 运行时间和内存使用\n",
    "@elapsed fib(5)# 运行时间"
   ]
  },
  {
   "cell_type": "markdown",
   "metadata": {
    "collapsed": true
   },
   "source": [
    "# Chapter 4. Control Flow"
   ]
  },
  {
   "cell_type": "markdown",
   "metadata": {},
   "source": [
    "## conditional evaluation"
   ]
  },
  {
   "cell_type": "code",
   "execution_count": null,
   "metadata": {},
   "outputs": [],
   "source": [
    "var=8\n",
    "if var>10\n",
    "    println(\"var > 10\")\n",
    "elseif var>5\n",
    "    println(\"5<var<=10\")\n",
    "else\n",
    "    println(\"var<=5\")\n",
    "end\n"
   ]
  },
  {
   "cell_type": "code",
   "execution_count": null,
   "metadata": {},
   "outputs": [],
   "source": [
    "a=8;b=7;\n",
    "c=a>b? a : b"
   ]
  },
  {
   "cell_type": "code",
   "execution_count": null,
   "metadata": {
    "collapsed": true
   },
   "outputs": [],
   "source": [
    "#【注意】简化if\n",
    "if <condition>\n",
    "    <statement>\n",
    "end\n",
    "#可以简化成\n",
    "<condition>&&<statement>\n",
    "\n",
    "if !<condition>\n",
    "    <statement>\n",
    "end\n",
    "#可以简化成\n",
    "<condition>||<statement>"
   ]
  },
  {
   "cell_type": "markdown",
   "metadata": {},
   "source": [
    "## Repeated evaluation\n",
    "* for循环\n",
    "* while循环\n",
    "* break statement：当循环达到某个条件时，停止___该循环___，而不是整个循环\n",
    "* continue statement：当达到某个条件时，跳出循环的这一步，进入下一步"
   ]
  },
  {
   "cell_type": "code",
   "execution_count": null,
   "metadata": {
    "collapsed": true
   },
   "outputs": [],
   "source": [
    "for e in collection# collection可以使 range，string，array，或者其他 iterable collection；有时候 in 可以换成 =\n",
    "    # some process\n",
    "end\n",
    "\n",
    "for (i,val) in enumerate(arr)\n",
    "    #some process\n",
    "end\n",
    "\n"
   ]
  },
  {
   "cell_type": "code",
   "execution_count": null,
   "metadata": {
    "collapsed": true
   },
   "outputs": [],
   "source": [
    "a=20\n",
    "b=30\n",
    "while a<b\n",
    "    #some process\n",
    "    a+=1\n",
    "end\n"
   ]
  },
  {
   "cell_type": "code",
   "execution_count": null,
   "metadata": {
    "collapsed": true
   },
   "outputs": [],
   "source": [
    "a=5;b=150\n",
    "while a<b\n",
    "    #some process\n",
    "    a+=1\n",
    "    if a>=50\n",
    "        break\n",
    "    end\n",
    "end\n"
   ]
  },
  {
   "cell_type": "code",
   "execution_count": null,
   "metadata": {},
   "outputs": [],
   "source": [
    "#当循环达到某个条件时，停止该循环\n",
    "x=zeros(10,10)\n",
    "for i in 1:10\n",
    "    for j in 1:10\n",
    "        if j>i\n",
    "            break\n",
    "        end\n",
    "       x[i,j]=1\n",
    "    end\n",
    "end\n",
    "x"
   ]
  },
  {
   "cell_type": "code",
   "execution_count": null,
   "metadata": {},
   "outputs": [],
   "source": [
    " for i in 1:10\n",
    "    if 3<=i<=8\n",
    "        continue\n",
    "    end\n",
    "    println(i)\n",
    "end\n"
   ]
  },
  {
   "cell_type": "code",
   "execution_count": null,
   "metadata": {
    "collapsed": true
   },
   "outputs": [],
   "source": []
  }
 ],
 "metadata": {
  "kernelspec": {
   "display_name": "Julia 0.6.0",
   "language": "julia",
   "name": "julia-0.6"
  },
  "language_info": {
   "file_extension": ".jl",
   "mimetype": "application/julia",
   "name": "julia",
   "version": "0.6.0"
  }
 },
 "nbformat": 4,
 "nbformat_minor": 2
}
