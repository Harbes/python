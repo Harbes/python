{
 "cells": [
  {
   "cell_type": "markdown",
   "metadata": {},
   "source": [
    "# Chapter 2. Variables, Types, and Operations"
   ]
  },
  {
   "cell_type": "markdown",
   "metadata": {},
   "source": [
    "* Contrary to many other languages, everything in Julia is an expression.\n",
    "* Julia is a strongly-typed language"
   ]
  },
  {
   "cell_type": "markdown",
   "metadata": {},
   "source": [
    "## Types\n",
    "* Julia 用 var::TypeName来限定函数的输入变量var的类型；或者作为对变量的断言，若错误则停止，正确则继续\n",
    "* 为了追求最高性能，需要经常编写 type-stable code"
   ]
  },
  {
   "cell_type": "code",
   "execution_count": null,
   "metadata": {
    "collapsed": true
   },
   "outputs": [],
   "source": [
    "#(2+3)::String #TypeError: typeassert: expected String, got Int64\n",
    "(2+3)::Int64\n",
    "typeof(2)\n",
    "isa(2,Int64)\n"
   ]
  },
  {
   "cell_type": "markdown",
   "metadata": {},
   "source": [
    "## Integers\n",
    "* Julia有 Int8,Int16,Int32,Int64,Int128，注意Int64和Int128存在溢出(overflow)现象，例如：typemax(Int128)+1\n",
    "* Integers也可以写成 binary(0b,二进制)、octal(0o,八进制)、hexadecimal(0x,十六进制)"
   ]
  },
  {
   "cell_type": "code",
   "execution_count": null,
   "metadata": {
    "collapsed": true
   },
   "outputs": [],
   "source": [
    "!true==false"
   ]
  },
  {
   "cell_type": "markdown",
   "metadata": {},
   "source": [
    "## Floating point numbers\n",
    "* Float16，Float32(单精度)，Float64(双精度)\n",
    "* 科学计数法形式：单精度用字母f——3.14f2；双精度用字母e——3.14e-2"
   ]
  },
  {
   "cell_type": "code",
   "execution_count": null,
   "metadata": {
    "collapsed": true
   },
   "outputs": [],
   "source": [
    "0.1+0.2==0.3#false，因此浮点数比较尽量使用<=或者>="
   ]
  },
  {
   "cell_type": "markdown",
   "metadata": {},
   "source": [
    "## Elementary mathematical functions and operations"
   ]
  },
  {
   "cell_type": "markdown",
   "metadata": {},
   "source": [
    "## Rational and complex numbers\n"
   ]
  },
  {
   "cell_type": "code",
   "execution_count": null,
   "metadata": {
    "collapsed": true
   },
   "outputs": [],
   "source": [
    "num(3//4)#depreciated\n",
    "numerator(3//4)\n",
    "den(3//4)#depreciated\n",
    "denominator(3//4)"
   ]
  },
  {
   "cell_type": "code",
   "execution_count": null,
   "metadata": {
    "collapsed": true
   },
   "outputs": [],
   "source": [
    "exp(1.2+6.8im)\n",
    "abs(1.2+6.8im)\n",
    "sinh(1.2+6.8im)\n",
    "real(1.2+6.8im)\n",
    "imag(1.2+6.8im)\n",
    "sqrt(1.2+6.8im)"
   ]
  },
  {
   "cell_type": "markdown",
   "metadata": {},
   "source": [
    "## Characters\n",
    "* julia不同于python，julia区分Char类型和String类型，主要依靠单引号和双引号区分，而且单引号只接受单字母"
   ]
  },
  {
   "cell_type": "code",
   "execution_count": null,
   "metadata": {
    "collapsed": true
   },
   "outputs": [],
   "source": [
    "typeof('A')#Char\n",
    "typeof(\"A\")#String\n",
    "typeof(\"Harbes\")#String\n"
   ]
  },
  {
   "cell_type": "markdown",
   "metadata": {},
   "source": [
    "## Strings\n",
    "* methodswith(String)可以查询更多的methods"
   ]
  },
  {
   "cell_type": "code",
   "execution_count": null,
   "metadata": {
    "collapsed": true
   },
   "outputs": [],
   "source": [
    "a=\"Harbes\"\n",
    "endof(a)#反悔array的最后一个序号,某种程度上等同于length，不过速度似乎更快；不过在字符串(当包含multi-byte Unicode时)上面还是有较大区别的，慎用\n",
    "#而且在对字符串使用循环时，最好不要使用index，而应使用iteration，如 for c in string\n"
   ]
  },
  {
   "cell_type": "code",
   "execution_count": null,
   "metadata": {
    "collapsed": true
   },
   "outputs": [],
   "source": [
    "#在字符串中，符号$往往用于插入一个变量数值；如果需要使用符号$，应该 \\$"
   ]
  },
  {
   "cell_type": "code",
   "execution_count": null,
   "metadata": {
    "collapsed": true
   },
   "outputs": [],
   "source": [
    "#python中字符串的拼接使用 + ，而在julia中字符串的拼接使用 * 或者使用函数 string()\n",
    "string(\"a\",\"b\")"
   ]
  },
  {
   "cell_type": "markdown",
   "metadata": {},
   "source": [
    "#### formatting numbers and strings"
   ]
  },
  {
   "cell_type": "code",
   "execution_count": null,
   "metadata": {
    "collapsed": true,
    "scrolled": true
   },
   "outputs": [],
   "source": [
    "name=\"Harbes\"\n",
    "@printf(\"Hello,%s\\n\",name)#其中s代表字符串;\\n表示换行，不然会后面的打印会挤在一起\n",
    "@printf(\"%d\\n\",1e5)#d表示integers\n",
    "@printf(\"%0.3f\\n\",1.23456)#0.3表示小数点后保留三位有效数字；f表示浮点数\n",
    "@printf(\"%.2f %0.3f\\n\",1.234,1.2345);\n",
    "str=@sprintf(\"%0.3f\",6.78);show(str);println()#注意此时输出是以字符串形式输出的；而且此时字符串中没有加入\\n换行，所以，后面加了一个println()函数\n",
    "@printf(\"%0.3e\\n\",1.2345678)#e表示科学计数法\n",
    "@printf(\"output: %c\\n\",'α')#c表示character\n",
    "@printf(\"%50s %20s\\n\",\"I like Julia\",\"and you?\")#50和20表示前面空50字符和20字符\n",
    "#Julia的版本号\n",
    "if v\"0.5\"<=VERSION<=v\"0.6\"\n",
    "    print(\"Harbes\")\n",
    "end"
   ]
  },
  {
   "cell_type": "markdown",
   "metadata": {},
   "source": [
    "## Regular expression"
   ]
  },
  {
   "cell_type": "markdown",
   "metadata": {},
   "source": [
    "## Ranges and arrays\n",
    "* array的一般type format是 __Array{Type,n}__，其中n表示维度"
   ]
  },
  {
   "cell_type": "code",
   "execution_count": null,
   "metadata": {
    "collapsed": true
   },
   "outputs": [],
   "source": [
    "typeof(search(\"Julia\",\"uli\"))#UnitRange{Int64}\n",
    "typeof(1:5:1000)#StepRange{Int64,Int64}\n",
    "a=split(\"Harbes\",\"\");typeof(a)#Array{SubString{String},1}"
   ]
  },
  {
   "cell_type": "code",
   "execution_count": null,
   "metadata": {
    "collapsed": true
   },
   "outputs": [],
   "source": [
    "[1,2,3]#Array{Int64,1}\n",
    "Any[1,1.0,'a',\"Harbes\"]#Array{Any,1}\n",
    "eye(3)#Array{Float64,2}\n",
    "Array{Float64}(5)#Array{Float64,1}，一般用于创建空矩阵\n",
    "Float64[]#0-element Array{Float64,1}，注意此处最好不推荐使用[]，因为这样元素的类型就是Any，不符合julia高效的设定\n",
    "[1:7]#Array{UnitRange{Int64},1}"
   ]
  },
  {
   "cell_type": "code",
   "execution_count": null,
   "metadata": {
    "collapsed": true
   },
   "outputs": [],
   "source": [
    "arr=[1,8]\n",
    "eltype(arr)#查看元素类型\n",
    "length(arr)\n",
    "ndims(arr)\n",
    "size(arr)#size(arr,n)"
   ]
  },
  {
   "cell_type": "code",
   "execution_count": null,
   "metadata": {
    "collapsed": true
   },
   "outputs": [],
   "source": [
    "arr=[1,2,3,4,5,6,7,8]\n",
    "join(arr,\",\")#加入逗号，转变为字符串"
   ]
  },
  {
   "cell_type": "code",
   "execution_count": null,
   "metadata": {
    "collapsed": true
   },
   "outputs": [],
   "source": [
    "zeros(2,8)\n",
    "ones(1,8)\n",
    "linspace(0,10,10000)#linspace(start,stop,n)\n"
   ]
  },
  {
   "cell_type": "code",
   "execution_count": null,
   "metadata": {
    "collapsed": true
   },
   "outputs": [],
   "source": [
    "arr=[1,2,3]\n",
    "fill!(arr,8)#注意此时arr元素全部变成了8；注意fill!()与fill()的区别\n",
    "rand(Int32,8)"
   ]
  },
  {
   "cell_type": "markdown",
   "metadata": {},
   "source": [
    "**some common functions for array**"
   ]
  },
  {
   "cell_type": "code",
   "execution_count": null,
   "metadata": {
    "collapsed": true
   },
   "outputs": [],
   "source": [
    "a=[1,2,3]\n",
    "#b=[1:8]\n",
    "#append!(a,b)#Cannot `convert` an object of type Int64 to an object of type UnitRange{Int64}\n",
    "b=[6,7,8]\n",
    "append!(a,b)#注意感叹号！往往意味着该函数的第一个输入变量会发生变化\n",
    "pop!(a)#剔除a结尾的元素，并且返回该元素\n",
    "push!(a,8)#在a结尾添加元素，并返回改变后的a\n",
    "shift!(a)#剔除a开头的元素，并且返回该元素\n",
    "unshift!(a,1)#在a开头添加元素，并返回改变后的a\n",
    "splice!(a,2)#剔除a中特定位置的元素，并返回该元素\n",
    "in(8,a)#检查某个元素是否在a中\n",
    "sort(a)\n",
    "sort!(a)#注意与sort()的区别，一个改变a，另一个不改变"
   ]
  },
  {
   "cell_type": "code",
   "execution_count": null,
   "metadata": {
    "collapsed": true
   },
   "outputs": [],
   "source": [
    "a=[1,2,3]\n",
    "b=[6,7,8]\n",
    "a'*b==dot(a,b)"
   ]
  },
  {
   "cell_type": "code",
   "execution_count": null,
   "metadata": {
    "collapsed": true
   },
   "outputs": [],
   "source": [
    "a=[1,2,3]\n",
    "repeat(a,inner=[3])\n",
    "repeat(a,inner=[3,3])\n",
    "repeat(a,outer=[3])\n",
    "repeat(a,outer=[3,3])\n",
    "repeat(a,inner=[1,3])==repeat(a,outer=[1,3])"
   ]
  },
  {
   "cell_type": "code",
   "execution_count": null,
   "metadata": {
    "collapsed": true
   },
   "outputs": [],
   "source": [
    "#注意\n",
    "a=b#意味着a和b指向同一个对象，当其中一个变化时，另一个也变化\n",
    "#可以使用copy()或者deepcopy()"
   ]
  },
  {
   "cell_type": "code",
   "execution_count": null,
   "metadata": {
    "collapsed": true
   },
   "outputs": [],
   "source": [
    "#将一个关于 char的array转化为一个string，可以使用join()，也可以使用LegacyStrings包中的utf32()\n",
    "a=['H','a','r','b','e','s']\n",
    "join(a)\n"
   ]
  },
  {
   "cell_type": "markdown",
   "metadata": {},
   "source": [
    "## Dates and times"
   ]
  },
  {
   "cell_type": "markdown",
   "metadata": {},
   "source": [
    "## Scope and constants"
   ]
  },
  {
   "cell_type": "code",
   "execution_count": null,
   "metadata": {
    "collapsed": true
   },
   "outputs": [],
   "source": [
    "x=1\n",
    "#y::Float64=1.0#type declarations on global variables are not yet supported\n",
    "function scope_test()\n",
    "    println(x)\n",
    "    y::Float64=1.0\n",
    "end\n",
    "scope_test()\n",
    "println(y)#函数scope_test()中的y只是局部变量"
   ]
  },
  {
   "cell_type": "code",
   "execution_count": null,
   "metadata": {
    "collapsed": true
   },
   "outputs": [],
   "source": [
    "#julia中许多code constructs会引入新的scope(也就意味着有局部变量)，如for，while，try，let，type\n",
    "#compund expression（which does not introduce a new scope），意味着compound中的变量都是全局变量\n",
    "x=begin\n",
    "    a=5\n",
    "    a*2\n",
    "end#x现在等于10\n",
    "#或者可以简单的写成\n",
    "x=(a=8;a*2)\n",
    "a"
   ]
  },
  {
   "cell_type": "code",
   "execution_count": null,
   "metadata": {
    "collapsed": true
   },
   "outputs": [],
   "source": [
    "#使用const可以让变量变得immutable并且type is inferred\n",
    "#改变global constant的数值会有一个warning，如果改变其type，则会有error，因此使用const更多的是固定type\n",
    "const GC=1\n",
    "GC=8#WARNING: redefining constant GC\n",
    "GC=8.0#invalid redefinition of constant GC"
   ]
  },
  {
   "cell_type": "markdown",
   "metadata": {},
   "source": [
    "# Chapter 3. Functions"
   ]
  },
  {
   "cell_type": "markdown",
   "metadata": {},
   "source": [
    "## Defining functions"
   ]
  },
  {
   "cell_type": "code",
   "execution_count": null,
   "metadata": {
    "collapsed": true
   },
   "outputs": [],
   "source": [
    "#一般格式\n",
    "function f_name(arglist)\n",
    "    #function body\n",
    "    return values#允许没有return\n",
    "end\n",
    "#有时候，有些函数更适合简单形式，例如\n",
    "f(x,y)=x+y+x*y"
   ]
  },
  {
   "cell_type": "code",
   "execution_count": null,
   "metadata": {
    "collapsed": true
   },
   "outputs": [],
   "source": [
    "function α(x,y)\n",
    "    return x+y\n",
    "end\n",
    "α(1,2)"
   ]
  },
  {
   "cell_type": "code",
   "execution_count": null,
   "metadata": {
    "collapsed": true
   },
   "outputs": [],
   "source": [
    "function varargs(n,m,args...)\n",
    "    println(\"arguments:$n $m $args\")\n",
    "end\n",
    "varargs(1,2,3,4,5,6,7,8)"
   ]
  },
  {
   "cell_type": "markdown",
   "metadata": {},
   "source": [
    "## Optional and keyword arguments"
   ]
  },
  {
   "cell_type": "code",
   "execution_count": null,
   "metadata": {
    "collapsed": true
   },
   "outputs": [],
   "source": [
    "function f(x,y=1)#注意这并不是keyword argument\n",
    "    x+y\n",
    "end\n",
    "f(1)#2\n",
    "f(1,8)#9\n",
    "f(1,y=8)#function f does not accept keyword arguments\n"
   ]
  },
  {
   "cell_type": "code",
   "execution_count": null,
   "metadata": {
    "collapsed": true
   },
   "outputs": [],
   "source": [
    "#正确的做法是：keyword argument与positional argument之间以分号隔开，并且，keyword argument放在后面\n",
    "function f(x;y=1)\n",
    "    x+y\n",
    "end\n",
    "f(1)#2\n",
    "f(1,8)#9\n",
    "f(1,y=8)#9"
   ]
  },
  {
   "cell_type": "code",
   "execution_count": null,
   "metadata": {
    "collapsed": true
   },
   "outputs": [],
   "source": [
    "function var_args(;args...)\n",
    "    args\n",
    "end\n",
    "var_args(a=1,b=2,c=3)"
   ]
  },
  {
   "cell_type": "markdown",
   "metadata": {},
   "source": [
    "## Anonymous functions\n",
    "* 如果考虑性能，建议使用命名函数named function"
   ]
  },
  {
   "cell_type": "code",
   "execution_count": null,
   "metadata": {
    "collapsed": true
   },
   "outputs": [],
   "source": [
    "#匿名函数\n",
    "(x,y)->x^3-y+x*y#如果变成一般函数就是f=(x,y)->x^3-y+x*y\n",
    "#或者\n",
    "function (x,y)\n",
    "    return x^3-y+x*y\n",
    "end\n",
    "#匿名函数的调用，一般还是要指定一个名称\n",
    "func=(x,y)->x^3-y+x*y\n",
    "func(2,1)\n",
    "func=function (x,y)\n",
    "        return x^3-y+x*y\n",
    "     end\n",
    "func(2,1)\n",
    "#匿名函数还可以使用begin或者do来创造\n"
   ]
  },
  {
   "cell_type": "markdown",
   "metadata": {},
   "source": [
    "## First-class functions and closures"
   ]
  },
  {
   "cell_type": "code",
   "execution_count": null,
   "metadata": {
    "collapsed": true
   },
   "outputs": [],
   "source": [
    "function f()\n",
    "    #pass\n",
    "end\n",
    "typeof(f)"
   ]
  },
  {
   "cell_type": "code",
   "execution_count": null,
   "metadata": {
    "collapsed": true
   },
   "outputs": [],
   "source": [
    "#函数可以作为另一个函数的参数\n",
    "function numerical_deriv(f,x;dx=1e-5)\n",
    "    deriv=(f(x+dx)-f(x-dx))/(2dx)\n",
    "    return deriv\n",
    "end\n",
    "func=function (x;y=1)\n",
    "        return x^3-y+x*y\n",
    "     end\n",
    "numerical_deriv(func,1)\n",
    "    "
   ]
  },
  {
   "cell_type": "code",
   "execution_count": null,
   "metadata": {
    "collapsed": true
   },
   "outputs": [],
   "source": [
    "#函数的返回也可以是一个或多个函数——》闭包closure\n",
    "function deriv(f)\n",
    "    return function(x)\n",
    "                h= x==0? sqrt(eps(Float64)):sqrt(eps(Float64))*x\n",
    "                xph=x+h\n",
    "                dx=xph-x\n",
    "                f1=f(xph)#evaluate f at x+h\n",
    "                f0=f(x)#evaluate f at x\n",
    "                return (f1-f0)/dx\n",
    "            end\n",
    "end\n",
    "function func(x;y=1)\n",
    "    return x^3-y+x*y\n",
    "end\n",
    "df=deriv(func)\n",
    "df(1.0)#但是无法使用keyword argument       "
   ]
  },
  {
   "cell_type": "code",
   "execution_count": null,
   "metadata": {
    "collapsed": true
   },
   "outputs": [],
   "source": [
    "#返回多个函数\n",
    "function counter()\n",
    "    n=0\n",
    "    ()->n+=1,()->n=0\n",
    "end\n",
    "(addOne,reset)=counter()\n",
    "addOne()\n",
    "reset()"
   ]
  },
  {
   "cell_type": "code",
   "execution_count": null,
   "metadata": {
    "collapsed": true
   },
   "outputs": [],
   "source": [
    "# currying(柯里化)是一种技术，让一个多参数函数转变为evaluate一系列单参数函数\n",
    "function add(x)\n",
    "    return function f(y)\n",
    "        return x+y\n",
    "    end\n",
    "end\n",
    "add(1)(2)#3\n",
    "#上面可以简化成\n",
    "add(x)=f(y)=x+y\n",
    "add(1)(2)#3"
   ]
  },
  {
   "cell_type": "markdown",
   "metadata": {
    "collapsed": true
   },
   "source": [
    "## Recursive functions"
   ]
  },
  {
   "cell_type": "code",
   "execution_count": null,
   "metadata": {
    "collapsed": true
   },
   "outputs": [],
   "source": [
    "#函数里可以嵌套一个函数\n",
    "#函数也可以是recursive，也就是it can call itself。但是请注意可能存在stack overflow(栈溢出)问题\n",
    "sum_(n)= n>1? sum_(n-1)+n : n #1-n的求和\n",
    "sum_(5)\n",
    "fib(n)=n<2? n : fib(n-1)+fib(n-2)\n",
    "fib(6)"
   ]
  },
  {
   "cell_type": "markdown",
   "metadata": {},
   "source": [
    "## Map，filter，and list comprehension\n",
    "* map(func,coll)，其中func表示function，而且常使用anonymous function；coll表示collection；结果返回一个新的collection\n",
    "* filter(func,coll)，其中，func是一个Boolean function(常使用匿名函数)，于是返回结果是func结果为true对应的子collection\n",
    "* list comprehension常用于创建一个array"
   ]
  },
  {
   "cell_type": "code",
   "execution_count": null,
   "metadata": {
    "collapsed": true
   },
   "outputs": [],
   "source": [
    "map(x->x*10,[1,2,3])\n",
    "cubes=map(x->x.^3,[1:8])#注意，返回的结果是array的嵌套结构：1-element Array{Array{Int64,1},1}\n",
    "map(*,[1,2,3],[6,7,8])#map也可应用于多个参数的函数\n"
   ]
  },
  {
   "cell_type": "code",
   "execution_count": null,
   "metadata": {
    "collapsed": true
   },
   "outputs": [],
   "source": [
    "#如果函数code较长\n",
    "map(x-> begin\n",
    "    if x==0 return 0\n",
    "            elseif iseven(x) return 2\n",
    "            elseif isodd(x) return 1\n",
    "            end\n",
    "        end,-3:3)#注意,可以使用-3:3，也可以(-3:3)，但不要使用[-3:3]"
   ]
  },
  {
   "cell_type": "code",
   "execution_count": null,
   "metadata": {
    "collapsed": true
   },
   "outputs": [],
   "source": [
    "#上面可以用do来简化（使用do也可以创造一个匿名函数）\n",
    "map(-3:3) do x\n",
    "    if x==0 return 0\n",
    "    elseif iseven(x) return 2\n",
    "    elseif isodd(x) return 1\n",
    "    end\n",
    "end"
   ]
  },
  {
   "cell_type": "code",
   "execution_count": null,
   "metadata": {
    "collapsed": true
   },
   "outputs": [],
   "source": [
    "filter(x->iseven(x),1:10)"
   ]
  },
  {
   "cell_type": "code",
   "execution_count": null,
   "metadata": {
    "collapsed": true
   },
   "outputs": [],
   "source": [
    "arr=Float64[x^2 for x in 1:4]\n",
    "[x^3 for x in 1:5]\n",
    "mat=[x+y for x in  1:2,y in 1:3]#2×3 Array{Int64,2}\n",
    "arr_any=Any[2i for i in 1:5]#5-element Array{Any,1}"
   ]
  },
  {
   "cell_type": "markdown",
   "metadata": {},
   "source": [
    "## Generic functions and multiple dispatch\n",
    "* 只有位置参数需要考虑多分派\n",
    "* type-stable：if the return type(s) of all the output variables can deduced from the types of the inputs."
   ]
  },
  {
   "cell_type": "code",
   "execution_count": null,
   "metadata": {
    "collapsed": true
   },
   "outputs": [],
   "source": [
    "# multiple dispatch\n",
    "f(n,m)=\"base case\"\n",
    "f(n::Number,m::Number)=\"n and m are both Numbers\"\n",
    "f(n::Number,m)=\"n is a Number\"\n",
    "f(n,m::Number)=\"m is a Number\"\n",
    "f(n::Integer,m::Integer)=\"n and m are both Integers\"#f (generic function with 5 methods)\n",
    "#我们可以通过 methods(func_name)来查询 func_name 的所有版本，通过@which 查询具体用法以及source code位置\n",
    "methods(+)\n",
    "@which 2*2"
   ]
  },
  {
   "cell_type": "code",
   "execution_count": null,
   "metadata": {
    "collapsed": true
   },
   "outputs": [],
   "source": [
    "fib(n)=n<2? n : fib(n-1)+fib(n-2)\n",
    "@time fib(5)# 运行时间和内存使用\n",
    "@elapsed fib(5)# 运行时间"
   ]
  },
  {
   "cell_type": "markdown",
   "metadata": {
    "collapsed": true
   },
   "source": [
    "# Chapter 4. Control Flow"
   ]
  },
  {
   "cell_type": "markdown",
   "metadata": {},
   "source": [
    "## conditional evaluation"
   ]
  },
  {
   "cell_type": "code",
   "execution_count": null,
   "metadata": {
    "collapsed": true
   },
   "outputs": [],
   "source": [
    "var=8\n",
    "if var>10\n",
    "    println(\"var > 10\")\n",
    "elseif var>5\n",
    "    println(\"5<var<=10\")\n",
    "else\n",
    "    println(\"var<=5\")\n",
    "end\n"
   ]
  },
  {
   "cell_type": "code",
   "execution_count": null,
   "metadata": {
    "collapsed": true
   },
   "outputs": [],
   "source": [
    "a=8;b=7;\n",
    "c=a>b? a : b"
   ]
  },
  {
   "cell_type": "code",
   "execution_count": null,
   "metadata": {
    "collapsed": true
   },
   "outputs": [],
   "source": [
    "#【注意】简化if\n",
    "if <condition>\n",
    "    <statement>\n",
    "end\n",
    "#可以简化成\n",
    "<condition>&&<statement>\n",
    "\n",
    "if !<condition>\n",
    "    <statement>\n",
    "end\n",
    "#可以简化成\n",
    "<condition>||<statement>"
   ]
  },
  {
   "cell_type": "markdown",
   "metadata": {},
   "source": [
    "## Repeated evaluation\n",
    "* for循环\n",
    "* while循环\n",
    "* break statement：当循环达到某个条件时，停止___该循环___，而不是整个循环\n",
    "* continue statement：当达到某个条件时，跳出循环的这一步，进入下一步"
   ]
  },
  {
   "cell_type": "code",
   "execution_count": null,
   "metadata": {
    "collapsed": true
   },
   "outputs": [],
   "source": [
    "for e in collection# collection可以使 range，string，array，或者其他 iterable collection；有时候 in 可以换成 =\n",
    "    # some process\n",
    "end\n",
    "\n",
    "for (i,val) in enumerate(arr)\n",
    "    #some process\n",
    "end\n",
    "\n"
   ]
  },
  {
   "cell_type": "code",
   "execution_count": null,
   "metadata": {
    "collapsed": true
   },
   "outputs": [],
   "source": [
    "a=20\n",
    "b=30\n",
    "while a<b\n",
    "    #some process\n",
    "    a+=1\n",
    "end\n"
   ]
  },
  {
   "cell_type": "code",
   "execution_count": null,
   "metadata": {
    "collapsed": true
   },
   "outputs": [],
   "source": [
    "a=5;b=150\n",
    "while a<b\n",
    "    #some process\n",
    "    a+=1\n",
    "    if a>=50\n",
    "        break\n",
    "    end\n",
    "end\n"
   ]
  },
  {
   "cell_type": "code",
   "execution_count": null,
   "metadata": {
    "collapsed": true
   },
   "outputs": [],
   "source": [
    "#当循环达到某个条件时，停止该循环\n",
    "x=zeros(10,10)\n",
    "for i in 1:10\n",
    "    for j in 1:10\n",
    "        if j>i\n",
    "            break\n",
    "        end\n",
    "       x[i,j]=1\n",
    "    end\n",
    "end\n",
    "x"
   ]
  },
  {
   "cell_type": "code",
   "execution_count": null,
   "metadata": {
    "collapsed": true
   },
   "outputs": [],
   "source": [
    " for i in 1:10\n",
    "    if 3<=i<=8\n",
    "        continue\n",
    "    end\n",
    "    println(i)\n",
    "end\n"
   ]
  },
  {
   "cell_type": "markdown",
   "metadata": {},
   "source": [
    "## Exception handling\n",
    "* 常见的错误：BoundsError，DomainError，LoadError，ArgumentError"
   ]
  },
  {
   "cell_type": "code",
   "execution_count": null,
   "metadata": {
    "collapsed": true
   },
   "outputs": [],
   "source": [
    "a=Array(1:5)\n",
    "#a[6]\n",
    "sqrt(-1)"
   ]
  },
  {
   "cell_type": "code",
   "execution_count": null,
   "metadata": {
    "collapsed": true
   },
   "outputs": [],
   "source": [
    "i=-1\n",
    "if i >=0\n",
    "    println(i)\n",
    "else\n",
    "    throw(DomainError())\n",
    "end\n",
    "\n",
    "i=-1\n",
    "if i >=0\n",
    "    println(i)\n",
    "else\n",
    "    ErrorException\n",
    "end\n",
    "\n",
    "i=-1\n",
    "if i >=0\n",
    "    println(i)\n",
    "else\n",
    "    error(\"请输入不小于0的数\")#warn(\"请输入不小于0的数\")#info(\"请输入不小于0的数\")#\n",
    "end\n"
   ]
  },
  {
   "cell_type": "code",
   "execution_count": null,
   "metadata": {
    "collapsed": true
   },
   "outputs": [],
   "source": [
    "# try-catch\n",
    "a=[]\n",
    "try\n",
    "    pop!(a)\n",
    "catch ex\n",
    "    println(typeof(ex))#ArgumentError\n",
    "    showerror(STDOUT,ex)#ArgumentError: array must be non-empty\n",
    "end\n"
   ]
  },
  {
   "cell_type": "code",
   "execution_count": null,
   "metadata": {
    "collapsed": true
   },
   "outputs": [],
   "source": [
    "#还可以\n",
    "try\n",
    "    # try this code\n",
    "catch ex\n",
    "    if isa(ex,DomainError)\n",
    "        # do this\n",
    "    elseif isa(ex,BoundsError)\n",
    "        #do this\n",
    "    end\n",
    "end\n"
   ]
  },
  {
   "cell_type": "code",
   "execution_count": null,
   "metadata": {
    "collapsed": true
   },
   "outputs": [],
   "source": [
    "#注意，就像 while ，if一样，try也是一个expression，可以把它赋给一个变量\n",
    "ret = try\n",
    "    sqrt(-1)\n",
    "    catch ex\n",
    "    showerror(STDOUT,ex)\n",
    "end\n",
    "#当出现error时，ret没有被赋值，用println打印的结果是：nothing"
   ]
  },
  {
   "cell_type": "code",
   "execution_count": null,
   "metadata": {
    "collapsed": true
   },
   "outputs": [],
   "source": [
    "# try-catch-finally：无论是否出现error，无论何种error，finally后面的code总会被执行\n",
    "f= open(\"file1.txt\")\n",
    "try\n",
    "    #operate on fle f\n",
    "catch ex\n",
    "finally\n",
    "    close(f)\n",
    "end\n"
   ]
  },
  {
   "cell_type": "markdown",
   "metadata": {},
   "source": [
    "## Scope revisited\n",
    "* for，while，try 都会introduce a new scope(除了if)"
   ]
  },
  {
   "cell_type": "code",
   "execution_count": null,
   "metadata": {
    "collapsed": true
   },
   "outputs": [],
   "source": [
    "x=9\n",
    "function funscope(n)\n",
    "    x=0\n",
    "    for i in 1:n\n",
    "        local x\n",
    "        x=i+1\n",
    "        if (x==7)\n",
    "            println(\"this is the local x in for: $x\")\n",
    "        end\n",
    "    end\n",
    "    x\n",
    "    println(\"this is the local x in funscope: $x\")\n",
    "    global x=16\n",
    "end\n",
    "funscope(10)\n",
    "println(\"this is the global x: $x\")"
   ]
  },
  {
   "cell_type": "code",
   "execution_count": null,
   "metadata": {
    "collapsed": true
   },
   "outputs": [],
   "source": [
    "#!!!!!!!??????????\n",
    "anon=Array{Any}(2)\n",
    "for i in 1:2\n",
    "    anon[i]=()->println(i)\n",
    "    i+=2\n",
    "end\n",
    "anon[1]()#3\n",
    "anon[2]()#4"
   ]
  },
  {
   "cell_type": "code",
   "execution_count": null,
   "metadata": {
    "collapsed": true
   },
   "outputs": [],
   "source": [
    "#want the anonymous function to stick to the value of i at the moment of their creation,use the let statement(create a new scopw)\n",
    "anon=Array{Any}(2)\n",
    "for i in 1:2\n",
    "    let i=i\n",
    "        anon[i]=()->println(i)\n",
    "    end\n",
    "    i+=2\n",
    "end\n",
    "anon[1]()#1\n",
    "anon[2]()#2"
   ]
  },
  {
   "cell_type": "code",
   "execution_count": null,
   "metadata": {
    "collapsed": true
   },
   "outputs": [],
   "source": [
    "# 一般的for循环和list comprehension中的for 循环在涉及scope方面是不一样的\n",
    "i=0\n",
    "for i in 1:10\n",
    "end\n",
    "println(i)#10\n",
    "i=0\n",
    "[i for i in 1:10]\n",
    "println(i)#0"
   ]
  },
  {
   "cell_type": "markdown",
   "metadata": {},
   "source": [
    "## Tasks\n",
    "julia0.6好像有更改，暂时不学"
   ]
  },
  {
   "cell_type": "code",
   "execution_count": null,
   "metadata": {
    "collapsed": true
   },
   "outputs": [],
   "source": [
    "#有问题！？\n",
    "function fib(n)\n",
    "    a,b=0,1\n",
    "    for i in 1:n\n",
    "        produce(b)\n",
    "        a,b=b,a+b\n",
    "    end\n",
    "end\n",
    "tsk1=Task(()->fib(10))\n",
    "consume(tsk1)"
   ]
  },
  {
   "cell_type": "markdown",
   "metadata": {},
   "source": [
    "# Chapter 5. Collection types\n",
    "* array，tuple，dictionary，set\n"
   ]
  },
  {
   "cell_type": "markdown",
   "metadata": {},
   "source": [
    "## Matrices"
   ]
  },
  {
   "cell_type": "code",
   "execution_count": null,
   "metadata": {
    "collapsed": true
   },
   "outputs": [],
   "source": [
    "#Vector\n",
    "[1,2,3]#3-element Array{Int64,1}，等价于[1;2;3]\n",
    "[1 2 3]#1×3 Array{Int64,2}"
   ]
  },
  {
   "cell_type": "code",
   "execution_count": null,
   "metadata": {
    "collapsed": true
   },
   "outputs": [],
   "source": [
    "#jagged(参差不齐) array\n",
    "jarr=fill(Array{Int64}(1),3)#注意是fill()不是fill!()\n",
    "jarr[1]=[1,2]\n",
    "jarr[2]=[1,2,3]\n",
    "jarr[3]=[1,2,3,4]\n",
    "jarr"
   ]
  },
  {
   "cell_type": "code",
   "execution_count": null,
   "metadata": {
    "collapsed": true
   },
   "outputs": [],
   "source": [
    "#一个tip：在求解 ma1*X=ma2 时，尽量不使用 X=inv(ma1)*ma2，而使用 X=ma1\\ma2或者X=ma2/ma1，因为结果更稳定，而且速度更快"
   ]
  },
  {
   "cell_type": "code",
   "execution_count": null,
   "metadata": {
    "collapsed": true
   },
   "outputs": [],
   "source": [
    "a=[1,2,3]\n",
    "b=[3,5,6]\n",
    "hcat(a,b)#3×2 Array{Int64,2}\n",
    "vcat(a,b)#6-element Array{Int64,1}\n",
    "#append!(a,b)#6-element Array{Int64,1}，结果同上\n",
    "[a b]#3×2 Array{Int64,2}\n",
    "[a;b]#6-element Array{Int64,1}\n",
    "[a,b]#2-element Array{Array{Int64,1},1}，与上面都不相同"
   ]
  },
  {
   "cell_type": "code",
   "execution_count": null,
   "metadata": {
    "collapsed": true
   },
   "outputs": [],
   "source": [
    "reshape(1:48,(6,8))#reshape(1:48,6,8)#结果相同\n",
    "a=rand(3,3)\n",
    "reshape(a,(9,))#注意，结果与reshape(a,(9,))是不同的，主要是维度"
   ]
  },
  {
   "cell_type": "code",
   "execution_count": null,
   "metadata": {
    "collapsed": true
   },
   "outputs": [],
   "source": [
    "#当出现array里嵌套array时\n",
    "x=Array{Any}(2)\n",
    "x[1]=ones(2)#2-element Array{Float64,1}\n",
    "x[2]=trues(3)#3-element BitArray{1}\n",
    "x#2-element Array{Any,1}\n",
    "a=x\n",
    "b=copy(x)# copy()产生的是“shallow copy”\n",
    "c=deepcopy(x)\n",
    "\n",
    "x[1]=\"Julia\"\n",
    "x[2][1]=false\n",
    "x\n",
    "\n",
    "a#始终与x保持一致，a===x返回的结果是true\n",
    "b#the b value retains the changes in a contained array of x ,but not if one of the contrained arrays becomes another array\n",
    "c#完全没有变化"
   ]
  },
  {
   "cell_type": "code",
   "execution_count": null,
   "metadata": {
    "collapsed": true
   },
   "outputs": [],
   "source": [
    "#using fixed-size arrays can offer a real speed boost\n",
    "sizehint!(arr,75)"
   ]
  },
  {
   "cell_type": "markdown",
   "metadata": {},
   "source": [
    "## Tuples\n",
    "* a tuple is a fixed-sized group of values seperated by commas and optionally surrounded by parentheses ()."
   ]
  },
  {
   "cell_type": "code",
   "execution_count": null,
   "metadata": {
    "collapsed": true
   },
   "outputs": [],
   "source": [
    "a,b,c,d=1,22.0,\"Julia\",'x'\n",
    "t=a,b,c,d\n",
    "typeof(t)#Tuple{Int64,Float64,String,Char}"
   ]
  },
  {
   "cell_type": "markdown",
   "metadata": {},
   "source": [
    "## Dictionaries"
   ]
  },
  {
   "cell_type": "code",
   "execution_count": null,
   "metadata": {
    "collapsed": true
   },
   "outputs": [],
   "source": [
    "Dict()#空字典，Dict{Any,Any} with 0 entries\n",
    "Dict{Int64,Float64}()#空字典\n",
    "d1=Dict(1=>4.2,2=>5.3,'a'=>8.0) # Dict{Any,Float64} with 3 entries，或者d1=Dict{Any,Float64}(1=>4.2,2=>5.3,'a'=>8.0)\n",
    "typeof(d1)#Dict{Any,Float64}\n",
    "d2=Dict(:A=>100,:B=>200)#Dict{Symbol,Int64} with 2 entries\n",
    "#d2[:C]#KeyError: key :C not found\n",
    "in(:C=>888,d2)#false，或者(:C=>888) in d2"
   ]
  },
  {
   "cell_type": "code",
   "execution_count": null,
   "metadata": {
    "collapsed": true
   },
   "outputs": [],
   "source": [
    "#另一种创建方法\n",
    "keys1=[\"A\",\"B\",\"C\"]\n",
    "values1=[1,2,3]\n",
    "d3=Dict(zip(keys1,values1))"
   ]
  },
  {
   "cell_type": "code",
   "execution_count": null,
   "metadata": {
    "collapsed": true
   },
   "outputs": [],
   "source": [
    "values(d1)\n",
    "keys(d1)\n",
    "d1[1]\n",
    "d1['a']\n",
    "#d1[\"a\"]#KeyError: key \"a\" not found"
   ]
  },
  {
   "cell_type": "code",
   "execution_count": null,
   "metadata": {
    "collapsed": true
   },
   "outputs": [],
   "source": [
    "#dict是mutable\n",
    "get!(d2,:C,888)#Dict{Symbol,Int64} with 3 entries\n",
    "d2\n",
    "#或者，更简单的\n",
    "d2[:D]=999\n",
    "d2\n",
    "delete!(d2,:B)"
   ]
  },
  {
   "cell_type": "markdown",
   "metadata": {},
   "source": [
    "### keys and values——looping"
   ]
  },
  {
   "cell_type": "code",
   "execution_count": null,
   "metadata": {
    "collapsed": true
   },
   "outputs": [],
   "source": [
    "for k in keys(d2)#注意，结果是A,D,C，不是:A,:D,:C\n",
    "    println(k)\n",
    "end\n",
    "for v in values(d2)\n",
    "    println(v)\n",
    "end\n",
    "for (k,v) in d2\n",
    "    println(\"$k => $v\")\n",
    "end\n",
    "for i in d2\n",
    "    println(\"$(i[1]) => $(i[2])\")\n",
    "end"
   ]
  },
  {
   "cell_type": "code",
   "execution_count": null,
   "metadata": {
    "collapsed": true
   },
   "outputs": [],
   "source": [
    "function show_factor(n)\n",
    "    d=factorial(big(n))\n",
    "    println(\"factors for $n\")\n",
    "    for (k,v) in d\n",
    "        print(\"$k^$v\\t\")\n",
    "    end\n",
    "end\n",
    "show_factor(3752)"
   ]
  },
  {
   "cell_type": "markdown",
   "metadata": {},
   "source": [
    "## Sets"
   ]
  },
  {
   "cell_type": "code",
   "execution_count": null,
   "metadata": {
    "collapsed": true
   },
   "outputs": [],
   "source": [
    "s=Set((1,2,3,4,5,6,1,2,3,4,5,6))\n",
    "typeof(s)#Set{Int64}\n",
    "s=Set{Float64}()#空集合\n",
    "typeof(s)\n",
    "s=Set()#空集合\n",
    "typeof(s)#Set{Any}"
   ]
  },
  {
   "cell_type": "code",
   "execution_count": null,
   "metadata": {
    "collapsed": true
   },
   "outputs": [],
   "source": [
    "# operations\n",
    "s1=Set((1,2,3,4,5,6,7,8));s2=Set((6,7,8,9,10,11,12))\n",
    "union(s1,s2)\n",
    "intersect(s1,s2)\n",
    "setdiff(s1,s2)#Set([4, 2, 3, 5, 1])\n",
    "setdiff(s2,s1)#Set([9, 10, 11, 12])\n",
    "issubset(s1,s2)#false\n",
    "in(8,s1)#true"
   ]
  },
  {
   "cell_type": "code",
   "execution_count": null,
   "metadata": {
    "collapsed": true
   },
   "outputs": [],
   "source": [
    "# set is mutable\n",
    "push!(s1,888)"
   ]
  },
  {
   "cell_type": "code",
   "execution_count": null,
   "metadata": {
    "collapsed": true
   },
   "outputs": [],
   "source": [
    "# 注意检查一个元素是否在一个set中的速度与set的大小关系不大\n",
    "x=Set{Int64}(1:1e8)\n",
    "@time 888 in x # 0.000009 seconds (4 allocations: 160 bytes)\n",
    "x=Set{Int64}(1:1e3)\n",
    "@time 888 in x # 0.000004 seconds (4 allocations: 160 bytes)"
   ]
  },
  {
   "cell_type": "markdown",
   "metadata": {},
   "source": [
    "# Chapter 6. More on Types，Methods，and Modules"
   ]
  },
  {
   "cell_type": "markdown",
   "metadata": {},
   "source": [
    "## Type annotations and conversions"
   ]
  },
  {
   "cell_type": "code",
   "execution_count": null,
   "metadata": {
    "collapsed": true
   },
   "outputs": [],
   "source": [
    "convert(Int64,8.0)\n",
    "#convert(Int64,8.8)#InexactError()\n",
    "Int(8.8)"
   ]
  },
  {
   "cell_type": "code",
   "execution_count": null,
   "metadata": {
    "collapsed": true
   },
   "outputs": [],
   "source": [
    "# automatic type promotion\n",
    "promote(1,2.0,3//8)#(1.0, 2.0, 0.375)\n",
    "promote(1.5,1,im)#(1.5 + 0.0im, 1.0 + 0.0im, 0.0 + 1.0im)\n",
    "promote(true,'c',8.0,8)#(true, 'c', 8.0, 8)"
   ]
  },
  {
   "cell_type": "markdown",
   "metadata": {},
   "source": [
    "## The type hierarchy——subtypes and supertypes"
   ]
  },
  {
   "cell_type": "code",
   "execution_count": null,
   "metadata": {
    "collapsed": true
   },
   "outputs": [],
   "source": [
    "typeof(Any)#DataType\n",
    "supertype(Int64)#Signed\n",
    "supertype(Signed)#Integer\n",
    "supertype(Integer)#Real\n",
    "supertype(Real)#Number\n",
    "supertype(Number)#Any\n",
    "supertype(Any)#Any\n",
    "\n",
    "subtypes(Any)#295-element Array{Union{DataType, UnionAll},1}\n",
    "subtypes(Number)# Complex, Real\n",
    "subtypes(Real)# AbstractFloat, Integer, Irrational, Rational\n",
    "subtypes(Integer)# BigInt, Bool, Signed, Unsigned\n",
    "subtypes(AbstractFloat)# BigFloat, Float16, Float32, Float64\n",
    "subtypes(Signed)# Int128, Int64, Int32, Int16, Int8\n",
    "\n",
    "issubtype(Bool,Integer)#true\n"
   ]
  },
  {
   "cell_type": "code",
   "execution_count": null,
   "metadata": {
    "collapsed": true
   },
   "outputs": [],
   "source": [
    "#nothing与none\n",
    "x=println(\"Julia\")\n",
    "x==nothing#true"
   ]
  },
  {
   "cell_type": "markdown",
   "metadata": {},
   "source": [
    "## User-defined and composite types\n",
    "* Unlike in other object-oriented languages such Python or Java, where you call a function on an object such as __object.func(args)__, Julia uses the __func(object,args)__ syntax\n",
    "* Julia has __no classes__(as types with functions belong to the type); this keep the data and functions separate. Functions and methods for a type will be defined outside that type.\n",
    "* a type once defined cannot be changed(for example,cannot define a new type _Point_ with fields of type Int64, or with added fields)"
   ]
  },
  {
   "cell_type": "code",
   "execution_count": null,
   "metadata": {
    "collapsed": true
   },
   "outputs": [],
   "source": [
    "# a user-defined type is composed of a set of named fields with an optional type annotation\n",
    "type Point\n",
    "    x::Float64 # named field::type annotation\n",
    "    y::Float64\n",
    "    z::Float64\n",
    "end\n",
    "#查看一个composit type的 named fields\n",
    "fieldnames(Point)"
   ]
  },
  {
   "cell_type": "code",
   "execution_count": null,
   "metadata": {
    "collapsed": true
   },
   "outputs": [],
   "source": [
    "methods(Point)\n",
    "p1=Point(2,6,8)\n",
    "p1.:y #等价于 p1.y\n",
    "#objects of such a type are mutable\n",
    "p1.y=8.8;p1\n",
    "# p1.y=\"8.8\" # error"
   ]
  },
  {
   "cell_type": "code",
   "execution_count": null,
   "metadata": {
    "collapsed": true
   },
   "outputs": [],
   "source": [
    "# 如果不希望objects是mutable的，可以使用immutable；immutable type 便于提高性能，而且还有thread safety(线程安全)的优势\n",
    "immutable vector_3d\n",
    "    x::Array{Float64,2}\n",
    "    y::Float64\n",
    "    z::Float64\n",
    "end\n",
    "p=vector_3d(eye(3),2,3)\n",
    "#p.y=8 #type vector_3d is immutable"
   ]
  },
  {
   "cell_type": "code",
   "execution_count": null,
   "metadata": {
    "collapsed": true
   },
   "outputs": [],
   "source": [
    "# 如果不希望objects是mutable的，可以通过使用immutable\n",
    "immutable vector_3d\n",
    "    x::Array{Float64,2}\n",
    "    y::Float64\n",
    "    z::Float64\n",
    "end\n",
    "p=vector_3d(eye(3),2,3)\n",
    "#p.y=8 #type vector_3d is immutable\n",
    "\n"
   ]
  },
  {
   "cell_type": "code",
   "execution_count": null,
   "metadata": {
    "collapsed": true
   },
   "outputs": [],
   "source": [
    "const Point3D=Point#不推荐使用 typealias Point3D Point \n",
    "Point3D(1,2,3)#Point(1.0, 2.0, 3.0)\n",
    "Point3D===Point#不推荐使用is(Point3D,Point)"
   ]
  },
  {
   "cell_type": "code",
   "execution_count": null,
   "metadata": {
    "collapsed": true
   },
   "outputs": [],
   "source": [
    "# multiple dispatch example\n",
    "abstract type Employee end\n",
    "type Developer<: Employee # 此处 Developer是一个concrete type，于是没有相应的subtypes\n",
    "    name::String\n",
    "    iq\n",
    "    favorite_lang::String\n",
    "end\n",
    "# the type Developer has 2 implicit constructors, but we can define another outer constructor that uses a default constructors as follows\n",
    "Developer(name,iq)=Developer(name,iq,\"Julia\")\n",
    "deve1=Developer(\"Bob\",110)#Developer(\"Bob\", 110, \"Julia\")\n",
    "deve2=Developer(\"Harbes\",168,\"Python\")#Developer(\"Harbes\", 168, \"Python\")\n",
    "\n",
    "type Manager \n",
    "    name::String\n",
    "    iq\n",
    "    department::String\n",
    "end\n",
    "man1=Manager(\"Julia\",120,\"ICT\")\n",
    "\n",
    "#利用上面的Employee type定义一个函数\n",
    "cleverness(emp::Employee)=emp.iq\n",
    "cleverness(deve2)#168\n",
    "\n",
    "function cleverer(d::Developer,e::Employee)\n",
    "    println(\"the developer $(d.name) is cleverer I think!\")\n",
    "end\n",
    "cleverer(deve2,deve1)# the developer Harbes is cleverer I think!\n",
    "#cleverer(deve2,man1)# MethodError: no method matching cleverer(::Developer, ::Manager)\n",
    "\n",
    "function cleverer(e::Employee,d::Developer)\n",
    "    if d.iq>e.iq\n",
    "        println(\"the developer $(d.name) is cleverer I think!\")\n",
    "    else\n",
    "        println(\"the employee $(e.name) is cleverer I think!\")\n",
    "    end\n",
    "end\n",
    "cleverer(deve2,deve1)#the developer Harbes is cleverer I think!"
   ]
  },
  {
   "cell_type": "markdown",
   "metadata": {},
   "source": [
    "## Types and collections——inner constuctor"
   ]
  },
  {
   "cell_type": "code",
   "execution_count": null,
   "metadata": {
    "collapsed": true
   },
   "outputs": [],
   "source": [
    "# an object can contain collections such as arrays or dictionaries\n",
    "type Person\n",
    "    firstname::String\n",
    "    lastname::String\n",
    "    sex::Char\n",
    "    age::Float64\n",
    "    children::Array{String,1}\n",
    "end\n",
    "p1=Person(\"Alan\",\"Bates\",'M',45.5,[\"Jeff\",\"Stephan\"])\n",
    "\n",
    "# custom types can also be stored in a collection\n",
    "people=Person[] # 注意，此处是方括号，用于创造一个包含 Person type 的空数组，类似于 a=Float64[]\n",
    "push!(people,p1)\n",
    "push!(people,Person(\"Julia\",\"Smith\",'F',27,[\"Viral\"]))\n",
    "people # 2-element Array{Person,1}"
   ]
  },
  {
   "cell_type": "code",
   "execution_count": null,
   "metadata": {
    "collapsed": true
   },
   "outputs": [],
   "source": [
    "# 使用自定义的 Person type 定义一个函数\n",
    "fullname(p::Person)=\"$(p.firstname) $(p.lastname)\" # 或者 fullname(p::Person)=String(p.firstname,\" \",p.lastname)\n",
    "print(fullname(p1)) # Alan Bates"
   ]
  },
  {
   "cell_type": "code",
   "execution_count": null,
   "metadata": {
    "collapsed": true
   },
   "outputs": [],
   "source": [
    "# if you need to include error checking or transformations as part of the type construction process\n",
    "# inner constructors give you more control over how values of the type can be created.\n",
    "type Family\n",
    "    name::String\n",
    "    members::Array{String,1}\n",
    "    big::Bool\n",
    "    Family(name::String)=new(name,String[],false) # 注意 new 只能用于inner constructor来创建一个 object of the enclosing type\n",
    "    Family(name::String,members)=new(name,members,length(members)>4)\n",
    "end\n",
    "fam=Family(\"Bates-Smith\",[\"Alan\",\"Julia\",\"Jeff\",\"Stephan\",\"Viral\"]) # Family(\"Bates-Smith\", String[\"Alan\", \"Julia\", \"Jeff\", \"Stephan\", \"Viral\"], true)"
   ]
  },
  {
   "cell_type": "markdown",
   "metadata": {},
   "source": [
    "## Type unions"
   ]
  },
  {
   "cell_type": "code",
   "execution_count": null,
   "metadata": {
    "collapsed": true
   },
   "outputs": [],
   "source": [
    "type Point\n",
    "    x::Float64\n",
    "    y::Float64\n",
    "end\n",
    "type vector2d\n",
    "    x::Float64\n",
    "    y::Float64\n",
    "end\n",
    "p=Point(2,8)\n",
    "v=vector2d(6,8)\n",
    "#add_(p::Point,v::vector2d)=Point(p.x+v.x,p.y+v.y)\n",
    "#add_(p,v)#Point(8.0, 16.0)\n",
    "#add_(v,p)#MethodError: no method matching add_(::vector2d, ::Point)\n",
    "\n",
    "vec_point=Union{Point,vector2d}#Union{Point, vector2d}\n",
    "isa(p,vec_point)#true\n",
    "add_(u::vec_point,v::vec_point)=Point(u.x+v.x,u.y+v.y)\n",
    "add_(v,p)#Point(8.0, 16.0)\n",
    "add_(p,v)#Point(8.0, 16.0)"
   ]
  },
  {
   "cell_type": "markdown",
   "metadata": {},
   "source": [
    "## Parametric types and methods"
   ]
  },
  {
   "cell_type": "code",
   "execution_count": null,
   "metadata": {
    "collapsed": true
   },
   "outputs": [],
   "source": [
    "type Point{T}\n",
    "    x::T\n",
    "    y::T\n",
    "end\n",
    "issubtype(Point{String},Point)# true\n",
    "issubtype(Point{Int64},Point{Real})#false\n",
    "Point(\"Harbes\",\"Arvin\")#注意，要保证两个参数的类型是一致的，Point{String}(\"Harbes\", \"Arvin\")\n",
    "#Point(\"Harbes\",168)#MethodError: no method matching Point(::String, ::Int64)"
   ]
  },
  {
   "cell_type": "code",
   "execution_count": null,
   "metadata": {
    "collapsed": true
   },
   "outputs": [],
   "source": [
    "#限制类型\n",
    "type Point_{T<:Real}\n",
    "    x::T\n",
    "    y::T\n",
    "end\n",
    "#Point_(\"Harbes\",168)#MethodError: no method matching Point(::String, ::Int64)\n",
    "type Point__{T1,T2<:Real}\n",
    "    x::T1\n",
    "    y::T2\n",
    "end\n",
    "Point__(\"Harbes\",168)#Point__{String,Int64}(\"Harbes\", 168)"
   ]
  },
  {
   "cell_type": "markdown",
   "metadata": {},
   "source": [
    "## Standard modules and paths\n",
    "* the code of Julia packages(also called __libraries__)is contained in a module, whose name starts with an uppercase letter by convention"
   ]
  },
  {
   "cell_type": "code",
   "execution_count": null,
   "metadata": {
    "collapsed": true
   },
   "outputs": [],
   "source": [
    "module Package1\n",
    "    #code\n",
    "end\n",
    "\n",
    "\n",
    "#当存在函数名称冲突时，常采用 package_name.func_name的形式进行调用\n",
    "import Winston\n",
    "import Gadfly\n",
    "Winston.plot(rand(100))\n",
    "Gadfly.plot(x=1:10,y=rand(10))"
   ]
  },
  {
   "cell_type": "code",
   "execution_count": null,
   "metadata": {
    "collapsed": true
   },
   "outputs": [],
   "source": [
    "# 所有全局变量会自动添加到一个叫Main的module中，\n",
    "names(Main) # all the top-level defined variables and functions, together with the default modules are stored as symbols\n",
    "whos() # 列出Main中的变量，函数以及module的信息\n",
    "whos(Compat) #列出Main以及Compat中的所有\n",
    "#typeof(Base)\n"
   ]
  },
  {
   "cell_type": "code",
   "execution_count": null,
   "metadata": {
    "collapsed": true
   },
   "outputs": [],
   "source": [
    "export type1,func #让 type1和func 变得visible to other modules（make them public）\n",
    "require(\"modules_ext.jl\")\n",
    "using ext1 # 其中 ext1 是 modules_ext.jl 中定义的module"
   ]
  },
  {
   "cell_type": "markdown",
   "metadata": {},
   "source": [
    "# Chapter 7. Metaprogramming in Julia\n",
    "* everything in Julia is an expression that returns a value when executed"
   ]
  },
  {
   "cell_type": "markdown",
   "metadata": {
    "collapsed": true
   },
   "source": [
    "## Expressions and symbols\n",
    "* abstract snytax tree(AST)\n",
    "* simple expressions are made of symbols and literals ; more complicated expressions will consist of literal values,symbols,and sub- or nested expressions, which can ,in turn, be reduced to symbols\n",
    "* in the context of an expression，_symbols are used to indicate access to variables_"
   ]
  },
  {
   "cell_type": "code",
   "execution_count": null,
   "metadata": {
    "collapsed": true
   },
   "outputs": [],
   "source": [
    "#如果想让Julia识别为expression，只需要在前面加入冒号(colon)即可，also called the quote operator in Julia；另外也可以使用quote...end结构\n",
    ":(2+3)\n",
    "typeof(:(2+3))#Expr\n",
    "\n",
    "quote \n",
    "    a=88\n",
    "    b=a*2\n",
    "    a-b\n",
    "end\n",
    ":(a=88;b=a*2;a-b)\n",
    "#可以给上述expression 赋予名称\n",
    "ex=quote \n",
    "    a=88\n",
    "    b=a*2\n",
    "    a-b\n",
    "end\n",
    "typeof(ex)#Expr\n",
    "ex=:(a=88;b=a*2;a-b)\n",
    "typeof(ex)#Expr\n",
    "e1=:(2+3)\n",
    "e1.head#:call\n",
    "ex.head#:block\n",
    "e1.args#3-element Array{Any,1}\n",
    "ex.args#3-element Array{Any,1}\n",
    "e1.typ#Any\n",
    "ex.typ#Any"
   ]
  },
  {
   "cell_type": "code",
   "execution_count": null,
   "metadata": {
    "collapsed": true
   },
   "outputs": [],
   "source": [
    "type Expr\n",
    "    head::Symbol\n",
    "    args::Array{Any,1}\n",
    "    typ\n",
    "end\n",
    "# 使用dump函数展现具体的expression结构\n",
    "ex=:(a=88;b=a*2;a-b)\n",
    "dump(ex)"
   ]
  },
  {
   "cell_type": "markdown",
   "metadata": {
    "collapsed": true
   },
   "source": [
    "## Eval and interpolation"
   ]
  },
  {
   "cell_type": "code",
   "execution_count": null,
   "metadata": {
    "collapsed": true
   },
   "outputs": [],
   "source": [
    "# 通过 Expr类型，我们可以直接利用 the constructor for Expr来建立一个 expressions\n",
    "e1=Expr(:call,*,:x,2)\n",
    "#eval(e1)#UndefVarError: x not defined\n",
    "x=8\n",
    "eval(e1)"
   ]
  },
  {
   "cell_type": "code",
   "execution_count": null,
   "metadata": {
    "collapsed": true
   },
   "outputs": [],
   "source": [
    "e2=:(a=8)\n",
    "# 利用 $ 符号进行引用——》interpolation\n",
    "a=8;b=9\n",
    "e3=:(a+b)#:(a + b)\n",
    "e4=:($a+b)#:(8 + b)"
   ]
  },
  {
   "cell_type": "markdown",
   "metadata": {},
   "source": [
    "## Defining macros\n",
    "* macros are like functions，but instead of values，they take expressions(which can also be symbols or literals) as input arguments.\n",
    "* hygienic macro 卫生宏，指展开宏时不会导致副作用，不会意外地捕捉到错误的标识。\n",
    "* domain-specific languages(DSLs)"
   ]
  },
  {
   "cell_type": "code",
   "execution_count": null,
   "metadata": {
    "collapsed": true
   },
   "outputs": [],
   "source": [
    "macro m_name\n",
    "    #code returning expression\n",
    "end\n",
    "@m_name exp1 exp2\n",
    "# 或者\n",
    "@m_name(exp1,exp2)"
   ]
  },
  {
   "cell_type": "code",
   "execution_count": null,
   "metadata": {
    "collapsed": true
   },
   "outputs": [],
   "source": [
    "macro macint(ex)\n",
    "    quote\n",
    "        println(\"start\")\n",
    "        $ex\n",
    "        println(\"after\")\n",
    "    end\n",
    "end\n",
    "@macint println(\"Where am I?\")"
   ]
  },
  {
   "cell_type": "code",
   "execution_count": null,
   "metadata": {
    "collapsed": true
   },
   "outputs": [],
   "source": [
    "macro assert(ex)\n",
    "    :($ex ? nothing : error(\"Assertion failed:\",$(string(ex))))\n",
    "end\n",
    "@assert 1==1.0\n",
    "@assert 1==8 # Assertion failed:1 == 8\n",
    "macroexpand(:(@assert 1==42))"
   ]
  },
  {
   "cell_type": "code",
   "execution_count": null,
   "metadata": {
    "collapsed": true
   },
   "outputs": [],
   "source": [
    "macro unless(test,branch)\n",
    "    quote\n",
    "        if !$test\n",
    "            $branch\n",
    "        end\n",
    "    end\n",
    "end\n",
    "arr=[3.14,88,'a']\n",
    "@unless 88 in arr println(\"arr does not contain 88\")\n",
    "@unless 89 in arr println(\"arr does not contain 89\") # arr does not contain 89\n",
    "macroexpand(:(@unless 89 in arr println(\"arr does not contain 89\")))"
   ]
  },
  {
   "cell_type": "code",
   "execution_count": null,
   "metadata": {
    "collapsed": true
   },
   "outputs": [],
   "source": [
    "arr=[\"a\",\"b\",\"c\"]\n",
    "macro convarr(arr,T)\n",
    "    :(reshape($T[$arr...],size($arr)...))\n",
    "end\n",
    "@convarr arr Symbol # 3-element Array{Symbol,1}"
   ]
  },
  {
   "cell_type": "code",
   "execution_count": null,
   "metadata": {
    "collapsed": true
   },
   "outputs": [],
   "source": [
    "# 一个关于卫生宏的例子\n",
    "macro timeit(ex)\n",
    "    quote \n",
    "        local t0=time()\n",
    "        local val=$(esc(ex))\n",
    "        local t1=time()\n",
    "        print(\"elapsed time in seconds: \")\n",
    "        @printf \"%.3f\" t1-t0\n",
    "        val\n",
    "    end\n",
    "end\n",
    "@timeit factorial(10)\n",
    "a=10\n",
    "@timeit a^3"
   ]
  },
  {
   "cell_type": "markdown",
   "metadata": {},
   "source": [
    "## Built-in macros\n",
    "* testing\n",
    "* debugging\n",
    "* benchmarking\n",
    "* starting a task\n",
    "* 其他参见appendix"
   ]
  },
  {
   "cell_type": "code",
   "execution_count": null,
   "metadata": {
    "collapsed": true
   },
   "outputs": [],
   "source": [
    "# Testing\n",
    "#@assert 1==3 #Assertion failed:1 == 3\n",
    "using Base.Test\n",
    "#@test 1==3 # Test Failed\n",
    "@test 1.0 ≈ 1 #Test Passed：或者，@test_approx_eq 1.0 1，但是不推荐使用后者\n",
    "@test 1 ≈ 1.1 atol=0.2 #Test Passed；或者， @test_approx_eq_eps 1 1.1 0.2，同样不推荐使用后者"
   ]
  },
  {
   "cell_type": "code",
   "execution_count": null,
   "metadata": {
    "collapsed": true
   },
   "outputs": [],
   "source": [
    "# Debugging\n",
    "# @which\n",
    "123*789+(@show 2+3)"
   ]
  },
  {
   "cell_type": "code",
   "execution_count": null,
   "metadata": {
    "collapsed": true
   },
   "outputs": [],
   "source": [
    "# Benchmarking\n",
    "@time [x^2 for x in 1:1000];\n",
    "@timed [x^2 for x in 1:1000];\n",
    "@elapsed [x^2 for x in 1:1000];\n",
    "tic();[x^2 for x in 1:1000];toc()\n",
    "\n",
    "@allocated [x^2 for x in 1:1000] # 内存分配"
   ]
  },
  {
   "cell_type": "code",
   "execution_count": null,
   "metadata": {
    "collapsed": true
   },
   "outputs": [],
   "source": [
    "# Starting a task（asynchronous task 异步任务）\n",
    "a=@async 1+2 # Task (done) @0x000000002254bc70\n",
    "consume(a) # WARNING: consume is now deprecated. Use Channels for inter-task communication."
   ]
  },
  {
   "cell_type": "markdown",
   "metadata": {},
   "source": [
    "## Reflection capabilities\n",
    "* a running programming can dynamically discover its own properties（reflection）"
   ]
  },
  {
   "cell_type": "code",
   "execution_count": null,
   "metadata": {
    "collapsed": true
   },
   "outputs": [],
   "source": [
    "#对于type (hierarchy)\n",
    "typeof()\n",
    "subtypes(Number)\n",
    "# to see all the methods of a function\n",
    "methods(f)\n",
    "# 给定一个type Person，可以利用names 和types 了解其细节\n",
    "type Person\n",
    "    name::String\n",
    "    height::Float64\n",
    "end\n",
    "#names(Person) # names 好像不适用了\n",
    "Person.types # svec(String, Float64)\n",
    "# to inspect how a function is represented internally\n",
    "code_lowered(+,(Int,Int)) # 1-element Array{CodeInfo,1}\n",
    "code_typed(+,(Int,Int)) # 1-element Array{Any,1}\n",
    "code_llvm(+,(Int,Int)\n",
    "code_native(+,(Int,Int))"
   ]
  },
  {
   "cell_type": "markdown",
   "metadata": {},
   "source": [
    "# Chapter 8. I/O, Networking, and Parallel Computing\n",
    "* Basic input and output\n",
    "* Working with files(including the CSV files)\n",
    "* Using DataFrames\n",
    "* Working with TCP sockets and servers\n",
    "* Interacting with databases\n",
    "* Parallel operations and computing"
   ]
  },
  {
   "cell_type": "markdown",
   "metadata": {},
   "source": [
    "## Parallel operations and computing\n",
    "### creating process"
   ]
  },
  {
   "cell_type": "code",
   "execution_count": null,
   "metadata": {
    "collapsed": true
   },
   "outputs": [],
   "source": [
    "# 在终端输入下面的命令，其中，设置为4主要是因为本机最大核心数为4，\n",
    "julia -p 4 \n",
    "workers()\n",
    "for pid in workers()\n",
    "    # do something with each process (pid = process id)\n",
    "end\n",
    "# 如果需要更多的worker，则可以使用 addprocs(n) 函数添加额外的n 个workers\n",
    "# 如果想去掉某个 ID 的worker，使用 rmprocs(ID)\n",
    "# the number of available workers is given by nprocs()"
   ]
  },
  {
   "cell_type": "markdown",
   "metadata": {},
   "source": [
    "### parallel loops and maps"
   ]
  },
  {
   "cell_type": "code",
   "execution_count": null,
   "metadata": {
    "collapsed": true
   },
   "outputs": [],
   "source": [
    "  @parallel [reducer] for var = range\n",
    "     # code body\n",
    "  end\n"
   ]
  },
  {
   "cell_type": "code",
   "execution_count": 9,
   "metadata": {},
   "outputs": [
    {
     "name": "stdout",
     "output_type": "stream",
     "text": [
      "  0.020311 seconds (10.62 k allocations: 584.599 KiB)\n",
      "  3.687753 seconds (5 allocations: 176 bytes)\n"
     ]
    },
    {
     "data": {
      "text/plain": [
       "3.141610134570399"
      ]
     },
     "execution_count": 9,
     "metadata": {},
     "output_type": "execute_result"
    }
   ],
   "source": [
    "# Buffon's needle （计算pi）\n",
    "function buffon(n)\n",
    "    hit=0\n",
    "    for i =1:n\n",
    "        mp=rand()\n",
    "        phi=(rand()*pi)-pi/2 # angle at wich needle falls\n",
    "        xright=mp+cos(phi)/2 # x location of needl\n",
    "        xleft=mp-cos(phi)/2\n",
    "        p=(xright>=1||xleft<=0)? 1:0 # does needle cross either x==0 or x==1 ?\n",
    "        hit +=p\n",
    "    end\n",
    "    miss = n-hit\n",
    "    pi_approx=n/hit*2\n",
    "end\n",
    "@time buffon(100000) # 大约0.03s（ubuntu大约0.02s）\n",
    "@time buffon(100000000) #windows大约7.7s；ubuntu大约3.7s"
   ]
  },
  {
   "cell_type": "code",
   "execution_count": 2,
   "metadata": {},
   "outputs": [
    {
     "data": {
      "text/plain": [
       "4-element Array{Int64,1}:\n",
       " 2\n",
       " 3\n",
       " 4\n",
       " 5"
      ]
     },
     "execution_count": 2,
     "metadata": {},
     "output_type": "execute_result"
    }
   ],
   "source": [
    "addprocs(4)# 必要"
   ]
  },
  {
   "cell_type": "code",
   "execution_count": 11,
   "metadata": {},
   "outputs": [
    {
     "name": "stdout",
     "output_type": "stream",
     "text": [
      "  1.096958 seconds (11.17 k allocations: 617.685 KiB)\n"
     ]
    },
    {
     "data": {
      "text/plain": [
       "3.14179416617207"
      ]
     },
     "execution_count": 11,
     "metadata": {},
     "output_type": "execute_result"
    }
   ],
   "source": [
    "\n",
    "function buffon_par(n)\n",
    "    hit=@parallel (+) for i =1:n\n",
    "        mp=rand()\n",
    "        phi=(rand()*pi)-pi/2 # angle at wich needle falls\n",
    "        xright=mp+cos(phi)/2 # x location of needl\n",
    "        xleft=mp-cos(phi)/2\n",
    "        (xright>=1||xleft<=0)? 1:0 # does needle cross either x==0 or x==1 ?\n",
    "    end\n",
    "    miss=n-hit\n",
    "    pi_approx=n/hit*2\n",
    "end\n",
    "#@time buffon_par(100000) # 大约0.1s（ubuntu大约0.06s）\n",
    "@time buffon_par(100000000) #ubuntu大约1.1s"
   ]
  },
  {
   "cell_type": "code",
   "execution_count": 5,
   "metadata": {
    "scrolled": true
   },
   "outputs": [
    {
     "name": "stdout",
     "output_type": "stream",
     "text": [
      "1000\n",
      "1000\n",
      "1000\n",
      "1000\n",
      "1000\n",
      "1000\n",
      "1000\n",
      "1000\n",
      "1000\n",
      "1000\n",
      "  3.039473 seconds (174.20 k allocations: 167.317 MiB, 3.02% gc time)\n"
     ]
    }
   ],
   "source": [
    "# parallel map: pmap(function,collection)\n",
    "function rank_marray()\n",
    "    marr=[rand(1000,1000) for i =1:10]\n",
    "    for arr in marr\n",
    "        println(rank(arr))\n",
    "    end\n",
    "end\n",
    "@time rank_marray()# 3s左右"
   ]
  },
  {
   "cell_type": "code",
   "execution_count": 1,
   "metadata": {},
   "outputs": [
    {
     "data": {
      "text/plain": [
       "4-element Array{Int64,1}:\n",
       " 2\n",
       " 3\n",
       " 4\n",
       " 5"
      ]
     },
     "execution_count": 1,
     "metadata": {},
     "output_type": "execute_result"
    }
   ],
   "source": [
    "addprocs(4)"
   ]
  },
  {
   "cell_type": "code",
   "execution_count": 4,
   "metadata": {},
   "outputs": [
    {
     "name": "stdout",
     "output_type": "stream",
     "text": [
      "[1000, 1000, 1000, 1000, 1000, 1000, 1000, 1000, 1000, 1000]\n",
      "  3.692282 seconds (11.97 k allocations: 76.956 MiB, 1.67% gc time)\n"
     ]
    }
   ],
   "source": [
    "function prank_marray()\n",
    "marr=[rand(1000,1000) for i =1:10]\n",
    "println(pmap(rank,marr))\n",
    "end\n",
    "@time prank_marray() #大约3.7s ，奇怪，时间反而变长了"
   ]
  },
  {
   "cell_type": "markdown",
   "metadata": {},
   "source": [
    "### distributed arrays（also called DArray）新版命令似乎有更改"
   ]
  },
  {
   "cell_type": "code",
   "execution_count": 7,
   "metadata": {},
   "outputs": [
    {
     "ename": "LoadError",
     "evalue": "\u001b[91mMethodError: no method matching rand(::Tuple{Int64,Int64}, ::Array{Int64,1}, ::Array{Int64,1})\u001b[0m\nClosest candidates are:\n  rand(::Tuple{Vararg{Int64,N}} where N) at random.jl:279\n  rand(\u001b[91m::AbstractRNG\u001b[39m, ::AbstractArray) at random.jl:659\n  rand(\u001b[91m::AbstractRNG\u001b[39m, ::AbstractArray{T,N} where N, \u001b[91m::Tuple{Vararg{Int64,N}} where N\u001b[39m) where T at random.jl:678\n  ...\u001b[39m",
     "output_type": "error",
     "traceback": [
      "\u001b[91mMethodError: no method matching rand(::Tuple{Int64,Int64}, ::Array{Int64,1}, ::Array{Int64,1})\u001b[0m\nClosest candidates are:\n  rand(::Tuple{Vararg{Int64,N}} where N) at random.jl:279\n  rand(\u001b[91m::AbstractRNG\u001b[39m, ::AbstractArray) at random.jl:659\n  rand(\u001b[91m::AbstractRNG\u001b[39m, ::AbstractArray{T,N} where N, \u001b[91m::Tuple{Vararg{Int64,N}} where N\u001b[39m) where T at random.jl:678\n  ...\u001b[39m",
      "",
      "Stacktrace:",
      " [1] \u001b[1minclude_string\u001b[22m\u001b[22m\u001b[1m(\u001b[22m\u001b[22m::String, ::String\u001b[1m)\u001b[22m\u001b[22m at \u001b[1m./loading.jl:515\u001b[22m\u001b[22m"
     ]
    }
   ],
   "source": [
    "#arr= drand((100,100),workers()[1:4],[1,4]# 没有drand这个函数"
   ]
  },
  {
   "cell_type": "code",
   "execution_count": null,
   "metadata": {
    "collapsed": true
   },
   "outputs": [],
   "source": []
  }
 ],
 "metadata": {
  "kernelspec": {
   "display_name": "Julia 0.6.0",
   "language": "julia",
   "name": "julia-0.6"
  },
  "language_info": {
   "file_extension": ".jl",
   "mimetype": "application/julia",
   "name": "julia",
   "version": "0.6.0"
  }
 },
 "nbformat": 4,
 "nbformat_minor": 2
}
