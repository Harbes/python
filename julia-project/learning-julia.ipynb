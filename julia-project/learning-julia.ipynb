{
 "cells": [
  {
   "cell_type": "markdown",
   "metadata": {},
   "source": [
    "# _Basics_\n",
    "# 1 、简单的几个example"
   ]
  },
  {
   "cell_type": "code",
   "execution_count": null,
   "metadata": {
    "collapsed": true
   },
   "outputs": [],
   "source": [
    "using Plots\n",
    "ts_len=100\n",
    "epsilon=randn(ts_len)\n",
    "plot(epsilon,color=\"blue\",label=\"random numbers\")"
   ]
  },
  {
   "cell_type": "code",
   "execution_count": null,
   "metadata": {
    "collapsed": true
   },
   "outputs": [],
   "source": [
    "epsilon[1]#注意，索引使用方括号；而且索引起始点为1，不是0\n",
    "epsilon[100]"
   ]
  },
  {
   "cell_type": "code",
   "execution_count": null,
   "metadata": {
    "collapsed": true
   },
   "outputs": [],
   "source": [
    "#typeof(epsilon)\n",
    "#epsilon\n",
    "#length(epsilon)\n",
    "#tmp=pop!(epsilon)#丢弃末尾元素，in-place，返回被丢弃的元素；使用“！”是提醒除了返回一个值之外，还有其他作用\n",
    "#push!(epsilon,tmp)#添加元素，返回添加元素后的epsilon"
   ]
  },
  {
   "cell_type": "markdown",
   "metadata": {},
   "source": [
    "# 2、loops\n",
    "## 2.1 for loop"
   ]
  },
  {
   "cell_type": "code",
   "execution_count": null,
   "metadata": {
    "collapsed": true
   },
   "outputs": [],
   "source": [
    "ts_len=100\n",
    "epsilon=Array{Float64}(ts_len)\n",
    "for i in 1:ts_len  # “in”可以被“=”替代\n",
    "    epsilon[i]=randn()\n",
    "end\n",
    "plot(epsilon,color=\"blue\")"
   ]
  },
  {
   "cell_type": "code",
   "execution_count": null,
   "metadata": {
    "collapsed": true
   },
   "outputs": [],
   "source": [
    "ts_len=100\n",
    "epsilon=Array{Float64}(ts_len)\n",
    "for i = 1:ts_len  # “in”可以被“=”替代\n",
    "    epsilon[i]=randn()\n",
    "end\n",
    "plot(epsilon,color=\"blue\")"
   ]
  },
  {
   "cell_type": "markdown",
   "metadata": {},
   "source": [
    "## 2.2 while loop"
   ]
  },
  {
   "cell_type": "code",
   "execution_count": null,
   "metadata": {
    "collapsed": true
   },
   "outputs": [],
   "source": [
    "import Plots:plot\n",
    "ts_len=100\n",
    "e=Array{Float64}(ts_len)\n",
    "i=1\n",
    "while i <=ts_len\n",
    "    e[i]=randn()\n",
    "    i=i+1\n",
    "end\n",
    "plot(e,color=\"blue\")\n",
    "    "
   ]
  },
  {
   "cell_type": "code",
   "execution_count": null,
   "metadata": {
    "collapsed": true
   },
   "outputs": [],
   "source": [
    "import Plots:plot\n",
    "ts_len=100\n",
    "e=Array{Float64}(ts_len)\n",
    "i=1\n",
    "while i <=ts_len\n",
    "    e[i]=randn()\n",
    "    i=i+1\n",
    "    if i>ts_len  #\n",
    "        break    #\n",
    "    end          #\n",
    "end\n",
    "plot(e,color=\"blue\")"
   ]
  },
  {
   "cell_type": "markdown",
   "metadata": {},
   "source": [
    "# 3、自定义函数"
   ]
  },
  {
   "cell_type": "code",
   "execution_count": null,
   "metadata": {
    "collapsed": true
   },
   "outputs": [],
   "source": [
    "import Plots:plot\n",
    "function gen_data(n)\n",
    "    e=Array{Float64}(ts_len)\n",
    "    i=1\n",
    "    while i <=ts_len\n",
    "        e[i]=randn()\n",
    "        i=i+1\n",
    "        if i>ts_len  #\n",
    "            break    #\n",
    "        end          #\n",
    "    end\n",
    "    return e\n",
    "end\n",
    "ts_len=100\n",
    "data=gen_data(ts_len)\n",
    "plot(data)"
   ]
  },
  {
   "cell_type": "code",
   "execution_count": null,
   "metadata": {
    "collapsed": true
   },
   "outputs": [],
   "source": [
    "#一个稍微有用的函数\n",
    "using Distributions\n",
    "using Plots #用于histogram\n",
    "function hist_plot(dist,n)\n",
    "    e=rand(dist,n)\n",
    "    histogram(e)\n",
    "end\n",
    "lp=Laplace()\n",
    "hist_plot(lp,500)"
   ]
  },
  {
   "cell_type": "code",
   "execution_count": null,
   "metadata": {
    "collapsed": true
   },
   "outputs": [],
   "source": [
    "function binomial_rv(n,p)\n",
    "    #a= Binomial(n,p)#错误\n",
    "    a=rand(Binomial(1,p),n)\n",
    "    return a\n",
    "end\n",
    "sample=binomial_rv(100,0.8)\n",
    "plot(sample)\n",
    "    "
   ]
  },
  {
   "cell_type": "code",
   "execution_count": null,
   "metadata": {
    "collapsed": true
   },
   "outputs": [],
   "source": [
    "function calculate_pi(n)\n",
    "    i=0\n",
    "    x=rand(n)\n",
    "    y=rand(n)\n",
    "    for j=1:n\n",
    "        if x[j]^2+y[j]^2<=1\n",
    "            i=i+1\n",
    "        end\n",
    "    end\n",
    "    return i/n*4\n",
    "end\n",
    "p=calculate_pi(10000)"
   ]
  },
  {
   "cell_type": "code",
   "execution_count": null,
   "metadata": {
    "collapsed": true
   },
   "outputs": [],
   "source": [
    "#三元算子 ternary operator\n",
    "# 公式：result=[判断]?[A]:[B].如果真，取值A，否则，取值B\n",
    "a=1<2?\"对啦\":\"错啦\"\n",
    "b=1>=2?\"对啦\":\"错啦\""
   ]
  },
  {
   "cell_type": "code",
   "execution_count": null,
   "metadata": {
    "collapsed": true
   },
   "outputs": [],
   "source": [
    "#关于return：可以没有，也可以多个；如果是多个，则只返回第一个实际运行的return\n",
    "function f1(a,b)\n",
    "    a*b\n",
    "end\n",
    "f1(6,8)\n",
    "function foo(x)\n",
    "    if x>0 \n",
    "        return \"positive\"\n",
    "    end\n",
    "    return \"nonpositive\"\n",
    "end\n",
    "foo(1)\n",
    "#简单形式的函数\n",
    "f(x)=sin(2x)\n",
    "f(pi/2)\n",
    "#julia也有匿名函数\n",
    "x->sin(3x)#只是这种匿名函数没有函数名称，但是它可以作为另一个函数的输入变量\n",
    "map(x->sin(3x),randn(3))"
   ]
  },
  {
   "cell_type": "code",
   "execution_count": null,
   "metadata": {
    "collapsed": true
   },
   "outputs": [],
   "source": [
    "# 可选参数以及关键字参数(optional and keyword arguments)\n",
    "function f(x,a=1)\n",
    "    return exp(cos(a*x))\n",
    "end\n",
    "f(pi)\n",
    "f(pi,2)\n",
    "##位置参数与关键字参数的区别在于，关键字参数不受顺序影响\n",
    "function tmp0(para1,para2;max_iterations=100,error_tol=1e-8)\n",
    "    println(para1,\",\",para2,\",\",max_iterations,\",\",error_tol)\n",
    "end\n",
    "tmp0(1,2)\n",
    "tmp0(max_iterations=1000,error_tol=1e-9,6,8)"
   ]
  },
  {
   "cell_type": "markdown",
   "metadata": {},
   "source": [
    "# 4、基本数据类型(primitive data types)"
   ]
  },
  {
   "cell_type": "code",
   "execution_count": null,
   "metadata": {
    "collapsed": true
   },
   "outputs": [],
   "source": [
    "# Boolean\n",
    "x=true\n",
    "y=1>2\n",
    "typeof(x)#typeof(y)\n",
    "#四则运算中，true=0，false=0\n",
    "x+1\n",
    "y*3"
   ]
  },
  {
   "cell_type": "code",
   "execution_count": null,
   "metadata": {
    "collapsed": true
   },
   "outputs": [],
   "source": [
    "#整型和浮点型\n",
    "##一个很有意思的设计\n",
    "+(1,7)\n",
    "/(8,3)\n",
    "^(2,3)"
   ]
  },
  {
   "cell_type": "code",
   "execution_count": null,
   "metadata": {
    "collapsed": true
   },
   "outputs": [],
   "source": [
    "#复数，虚部用im表示\n",
    "x=1+2im\n",
    "y=1-2im\n",
    "*(x,y)"
   ]
  },
  {
   "cell_type": "code",
   "execution_count": null,
   "metadata": {
    "collapsed": true
   },
   "outputs": [],
   "source": [
    "#字符（Strings）\n",
    "a=\"Harbes\"\n",
    "typeof(x)\n",
    "\"x*y=$(x*y)\"\n",
    "s=\"I'm Harbes\"\n",
    "split(s)\n",
    "replace(s,\"I'm\",\"My name is\")\n",
    "split(\"a,b,c d e f\",\" \")#split(\"a,b,c d e f\",\"\")，split(\"a,b,c d e f\",\",\")，split(\"a,b,c d e f\",\", \")这四个结果是不一样的\n",
    "strip(\" Harbes  Arvin\")#去除左右两边空格，但不去出中间空格"
   ]
  },
  {
   "cell_type": "code",
   "execution_count": null,
   "metadata": {
    "collapsed": true
   },
   "outputs": [],
   "source": [
    "#注意，python中字符拼接可以使用\"+\"，而julia中字符拼接使用\"*\"\n",
    "a=\"Harbes \"\n",
    "b=\"Arvin \"\n",
    "a*b"
   ]
  },
  {
   "cell_type": "markdown",
   "metadata": {},
   "source": [
    "# 5、containers"
   ]
  },
  {
   "cell_type": "code",
   "execution_count": null,
   "metadata": {
    "collapsed": true
   },
   "outputs": [],
   "source": [
    "# tuple\n",
    "x=(1,2,\"Harbes\")\n",
    "typeof(x)\n",
    "##x[1]=8#与python一致，元组是不能修改的\n",
    "x=1,2,\"Harbes\"#与python一致，逗号才是元组的关键\n",
    "a,b,c=x#与python一致，unpacking时对号入座\n",
    "a"
   ]
  },
  {
   "cell_type": "code",
   "execution_count": null,
   "metadata": {
    "collapsed": true
   },
   "outputs": [],
   "source": [
    "# 题外话：索引\n",
    "x=1,2,3,4,5,6,7,8\n",
    "x[end]\n",
    "x[end-1]\n",
    "x[6:8]\n",
    "##x[6:9]# 无法对超过长度的数据进行切片，这点不如python灵活"
   ]
  },
  {
   "cell_type": "code",
   "execution_count": null,
   "metadata": {
    "collapsed": true
   },
   "outputs": [],
   "source": [
    "#dictionaries\n",
    "d=Dict(\"name\"=>\"Harbes\",\"age\"=>25)#注意'=>'\n",
    "d[\"name\"]\n",
    "keys(d)\n",
    "values(d)"
   ]
  },
  {
   "cell_type": "markdown",
   "metadata": {},
   "source": [
    "# 6、I/O"
   ]
  },
  {
   "cell_type": "code",
   "execution_count": null,
   "metadata": {
    "collapsed": true
   },
   "outputs": [],
   "source": [
    "f=open(\"newfile.txt\",\"w\")\n",
    "write(f,\"Harbes\\n\")#有问题，不能换行\n",
    "write(f,\"Arvin\\n\")\n",
    "close(f)"
   ]
  },
  {
   "cell_type": "markdown",
   "metadata": {},
   "source": [
    "# 7、Iterating"
   ]
  },
  {
   "cell_type": "code",
   "execution_count": null,
   "metadata": {
    "collapsed": true
   },
   "outputs": [],
   "source": [
    "names=[\"Harbes\",\"Arvin\"]\n",
    "for name in names \n",
    "    println(name)\n",
    "end\n",
    "for name in names \n",
    "    print(name) #println与print之间存在区别：println是每次打印都换一行，而print不换\n",
    "end\n",
    "for name in names println(name) end"
   ]
  },
  {
   "cell_type": "code",
   "execution_count": null,
   "metadata": {
    "collapsed": true
   },
   "outputs": [],
   "source": [
    "#当获取字典的keys或values时，就是获得一个iterator\n",
    "d=Dict(\"name\"=>\"Harbes\",\"age\"=>25)\n",
    "k=keys(d)\n",
    "v=values(d)\n",
    "##可以通过collect()将itrator转化为array\n",
    "collect(k)\n",
    "collect(v)"
   ]
  },
  {
   "cell_type": "markdown",
   "metadata": {
    "collapsed": true
   },
   "source": [
    "# 8、looping without indices"
   ]
  },
  {
   "cell_type": "code",
   "execution_count": null,
   "metadata": {
    "collapsed": true
   },
   "outputs": [],
   "source": [
    "x=linspace(0,3,10)#start,end,step_num\n",
    "for i in x# without indices\n",
    "    println(i)\n",
    "end\n",
    "for i in 1:length(x)#using indices\n",
    "    println(x[i]^2)\n",
    "end"
   ]
  },
  {
   "cell_type": "code",
   "execution_count": null,
   "metadata": {
    "collapsed": true
   },
   "outputs": [],
   "source": [
    "countries=(\"China\",\"Korea\",\"Japan\")\n",
    "cities=(\"Beijing\",\"Seoul\",\"Tokyo\")\n",
    "for (country,city) in zip(countries,cities)\n",
    "    println(\"the capital of $country is $city\")\n",
    "end\n",
    "for (i,country) in enumerate(countries)\n",
    "    println(\"the capital of $country is $(cities[i])\")#注意，不要写成 println(\"the capital of $country is $cities[i]\")#\n",
    "end"
   ]
  },
  {
   "cell_type": "markdown",
   "metadata": {},
   "source": [
    "# 9、comprehension(推导式)\n",
    "for creating new _**arrays**_ or _**dictionaries**_ from iterables"
   ]
  },
  {
   "cell_type": "code",
   "execution_count": null,
   "metadata": {
    "collapsed": true
   },
   "outputs": [],
   "source": [
    "doubles=[2i for i in 1:8];#加上\";\"避免显示结果\n",
    "\"a\"*\"b\""
   ]
  },
  {
   "cell_type": "code",
   "execution_count": null,
   "metadata": {
    "collapsed": true
   },
   "outputs": [],
   "source": [
    "animals=[\"dog\",\"cat\",\"bird\"]\n",
    "plurals=[animal*\"s\" for animal in animals]"
   ]
  },
  {
   "cell_type": "code",
   "execution_count": null,
   "metadata": {
    "collapsed": true
   },
   "outputs": [],
   "source": [
    "# 很不错的一个用法\n",
    "[i+j for i in 1:3,j in 4:6]\n",
    "[i+j+k for i in 1:3,j in 4:6,k in 7:9]"
   ]
  },
  {
   "cell_type": "code",
   "execution_count": null,
   "metadata": {
    "collapsed": true
   },
   "outputs": [],
   "source": [
    "Dict(\"$i\"=>i for i in 1:3)"
   ]
  },
  {
   "cell_type": "markdown",
   "metadata": {},
   "source": [
    "# 10、比较与逻辑运算符"
   ]
  },
  {
   "cell_type": "code",
   "execution_count": null,
   "metadata": {
    "collapsed": true
   },
   "outputs": [],
   "source": [
    "x=1\n",
    "x<2\n",
    "1<2==3"
   ]
  },
  {
   "cell_type": "code",
   "execution_count": null,
   "metadata": {
    "collapsed": true
   },
   "outputs": [],
   "source": [
    "#julia中0，1等不能作为布尔值用于判断\n",
    "while 0 println(\"0 is true\") end\n",
    "if 1 println(\"1 is true\") end "
   ]
  },
  {
   "cell_type": "code",
   "execution_count": null,
   "metadata": {
    "collapsed": true
   },
   "outputs": [],
   "source": [
    "# 虽然从结果上看，\"&&\"和\"&\"相同；\"||\"和\"|\"相同；但是\"&&\"和\"||\"更效率\n",
    "true & true\n",
    "false & true\n",
    "true | false\n",
    "false | false\n",
    "true & false\n",
    "true && false"
   ]
  },
  {
   "cell_type": "code",
   "execution_count": null,
   "metadata": {
    "collapsed": true
   },
   "outputs": [],
   "source": [
    "#注意！！！\n",
    "true & 0\n",
    "false | -1"
   ]
  },
  {
   "cell_type": "markdown",
   "metadata": {
    "collapsed": true
   },
   "source": [
    "# 11、向量化函数(vectorized functions)"
   ]
  },
  {
   "cell_type": "code",
   "execution_count": null,
   "metadata": {
    "collapsed": true
   },
   "outputs": [],
   "source": [
    "# julia提供了一个很简单的方法是的函数向量化，就是：f(x)对应f.(x)\n",
    "using Plots\n",
    "x=linspace(0,10,1001)\n",
    "y=sin.(x)#虽然对于本例来说，sin(x)本身就支持向量化\n",
    "plot(x,y)"
   ]
  },
  {
   "cell_type": "code",
   "execution_count": null,
   "metadata": {
    "collapsed": true
   },
   "outputs": [],
   "source": [
    "function r(x)\n",
    "    return randn()+x\n",
    "end\n",
    "x=linspace(0,10,1001)\n",
    "y=r.(x)#如果换成r(x)，那么就变成了，所有x上加上同一个随机变量\n",
    "plot(x,y)"
   ]
  },
  {
   "cell_type": "code",
   "execution_count": null,
   "metadata": {
    "collapsed": true
   },
   "outputs": [],
   "source": [
    "function chisq(k::Integer) #此处限定了k必须输入整数\n",
    "    @assert k>0 \"k must be a natural number\"\n",
    "    z=randn(k)\n",
    "    return sum(z.^2)\n",
    "end\n",
    "chisq(2)\n",
    "chisq.([1,2,3,4,5,6,7,8])"
   ]
  },
  {
   "cell_type": "markdown",
   "metadata": {},
   "source": [
    "# 12、数组array，向量vector，矩阵matrix"
   ]
  },
  {
   "cell_type": "code",
   "execution_count": null,
   "metadata": {
    "collapsed": true
   },
   "outputs": [],
   "source": [
    "a=[1,2,\"foo\"]#3-element Array{Any,1}:。。。其中，Any表示混合，1表示数组是1维\n",
    "size(a)#(3,)\n",
    "ndims(a)#1"
   ]
  },
  {
   "cell_type": "code",
   "execution_count": null,
   "metadata": {
    "collapsed": true
   },
   "outputs": [],
   "source": [
    "eye(3)\n",
    "diagm([1,2,3,4,5,6,7,8])\n",
    "zeros((3,3))#或者zeros(3,3)\n",
    "Array{Float64}(2,2)#空数组，等价于Array{Float64}((2,2)；注意Array{Int64}((3,2))元素很可能是很大的整数，不一定是0\n",
    "ones(3,3)\n",
    "fill(\"Harbes\",2,2)"
   ]
  },
  {
   "cell_type": "code",
   "execution_count": null,
   "metadata": {
    "collapsed": true
   },
   "outputs": [],
   "source": [
    "#julia中，向量和矩阵仅仅是1维或2维的数组而已\n",
    "Array{Int64,1}==Vector{Int64}\n",
    "Array{Int64,2}==Matrix{Int64}\n",
    "Array{Int64,1}==Matrix{Int64}"
   ]
  },
  {
   "cell_type": "code",
   "execution_count": null,
   "metadata": {
    "collapsed": true
   },
   "outputs": [],
   "source": [
    "#对数组进行纬度变换，使用reshape\n",
    "a=[1,2,3,4]#或者[1;2;3;4]\n",
    "b=reshape(a,2,2)#注意排列顺序；当b的元素发生变化时，a的元素也发生变化\n",
    "b[1,1]=8\n",
    "a\n",
    "[1 2;3 4]#注意，不能加逗号[1,2;3,4]\n",
    "#转置\n",
    "a=[1 2 3 4]'#但是维度仍然是2S"
   ]
  },
  {
   "cell_type": "code",
   "execution_count": null,
   "metadata": {
    "collapsed": true
   },
   "outputs": [],
   "source": [
    "a = reshape(collect(1:16),(4,1,4,1))#第2，4维是1，可用squeeze去除这两个基本无用的维度\n",
    "squeeze(a,(2,4))\n",
    "a=[1 2 3 4]#二维，第1维数字是1\n",
    "squeeze(a,1)"
   ]
  },
  {
   "cell_type": "code",
   "execution_count": null,
   "metadata": {
    "collapsed": true
   },
   "outputs": [],
   "source": [
    "#索引时，可以使用布尔值，但是，结果的结构与原来不同\n",
    "a=randn(2,2)\n",
    "b=[true false;false true]\n",
    "a[b]#结果变成了一维array"
   ]
  },
  {
   "cell_type": "code",
   "execution_count": null,
   "metadata": {
    "collapsed": true
   },
   "outputs": [],
   "source": [
    "#关于passing array\n",
    "a=eye(3)\n",
    "b=a\n",
    "b[1,1]=8\n",
    "a[1,1]#结果显示，a、b一起变化，实际上也就变成了a、b指向同一对象，这一设计的目的是为了避免inefficient\n",
    "a=eye(3)\n",
    "b=copy(a)\n",
    "b[1,1]=8\n",
    "a[1,1]"
   ]
  },
  {
   "cell_type": "markdown",
   "metadata": {},
   "source": [
    "## 12.1、operations on arrays\n",
    "### 1）array methods"
   ]
  },
  {
   "cell_type": "code",
   "execution_count": null,
   "metadata": {
    "collapsed": true
   },
   "outputs": [],
   "source": [
    "a=randn(6,8)\n",
    "ndims(a)\n",
    "length(a)#返回的是 长*宽*...\n",
    "sum(a,1)#可以指定轴，也可以不指定;如果指定轴，那么结果也是有一定维度的\n",
    "mean(a,2)\n",
    "std(a,1)\n",
    "var(a,2)\n",
    "maximum(a,1)\n",
    "minimum(a,2)\n",
    "b=sort(a[:,1],rev=true)#sort 针对一个向量，注意a[1,:]和a[:,1]都是一维的响亮；rev控制顺(升序)和逆(降序)\n",
    "b===a[:,1]#检验数组是否一致(share same memory)\n",
    "a=randn(8)\n",
    "b=sort!(a,rev=true)#注意sort!()会同时改变原来的array的顺序\n",
    "b===a"
   ]
  },
  {
   "cell_type": "markdown",
   "metadata": {
    "collapsed": true
   },
   "source": [
    "## 12.2、矩阵代数matrix algebra"
   ]
  },
  {
   "cell_type": "code",
   "execution_count": null,
   "metadata": {
    "collapsed": true
   },
   "outputs": [],
   "source": [
    "a=ones(1,2)\n",
    "b=ones(2,2)\n",
    "a*b#b*a会报错\n",
    "b*a'\n",
    "a=[1 2;3 4]\n",
    "a\\b\n",
    "inv(a)*b\n",
    "#ones(2)*ones(2)#会报错\n",
    "ones(2)*(ones(2))'#正常，且为2*2的矩阵，说明ones(2)默认是一个列向量\n",
    "#dot(ones(2),ones(2))\n",
    "## linear algebra\n",
    "det(b)\n",
    "trace(a)\n",
    "eigvals(a)\n",
    "rank(a)"
   ]
  },
  {
   "cell_type": "markdown",
   "metadata": {},
   "source": [
    "## 12.3、元素级运算\n",
    "包括代数运算和比较运算"
   ]
  },
  {
   "cell_type": "code",
   "execution_count": null,
   "metadata": {
    "collapsed": true
   },
   "outputs": [],
   "source": [
    "#代数运算\n",
    "ones(2,2).*ones(2,2)\n",
    "a=[1 2;3 4]\n",
    "a.^2\n",
    "#但是对于数组与标量以及数组之间的加法或减法不需要在左下角加上一个\".\"\n",
    "a-ones(2,2)\n",
    "a*2"
   ]
  },
  {
   "cell_type": "code",
   "execution_count": null,
   "metadata": {
    "collapsed": true
   },
   "outputs": [],
   "source": [
    "#元素之间的比较\n",
    "a=[1,2,3]\n",
    "b=[3,2,1]\n",
    "#a>b#报错,a>2#报错\n",
    "a.>b\n",
    "a.==b#元素级的比较，a==b非元素级的比较\n",
    "a.>2#对于数组与标量的比较，是需要加\".\""
   ]
  },
  {
   "cell_type": "markdown",
   "metadata": {},
   "source": [
    "# 13、types and multiple dispatch\n"
   ]
  },
  {
   "cell_type": "code",
   "execution_count": null,
   "metadata": {
    "collapsed": true
   },
   "outputs": [],
   "source": [
    "#common types\n",
    "typeof(0.1)\n",
    "typeof(1)\n",
    "typeof(\"Harbes\")#string\n",
    "#typeof('Harbes')#报错\n",
    "typeof(\"c\")#String\n",
    "typeof('c')#Char\n",
    "typeof(1+1im)#Complex{Int64}\n",
    "typeof(randn(2,2))"
   ]
  },
  {
   "cell_type": "code",
   "execution_count": null,
   "metadata": {
    "collapsed": true
   },
   "outputs": [],
   "source": [
    "#multiple dispatch:多分派，在面向对象变成中，method等的运行依赖于参数的类型；多分派在一定程度上使得julia可以高效运行\n",
    "@which +(1,1) #使用@which宏可以查看具体的分派方法\n",
    "@which +(1,2.0)\n",
    "@which +(2.3,5.7)\n",
    "@which +(1,3+8im)\n",
    "## 其他有multiple methods的函数\n",
    "isless()#具体可以通过 methods(isless) 进一步了解\n",
    "isfinite()#\n"
   ]
  },
  {
   "cell_type": "code",
   "execution_count": null,
   "metadata": {
    "collapsed": true
   },
   "outputs": [],
   "source": [
    "# 给函数添加方法(adding methods)\n",
    "#+(100,\"100\")#报错\n",
    "importall Base.Operators\n",
    "+(x::Integer,y::String)=x+parse(Int,y)\n",
    "+(100,\"100\")"
   ]
  },
  {
   "cell_type": "code",
   "execution_count": null,
   "metadata": {
    "collapsed": true
   },
   "outputs": [],
   "source": [
    "# 让自定义函数也能多分派\n",
    "function h(a::Float64)\n",
    "    println(\"methods for handling Float64\")\n",
    "end\n",
    "function h(a::Int64)\n",
    "    println(\"methods for handling Int64\")\n",
    "end\n",
    "h(1.0)\n",
    "h(1)"
   ]
  },
  {
   "cell_type": "code",
   "execution_count": null,
   "metadata": {
    "collapsed": true
   },
   "outputs": [],
   "source": [
    "# abstract V.S. concrete types\n",
    "##concrete types: Float64,Int32,...\n",
    "##abstract types: Real, AbstractFloat------> FLoat64,Int64等是Real的子类型(subtypes)\n",
    "Float64<: Real\n",
    "Complex64<: Number\n",
    "Real<: Number\n",
    "Number<: Any\n",
    "Float64<: Real<: Number<: Any\n",
    "supertype(Float64)\n",
    "supertype(Complex64)\n",
    "supertype(AbstractFloat)"
   ]
  },
  {
   "cell_type": "code",
   "execution_count": null,
   "metadata": {
    "collapsed": true
   },
   "outputs": [],
   "source": [
    "#执行顺序是尽可能匹配参数类型，若没有匹配，就从上一级类型寻找\n",
    "function f(x)\n",
    "    println(\"Generic function invoked\")\n",
    "end\n",
    "function f(x:: umber)\n",
    "    println(\"Number method invoked\")\n",
    "end\n",
    "function f(x::Integer)\n",
    "    println(\"Integer method invoked\")\n",
    "end\n",
    "f(1)\n",
    "f(1.1)\n",
    "f(\"Harbes\")"
   ]
  },
  {
   "cell_type": "code",
   "execution_count": null,
   "metadata": {
    "collapsed": true
   },
   "outputs": [],
   "source": [
    "# 自定义数据类型\n",
    "struct Foo# 使用struct命令，然后解释器就会为该数据类型创建一个default constructor\n",
    "end\n",
    "foo=Foo()# call default constructor， make a new Foo\n",
    "typeof(foo)\n",
    "foofunc(x::Foo)=\"onefoo\"## 接下来为Foo添加一些方法(adding methods)\n",
    "foofunc(foo)\n",
    "+(x::Foo,y::Foo)=\"twofoos\"## 给Foo再添加一个method\n",
    "foo1,foo2=Foo(),Foo()\n",
    "foo1+foo2"
   ]
  },
  {
   "cell_type": "code",
   "execution_count": null,
   "metadata": {
    "collapsed": true
   },
   "outputs": [],
   "source": [
    "# a less trivial example,\n",
    "mutable struct AR1  #加入mutable 意味着可以改变对象的数据\n",
    "    a\n",
    "    b\n",
    "    sigma\n",
    "    phi  #分布\n",
    "end\n",
    "using Distributions\n",
    "m=AR1(0.9,1,1,Beta(5,5))\n",
    "m.a \n",
    "m.phi\n",
    "typeof(m.phi)\n",
    "typeof(m.phi)<: Distribution#注意是Distribution，不是Distributions\n",
    "m.phi=Exponential(0.5)#mutable的用处体现在可以改变具体参数的内容\n",
    "\n",
    "\n",
    "#进一步设定Field types\n",
    "mutable struct AR1_explicit \n",
    "    a::Float64\n",
    "    b::Float64\n",
    "    sigma::Float64\n",
    "    phi::Distribution\n",
    "end\n",
    "m=AR1_explicit(0.9,1,1,Beta(5,5))\n",
    "#m=AR1_explicit(0.9,1,\"Harbes\",Beta(5,5))#会报错\n",
    "\n",
    "#将数据类型换成abstract type，虽然也能做，但是会影响性能\n",
    "mutable struct AR1_real\n",
    "    a::Real\n",
    "    b::Real\n",
    "    sigma::Real\n",
    "    phi::Distribution\n",
    "end\n",
    "##对参数数据类型有另外一种不同的限定方法\n",
    "mutable struct AR1_best{T<:Real }\n",
    "    a:: T\n",
    "    b:: T\n",
    "    sigma:: T\n",
    "    phi:: Distribution\n",
    "end\n",
    "\n"
   ]
  },
  {
   "cell_type": "markdown",
   "metadata": {},
   "source": [
    "# 14、the need of speed\n",
    "## 14.1、关于JIT"
   ]
  },
  {
   "cell_type": "code",
   "execution_count": null,
   "metadata": {
    "collapsed": true
   },
   "outputs": [],
   "source": [
    "function f(a,b)\n",
    "    y=(a+b)^2\n",
    "    return y\n",
    "end\n",
    "@code_native f(1,2)# 是哟个code_native宏可以查看相应的machine code\n",
    "@code_native f(1.0,1.0)\n"
   ]
  },
  {
   "cell_type": "code",
   "execution_count": null,
   "metadata": {
    "collapsed": true
   },
   "outputs": [],
   "source": [
    "#global varibales\n",
    "b=1.0# global variable\n",
    "function g(a)\n",
    "    for i in 1:1_000_000\n",
    "        tmp=a + b\n",
    "    end\n",
    "end\n",
    "@time g(1.0)#时间长，内存消耗大\n",
    "@code_native g(1.0)#machine code较长"
   ]
  },
  {
   "cell_type": "code",
   "execution_count": null,
   "metadata": {
    "collapsed": true
   },
   "outputs": [],
   "source": [
    "#如果不使用全局变量\n",
    "function g(a,b)\n",
    "    for i in 1:1_000_000\n",
    "        tmp=a + b\n",
    "    end\n",
    "end\n",
    "@time g(1.0,1.0)#无论是速度还是内存都有相当多的优化(不是一个量级)\n",
    "@time g(1.0,1.0)#第二次运行的速度更快！！！因为第一次运行包含了JIT compilation的时间\n",
    "@code_native g(1.0,1.0)#发现machine code变得更简洁了(意味着更有效)\n",
    "##python中尝试对比全局变量和非全局变量，结果分别约为0.05和0.038左右；然后引入numba中的jit后可以将时间缩减到160-180ns"
   ]
  },
  {
   "cell_type": "code",
   "execution_count": null,
   "metadata": {
    "collapsed": true
   },
   "outputs": [],
   "source": [
    "#对全局变量使用的改进\n",
    "const b_const=1.0# s使用const约束全局变量\n",
    "function g(a)\n",
    "    for i in 1:1_000_000\n",
    "        tmp=a + b_const\n",
    "    end\n",
    "end\n",
    "@time g(1.0)#时间和内存明显得到了优化，接近局部变量的性能\n",
    "@time g(1.0)\n",
    "@code_native g(1.0)#machine code变短了"
   ]
  },
  {
   "cell_type": "markdown",
   "metadata": {},
   "source": [
    "## 14.2、composite types with abstract field types"
   ]
  },
  {
   "cell_type": "code",
   "execution_count": null,
   "metadata": {
    "collapsed": true
   },
   "outputs": [],
   "source": [
    "#定义不同type\n",
    "struct Foo_generic\n",
    "    a\n",
    "end\n",
    "struct Foo_abstract\n",
    "    a::Real\n",
    "end\n",
    "struct Foo_concrete{T<:Real}\n",
    "    a::T\n",
    "end\n",
    "fg=Foo_generic(1.0)\n",
    "fa=Foo_abstract(1.0)\n",
    "fc=Foo_concrete(1.0)\n",
    "typeof(fc)\n",
    "\n",
    "function f(foo)\n",
    "    for i in 1:1_000_000\n",
    "        tmp=i+foo.a\n",
    "    end\n",
    "end\n",
    "@time f(fg)#时间长，内存消耗大，而且machine code长【@code_native f(fg)】 \n",
    "@time f(fa)#与上面情况类似\n",
    "@time f(fc)#时间大幅缩短，内存消耗少，且machine code简短\n"
   ]
  },
  {
   "cell_type": "code",
   "execution_count": 9,
   "metadata": {},
   "outputs": [
    {
     "name": "stdout",
     "output_type": "stream",
     "text": [
      "  0.008962 seconds (1.09 k allocations: 59.999 KiB)\n"
     ]
    }
   ],
   "source": [
    "function sum_array(x::Array{Float64,1})\n",
    "    sum=0.0\n",
    "    for i in 1:length(x)\n",
    "        sum += x[i]\n",
    "    end\n",
    "    return sum\n",
    "end\n",
    "x=linspace(0,1,1e6)\n",
    "x=collect(x);\n",
    "@time sum_array(x);#使用python实现相同的功能，发现使用@jit后的python速度更快，达0.9ms左右\n",
    "\n",
    "function sum_array_(x)\n",
    "    sum=0.0\n",
    "    for i in 1:length(x)\n",
    "        sum += x[i]\n",
    "    end\n",
    "    return sum\n",
    "end\n",
    "@time sum_array_(x)#时间和内存基本没变化，原因在于输入的x是一个type确定(Float64)的向量\n",
    "\n",
    "#当x的数据类型不够精确时\n",
    "x=Any[1/i for i in 1:1e6];\n",
    "eltype(x)#Any\n",
    "@time sum_array_(x)#时间明显增加了，内存消耗也大了\n"
   ]
  },
  {
   "cell_type": "markdown",
   "metadata": {},
   "source": [
    "# 15、使用PyPlot画图\n",
    "## 15.1、两种方式使用PyPlot画图"
   ]
  },
  {
   "cell_type": "code",
   "execution_count": null,
   "metadata": {
    "collapsed": true
   },
   "outputs": [],
   "source": [
    "#the procedural API\n",
    "using PyPlot\n",
    "x=linspace(0,10,200)\n",
    "y=sin.(x)\n",
    "plot(x,y,\"b-\",linewidth=2)"
   ]
  },
  {
   "cell_type": "code",
   "execution_count": null,
   "metadata": {
    "collapsed": true
   },
   "outputs": [],
   "source": [
    "# the object orient API\n",
    "#using PyPlot\n",
    "x=linspace(0,10,200)\n",
    "y=sin.(x)\n",
    "fig,ax=subplots()\n",
    "ax[:plot](x,y,\"b-\",linewidth=2)"
   ]
  },
  {
   "cell_type": "code",
   "execution_count": null,
   "metadata": {
    "collapsed": true
   },
   "outputs": [],
   "source": [
    "#using PyPlot\n",
    "x=linspace(0,10,200)\n",
    "y=sin.(x)\n",
    "fig,ax=subplots()\n",
    "ax[:plot](x,y,\"r-\",linewidth=2,label=\"sine function\",alpha=0.6)\n",
    "ax[:legend](loc=\"upper center\")\n",
    "\n",
    "x=linspace(0,10,200)\n",
    "y=sin.(x)\n",
    "fig,ax=subplots()\n",
    "ax[:plot](x,y,\"r-\",linewidth=2,label=L\"$y=\\sin(x)$\",alpha=0.6)\n",
    "ax[:legend](loc=\"upper center\")"
   ]
  },
  {
   "cell_type": "markdown",
   "metadata": {},
   "source": [
    "## 15.2、multiple plots on one axis"
   ]
  },
  {
   "cell_type": "code",
   "execution_count": null,
   "metadata": {
    "collapsed": true
   },
   "outputs": [],
   "source": [
    "using Distributions\n",
    "u=Uniform()\n",
    "fig,ax=subplots()\n",
    "x=linspace(-4,4,150)\n",
    "for i in 1:3\n",
    "    m,s=rand(u)*2-1,rand(u)+1\n",
    "    d=Normal(m,s)\n",
    "    y=pdf(d,x)\n",
    "    ax[:plot](x,y,linewidth=2,alpha=0.6,label=\"draw $i\")\n",
    "end\n",
    "ax[:legend]()"
   ]
  },
  {
   "cell_type": "markdown",
   "metadata": {},
   "source": [
    "## 15.3、subplots"
   ]
  },
  {
   "cell_type": "code",
   "execution_count": null,
   "metadata": {
    "collapsed": true
   },
   "outputs": [],
   "source": [
    "#using Distributions\n",
    "u=Uniform()\n",
    "num_rows,num_cols=2,3\n",
    "fig,axes=subplots(num_rows,num_cols,figsize=(16,6))\n",
    "subplot_num=0\n",
    "for i in 1:num_rows\n",
    "    for j in 1:num_cols\n",
    "        ax=axes[i,j]\n",
    "        subplot_num+=1\n",
    "        m,s=rand(u)*2-1,rand(u)+1\n",
    "        d=Normal(m,s)\n",
    "        x=rand(d,100)\n",
    "        ax[:hist](x,alpha=0.6,bins=20)\n",
    "        ax[:set_title](\"histogram $subplot_num\")\n",
    "        ax[:set_xticks]([-4,0,4])\n",
    "        ax[:set_yticks]([])\n",
    "    end\n",
    "end\n"
   ]
  },
  {
   "cell_type": "markdown",
   "metadata": {},
   "source": [
    "## 15.4、其他\n",
    "3D plots，PlotlyJS，Plots"
   ]
  },
  {
   "cell_type": "markdown",
   "metadata": {},
   "source": [
    "# **_Useful Libraries_**\n",
    "# 16、Distributions"
   ]
  },
  {
   "cell_type": "code",
   "execution_count": null,
   "metadata": {
    "collapsed": true
   },
   "outputs": [],
   "source": [
    "#Distributions中包括了常见的分布\n",
    "#对于这些分布，还定义了一些常见的方法，例如：random draws,evaluations of pdfs/cdfs/quantiles...,mean/variance/kurtosis\n",
    "using Distributions\n",
    "using Plots\n",
    "d=Normal(0,1)\n",
    "a=rand(d,10000);\n",
    "histogram(a,bins=30,alpha=0.6,color=\"green\")\n",
    "mean(a)\n",
    "pdf(d,0)\n",
    "cdf(d,1.96)\n"
   ]
  },
  {
   "cell_type": "markdown",
   "metadata": {},
   "source": [
    "# 17、working with data\n",
    "* DataFrames主要包括DataFrame、DataArray两种数据结构，后者相对于一般的array的优势在于可以处理missing values\n",
    "* 其他有用的Libraries还有JuliaStats、juliaQuant"
   ]
  },
  {
   "cell_type": "code",
   "execution_count": null,
   "metadata": {
    "collapsed": true
   },
   "outputs": [],
   "source": [
    "using DataFrames\n",
    "commodities=[\"crude\",\"gas\",\"gold\",\"silver\"]\n",
    "last=@data([4.2,11.3,12.1,NA])#create a DataArray\n",
    "df=DataFrame(common=commodities,price=last)\n",
    "#通过name获取DF中的列数据\n",
    "df[:price]\n",
    "df[:common]"
   ]
  },
  {
   "cell_type": "code",
   "execution_count": null,
   "metadata": {
    "collapsed": true
   },
   "outputs": [],
   "source": [
    "#DataFrames中提供了一系列method，例如describe,split,merge,...\n",
    "describe(df)"
   ]
  },
  {
   "cell_type": "code",
   "execution_count": null,
   "metadata": {
    "collapsed": true
   },
   "outputs": [],
   "source": [
    "#读取或写入csv文件\n",
    "data=readtable(\"data.csv\")\n",
    "writetable(\"data.csv\",df)"
   ]
  },
  {
   "cell_type": "markdown",
   "metadata": {},
   "source": [
    "# 18、Interpolation"
   ]
  },
  {
   "cell_type": "markdown",
   "metadata": {},
   "source": [
    "# 19、optimization,roots and fixed points"
   ]
  },
  {
   "cell_type": "code",
   "execution_count": null,
   "metadata": {
    "collapsed": true
   },
   "outputs": [],
   "source": [
    "#roots\n",
    "using Roots\n",
    "f(x)=sin(4*(x-1/4))+x+x^20-1\n",
    "newton(f,0.2)#\n",
    "newton(f,0.7)#Newton-Raphson方法使用局部斜率信息，在某些初始值下可能会导致收敛失败，因此使用更稳健的hybrid methods，就是Roots中的fzero()\n",
    "fzero(f,0,1)#与newton(f,0.2)的结果是一致的"
   ]
  },
  {
   "cell_type": "code",
   "execution_count": null,
   "metadata": {
    "collapsed": true
   },
   "outputs": [],
   "source": [
    "#optimization\n",
    "using Optim\n",
    "optimize(x->x^2,-1.0,1.0)"
   ]
  },
  {
   "cell_type": "code",
   "execution_count": null,
   "metadata": {
    "collapsed": true
   },
   "outputs": [],
   "source": [
    "#numerical integration\n",
    "import QuadGK.quadgk\n",
    "@time quadgk(x->cos(x),-2pi,2pi)#也可以使用QuantEcon中的do_quad()，可以大幅缩短时间"
   ]
  }
 ],
 "metadata": {
  "kernelspec": {
   "display_name": "Julia 0.6.0",
   "language": "julia",
   "name": "julia-0.6"
  },
  "language_info": {
   "file_extension": ".jl",
   "mimetype": "application/julia",
   "name": "julia",
   "version": "0.6.0"
  }
 },
 "nbformat": 4,
 "nbformat_minor": 2
}
