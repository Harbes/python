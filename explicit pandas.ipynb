{
 "cells": [
  {
   "cell_type": "code",
   "execution_count": 36,
   "metadata": {
    "collapsed": true
   },
   "outputs": [],
   "source": [
    "import pandas as pd\n",
    "from pandas import DataFrame\n",
    "from pandas import Series\n",
    "import numpy as np\n",
    "import datetime\n",
    "from time import time"
   ]
  },
  {
   "cell_type": "code",
   "execution_count": null,
   "metadata": {
    "collapsed": true
   },
   "outputs": [],
   "source": [
    "df = pd.DataFrame({'AAA' : [4,5,6,7], 'BBB' : [10,20,30,40],'CCC' : [100,50,-30,-50]}); print('df','\\n',df,'\\n')\n",
    "df_mask = pd.DataFrame({'AAA' : [True] * 4, 'BBB' : [False] * 4,'CCC' : [True, False] * 2});print('df_mask','\\n',df_mask,'\\n')\n",
    "df.where(df_mask,-1000)"
   ]
  },
  {
   "cell_type": "code",
   "execution_count": null,
   "metadata": {
    "collapsed": true
   },
   "outputs": [],
   "source": [
    "df = pd.DataFrame({'AAA' : [4,5,6,7], 'BBB' : [10,20,30,40],'CCC' : [100,50,-30,-50]});print('df','\\n',df,'\\n')\n",
    "newseries = df.loc[(df['BBB'] < 35) & (df['CCC'] >= -20), 'AAA']; newseries"
   ]
  },
  {
   "cell_type": "code",
   "execution_count": null,
   "metadata": {
    "collapsed": true
   },
   "outputs": [],
   "source": [
    "df = pd.DataFrame({'AAA' : [4,5,6,7], 'BBB' : [10,20,30,40],'CCC' : [100,50,-30,-50]});print('df','\\n',df,'\\n')\n",
    "# 方法一\n",
    "Crit1 = df.AAA <= 5.5\n",
    "Crit2 = df.BBB == 10.0 \n",
    "Crit3 = df.CCC > -40.0\n",
    "AllCrit=Crit1&Crit2&Crit3\n",
    "print('方法1','\\n',df[AllCrit],'\\n')\n",
    "#Method 2\n",
    "CritList=[Crit1,Crit2,Crit3]\n",
    "import functools\n",
    "AllCrit = functools.reduce(lambda x,y: x & y, CritList)\n",
    "print('Method 2','\\n',df[AllCrit],'\\n')"
   ]
  },
  {
   "cell_type": "code",
   "execution_count": null,
   "metadata": {
    "collapsed": true
   },
   "outputs": [],
   "source": [
    "df = pd.DataFrame({'AAA' : [4,5,6,7], 'BBB' : [10,20,30,40],'CCC' : [100,50,-30,-50]});print('df','\\n',df,'\\n')\n",
    "df.loc[(df['CCC']+10).abs().argsort()]"
   ]
  },
  {
   "cell_type": "code",
   "execution_count": null,
   "metadata": {
    "collapsed": true
   },
   "outputs": [],
   "source": [
    "df = pd.DataFrame({'AAA' : [4,5,6,7], 'BBB' : [10,20,30,40],'CCC' : [100,50,-30,-50]});print('df','\\n',df,'\\n')\n",
    "df.loc[df['AAA']>5 & df.index.isin([0,2,4])] # 错误！！！注意，如果每个条件不打括号的花，那么实际上是先对'&'进行运算\n",
    "df.loc[(df['AAA']>5) & (df.index.isin([0,2,4]))] # 正确\n",
    "df[(df['AAA']>5) & (df.index.isin([0,2,4]))]"
   ]
  },
  {
   "cell_type": "code",
   "execution_count": null,
   "metadata": {
    "collapsed": true
   },
   "outputs": [],
   "source": [
    "df = pd.DataFrame({'AAA' : [4,5,6,7], 'BBB' : [10,20,30,40],'CCC' : [100,50,-30,-50]});print('df','\\n',df,'\\n')\n",
    "df[~((df.AAA <= 6) & (df.index.isin([0,2,4])))]                                                                                                                                                                                                                             "
   ]
  },
  {
   "cell_type": "code",
   "execution_count": null,
   "metadata": {
    "collapsed": true
   },
   "outputs": [],
   "source": [
    "rng1 = pd.date_range('1/1/2013',periods=100,freq='D') \n",
    "rng2 = pd.date_range('1/1/2014',periods=100,freq='D') \n",
    "data = np.random.randn(100, 4)\n",
    "cols = ['A','B','C','D']\n",
    "df1, df2, df3 = pd.DataFrame(data, rng1, cols), pd.DataFrame(data[:50], rng1[:50], cols), pd.DataFrame(data[50:], rng2[50:], cols)\n",
    "pf = pd.Panel({'df1':df1,'df2':df2,'df3':df3});pf # 数据会自动对齐(index取并集)并填充nan"
   ]
  },
  {
   "cell_type": "code",
   "execution_count": null,
   "metadata": {
    "collapsed": true
   },
   "outputs": [],
   "source": [
    "df = pd.DataFrame({'AAA' : [1,2,1,3], 'BBB' : [1,1,2,2], 'CCC' : [2,1,3,1]}); df\n",
    "source_cols = df.columns # or some subset would work too. \n",
    "new_cols = [str(x) + \"_cat\" for x in source_cols]\n",
    "categories = {1 : 'Alpha', 2 : 'Beta', 3 : 'Charlie' }\n",
    "df[new_cols] = df[source_cols].applymap(categories.get);df # applymap可以对 DataFrame 进行元素级运算"
   ]
  },
  {
   "cell_type": "code",
   "execution_count": null,
   "metadata": {
    "collapsed": true
   },
   "outputs": [],
   "source": [
    "df = pd.DataFrame({'AAA' : [1,1,1,2,2,2,3,3], 'BBB' : [2,1,3,4,5,1,2,3]}); print('df','\\n',df,'\\n')\n",
    "df.loc[df.groupby('AAA')['BBB'].idxmin()]\n",
    "df.sort_values(by=\"BBB\").groupby(\"AAA\", as_index=False).first() # 无法保持原来的 index"
   ]
  },
  {
   "cell_type": "code",
   "execution_count": null,
   "metadata": {
    "collapsed": true
   },
   "outputs": [],
   "source": [
    "df = pd.DataFrame({'row' : [0,1,2],\n",
    "....: 'One_X' : [1.1,1.1,1.1],\n",
    "....: 'One_Y' : [1.2,1.2,1.2],\n",
    "....: 'Two_X' : [1.11,1.11,1.11],\n",
    "....: 'Two_Y' : [1.22,1.22,1.22]})\n",
    "df = df.set_index('row');df\n",
    "df.columns = pd.MultiIndex.from_tuples([tuple(c.split('_')) for c in df.columns]);df\n",
    "df.stack(1).reset_index(0) # reset_index 就是把对应的index变成一个新的column或者删除(drop=True)\n",
    "df.reset_index(col_level=1) # 参数 col_level 可以控制新的column进入col_level"
   ]
  },
  {
   "cell_type": "code",
   "execution_count": null,
   "metadata": {
    "collapsed": true
   },
   "outputs": [],
   "source": [
    "cols = pd.MultiIndex.from_tuples([ (x,y) for x in ['A','B','C'] for y in ['O','I']])\n",
    "df = pd.DataFrame(np.random.randn(2,6),index=['n','m'],columns=cols); df\n",
    "df.div(df['C'],level=1)\n",
    "df.div(df[('C','O')],level=1) #  都是 NaN ？？？？？？？？？？？？？？？"
   ]
  },
  {
   "cell_type": "code",
   "execution_count": null,
   "metadata": {
    "collapsed": true
   },
   "outputs": [],
   "source": [
    "coords = [('AA','one'),('AA','six'),('BB','one'),('BB','two'),('BB','six')] \n",
    "index = pd.MultiIndex.from_tuples(coords)\n",
    "df = pd.DataFrame([11,22,33,44,55],index,['MyData']); df\n",
    "df.xs('AA',level=0)\n",
    "df.xs('six',level=1)"
   ]
  },
  {
   "cell_type": "code",
   "execution_count": null,
   "metadata": {
    "collapsed": true
   },
   "outputs": [],
   "source": [
    "import itertools\n",
    "index = list(itertools.product(['Ada','Quinn','Violet'],['Comp','Math','Sci']))\n",
    "headr = list(itertools.product(['Exams','Labs'],['I','II']))\n",
    "indx = pd.MultiIndex.from_tuples(index,names=['Student','Course']) \n",
    "cols = pd.MultiIndex.from_tuples(headr) #Notice these are un-named \n",
    "data = [[70+x+y+(x*y)%3 for x in range(4)] for y in range(9)]\n",
    "df = pd.DataFrame(data,indx,cols); df\n",
    "# 使用 loc\n",
    "All=slice(None)\n",
    "df.loc[(slice('Ada','Quinn'),'Math'),All]\n",
    "df.loc[(All,'Math'),(All,'II')]\n",
    "# 使用 xs\n",
    "df.xs((slice('Ada','Quinn'),'Math'),level=[0,'Course'])\n",
    "df.xs('Math',level=1)[[('Exams','II'),('Labs','II')]]\n",
    "df.xs('Math',level=1)[list(itertools.product(['Exams','Labs'],['II']))] # ['II'] 一定要用方括号加持，因为len(('II'))和len(['II'])是不一样的！！！！！！！\n",
    "df.sort_values(by=('Labs', 'II'), ascending=False)"
   ]
  },
  {
   "cell_type": "code",
   "execution_count": null,
   "metadata": {
    "collapsed": true
   },
   "outputs": [],
   "source": [
    "df = pd.DataFrame(np.random.randn(6,1), index=pd.date_range('2013-08-01', periods=6, freq='B'), columns=list('A'))\n",
    "df.loc[df.index[3], 'A'] = np.nan;df\n",
    "df.reindex(df.index[::-1]).ffill()"
   ]
  },
  {
   "cell_type": "code",
   "execution_count": null,
   "metadata": {
    "collapsed": true
   },
   "outputs": [],
   "source": [
    "df = pd.DataFrame({'animal': 'cat dog cat fish dog cat cat'.split(),\n",
    "....: 'size': list('SSMMMLL'),\n",
    "....: 'weight': [8, 10, 11, 1, 2, 12, 12],\n",
    "....: 'adult' : [False] * 5 + [True] * 2});print('df','\\n',df,'\\n')\n",
    "df.groupby('animal').apply(lambda subf: subf['size'][subf['weight'].idxmax()])\n",
    "df.groupby('animal').get_group('cat')\n",
    "\n",
    "gb = df.groupby(['animal'])\n",
    "def GrowUp(x):\n",
    "    avg_weight = sum(x[x['size'] == 'S'].weight * 1.5)\n",
    "    avg_weight += sum(x[x['size'] == 'M'].weight * 1.25)\n",
    "    avg_weight += sum(x[x['size'] == 'L'].weight)\n",
    "    avg_weight /= len(x)\n",
    "    return pd.Series(['L',avg_weight,True], index=['size', 'weight', 'adult'])\n",
    "expected_df = gb.apply(GrowUp);expected_df"
   ]
  },
  {
   "cell_type": "code",
   "execution_count": null,
   "metadata": {
    "collapsed": true
   },
   "outputs": [],
   "source": [
    "import functools\n",
    "S = pd.Series([i / 100.0 for i in range(1,11)])\n",
    "def CumRet(x,y):\n",
    "    return x * (1 + y)\n",
    "def Red(x):\n",
    "    return functools.reduce(CumRet,x,1.0)\n",
    "S.expanding().apply(Red)"
   ]
  },
  {
   "cell_type": "markdown",
   "metadata": {},
   "source": [
    "Python中reduce函数等价于下面的reduce函数。上面reduce中的'1.0'就是initializer。\n",
    "```Python\n",
    "def reduce(function, iterable, initializer=None):\n",
    "    it = iter(iterable)\n",
    "    if initializer is None:\n",
    "        try:\n",
    "            initializer = next(it)\n",
    "        except StopIteration:\n",
    "            raise TypeError('reduce() of empty sequence with no initial value')\n",
    "    accum_value = initializer\n",
    "    for x in it:\n",
    "        accum_value = function(accum_value, x)\n",
    "    return accum_value\n",
    "    ```"
   ]
  },
  {
   "cell_type": "code",
   "execution_count": 50,
   "metadata": {},
   "outputs": [
    {
     "data": {
      "text/html": [
       "<div>\n",
       "<style>\n",
       "    .dataframe thead tr:only-child th {\n",
       "        text-align: right;\n",
       "    }\n",
       "\n",
       "    .dataframe thead th {\n",
       "        text-align: left;\n",
       "    }\n",
       "\n",
       "    .dataframe tbody tr th {\n",
       "        vertical-align: top;\n",
       "    }\n",
       "</style>\n",
       "<table border=\"1\" class=\"dataframe\">\n",
       "  <thead>\n",
       "    <tr style=\"text-align: right;\">\n",
       "      <th></th>\n",
       "      <th>A</th>\n",
       "      <th>B</th>\n",
       "    </tr>\n",
       "  </thead>\n",
       "  <tbody>\n",
       "    <tr>\n",
       "      <th>0</th>\n",
       "      <td>1</td>\n",
       "      <td>1.0</td>\n",
       "    </tr>\n",
       "    <tr>\n",
       "      <th>1</th>\n",
       "      <td>1</td>\n",
       "      <td>-1.0</td>\n",
       "    </tr>\n",
       "    <tr>\n",
       "      <th>2</th>\n",
       "      <td>2</td>\n",
       "      <td>-1.0</td>\n",
       "    </tr>\n",
       "    <tr>\n",
       "      <th>3</th>\n",
       "      <td>2</td>\n",
       "      <td>8.8</td>\n",
       "    </tr>\n",
       "  </tbody>\n",
       "</table>\n",
       "</div>"
      ],
      "text/plain": [
       "   A    B\n",
       "0  1  1.0\n",
       "1  1 -1.0\n",
       "2  2 -1.0\n",
       "3  2  8.8"
      ]
     },
     "execution_count": 50,
     "metadata": {},
     "output_type": "execute_result"
    }
   ],
   "source": [
    "df = pd.DataFrame({'A' : [1, 1, 2, 2], 'B' : [1, -1, -1, 8.8]})\n",
    "def replace(g):\n",
    "    mask=g<0\n",
    "    g.loc[mask] = g[~mask].mean()\n",
    "    return g \n",
    "df.groupby('A').transform(replace)"
   ]
  },
  {
   "cell_type": "code",
   "execution_count": null,
   "metadata": {
    "collapsed": true
   },
   "outputs": [],
   "source": [
    "df = pd.DataFrame(np.random.randn(10, 3), columns=['A', 'B', 'C'],index=pd.date_range('1/1/2000', periods=10))\n",
    "df.iloc[3:7] = np.nan;df\n",
    "df.transform(lambda x: (x - x.mean()) / x.std()) # transform有两个特点：一次只进行一个column的运算；每次生成的series与原来的index是一致的，也就是长度不变"
   ]
  },
  {
   "cell_type": "code",
   "execution_count": null,
   "metadata": {
    "collapsed": true
   },
   "outputs": [],
   "source": [
    "df = pd.DataFrame({'code': ['foo', 'bar', 'baz'] * 2,'data': [0.16, -0.21, 0.63, 0.45, -0.59, 0.62],'flag': [False, True] * 3})\n",
    "print('df','\\n',df,'\\n')\n",
    "code_groups = df.groupby('code')\n",
    "agg_n_sort_order= code_groups[['data']].transform(sum).sort_values(by='data') # 按每组加总值在原顺序基础上排序\n",
    "sorted_df = df.loc[agg_n_sort_order.index];sorted_df"
   ]
  },
  {
   "cell_type": "code",
   "execution_count": 14,
   "metadata": {},
   "outputs": [
    {
     "name": "stdout",
     "output_type": "stream",
     "text": [
      "ts \n",
      " 2014-10-07 00:00:00    0\n",
      "2014-10-07 00:02:00    1\n",
      "2014-10-07 00:04:00    2\n",
      "2014-10-07 00:06:00    3\n",
      "2014-10-07 00:08:00    4\n",
      "2014-10-07 00:10:00    5\n",
      "2014-10-07 00:12:00    6\n",
      "2014-10-07 00:14:00    7\n",
      "2014-10-07 00:16:00    8\n",
      "2014-10-07 00:18:00    9\n",
      "Freq: 2T, dtype: int64 \n",
      "\n"
     ]
    },
    {
     "data": {
      "text/plain": [
       "Custom  2014-10-07 00:00:00    1.234\n",
       "        2014-10-07 00:05:00      NaT\n",
       "        2014-10-07 00:10:00    7.404\n",
       "        2014-10-07 00:15:00      NaT\n",
       "Max     2014-10-07 00:00:00        2\n",
       "        2014-10-07 00:05:00        4\n",
       "        2014-10-07 00:10:00        7\n",
       "        2014-10-07 00:15:00        9\n",
       "Mean    2014-10-07 00:00:00        1\n",
       "        2014-10-07 00:05:00      3.5\n",
       "        2014-10-07 00:10:00        6\n",
       "        2014-10-07 00:15:00      8.5\n",
       "dtype: object"
      ]
     },
     "execution_count": 14,
     "metadata": {},
     "output_type": "execute_result"
    }
   ],
   "source": [
    "rng = pd.date_range(start=\"2014-10-07\",periods=10,freq='2min')\n",
    "ts = pd.Series(data = list(range(10)), index = rng);print('ts','\\n',ts,'\\n')\n",
    "def MyCust(x):\n",
    "    if len(x) > 2:\n",
    "        return x[1] * 1.234\n",
    "    return pd.NaT\n",
    "mhc = {'Mean' : np.mean, 'Max' : np.max, 'Custom' : MyCust}\n",
    "ts.resample(\"5min\").apply(mhc) # 按照‘5min’的间隔进行分组，左闭右开，同一区间的进入同一组，并经过 mhc 的处理"
   ]
  },
  {
   "cell_type": "code",
   "execution_count": 46,
   "metadata": {},
   "outputs": [
    {
     "name": "stdout",
     "output_type": "stream",
     "text": [
      "df \n",
      "   Color  Value\n",
      "0   Red    100\n",
      "1   Red    150\n",
      "2   Red     50\n",
      "3  Blue     50 \n",
      "\n",
      "df \n",
      "   Color  Value  Counts\n",
      "0   Red    100       3\n",
      "1   Red    150       3\n",
      "2   Red     50       3\n",
      "3  Blue     50       1 \n",
      "\n"
     ]
    },
    {
     "data": {
      "text/plain": [
       "{'Blue': Int64Index([3], dtype='int64'),\n",
       " 'Red': Int64Index([0, 1, 2], dtype='int64')}"
      ]
     },
     "execution_count": 46,
     "metadata": {},
     "output_type": "execute_result"
    }
   ],
   "source": [
    "df = pd.DataFrame({'Color': 'Red Red Red Blue'.split(),'Value': [100, 150, 50, 50]}); print('df','\\n',df,'\\n')\n",
    "df['Counts'] = df.groupby(['Color']).transform(len);print('df','\\n',df,'\\n')\n",
    "df.groupby(['Color']).groups"
   ]
  },
  {
   "cell_type": "code",
   "execution_count": 31,
   "metadata": {},
   "outputs": [
    {
     "name": "stdout",
     "output_type": "stream",
     "text": [
      "df \n",
      "                  beyer  line_race\n",
      "Last Gunfighter     99         10\n",
      "Last Gunfighter    102         10\n",
      "Last Gunfighter    103          8\n",
      "Paynter            103         10\n",
      "Paynter             88         10\n",
      "Paynter            100          8 \n",
      "\n"
     ]
    },
    {
     "data": {
      "text/html": [
       "<div>\n",
       "<style>\n",
       "    .dataframe thead tr:only-child th {\n",
       "        text-align: right;\n",
       "    }\n",
       "\n",
       "    .dataframe thead th {\n",
       "        text-align: left;\n",
       "    }\n",
       "\n",
       "    .dataframe tbody tr th {\n",
       "        vertical-align: top;\n",
       "    }\n",
       "</style>\n",
       "<table border=\"1\" class=\"dataframe\">\n",
       "  <thead>\n",
       "    <tr style=\"text-align: right;\">\n",
       "      <th></th>\n",
       "      <th>beyer</th>\n",
       "      <th>line_race</th>\n",
       "      <th>beyer_shifted</th>\n",
       "    </tr>\n",
       "  </thead>\n",
       "  <tbody>\n",
       "    <tr>\n",
       "      <th>Last Gunfighter</th>\n",
       "      <td>99</td>\n",
       "      <td>10</td>\n",
       "      <td>NaN</td>\n",
       "    </tr>\n",
       "    <tr>\n",
       "      <th>Last Gunfighter</th>\n",
       "      <td>102</td>\n",
       "      <td>10</td>\n",
       "      <td>99.0</td>\n",
       "    </tr>\n",
       "    <tr>\n",
       "      <th>Last Gunfighter</th>\n",
       "      <td>103</td>\n",
       "      <td>8</td>\n",
       "      <td>102.0</td>\n",
       "    </tr>\n",
       "    <tr>\n",
       "      <th>Paynter</th>\n",
       "      <td>103</td>\n",
       "      <td>10</td>\n",
       "      <td>NaN</td>\n",
       "    </tr>\n",
       "    <tr>\n",
       "      <th>Paynter</th>\n",
       "      <td>88</td>\n",
       "      <td>10</td>\n",
       "      <td>103.0</td>\n",
       "    </tr>\n",
       "    <tr>\n",
       "      <th>Paynter</th>\n",
       "      <td>100</td>\n",
       "      <td>8</td>\n",
       "      <td>88.0</td>\n",
       "    </tr>\n",
       "  </tbody>\n",
       "</table>\n",
       "</div>"
      ],
      "text/plain": [
       "                 beyer  line_race  beyer_shifted\n",
       "Last Gunfighter     99         10            NaN\n",
       "Last Gunfighter    102         10           99.0\n",
       "Last Gunfighter    103          8          102.0\n",
       "Paynter            103         10            NaN\n",
       "Paynter             88         10          103.0\n",
       "Paynter            100          8           88.0"
      ]
     },
     "execution_count": 31,
     "metadata": {},
     "output_type": "execute_result"
    }
   ],
   "source": [
    "df = pd.DataFrame({u'line_race': [10, 10, 8, 10, 10, 8],u'beyer': [99, 102, 103, 103, 88, 100]},index=[u'Last Gunfighter', u'Last Gunfighter', u'Last Gunfighter',u'Paynter', u'Paynter', u'Paynter']); print('df','\\n',df,'\\n')\n",
    "df['beyer_shifted'] = df.groupby(level=0)['beyer'].shift(1);df # 去掉groupby部分，似乎没区别呀？？？"
   ]
  },
  {
   "cell_type": "code",
   "execution_count": 35,
   "metadata": {},
   "outputs": [
    {
     "name": "stdout",
     "output_type": "stream",
     "text": [
      "df \n",
      "                no\n",
      "host  service    \n",
      "other mail      1\n",
      "      web       2\n",
      "that  mail      1\n",
      "this  mail      2\n",
      "      web       1 \n",
      "\n",
      "mask \n",
      "                  no\n",
      "host               \n",
      "other  (other, web)\n",
      "that   (that, mail)\n",
      "this   (this, mail) \n",
      "\n"
     ]
    },
    {
     "data": {
      "text/html": [
       "<div>\n",
       "<style>\n",
       "    .dataframe thead tr:only-child th {\n",
       "        text-align: right;\n",
       "    }\n",
       "\n",
       "    .dataframe thead th {\n",
       "        text-align: left;\n",
       "    }\n",
       "\n",
       "    .dataframe tbody tr th {\n",
       "        vertical-align: top;\n",
       "    }\n",
       "</style>\n",
       "<table border=\"1\" class=\"dataframe\">\n",
       "  <thead>\n",
       "    <tr style=\"text-align: right;\">\n",
       "      <th></th>\n",
       "      <th>host</th>\n",
       "      <th>service</th>\n",
       "      <th>no</th>\n",
       "    </tr>\n",
       "  </thead>\n",
       "  <tbody>\n",
       "    <tr>\n",
       "      <th>0</th>\n",
       "      <td>other</td>\n",
       "      <td>web</td>\n",
       "      <td>2</td>\n",
       "    </tr>\n",
       "    <tr>\n",
       "      <th>1</th>\n",
       "      <td>that</td>\n",
       "      <td>mail</td>\n",
       "      <td>1</td>\n",
       "    </tr>\n",
       "    <tr>\n",
       "      <th>2</th>\n",
       "      <td>this</td>\n",
       "      <td>mail</td>\n",
       "      <td>2</td>\n",
       "    </tr>\n",
       "  </tbody>\n",
       "</table>\n",
       "</div>"
      ],
      "text/plain": [
       "    host service  no\n",
       "0  other     web   2\n",
       "1   that    mail   1\n",
       "2   this    mail   2"
      ]
     },
     "execution_count": 35,
     "metadata": {},
     "output_type": "execute_result"
    }
   ],
   "source": [
    "df = pd.DataFrame({'host':['other','other','that','this','this'],'service':['mail','web','mail','mail','web'],'no':[1, 2, 1, 2, 1]}).set_index(['host', 'service']);print('df','\\n',df,'\\n')\n",
    "mask = df.groupby(level=0).agg('idxmax');print('mask','\\n',mask,'\\n')\n",
    "df_count = df.loc[mask['no']].reset_index();df_count"
   ]
  },
  {
   "cell_type": "code",
   "execution_count": 58,
   "metadata": {},
   "outputs": [
    {
     "data": {
      "text/plain": [
       "0    0\n",
       "1    1\n",
       "2    0\n",
       "3    1\n",
       "4    2\n",
       "5    3\n",
       "6    0\n",
       "7    1\n",
       "8    2\n",
       "Name: A, dtype: int64"
      ]
     },
     "execution_count": 58,
     "metadata": {},
     "output_type": "execute_result"
    }
   ],
   "source": [
    "df = pd.DataFrame([0, 1, 0, 1, 1, 1, 0, 1, 1], columns=['A'])\n",
    "df.A.groupby((df.A != df.A.shift()).cumsum()).groups\n",
    "df.A.groupby((df.A != df.A.shift()).cumsum()).head(10)#\n",
    "df.A.groupby((df.A != df.A.shift()).cumsum()).cumsum() # 奇怪，为什么没有分组显示？？？"
   ]
  },
  {
   "cell_type": "code",
   "execution_count": 79,
   "metadata": {},
   "outputs": [
    {
     "name": "stdout",
     "output_type": "stream",
     "text": [
      "GroupBy \n",
      " 0    0.0\n",
      "1    0.0\n",
      "2    0.0\n",
      "3    0.0\n",
      "4    1.0\n",
      "5    1.0\n",
      "6    1.0\n",
      "7    2.0\n",
      "8    2.0\n",
      "Name: Case, dtype: float64 \n",
      "\n"
     ]
    },
    {
     "data": {
      "text/html": [
       "<div>\n",
       "<style>\n",
       "    .dataframe thead tr:only-child th {\n",
       "        text-align: right;\n",
       "    }\n",
       "\n",
       "    .dataframe thead th {\n",
       "        text-align: left;\n",
       "    }\n",
       "\n",
       "    .dataframe tbody tr th {\n",
       "        vertical-align: top;\n",
       "    }\n",
       "</style>\n",
       "<table border=\"1\" class=\"dataframe\">\n",
       "  <thead>\n",
       "    <tr style=\"text-align: right;\">\n",
       "      <th></th>\n",
       "      <th>Case</th>\n",
       "      <th>Data</th>\n",
       "    </tr>\n",
       "  </thead>\n",
       "  <tbody>\n",
       "    <tr>\n",
       "      <th>0</th>\n",
       "      <td>A</td>\n",
       "      <td>1.048513</td>\n",
       "    </tr>\n",
       "    <tr>\n",
       "      <th>1</th>\n",
       "      <td>A</td>\n",
       "      <td>-1.396684</td>\n",
       "    </tr>\n",
       "    <tr>\n",
       "      <th>2</th>\n",
       "      <td>A</td>\n",
       "      <td>-0.872018</td>\n",
       "    </tr>\n",
       "    <tr>\n",
       "      <th>3</th>\n",
       "      <td>B</td>\n",
       "      <td>-0.021556</td>\n",
       "    </tr>\n",
       "  </tbody>\n",
       "</table>\n",
       "</div>"
      ],
      "text/plain": [
       "  Case      Data\n",
       "0    A  1.048513\n",
       "1    A -1.396684\n",
       "2    A -0.872018\n",
       "3    B -0.021556"
      ]
     },
     "execution_count": 79,
     "metadata": {},
     "output_type": "execute_result"
    }
   ],
   "source": [
    " df = pd.DataFrame(data={'Case' : ['A','A','A','B','A','A','B','A','A'],\n",
    ".....: 'Data' : np.random.randn(9)})\n",
    "print('GroupBy','\\n',(1*(df['Case']=='B')).cumsum().rolling(window=3,min_periods=1).median(),'\\n')\n",
    "dfs = list(zip(*df.groupby((1*(df['Case']=='B')).cumsum().rolling(window=3,min_periods=1).median()))) # 注意，此处groupby的结果实际上就是类似字典的键值对（key,value）,\n",
    "# 在前方加上一个'*'号(引导所有位置参数)，再配合zip使用，实际上就是对groupby的键值对进行解压\n",
    "dfs[1][0]"
   ]
  },
  {
   "cell_type": "markdown",
   "metadata": {},
   "source": [
    "Python中zip与groupby的联合。\n",
    "```python\n",
    "import itertools as it\n",
    "iterable = ((key, list(group)) for (key, group) in it.groupby([1, 2, 3, 4, 5, 2, 3, 4, 2], lambda p: p==2))\n",
    "for (x, y), _ in zip(iterable, iterable):\n",
    "    print(x, y)\n",
    "iterable = ((key, list(group)) for (key, group) in it.groupby([1, 2, 3, 4, 5, 2, 3, 4, 2], lambda p: p==2))\n",
    "list(iterable)\n",
    "```"
   ]
  },
  {
   "cell_type": "code",
   "execution_count": 100,
   "metadata": {},
   "outputs": [
    {
     "name": "stdout",
     "output_type": "stream",
     "text": [
      "df \n",
      "         City Province  Sales\n",
      "0    Toronto       ON     13\n",
      "1   Montreal       QC      6\n",
      "2  Vancouver       BC     16\n",
      "3    Calgary       AL      8\n",
      "4   Edmonton       AL      4\n",
      "5   Winnipeg       MN      3\n",
      "6    Windsor       ON      1 \n",
      "\n",
      "table \n",
      "            Sales                                                           \n",
      "City     Calgary Edmonton Montreal Toronto Vancouver Windsor Winnipeg   All\n",
      "Province                                                                   \n",
      "AL           8.0      4.0      NaN     NaN       NaN     NaN      NaN  12.0\n",
      "BC           NaN      NaN      NaN     NaN      16.0     NaN      NaN  16.0\n",
      "MN           NaN      NaN      NaN     NaN       NaN     NaN      3.0   3.0\n",
      "ON           NaN      NaN      NaN    13.0       NaN     1.0      NaN  14.0\n",
      "QC           NaN      NaN      6.0     NaN       NaN     NaN      NaN   6.0\n",
      "All          8.0      4.0      6.0    13.0      16.0     1.0      3.0  51.0 \n",
      "\n"
     ]
    },
    {
     "data": {
      "text/html": [
       "<div>\n",
       "<style>\n",
       "    .dataframe thead tr:only-child th {\n",
       "        text-align: right;\n",
       "    }\n",
       "\n",
       "    .dataframe thead th {\n",
       "        text-align: left;\n",
       "    }\n",
       "\n",
       "    .dataframe tbody tr th {\n",
       "        vertical-align: top;\n",
       "    }\n",
       "</style>\n",
       "<table border=\"1\" class=\"dataframe\">\n",
       "  <thead>\n",
       "    <tr style=\"text-align: right;\">\n",
       "      <th></th>\n",
       "      <th></th>\n",
       "      <th>Sales</th>\n",
       "    </tr>\n",
       "    <tr>\n",
       "      <th>Province</th>\n",
       "      <th>City</th>\n",
       "      <th></th>\n",
       "    </tr>\n",
       "  </thead>\n",
       "  <tbody>\n",
       "    <tr>\n",
       "      <th rowspan=\"3\" valign=\"top\">AL</th>\n",
       "      <th>All</th>\n",
       "      <td>12.0</td>\n",
       "    </tr>\n",
       "    <tr>\n",
       "      <th>Calgary</th>\n",
       "      <td>8.0</td>\n",
       "    </tr>\n",
       "    <tr>\n",
       "      <th>Edmonton</th>\n",
       "      <td>4.0</td>\n",
       "    </tr>\n",
       "    <tr>\n",
       "      <th rowspan=\"2\" valign=\"top\">BC</th>\n",
       "      <th>All</th>\n",
       "      <td>16.0</td>\n",
       "    </tr>\n",
       "    <tr>\n",
       "      <th>Vancouver</th>\n",
       "      <td>16.0</td>\n",
       "    </tr>\n",
       "    <tr>\n",
       "      <th rowspan=\"2\" valign=\"top\">MN</th>\n",
       "      <th>All</th>\n",
       "      <td>3.0</td>\n",
       "    </tr>\n",
       "    <tr>\n",
       "      <th>Winnipeg</th>\n",
       "      <td>3.0</td>\n",
       "    </tr>\n",
       "    <tr>\n",
       "      <th rowspan=\"3\" valign=\"top\">ON</th>\n",
       "      <th>All</th>\n",
       "      <td>14.0</td>\n",
       "    </tr>\n",
       "    <tr>\n",
       "      <th>Toronto</th>\n",
       "      <td>13.0</td>\n",
       "    </tr>\n",
       "    <tr>\n",
       "      <th>Windsor</th>\n",
       "      <td>1.0</td>\n",
       "    </tr>\n",
       "    <tr>\n",
       "      <th rowspan=\"2\" valign=\"top\">QC</th>\n",
       "      <th>All</th>\n",
       "      <td>6.0</td>\n",
       "    </tr>\n",
       "    <tr>\n",
       "      <th>Montreal</th>\n",
       "      <td>6.0</td>\n",
       "    </tr>\n",
       "    <tr>\n",
       "      <th rowspan=\"8\" valign=\"top\">All</th>\n",
       "      <th>All</th>\n",
       "      <td>51.0</td>\n",
       "    </tr>\n",
       "    <tr>\n",
       "      <th>Calgary</th>\n",
       "      <td>8.0</td>\n",
       "    </tr>\n",
       "    <tr>\n",
       "      <th>Edmonton</th>\n",
       "      <td>4.0</td>\n",
       "    </tr>\n",
       "    <tr>\n",
       "      <th>Montreal</th>\n",
       "      <td>6.0</td>\n",
       "    </tr>\n",
       "    <tr>\n",
       "      <th>Toronto</th>\n",
       "      <td>13.0</td>\n",
       "    </tr>\n",
       "    <tr>\n",
       "      <th>Vancouver</th>\n",
       "      <td>16.0</td>\n",
       "    </tr>\n",
       "    <tr>\n",
       "      <th>Windsor</th>\n",
       "      <td>1.0</td>\n",
       "    </tr>\n",
       "    <tr>\n",
       "      <th>Winnipeg</th>\n",
       "      <td>3.0</td>\n",
       "    </tr>\n",
       "  </tbody>\n",
       "</table>\n",
       "</div>"
      ],
      "text/plain": [
       "                    Sales\n",
       "Province City            \n",
       "AL       All         12.0\n",
       "         Calgary      8.0\n",
       "         Edmonton     4.0\n",
       "BC       All         16.0\n",
       "         Vancouver   16.0\n",
       "MN       All          3.0\n",
       "         Winnipeg     3.0\n",
       "ON       All         14.0\n",
       "         Toronto     13.0\n",
       "         Windsor      1.0\n",
       "QC       All          6.0\n",
       "         Montreal     6.0\n",
       "All      All         51.0\n",
       "         Calgary      8.0\n",
       "         Edmonton     4.0\n",
       "         Montreal     6.0\n",
       "         Toronto     13.0\n",
       "         Vancouver   16.0\n",
       "         Windsor      1.0\n",
       "         Winnipeg     3.0"
      ]
     },
     "execution_count": 100,
     "metadata": {},
     "output_type": "execute_result"
    }
   ],
   "source": [
    "df = pd.DataFrame(data={'Province' : ['ON','QC','BC','AL','AL','MN','ON'],\n",
    ".....: 'City' : ['Toronto','Montreal','Vancouver','Calgary','Edmonton','Winnipeg','Windsor'],\n",
    ".....: 'Sales' : [13,6,16,8,4,3,1]});print('df','\\n',df,'\\n')\n",
    "table = pd.pivot_table(df,values=['Sales'],index=['Province'],columns=['City'],aggfunc=np.sum,margins=True);print('table','\\n',table,'\\n')\n",
    "table.stack('City')"
   ]
  },
  {
   "cell_type": "code",
   "execution_count": 104,
   "metadata": {},
   "outputs": [
    {
     "name": "stdout",
     "output_type": "stream",
     "text": [
      "df \n",
      "      Class  Employed ExamYear Gender  Grade  ID Participated Passed\n",
      "0  algebra      True     2007      F     48  x0          yes     no\n",
      "1    stats      True     2007      M     99  x1          yes    yes\n",
      "2      bio      True     2007      F     75  x2          yes    yes\n",
      "3  algebra     False     2008      M     80  x3          yes    yes\n",
      "4  algebra     False     2008      F     42  x4           no     no\n",
      "5    stats     False     2008      M     80  x5          yes    yes\n",
      "6    stats     False     2008      F     72  x6          yes    yes\n",
      "7  algebra      True     2009      M     68  x7          yes    yes\n",
      "8      bio      True     2009      M     36  x8          yes     no\n",
      "9      bio     False     2009      M     78  x9          yes    yes \n",
      "\n"
     ]
    },
    {
     "data": {
      "text/html": [
       "<div>\n",
       "<style>\n",
       "    .dataframe thead tr:only-child th {\n",
       "        text-align: right;\n",
       "    }\n",
       "\n",
       "    .dataframe thead th {\n",
       "        text-align: left;\n",
       "    }\n",
       "\n",
       "    .dataframe tbody tr th {\n",
       "        vertical-align: top;\n",
       "    }\n",
       "</style>\n",
       "<table border=\"1\" class=\"dataframe\">\n",
       "  <thead>\n",
       "    <tr style=\"text-align: right;\">\n",
       "      <th></th>\n",
       "      <th>Participated</th>\n",
       "      <th>Passed</th>\n",
       "      <th>Employed</th>\n",
       "      <th>Grade</th>\n",
       "    </tr>\n",
       "    <tr>\n",
       "      <th>ExamYear</th>\n",
       "      <th></th>\n",
       "      <th></th>\n",
       "      <th></th>\n",
       "      <th></th>\n",
       "    </tr>\n",
       "  </thead>\n",
       "  <tbody>\n",
       "    <tr>\n",
       "      <th>2007</th>\n",
       "      <td>3</td>\n",
       "      <td>2</td>\n",
       "      <td>3</td>\n",
       "      <td>74.000000</td>\n",
       "    </tr>\n",
       "    <tr>\n",
       "      <th>2008</th>\n",
       "      <td>3</td>\n",
       "      <td>3</td>\n",
       "      <td>0</td>\n",
       "      <td>68.500000</td>\n",
       "    </tr>\n",
       "    <tr>\n",
       "      <th>2009</th>\n",
       "      <td>3</td>\n",
       "      <td>2</td>\n",
       "      <td>2</td>\n",
       "      <td>60.666667</td>\n",
       "    </tr>\n",
       "  </tbody>\n",
       "</table>\n",
       "</div>"
      ],
      "text/plain": [
       "          Participated  Passed  Employed      Grade\n",
       "ExamYear                                           \n",
       "2007                 3       2         3  74.000000\n",
       "2008                 3       3         0  68.500000\n",
       "2009                 3       2         2  60.666667"
      ]
     },
     "execution_count": 104,
     "metadata": {},
     "output_type": "execute_result"
    }
   ],
   "source": [
    "# Frequency table like plyr in R\n",
    "grades = [48,99,75,80,42,80,72,68,36,78]\n",
    "df = pd.DataFrame( {'ID': [\"x%d\" % r for r in range(10)],\n",
    "                    'Gender' : ['F', 'M', 'F', 'M', 'F', 'M', 'F', 'M', 'M','M'],\n",
    "                    'ExamYear': ['2007','2007','2007','2008','2008','2008','2008','2009','2009','2009'],\n",
    "                    'Class': ['algebra', 'stats', 'bio', 'algebra', 'algebra', 'stats', 'stats', 'algebra', 'bio', 'bio'],\n",
    "                    'Participated': ['yes','yes','yes','yes','no','yes','yes','yes','yes','yes'],\n",
    "                    'Passed': ['yes' if x > 50 else 'no' for x in grades],\n",
    "                    'Employed': [True,True,True,False,False,False,False,True,True,False],\n",
    "                    'Grade': grades});print('df','\\n',df,'\\n')\n",
    "df.groupby('ExamYear').agg({'Participated': lambda x: x.value_counts()['yes'],\n",
    "                            'Passed': lambda x: sum(x == 'yes'),\n",
    "                            'Employed' : lambda x : sum(x),\n",
    "                            'Grade' : lambda x : sum(x) / len(x)})"
   ]
  },
  {
   "cell_type": "code",
   "execution_count": 110,
   "metadata": {
    "collapsed": true
   },
   "outputs": [
    {
     "name": "stdout",
     "output_type": "stream",
     "text": [
      "df \n",
      "                value\n",
      "2011-01-31  1.520087\n",
      "2011-02-28 -0.336713\n",
      "2011-03-31  0.516494\n",
      "2011-04-30 -0.719249\n",
      "2011-05-31 -0.798936\n",
      "2011-06-30 -0.365051\n",
      "2011-07-31  0.492802\n",
      "2011-08-31 -0.983591\n",
      "2011-09-30  0.503714\n",
      "2011-10-31  2.617904\n",
      "2011-11-30 -0.847026\n",
      "2011-12-31 -0.737232\n",
      "2012-01-31  0.100074\n",
      "2012-02-29  0.469688\n",
      "2012-03-31  1.009763\n",
      "2012-04-30 -1.522925\n",
      "2012-05-31 -0.589053\n",
      "2012-06-30  0.405481\n",
      "2012-07-31  0.289616\n",
      "2012-08-31 -0.773507\n",
      "2012-09-30  0.270195\n",
      "2012-10-31  0.529735\n",
      "2012-11-30 -0.495256\n",
      "2012-12-31  1.259274\n",
      "2013-01-31  0.303545\n",
      "2013-02-28  0.237236\n",
      "2013-03-31  1.122692\n",
      "2013-04-30 -0.444558\n",
      "2013-05-31  0.335325\n",
      "2013-06-30 -2.939471\n",
      "2013-07-31 -0.479198\n",
      "2013-08-31 -1.000247\n",
      "2013-09-30  0.872611\n",
      "2013-10-31  0.672900\n",
      "2013-11-30  0.333249\n",
      "2013-12-31  0.201533 \n",
      "\n"
     ]
    },
    {
     "data": {
      "text/html": [
       "<div>\n",
       "<style>\n",
       "    .dataframe thead tr:only-child th {\n",
       "        text-align: right;\n",
       "    }\n",
       "\n",
       "    .dataframe thead th {\n",
       "        text-align: left;\n",
       "    }\n",
       "\n",
       "    .dataframe tbody tr th {\n",
       "        vertical-align: top;\n",
       "    }\n",
       "</style>\n",
       "<table border=\"1\" class=\"dataframe\">\n",
       "  <thead>\n",
       "    <tr style=\"text-align: right;\">\n",
       "      <th></th>\n",
       "      <th>2011</th>\n",
       "      <th>2012</th>\n",
       "      <th>2013</th>\n",
       "    </tr>\n",
       "  </thead>\n",
       "  <tbody>\n",
       "    <tr>\n",
       "      <th>1</th>\n",
       "      <td>1.520087</td>\n",
       "      <td>0.100074</td>\n",
       "      <td>0.303545</td>\n",
       "    </tr>\n",
       "    <tr>\n",
       "      <th>2</th>\n",
       "      <td>-0.336713</td>\n",
       "      <td>0.469688</td>\n",
       "      <td>0.237236</td>\n",
       "    </tr>\n",
       "    <tr>\n",
       "      <th>3</th>\n",
       "      <td>0.516494</td>\n",
       "      <td>1.009763</td>\n",
       "      <td>1.122692</td>\n",
       "    </tr>\n",
       "    <tr>\n",
       "      <th>4</th>\n",
       "      <td>-0.719249</td>\n",
       "      <td>-1.522925</td>\n",
       "      <td>-0.444558</td>\n",
       "    </tr>\n",
       "    <tr>\n",
       "      <th>5</th>\n",
       "      <td>-0.798936</td>\n",
       "      <td>-0.589053</td>\n",
       "      <td>0.335325</td>\n",
       "    </tr>\n",
       "    <tr>\n",
       "      <th>6</th>\n",
       "      <td>-0.365051</td>\n",
       "      <td>0.405481</td>\n",
       "      <td>-2.939471</td>\n",
       "    </tr>\n",
       "    <tr>\n",
       "      <th>7</th>\n",
       "      <td>0.492802</td>\n",
       "      <td>0.289616</td>\n",
       "      <td>-0.479198</td>\n",
       "    </tr>\n",
       "    <tr>\n",
       "      <th>8</th>\n",
       "      <td>-0.983591</td>\n",
       "      <td>-0.773507</td>\n",
       "      <td>-1.000247</td>\n",
       "    </tr>\n",
       "    <tr>\n",
       "      <th>9</th>\n",
       "      <td>0.503714</td>\n",
       "      <td>0.270195</td>\n",
       "      <td>0.872611</td>\n",
       "    </tr>\n",
       "    <tr>\n",
       "      <th>10</th>\n",
       "      <td>2.617904</td>\n",
       "      <td>0.529735</td>\n",
       "      <td>0.672900</td>\n",
       "    </tr>\n",
       "    <tr>\n",
       "      <th>11</th>\n",
       "      <td>-0.847026</td>\n",
       "      <td>-0.495256</td>\n",
       "      <td>0.333249</td>\n",
       "    </tr>\n",
       "    <tr>\n",
       "      <th>12</th>\n",
       "      <td>-0.737232</td>\n",
       "      <td>1.259274</td>\n",
       "      <td>0.201533</td>\n",
       "    </tr>\n",
       "  </tbody>\n",
       "</table>\n",
       "</div>"
      ],
      "text/plain": [
       "        2011      2012      2013\n",
       "1   1.520087  0.100074  0.303545\n",
       "2  -0.336713  0.469688  0.237236\n",
       "3   0.516494  1.009763  1.122692\n",
       "4  -0.719249 -1.522925 -0.444558\n",
       "5  -0.798936 -0.589053  0.335325\n",
       "6  -0.365051  0.405481 -2.939471\n",
       "7   0.492802  0.289616 -0.479198\n",
       "8  -0.983591 -0.773507 -1.000247\n",
       "9   0.503714  0.270195  0.872611\n",
       "10  2.617904  0.529735  0.672900\n",
       "11 -0.847026 -0.495256  0.333249\n",
       "12 -0.737232  1.259274  0.201533"
      ]
     },
     "execution_count": 110,
     "metadata": {},
     "output_type": "execute_result"
    }
   ],
   "source": [
    " df = pd.DataFrame({'value': np.random.randn(36)},\n",
    ".....: index=pd.date_range('2011-01-01', freq='M', periods=36));print('df','\\n',df,'\\n')\n",
    "pd.pivot_table(df, index=df.index.month, columns=df.index.year,\n",
    ".....: values='value', aggfunc='sum')"
   ]
  },
  {
   "cell_type": "code",
   "execution_count": 119,
   "metadata": {},
   "outputs": [
    {
     "name": "stdout",
     "output_type": "stream",
     "text": [
      "df \n",
      "                  A          B\n",
      "I    [2, 4, 8, 16]  [a, b, c]\n",
      "II      [100, 200]   [jj, kk]\n",
      "III   [10, 20, 30]      [ccc] \n",
      "\n"
     ]
    },
    {
     "data": {
      "text/html": [
       "<div>\n",
       "<style>\n",
       "    .dataframe thead tr:only-child th {\n",
       "        text-align: right;\n",
       "    }\n",
       "\n",
       "    .dataframe thead th {\n",
       "        text-align: left;\n",
       "    }\n",
       "\n",
       "    .dataframe tbody tr th {\n",
       "        vertical-align: top;\n",
       "    }\n",
       "</style>\n",
       "<table border=\"1\" class=\"dataframe\">\n",
       "  <thead>\n",
       "    <tr style=\"text-align: right;\">\n",
       "      <th></th>\n",
       "      <th></th>\n",
       "      <th>0</th>\n",
       "      <th>1</th>\n",
       "      <th>2</th>\n",
       "      <th>3</th>\n",
       "    </tr>\n",
       "  </thead>\n",
       "  <tbody>\n",
       "    <tr>\n",
       "      <th rowspan=\"2\" valign=\"top\">I</th>\n",
       "      <th>A</th>\n",
       "      <td>2</td>\n",
       "      <td>4</td>\n",
       "      <td>8</td>\n",
       "      <td>16.0</td>\n",
       "    </tr>\n",
       "    <tr>\n",
       "      <th>B</th>\n",
       "      <td>a</td>\n",
       "      <td>b</td>\n",
       "      <td>c</td>\n",
       "      <td>NaN</td>\n",
       "    </tr>\n",
       "    <tr>\n",
       "      <th rowspan=\"2\" valign=\"top\">II</th>\n",
       "      <th>A</th>\n",
       "      <td>100</td>\n",
       "      <td>200</td>\n",
       "      <td>NaN</td>\n",
       "      <td>NaN</td>\n",
       "    </tr>\n",
       "    <tr>\n",
       "      <th>B</th>\n",
       "      <td>jj</td>\n",
       "      <td>kk</td>\n",
       "      <td>NaN</td>\n",
       "      <td>NaN</td>\n",
       "    </tr>\n",
       "    <tr>\n",
       "      <th rowspan=\"2\" valign=\"top\">III</th>\n",
       "      <th>A</th>\n",
       "      <td>10</td>\n",
       "      <td>20</td>\n",
       "      <td>30</td>\n",
       "      <td>NaN</td>\n",
       "    </tr>\n",
       "    <tr>\n",
       "      <th>B</th>\n",
       "      <td>ccc</td>\n",
       "      <td>NaN</td>\n",
       "      <td>NaN</td>\n",
       "      <td>NaN</td>\n",
       "    </tr>\n",
       "  </tbody>\n",
       "</table>\n",
       "</div>"
      ],
      "text/plain": [
       "         0    1    2     3\n",
       "I   A    2    4    8  16.0\n",
       "    B    a    b    c   NaN\n",
       "II  A  100  200  NaN   NaN\n",
       "    B   jj   kk  NaN   NaN\n",
       "III A   10   20   30   NaN\n",
       "    B  ccc  NaN  NaN   NaN"
      ]
     },
     "execution_count": 119,
     "metadata": {},
     "output_type": "execute_result"
    }
   ],
   "source": [
    "df = pd.DataFrame(data={'A' : [[2,4,8,16],[100,200],[10,20,30]], 'B' : [['a','b','c'],['jj','kk'],['ccc']]},index=['I','II','III']);print('df','\\n',df,'\\n')\n",
    "def SeriesFromSubList(aList):\n",
    "    return pd.Series(aList)\n",
    "df_orgz = pd.concat(dict((ind,row.apply(SeriesFromSubList)) for ind,row in df.iterrows()));df_orgz # pd.concat配合dict也能生成DataFrame\n",
    "# [i for i in zip(*df.iterrows())]"
   ]
  },
  {
   "cell_type": "code",
   "execution_count": 124,
   "metadata": {
    "collapsed": true
   },
   "outputs": [
    {
     "data": {
      "text/plain": [
       "2001-01-01   -0.000003\n",
       "2001-01-02    0.002159\n",
       "2001-01-03    0.002261\n",
       "2001-01-04    0.002714\n",
       "2001-01-05    0.002002\n",
       "2001-01-06    0.001195\n",
       "2001-01-07    0.001391\n",
       "2001-01-08    0.001921\n",
       "2001-01-09    0.002883\n",
       "2001-01-10    0.000901\n",
       "2001-01-11    0.000706\n",
       "2001-01-12    0.001992\n",
       "2001-01-13    0.001513\n",
       "2001-01-14    0.001489\n",
       "2001-01-15    0.001324\n",
       "2001-01-16    0.001970\n",
       "2001-01-17    0.001656\n",
       "2001-01-18    0.002051\n",
       "2001-01-19    0.000370\n",
       "2001-01-20    0.000635\n",
       "2001-01-21   -0.000250\n",
       "2001-01-22   -0.000421\n",
       "2001-01-23    0.000289\n",
       "2001-01-24   -0.000418\n",
       "2001-01-25   -0.000373\n",
       "2001-01-26   -0.000911\n",
       "2001-01-27    0.000072\n",
       "2001-01-28    0.000805\n",
       "2001-01-29    0.000568\n",
       "2001-01-30   -0.000270\n",
       "                ...   \n",
       "2006-04-05   -0.001970\n",
       "2006-04-06   -0.000600\n",
       "2006-04-07   -0.000769\n",
       "2006-04-08   -0.000177\n",
       "2006-04-09   -0.000122\n",
       "2006-04-10    0.000681\n",
       "2006-04-11    0.000901\n",
       "2006-04-12    0.000530\n",
       "2006-04-13   -0.000832\n",
       "2006-04-14   -0.000742\n",
       "2006-04-15   -0.000884\n",
       "2006-04-16   -0.001513\n",
       "2006-04-17   -0.001934\n",
       "2006-04-18   -0.003239\n",
       "2006-04-19   -0.002747\n",
       "2006-04-20   -0.001744\n",
       "2006-04-21   -0.002649\n",
       "2006-04-22   -0.003435\n",
       "2006-04-23   -0.003119\n",
       "2006-04-24   -0.003232\n",
       "2006-04-25   -0.003527\n",
       "2006-04-26   -0.002272\n",
       "2006-04-27   -0.004304\n",
       "2006-04-28   -0.006416\n",
       "2006-04-29   -0.006798\n",
       "2006-04-30   -0.005979\n",
       "2006-05-01   -0.006673\n",
       "2006-05-02   -0.006748\n",
       "2006-05-03   -0.006417\n",
       "2006-05-04   -0.006036\n",
       "Length: 1950, dtype: float64"
      ]
     },
     "execution_count": 124,
     "metadata": {},
     "output_type": "execute_result"
    }
   ],
   "source": [
    "df = pd.DataFrame(data=np.random.randn(2000,2)/10000,\n",
    ".....: index=pd.date_range('2001-01-01',periods=2000),\n",
    ".....: columns=['A','B']);#print('df','\\n',df,'\\n')\n",
    "def gm(aDF,Const):\n",
    "    v = ((((aDF.A+aDF.B)+1).cumprod())-1)*Const\n",
    "    return (aDF.index[0],v.iloc[-1])\n",
    "S = pd.Series(dict([ gm(df.iloc[i:min(i+51,len(df)-1)],5) for i in range(len(df)-50) ])); S"
   ]
  },
  {
   "cell_type": "code",
   "execution_count": 125,
   "metadata": {
    "scrolled": true
   },
   "outputs": [
    {
     "name": "stdout",
     "output_type": "stream",
     "text": [
      "df \n",
      "                Close      Open  Volume\n",
      "2014-01-01 -0.285479  1.989249     632\n",
      "2014-01-02  1.085798  1.288741     683\n",
      "2014-01-03  1.001610 -0.028647    1067\n",
      "2014-01-04  0.731951  1.525071    1576\n",
      "2014-01-05 -0.253062  0.212457     850\n",
      "2014-01-06  2.029445  0.430524    1924\n",
      "2014-01-07 -0.636088  1.226008     493\n",
      "2014-01-08  0.070495  1.812905    1667\n",
      "2014-01-09 -0.214684  0.015072     609\n",
      "2014-01-10  0.181727 -0.417450    1944\n",
      "2014-01-11 -0.506975  0.336886    1821\n",
      "2014-01-12  0.704679  0.992377     895\n",
      "2014-01-13  1.557393 -0.718602    1997\n",
      "2014-01-14 -0.827359  0.887002     932\n",
      "2014-01-15  0.658453 -0.440078     934\n",
      "2014-01-16  0.223906  0.343295    1644\n",
      "2014-01-17  2.048245  0.286974    1165\n",
      "2014-01-18 -1.284892  1.979537    1748\n",
      "2014-01-19  0.572941 -0.988715    1355\n",
      "2014-01-20 -0.328302  1.241756    1373\n",
      "2014-01-21  1.076282 -0.607569    1414\n",
      "2014-01-22  0.397605 -0.488174    1871\n",
      "2014-01-23  0.017022 -0.057660    1677\n",
      "2014-01-24  0.447840  1.578144    1990\n",
      "2014-01-25 -0.092231 -0.193085    1645\n",
      "2014-01-26  1.190215 -0.748561    1834\n",
      "2014-01-27 -0.464069 -0.782561    1541\n",
      "2014-01-28 -1.066892  0.071082     460\n",
      "2014-01-29  0.072794  1.577811     325\n",
      "2014-01-30  2.020671  0.266193     409\n",
      "...              ...       ...     ...\n",
      "2014-03-12  0.486788  0.040560    1008\n",
      "2014-03-13  0.614426 -0.989918    1985\n",
      "2014-03-14  0.120359 -1.185786    1979\n",
      "2014-03-15 -1.061565  0.403454    1532\n",
      "2014-03-16  0.691226 -0.919407     457\n",
      "2014-03-17  0.810341  1.330183    1235\n",
      "2014-03-18 -0.955767 -0.417728    1499\n",
      "2014-03-19 -2.116427 -0.787732    1307\n",
      "2014-03-20 -0.664736  1.288538    1522\n",
      "2014-03-21 -0.234708 -1.400316    1986\n",
      "2014-03-22  0.492065  0.069180     846\n",
      "2014-03-23 -1.422642 -0.315292     242\n",
      "2014-03-24 -0.321487 -0.288848    1189\n",
      "2014-03-25 -1.330479 -0.006433     646\n",
      "2014-03-26  0.354445 -1.498095     814\n",
      "2014-03-27 -0.536498  0.217000     795\n",
      "2014-03-28 -0.760599  1.189190     687\n",
      "2014-03-29  0.442775 -1.360509    1019\n",
      "2014-03-30  0.497100 -0.141266    1118\n",
      "2014-03-31  0.583341 -0.096790    1840\n",
      "2014-04-01  2.528897  0.509275    1358\n",
      "2014-04-02  2.413121 -0.266234    1398\n",
      "2014-04-03 -0.077644 -1.579005    1700\n",
      "2014-04-04  0.306255  0.821110    1441\n",
      "2014-04-05  0.756990  1.176935     245\n",
      "2014-04-06 -0.307840  0.637437    1863\n",
      "2014-04-07 -1.338474 -0.977251     265\n",
      "2014-04-08 -0.130362  1.678046     546\n",
      "2014-04-09 -0.361714 -0.227598    1088\n",
      "2014-04-10  1.160498 -0.554698     987\n",
      "\n",
      "[100 rows x 3 columns] \n",
      "\n"
     ]
    }
   ],
   "source": [
    "rng = pd.date_range(start = '2014-01-01',periods = 100)\n",
    "df = pd.DataFrame({'Open' : np.random.randn(len(rng)),\n",
    "                   'Close' : np.random.randn(len(rng)), \n",
    "                   'Volume' : np.random.randint(100,2000,len(rng))},index=rng);print('df','\\n',df,'\\n')\n",
    "def vwap(bars): return ((bars.Close*bars.Volume).sum()/bars.Volume.sum())  # vwap是时间维度上关于volume的加权平均价格\n",
    "window = 5\n",
    "s = pd.concat([ (pd.Series(vwap(df.iloc[i:i+window]), index=[df.index[i+window]])) for i in range(len(df)-window) ]);"
   ]
  },
  {
   "cell_type": "code",
   "execution_count": 131,
   "metadata": {},
   "outputs": [
    {
     "name": "stdout",
     "output_type": "stream",
     "text": [
      "DatetimeIndex(['2000-01-01', '2000-01-02', '2000-01-03', '2000-01-04',\n",
      "               '2000-01-05'],\n",
      "              dtype='datetime64[ns]', freq='D')\n"
     ]
    },
    {
     "data": {
      "text/plain": [
       "DatetimeIndex(['2000-01-01', '2000-01-01', '2000-01-01', '2000-01-01',\n",
       "               '2000-01-01'],\n",
       "              dtype='datetime64[ns]', freq=None)"
      ]
     },
     "execution_count": 131,
     "metadata": {},
     "output_type": "execute_result"
    }
   ],
   "source": [
    "dates = pd.date_range('2000-01-01', periods=5);print(dates)\n",
    "dates.to_period(freq='M').to_timestamp()"
   ]
  },
  {
   "cell_type": "code",
   "execution_count": 135,
   "metadata": {},
   "outputs": [
    {
     "name": "stdout",
     "output_type": "stream",
     "text": [
      "                   A         B         C\n",
      "2000-01-01  0.226176 -0.998960 -0.674168\n",
      "2000-01-02  1.486666 -0.910204 -0.204576\n",
      "2000-01-03 -0.001053 -0.935087  1.278604\n",
      "2000-01-04 -0.322186  0.990615  0.728042\n",
      "2000-01-05 -0.055343  0.590623 -0.081432\n",
      "2000-01-06  0.168021  0.020453 -0.619111\n"
     ]
    },
    {
     "data": {
      "text/html": [
       "<div>\n",
       "<style>\n",
       "    .dataframe thead tr:only-child th {\n",
       "        text-align: right;\n",
       "    }\n",
       "\n",
       "    .dataframe thead th {\n",
       "        text-align: left;\n",
       "    }\n",
       "\n",
       "    .dataframe tbody tr th {\n",
       "        vertical-align: top;\n",
       "    }\n",
       "</style>\n",
       "<table border=\"1\" class=\"dataframe\">\n",
       "  <thead>\n",
       "    <tr style=\"text-align: right;\">\n",
       "      <th></th>\n",
       "      <th>A</th>\n",
       "      <th>B</th>\n",
       "      <th>C</th>\n",
       "    </tr>\n",
       "  </thead>\n",
       "  <tbody>\n",
       "    <tr>\n",
       "      <th>2000-01-01</th>\n",
       "      <td>0.226176</td>\n",
       "      <td>-0.998960</td>\n",
       "      <td>-0.674168</td>\n",
       "    </tr>\n",
       "    <tr>\n",
       "      <th>2000-01-02</th>\n",
       "      <td>1.486666</td>\n",
       "      <td>-0.910204</td>\n",
       "      <td>-0.204576</td>\n",
       "    </tr>\n",
       "    <tr>\n",
       "      <th>2000-01-03</th>\n",
       "      <td>-0.001053</td>\n",
       "      <td>-0.935087</td>\n",
       "      <td>1.278604</td>\n",
       "    </tr>\n",
       "    <tr>\n",
       "      <th>2000-01-04</th>\n",
       "      <td>-0.322186</td>\n",
       "      <td>0.990615</td>\n",
       "      <td>0.728042</td>\n",
       "    </tr>\n",
       "    <tr>\n",
       "      <th>2000-01-05</th>\n",
       "      <td>-0.055343</td>\n",
       "      <td>0.590623</td>\n",
       "      <td>-0.081432</td>\n",
       "    </tr>\n",
       "    <tr>\n",
       "      <th>2000-01-06</th>\n",
       "      <td>0.168021</td>\n",
       "      <td>0.020453</td>\n",
       "      <td>-0.619111</td>\n",
       "    </tr>\n",
       "    <tr>\n",
       "      <th>2000-01-01</th>\n",
       "      <td>0.226176</td>\n",
       "      <td>-0.998960</td>\n",
       "      <td>-0.674168</td>\n",
       "    </tr>\n",
       "    <tr>\n",
       "      <th>2000-01-02</th>\n",
       "      <td>1.486666</td>\n",
       "      <td>-0.910204</td>\n",
       "      <td>-0.204576</td>\n",
       "    </tr>\n",
       "    <tr>\n",
       "      <th>2000-01-03</th>\n",
       "      <td>-0.001053</td>\n",
       "      <td>-0.935087</td>\n",
       "      <td>1.278604</td>\n",
       "    </tr>\n",
       "    <tr>\n",
       "      <th>2000-01-04</th>\n",
       "      <td>-0.322186</td>\n",
       "      <td>0.990615</td>\n",
       "      <td>0.728042</td>\n",
       "    </tr>\n",
       "    <tr>\n",
       "      <th>2000-01-05</th>\n",
       "      <td>-0.055343</td>\n",
       "      <td>0.590623</td>\n",
       "      <td>-0.081432</td>\n",
       "    </tr>\n",
       "    <tr>\n",
       "      <th>2000-01-06</th>\n",
       "      <td>0.168021</td>\n",
       "      <td>0.020453</td>\n",
       "      <td>-0.619111</td>\n",
       "    </tr>\n",
       "  </tbody>\n",
       "</table>\n",
       "</div>"
      ],
      "text/plain": [
       "                   A         B         C\n",
       "2000-01-01  0.226176 -0.998960 -0.674168\n",
       "2000-01-02  1.486666 -0.910204 -0.204576\n",
       "2000-01-03 -0.001053 -0.935087  1.278604\n",
       "2000-01-04 -0.322186  0.990615  0.728042\n",
       "2000-01-05 -0.055343  0.590623 -0.081432\n",
       "2000-01-06  0.168021  0.020453 -0.619111\n",
       "2000-01-01  0.226176 -0.998960 -0.674168\n",
       "2000-01-02  1.486666 -0.910204 -0.204576\n",
       "2000-01-03 -0.001053 -0.935087  1.278604\n",
       "2000-01-04 -0.322186  0.990615  0.728042\n",
       "2000-01-05 -0.055343  0.590623 -0.081432\n",
       "2000-01-06  0.168021  0.020453 -0.619111"
      ]
     },
     "execution_count": 135,
     "metadata": {},
     "output_type": "execute_result"
    }
   ],
   "source": [
    "rng = pd.date_range('2000-01-01', periods=6)\n",
    "df1 = pd.DataFrame(np.random.randn(6, 3), index=rng, columns=['A', 'B', 'C']);print(df1)\n",
    "df2 = df1.copy()\n",
    "df = df1.append(df2,ignore_index=False); df # 如果不忽略index的话，那么包括index在内都是简单的append，index不用对齐"
   ]
  },
  {
   "cell_type": "code",
   "execution_count": 143,
   "metadata": {},
   "outputs": [
    {
     "name": "stdout",
     "output_type": "stream",
     "text": [
      "  Area  Bins      Data  Test_0  Test_1\n",
      "0    A   110  0.834162       0      -1\n",
      "1    A   110  0.767730       1       0\n",
      "2    A   160  0.565421       0      -1\n",
      "3    A   160  0.424011       1       0\n",
      "4    A   160  0.585489       2       1\n",
      "5    C    40  1.675746       0      -1\n",
      "6    C    40  0.068042       1       0\n"
     ]
    },
    {
     "data": {
      "text/html": [
       "<div>\n",
       "<style>\n",
       "    .dataframe thead tr:only-child th {\n",
       "        text-align: right;\n",
       "    }\n",
       "\n",
       "    .dataframe thead th {\n",
       "        text-align: left;\n",
       "    }\n",
       "\n",
       "    .dataframe tbody tr th {\n",
       "        vertical-align: top;\n",
       "    }\n",
       "</style>\n",
       "<table border=\"1\" class=\"dataframe\">\n",
       "  <thead>\n",
       "    <tr style=\"text-align: right;\">\n",
       "      <th></th>\n",
       "      <th>Area</th>\n",
       "      <th>Bins</th>\n",
       "      <th>Data_L</th>\n",
       "      <th>Test_0_L</th>\n",
       "      <th>Test_1_L</th>\n",
       "      <th>Data_R</th>\n",
       "      <th>Test_0_R</th>\n",
       "      <th>Test_1_R</th>\n",
       "    </tr>\n",
       "  </thead>\n",
       "  <tbody>\n",
       "    <tr>\n",
       "      <th>0</th>\n",
       "      <td>A</td>\n",
       "      <td>110</td>\n",
       "      <td>0.834162</td>\n",
       "      <td>0.0</td>\n",
       "      <td>-1.0</td>\n",
       "      <td>0.767730</td>\n",
       "      <td>1.0</td>\n",
       "      <td>0.0</td>\n",
       "    </tr>\n",
       "    <tr>\n",
       "      <th>1</th>\n",
       "      <td>A</td>\n",
       "      <td>110</td>\n",
       "      <td>0.767730</td>\n",
       "      <td>1.0</td>\n",
       "      <td>0.0</td>\n",
       "      <td>NaN</td>\n",
       "      <td>NaN</td>\n",
       "      <td>NaN</td>\n",
       "    </tr>\n",
       "    <tr>\n",
       "      <th>2</th>\n",
       "      <td>A</td>\n",
       "      <td>160</td>\n",
       "      <td>0.565421</td>\n",
       "      <td>0.0</td>\n",
       "      <td>-1.0</td>\n",
       "      <td>0.424011</td>\n",
       "      <td>1.0</td>\n",
       "      <td>0.0</td>\n",
       "    </tr>\n",
       "    <tr>\n",
       "      <th>3</th>\n",
       "      <td>A</td>\n",
       "      <td>160</td>\n",
       "      <td>0.424011</td>\n",
       "      <td>1.0</td>\n",
       "      <td>0.0</td>\n",
       "      <td>0.585489</td>\n",
       "      <td>2.0</td>\n",
       "      <td>1.0</td>\n",
       "    </tr>\n",
       "    <tr>\n",
       "      <th>4</th>\n",
       "      <td>A</td>\n",
       "      <td>160</td>\n",
       "      <td>0.585489</td>\n",
       "      <td>2.0</td>\n",
       "      <td>1.0</td>\n",
       "      <td>NaN</td>\n",
       "      <td>NaN</td>\n",
       "      <td>NaN</td>\n",
       "    </tr>\n",
       "    <tr>\n",
       "      <th>5</th>\n",
       "      <td>C</td>\n",
       "      <td>40</td>\n",
       "      <td>1.675746</td>\n",
       "      <td>0.0</td>\n",
       "      <td>-1.0</td>\n",
       "      <td>0.068042</td>\n",
       "      <td>1.0</td>\n",
       "      <td>0.0</td>\n",
       "    </tr>\n",
       "    <tr>\n",
       "      <th>6</th>\n",
       "      <td>C</td>\n",
       "      <td>40</td>\n",
       "      <td>0.068042</td>\n",
       "      <td>1.0</td>\n",
       "      <td>0.0</td>\n",
       "      <td>NaN</td>\n",
       "      <td>NaN</td>\n",
       "      <td>NaN</td>\n",
       "    </tr>\n",
       "    <tr>\n",
       "      <th>7</th>\n",
       "      <td>A</td>\n",
       "      <td>110</td>\n",
       "      <td>NaN</td>\n",
       "      <td>NaN</td>\n",
       "      <td>NaN</td>\n",
       "      <td>0.834162</td>\n",
       "      <td>0.0</td>\n",
       "      <td>-1.0</td>\n",
       "    </tr>\n",
       "    <tr>\n",
       "      <th>8</th>\n",
       "      <td>A</td>\n",
       "      <td>160</td>\n",
       "      <td>NaN</td>\n",
       "      <td>NaN</td>\n",
       "      <td>NaN</td>\n",
       "      <td>0.565421</td>\n",
       "      <td>0.0</td>\n",
       "      <td>-1.0</td>\n",
       "    </tr>\n",
       "    <tr>\n",
       "      <th>9</th>\n",
       "      <td>C</td>\n",
       "      <td>40</td>\n",
       "      <td>NaN</td>\n",
       "      <td>NaN</td>\n",
       "      <td>NaN</td>\n",
       "      <td>1.675746</td>\n",
       "      <td>0.0</td>\n",
       "      <td>-1.0</td>\n",
       "    </tr>\n",
       "  </tbody>\n",
       "</table>\n",
       "</div>"
      ],
      "text/plain": [
       "  Area  Bins    Data_L  Test_0_L  Test_1_L    Data_R  Test_0_R  Test_1_R\n",
       "0    A   110  0.834162       0.0      -1.0  0.767730       1.0       0.0\n",
       "1    A   110  0.767730       1.0       0.0       NaN       NaN       NaN\n",
       "2    A   160  0.565421       0.0      -1.0  0.424011       1.0       0.0\n",
       "3    A   160  0.424011       1.0       0.0  0.585489       2.0       1.0\n",
       "4    A   160  0.585489       2.0       1.0       NaN       NaN       NaN\n",
       "5    C    40  1.675746       0.0      -1.0  0.068042       1.0       0.0\n",
       "6    C    40  0.068042       1.0       0.0       NaN       NaN       NaN\n",
       "7    A   110       NaN       NaN       NaN  0.834162       0.0      -1.0\n",
       "8    A   160       NaN       NaN       NaN  0.565421       0.0      -1.0\n",
       "9    C    40       NaN       NaN       NaN  1.675746       0.0      -1.0"
      ]
     },
     "execution_count": 143,
     "metadata": {},
     "output_type": "execute_result"
    }
   ],
   "source": [
    "df = pd.DataFrame(data={'Area' : ['A'] * 5 + ['C'] * 2,\n",
    ".....: 'Bins' : [110] * 2 + [160] * 3 + [40] * 2,\n",
    ".....: 'Test_0' : [0, 1, 0, 1, 2, 0, 1],\n",
    ".....: 'Data' : np.random.randn(7)})\n",
    "df['Test_1'] = df['Test_0'] - 1;print(df)\n",
    "pd.merge(df, df, left_on=['Bins', 'Area','Test_0'], right_on=['Bins', 'Area','Test_1'],suffixes=('_L','_R'),how='outer') # how='inner'找出指定指标相同的数据；当how='outer'时，无法merge部分以nan填充"
   ]
  },
  {
   "cell_type": "code",
   "execution_count": 4,
   "metadata": {},
   "outputs": [
    {
     "data": {
      "image/png": "[encoded data removed]",
      "text/plain": [
       "<matplotlib.figure.Figure at 0x1db1a0451d0>"
      ]
     },
     "metadata": {},
     "output_type": "display_data"
    },
    {
     "data": {
      "image/png": "[encoded data removed]",
      "text/plain": [
       "<matplotlib.figure.Figure at 0x1db1a81c160>"
      ]
     },
     "metadata": {},
     "output_type": "display_data"
    }
   ],
   "source": [
    "import matplotlib.pyplot as plt\n",
    "df = pd.DataFrame({u'stratifying_var': np.random.uniform(0, 100, 20),u'price': np.random.normal(100, 5, 20)})\n",
    "df[u'quartiles'] = pd.qcut(df[u'stratifying_var'],4,labels=[u'0-25%', u'25-50%', u'50-75%', u'75-100%'])\n",
    "df.boxplot(column=u'price', by=u'quartiles')\n",
    "plt.show()"
   ]
  },
  {
   "cell_type": "code",
   "execution_count": 9,
   "metadata": {},
   "outputs": [
    {
     "name": "stdout",
     "output_type": "stream",
     "text": [
      "100 loops, best of 3: 5.47 ms per loop\n",
      "100 loops, best of 3: 2.14 ms per loop\n"
     ]
    }
   ],
   "source": [
    "i = pd.date_range('20000101',periods=10000)\n",
    "df = pd.DataFrame(dict(year = i.year, month = i.month, day = i.day))\n",
    "df.head()\n",
    "# Method 1\n",
    "%timeit pd.to_datetime(df.year*10000+df.month*100+df.day,format='%Y%m%d')\n",
    "# Method 2\n",
    "ds = df.apply(lambda x: \"%04d%02d%02d\" % (x['year'],x['month'],x['day']),axis=1);ds\n",
    "%timeit pd.to_datetime(ds)"
   ]
  },
  {
   "cell_type": "code",
   "execution_count": 22,
   "metadata": {},
   "outputs": [
    {
     "data": {
      "text/html": [
       "<div>\n",
       "<style>\n",
       "    .dataframe thead tr:only-child th {\n",
       "        text-align: right;\n",
       "    }\n",
       "\n",
       "    .dataframe thead th {\n",
       "        text-align: left;\n",
       "    }\n",
       "\n",
       "    .dataframe tbody tr th {\n",
       "        vertical-align: top;\n",
       "    }\n",
       "</style>\n",
       "<table border=\"1\" class=\"dataframe\">\n",
       "  <thead>\n",
       "    <tr style=\"text-align: right;\">\n",
       "      <th></th>\n",
       "      <th>Param1</th>\n",
       "      <th>Param2</th>\n",
       "      <th>Param4</th>\n",
       "      <th>Param5</th>\n",
       "    </tr>\n",
       "    <tr>\n",
       "      <th>date</th>\n",
       "      <th></th>\n",
       "      <th></th>\n",
       "      <th></th>\n",
       "      <th></th>\n",
       "    </tr>\n",
       "  </thead>\n",
       "  <tbody>\n",
       "    <tr>\n",
       "      <th>1990-01-01 00:00:00</th>\n",
       "      <td>1</td>\n",
       "      <td>1</td>\n",
       "      <td>2</td>\n",
       "      <td>3</td>\n",
       "    </tr>\n",
       "    <tr>\n",
       "      <th>1990-01-01 01:00:00</th>\n",
       "      <td>5</td>\n",
       "      <td>3</td>\n",
       "      <td>4</td>\n",
       "      <td>5</td>\n",
       "    </tr>\n",
       "    <tr>\n",
       "      <th>1990-01-01 02:00:00</th>\n",
       "      <td>9</td>\n",
       "      <td>5</td>\n",
       "      <td>6</td>\n",
       "      <td>7</td>\n",
       "    </tr>\n",
       "    <tr>\n",
       "      <th>1990-01-01 03:00:00</th>\n",
       "      <td>13</td>\n",
       "      <td>7</td>\n",
       "      <td>8</td>\n",
       "      <td>9</td>\n",
       "    </tr>\n",
       "    <tr>\n",
       "      <th>1990-01-01 04:00:00</th>\n",
       "      <td>17</td>\n",
       "      <td>9</td>\n",
       "      <td>10</td>\n",
       "      <td>11</td>\n",
       "    </tr>\n",
       "    <tr>\n",
       "      <th>1990-01-01 05:00:00</th>\n",
       "      <td>21</td>\n",
       "      <td>11</td>\n",
       "      <td>12</td>\n",
       "      <td>13</td>\n",
       "    </tr>\n",
       "  </tbody>\n",
       "</table>\n",
       "</div>"
      ],
      "text/plain": [
       "                     Param1  Param2  Param4  Param5\n",
       "date                                               \n",
       "1990-01-01 00:00:00       1       1       2       3\n",
       "1990-01-01 01:00:00       5       3       4       5\n",
       "1990-01-01 02:00:00       9       5       6       7\n",
       "1990-01-01 03:00:00      13       7       8       9\n",
       "1990-01-01 04:00:00      17       9      10      11\n",
       "1990-01-01 05:00:00      21      11      12      13"
      ]
     },
     "execution_count": 22,
     "metadata": {},
     "output_type": "execute_result"
    }
   ],
   "source": [
    "from io import StringIO\n",
    "data = \"\"\";;;;\n",
    ";;;;\n",
    ";;;;\n",
    ";;;;\n",
    ";;;;\n",
    ";;;;\n",
    ";;;;\n",
    ";;;;\n",
    ";;;;\n",
    ";;;;\n",
    "date;Param1;Param2;Param4;Param5\n",
    "m;C;m;m\n",
    ";;;;\n",
    "01.01.1990 00:00;1;1;2;3\n",
    "01.01.1990 01:00;5;3;4;5\n",
    "01.01.1990 02:00;9;5;6;7\n",
    "01.01.1990 03:00;13;7;8;9\n",
    "01.01.1990 04:00;17;9;10;11\n",
    "01.01.1990 05:00;21;11;12;13\"\"\"\n",
    "\n",
    "# 跳过某些行\n",
    "pd.read_csv(StringIO(data), sep=';', skiprows=[11,12],index_col=0, parse_dates=True, header=10) # StringIO()内存中读写\n",
    "\n",
    "# 先读取columns，再读取数据\n",
    "columns = pd.read_csv(StringIO(data), sep=';', header=10, nrows=10).columns\n",
    "pd.read_csv(StringIO(data), sep=';', index_col=0,header=12, parse_dates=True, names=columns)"
   ]
  },
  {
   "cell_type": "code",
   "execution_count": 28,
   "metadata": {},
   "outputs": [],
   "source": [
    "# Storing Attributes to a group node\n",
    "df = pd.DataFrame(np.random.randn(8,3))\n",
    "store = pd.HDFStore('test.h5')\n",
    "store.put('df',df)\n",
    "# you can store an arbitrary python object via pickle\n",
    "store.get_storer('df').attrs.my_attribute = dict(A = 10)\n",
    "store.get_storer('df').attrs.my_attribute\n",
    "store.close()"
   ]
  },
  {
   "cell_type": "code",
   "execution_count": 39,
   "metadata": {},
   "outputs": [
    {
     "name": "stdout",
     "output_type": "stream",
     "text": [
      "0   -2 days\n",
      "1   -1 days\n",
      "2    0 days\n",
      "dtype: timedelta64[ns] \n",
      "\n"
     ]
    },
    {
     "data": {
      "text/plain": [
       "0      NaT\n",
       "1      NaT\n",
       "2   1 days\n",
       "dtype: timedelta64[ns]"
      ]
     },
     "execution_count": 39,
     "metadata": {},
     "output_type": "execute_result"
    }
   ],
   "source": [
    "s=Series(pd.date_range('2012-1-1',periods=3,freq='D'))\n",
    "print(s-s.max(),'\\n')\n",
    "s-datetime.datetime(2011,1,1,3,5)\n",
    "s-datetime.timedelta(minutes=5)\n",
    "y=s-s.shift(1);y \n",
    "y[1]=np.nan;y # 对时间赋值 np.nan，其结果就是NAT"
   ]
  },
  {
   "cell_type": "code",
   "execution_count": 50,
   "metadata": {},
   "outputs": [
    {
     "name": "stdout",
     "output_type": "stream",
     "text": [
      "df2 \n",
      "           c1        c2\n",
      "i1 -1.478465  0.572400\n",
      "i2 -0.206112  1.242355\n",
      "i3 -1.179390 -0.332591 \n",
      "\n"
     ]
    },
    {
     "data": {
      "text/plain": [
       "c1   -2.863967\n",
       "c2    1.482163\n",
       "dtype: float64"
      ]
     },
     "execution_count": 50,
     "metadata": {},
     "output_type": "execute_result"
    }
   ],
   "source": [
    "def set_axis_alias(cls, axis, alias):\n",
    "    if axis not in cls._AXIS_NUMBERS:\n",
    "        raise Exception(\"invalid axis [%s] for alias [%s]\" % (axis, alias))\n",
    "    cls._AXIS_ALIASES[alias] = axis   #  cls._AXIS_NUMBERS 和  df2._AXIS_ALIASES 是两个字典，前者将不同轴映射到数字上，后者将不同轴映射到某个别名alias\n",
    "def clear_axis_alias(cls, axis, alias):\n",
    "    if axis not in cls._AXIS_NUMBERS:\n",
    "        raise Exception(\"invalid axis [%s] for alias [%s]\" % (axis, alias))\n",
    "    cls._AXIS_ALIASES.pop(alias,None)\n",
    "set_axis_alias(pd.DataFrame,'columns', 'myaxis2')\n",
    "df2 = pd.DataFrame(np.random.randn(3,2),columns=['c1','c2'],index=['i1','i2','i3']);print('df2','\\n',df2,'\\n')\n",
    "df2.sum(axis='myaxis2')\n",
    "df2.sum(axis='rows')"
   ]
  },
  {
   "cell_type": "code",
   "execution_count": 55,
   "metadata": {},
   "outputs": [
    {
     "data": {
      "text/html": [
       "<div>\n",
       "<style>\n",
       "    .dataframe thead tr:only-child th {\n",
       "        text-align: right;\n",
       "    }\n",
       "\n",
       "    .dataframe thead th {\n",
       "        text-align: left;\n",
       "    }\n",
       "\n",
       "    .dataframe tbody tr th {\n",
       "        vertical-align: top;\n",
       "    }\n",
       "</style>\n",
       "<table border=\"1\" class=\"dataframe\">\n",
       "  <thead>\n",
       "    <tr style=\"text-align: right;\">\n",
       "      <th></th>\n",
       "      <th>height</th>\n",
       "      <th>weight</th>\n",
       "      <th>sex</th>\n",
       "    </tr>\n",
       "  </thead>\n",
       "  <tbody>\n",
       "    <tr>\n",
       "      <th>0</th>\n",
       "      <td>60</td>\n",
       "      <td>100</td>\n",
       "      <td>Male</td>\n",
       "    </tr>\n",
       "    <tr>\n",
       "      <th>1</th>\n",
       "      <td>60</td>\n",
       "      <td>100</td>\n",
       "      <td>Female</td>\n",
       "    </tr>\n",
       "    <tr>\n",
       "      <th>2</th>\n",
       "      <td>60</td>\n",
       "      <td>140</td>\n",
       "      <td>Male</td>\n",
       "    </tr>\n",
       "    <tr>\n",
       "      <th>3</th>\n",
       "      <td>60</td>\n",
       "      <td>140</td>\n",
       "      <td>Female</td>\n",
       "    </tr>\n",
       "    <tr>\n",
       "      <th>4</th>\n",
       "      <td>60</td>\n",
       "      <td>180</td>\n",
       "      <td>Male</td>\n",
       "    </tr>\n",
       "    <tr>\n",
       "      <th>5</th>\n",
       "      <td>60</td>\n",
       "      <td>180</td>\n",
       "      <td>Female</td>\n",
       "    </tr>\n",
       "    <tr>\n",
       "      <th>6</th>\n",
       "      <td>70</td>\n",
       "      <td>100</td>\n",
       "      <td>Male</td>\n",
       "    </tr>\n",
       "    <tr>\n",
       "      <th>7</th>\n",
       "      <td>70</td>\n",
       "      <td>100</td>\n",
       "      <td>Female</td>\n",
       "    </tr>\n",
       "    <tr>\n",
       "      <th>8</th>\n",
       "      <td>70</td>\n",
       "      <td>140</td>\n",
       "      <td>Male</td>\n",
       "    </tr>\n",
       "    <tr>\n",
       "      <th>9</th>\n",
       "      <td>70</td>\n",
       "      <td>140</td>\n",
       "      <td>Female</td>\n",
       "    </tr>\n",
       "    <tr>\n",
       "      <th>10</th>\n",
       "      <td>70</td>\n",
       "      <td>180</td>\n",
       "      <td>Male</td>\n",
       "    </tr>\n",
       "    <tr>\n",
       "      <th>11</th>\n",
       "      <td>70</td>\n",
       "      <td>180</td>\n",
       "      <td>Female</td>\n",
       "    </tr>\n",
       "  </tbody>\n",
       "</table>\n",
       "</div>"
      ],
      "text/plain": [
       "    height  weight     sex\n",
       "0       60     100    Male\n",
       "1       60     100  Female\n",
       "2       60     140    Male\n",
       "3       60     140  Female\n",
       "4       60     180    Male\n",
       "5       60     180  Female\n",
       "6       70     100    Male\n",
       "7       70     100  Female\n",
       "8       70     140    Male\n",
       "9       70     140  Female\n",
       "10      70     180    Male\n",
       "11      70     180  Female"
      ]
     },
     "execution_count": 55,
     "metadata": {},
     "output_type": "execute_result"
    }
   ],
   "source": [
    "import itertools\n",
    "def expand_grid(data_dict):\n",
    "    rows = itertools.product(*data_dict.values())\n",
    "    return pd.DataFrame.from_records(rows, columns=data_dict.keys())\n",
    "df = expand_grid({'height': [60, 70],'weight': [100, 140, 180],'sex': ['Male', 'Female']});df"
   ]
  },
  {
   "cell_type": "code",
   "execution_count": 57,
   "metadata": {},
   "outputs": [
    {
     "data": {
      "text/plain": [
       "[(60, 100, 'Male'),\n",
       " (60, 100, 'Female'),\n",
       " (60, 140, 'Male'),\n",
       " (60, 140, 'Female'),\n",
       " (60, 180, 'Male'),\n",
       " (60, 180, 'Female'),\n",
       " (70, 100, 'Male'),\n",
       " (70, 100, 'Female'),\n",
       " (70, 140, 'Male'),\n",
       " (70, 140, 'Female'),\n",
       " (70, 180, 'Male'),\n",
       " (70, 180, 'Female')]"
      ]
     },
     "execution_count": 57,
     "metadata": {},
     "output_type": "execute_result"
    }
   ],
   "source": [
    "d={'height': [60, 70],'weight': [100, 140, 180],'sex': ['Male', 'Female']}\n",
    "list(itertools.product(*d.values()))"
   ]
  },
  {
   "cell_type": "code",
   "execution_count": 67,
   "metadata": {},
   "outputs": [
    {
     "data": {
      "text/html": [
       "<div>\n",
       "<style>\n",
       "    .dataframe thead tr:only-child th {\n",
       "        text-align: right;\n",
       "    }\n",
       "\n",
       "    .dataframe thead th {\n",
       "        text-align: left;\n",
       "    }\n",
       "\n",
       "    .dataframe tbody tr th {\n",
       "        vertical-align: top;\n",
       "    }\n",
       "</style>\n",
       "<table border=\"1\" class=\"dataframe\">\n",
       "  <thead>\n",
       "    <tr style=\"text-align: right;\">\n",
       "      <th></th>\n",
       "      <th>A</th>\n",
       "      <th>B</th>\n",
       "      <th>C</th>\n",
       "    </tr>\n",
       "  </thead>\n",
       "  <tbody>\n",
       "    <tr>\n",
       "      <th>0</th>\n",
       "      <td>1</td>\n",
       "      <td>2.0</td>\n",
       "      <td>b'Hello'</td>\n",
       "    </tr>\n",
       "    <tr>\n",
       "      <th>1</th>\n",
       "      <td>2</td>\n",
       "      <td>3.0</td>\n",
       "      <td>b'World'</td>\n",
       "    </tr>\n",
       "  </tbody>\n",
       "</table>\n",
       "</div>"
      ],
      "text/plain": [
       "   A    B         C\n",
       "0  1  2.0  b'Hello'\n",
       "1  2  3.0  b'World'"
      ]
     },
     "execution_count": 67,
     "metadata": {},
     "output_type": "execute_result"
    }
   ],
   "source": [
    "data = np.zeros((2,), dtype=[('A', 'i4'),('B', 'f4'),('C', 'a10')]);data # 给不同列指明格式，出乎意料的是竟然使用的是np.zeros\n",
    "data[:] = [(1,2.,'Hello'), (2,3.,\"World\")];data\n",
    "pd.DataFrame(data)"
   ]
  },
  {
   "cell_type": "code",
   "execution_count": 68,
   "metadata": {},
   "outputs": [
    {
     "data": {
      "text/html": [
       "<div>\n",
       "<style>\n",
       "    .dataframe thead tr:only-child th {\n",
       "        text-align: right;\n",
       "    }\n",
       "\n",
       "    .dataframe thead th {\n",
       "        text-align: left;\n",
       "    }\n",
       "\n",
       "    .dataframe tbody tr th {\n",
       "        vertical-align: top;\n",
       "    }\n",
       "</style>\n",
       "<table border=\"1\" class=\"dataframe\">\n",
       "  <thead>\n",
       "    <tr>\n",
       "      <th></th>\n",
       "      <th></th>\n",
       "      <th colspan=\"3\" halign=\"left\">a</th>\n",
       "      <th colspan=\"2\" halign=\"left\">b</th>\n",
       "    </tr>\n",
       "    <tr>\n",
       "      <th></th>\n",
       "      <th></th>\n",
       "      <th>a</th>\n",
       "      <th>b</th>\n",
       "      <th>c</th>\n",
       "      <th>a</th>\n",
       "      <th>b</th>\n",
       "    </tr>\n",
       "  </thead>\n",
       "  <tbody>\n",
       "    <tr>\n",
       "      <th rowspan=\"3\" valign=\"top\">A</th>\n",
       "      <th>B</th>\n",
       "      <td>4.0</td>\n",
       "      <td>1.0</td>\n",
       "      <td>5.0</td>\n",
       "      <td>8.0</td>\n",
       "      <td>10.0</td>\n",
       "    </tr>\n",
       "    <tr>\n",
       "      <th>C</th>\n",
       "      <td>3.0</td>\n",
       "      <td>2.0</td>\n",
       "      <td>6.0</td>\n",
       "      <td>7.0</td>\n",
       "      <td>NaN</td>\n",
       "    </tr>\n",
       "    <tr>\n",
       "      <th>D</th>\n",
       "      <td>NaN</td>\n",
       "      <td>NaN</td>\n",
       "      <td>NaN</td>\n",
       "      <td>NaN</td>\n",
       "      <td>9.0</td>\n",
       "    </tr>\n",
       "  </tbody>\n",
       "</table>\n",
       "</div>"
      ],
      "text/plain": [
       "       a              b      \n",
       "       a    b    c    a     b\n",
       "A B  4.0  1.0  5.0  8.0  10.0\n",
       "  C  3.0  2.0  6.0  7.0   NaN\n",
       "  D  NaN  NaN  NaN  NaN   9.0"
      ]
     },
     "execution_count": 68,
     "metadata": {},
     "output_type": "execute_result"
    }
   ],
   "source": [
    "pd.DataFrame({('a', 'b'): {('A', 'B'): 1, ('A', 'C'): 2},\n",
    "              ('a', 'a'): {('A', 'C'): 3, ('A', 'B'): 4},\n",
    "              ('a', 'c'): {('A', 'B'): 5, ('A', 'C'): 6},\n",
    "              ('b', 'a'): {('A', 'C'): 7, ('A', 'B'): 8},\n",
    "              ('b', 'b'): {('A', 'D'): 9, ('A', 'B'): 10}})"
   ]
  },
  {
   "cell_type": "code",
   "execution_count": 70,
   "metadata": {},
   "outputs": [
    {
     "data": {
      "text/html": [
       "<div>\n",
       "<style>\n",
       "    .dataframe thead tr:only-child th {\n",
       "        text-align: right;\n",
       "    }\n",
       "\n",
       "    .dataframe thead th {\n",
       "        text-align: left;\n",
       "    }\n",
       "\n",
       "    .dataframe tbody tr th {\n",
       "        vertical-align: top;\n",
       "    }\n",
       "</style>\n",
       "<table border=\"1\" class=\"dataframe\">\n",
       "  <thead>\n",
       "    <tr style=\"text-align: right;\">\n",
       "      <th></th>\n",
       "      <th>A</th>\n",
       "      <th>B</th>\n",
       "    </tr>\n",
       "    <tr>\n",
       "      <th>C</th>\n",
       "      <th></th>\n",
       "      <th></th>\n",
       "    </tr>\n",
       "  </thead>\n",
       "  <tbody>\n",
       "    <tr>\n",
       "      <th>b'Hello'</th>\n",
       "      <td>1</td>\n",
       "      <td>2.0</td>\n",
       "    </tr>\n",
       "    <tr>\n",
       "      <th>b'World'</th>\n",
       "      <td>2</td>\n",
       "      <td>3.0</td>\n",
       "    </tr>\n",
       "  </tbody>\n",
       "</table>\n",
       "</div>"
      ],
      "text/plain": [
       "          A    B\n",
       "C               \n",
       "b'Hello'  1  2.0\n",
       "b'World'  2  3.0"
      ]
     },
     "execution_count": 70,
     "metadata": {},
     "output_type": "execute_result"
    }
   ],
   "source": [
    "# DataFrame.from_dict takes a dict of dicts or a dict of array-like sequences and returns a DataFrame. \n",
    "# DataFrame.from_records takes a list of tuples or an ndarray with structured dtype\n",
    "data = np.zeros((2,), dtype=[('A', 'i4'),('B', 'f4'),('C', 'a10')])\n",
    "data[:] = [(1,2.,'Hello'), (2,3.,\"World\")]\n",
    "pd.DataFrame.from_records(data, index='C')"
   ]
  },
  {
   "cell_type": "code",
   "execution_count": null,
   "metadata": {
    "collapsed": true
   },
   "outputs": [],
   "source": []
  }
 ],
 "metadata": {
  "kernelspec": {
   "display_name": "Python 3",
   "language": "python",
   "name": "python3"
  },
  "language_info": {
   "codemirror_mode": {
    "name": "ipython",
    "version": 3
   },
   "file_extension": ".py",
   "mimetype": "text/x-python",
   "name": "python",
   "nbconvert_exporter": "python",
   "pygments_lexer": "ipython3",
   "version": "3.6.1"
  }
 },
 "nbformat": 4,
 "nbformat_minor": 2
}
