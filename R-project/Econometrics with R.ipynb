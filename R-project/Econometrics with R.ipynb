{
 "cells": [
  {
   "cell_type": "markdown",
   "metadata": {},
   "source": [
    "# Econometrics with R"
   ]
  },
  {
   "cell_type": "markdown",
   "metadata": {},
   "source": [
    "## Chapter 6 ：Further Inference in Multiple Regression"
   ]
  },
  {
   "cell_type": "markdown",
   "metadata": {},
   "source": [
    "### 6.2 Testing Simultaneous Hypotheses"
   ]
  },
  {
   "cell_type": "code",
   "execution_count": 6,
   "metadata": {
    "scrolled": false
   },
   "outputs": [],
   "source": [
    "rm(list=ls())\n",
    "library(PoEdata) #for PoE datasets\n",
    "library(knitr) #for referenced tables with kable() \n",
    "library(xtable) #makes data frame for kable \n",
    "library(printr) #automatically prints output nicely \n",
    "library(effects)\n",
    "library(car)\n",
    "library(AER)\n",
    "library(broom) #for tidy lm output and function glance() \n",
    "library(stats) "
   ]
  },
  {
   "cell_type": "code",
   "execution_count": 7,
   "metadata": {},
   "outputs": [
    {
     "data": {
      "text/html": [
       "<table>\n",
       "<thead><tr><th></th><th scope=col>Df</th><th scope=col>Sum Sq</th><th scope=col>Mean Sq</th><th scope=col>F value</th><th scope=col>Pr(&gt;F)</th></tr></thead>\n",
       "<tbody>\n",
       "\t<tr><th scope=row>price</th><td> 1          </td><td>1219.0910   </td><td>1219.09103  </td><td>56.495229   </td><td>1.315140e-10</td></tr>\n",
       "\t<tr><th scope=row>advert</th><td> 1          </td><td> 177.4479   </td><td> 177.44790  </td><td> 8.223307   </td><td>5.440600e-03</td></tr>\n",
       "\t<tr><th scope=row>I(advert^2)</th><td> 1          </td><td> 186.8585   </td><td> 186.85848  </td><td> 8.659413   </td><td>4.392666e-03</td></tr>\n",
       "\t<tr><th scope=row>Residuals</th><td>71          </td><td>1532.0845   </td><td>  21.57865  </td><td>       NA   </td><td>          NA</td></tr>\n",
       "</tbody>\n",
       "</table>\n"
      ],
      "text/latex": [
       "\\begin{tabular}{r|lllll}\n",
       "  & Df & Sum Sq & Mean Sq & F value & Pr(>F)\\\\\n",
       "\\hline\n",
       "\tprice &  1           & 1219.0910    & 1219.09103   & 56.495229    & 1.315140e-10\\\\\n",
       "\tadvert &  1           &  177.4479    &  177.44790   &  8.223307    & 5.440600e-03\\\\\n",
       "\tI(advert\\textasciicircum{}2) &  1           &  186.8585    &  186.85848   &  8.659413    & 4.392666e-03\\\\\n",
       "\tResiduals & 71           & 1532.0845    &   21.57865   &        NA    &           NA\\\\\n",
       "\\end{tabular}\n"
      ],
      "text/markdown": [
       "\n",
       "| <!--/--> | Df | Sum Sq | Mean Sq | F value | Pr(>F) | \n",
       "|---|---|---|---|\n",
       "| price |  1           | 1219.0910    | 1219.09103   | 56.495229    | 1.315140e-10 | \n",
       "| advert |  1           |  177.4479    |  177.44790   |  8.223307    | 5.440600e-03 | \n",
       "| I(advert^2) |  1           |  186.8585    |  186.85848   |  8.659413    | 4.392666e-03 | \n",
       "| Residuals | 71           | 1532.0845    |   21.57865   |        NA    |           NA | \n",
       "\n",
       "\n"
      ],
      "text/plain": [
       "            Df Sum Sq    Mean Sq    F value   Pr(>F)      \n",
       "price        1 1219.0910 1219.09103 56.495229 1.315140e-10\n",
       "advert       1  177.4479  177.44790  8.223307 5.440600e-03\n",
       "I(advert^2)  1  186.8585  186.85848  8.659413 4.392666e-03\n",
       "Residuals   71 1532.0845   21.57865        NA           NA"
      ]
     },
     "metadata": {},
     "output_type": "display_data"
    }
   ],
   "source": [
    "alpha <- 0.05\n",
    "data(\"andy\", package=\"PoEdata\")\n",
    "N <- NROW(andy) #Number of observations in dataset\n",
    "K <- 4 #Four Betas in the unrestricted model\n",
    "J <- 2 #Because Ho has two restrictions\n",
    "fcr <- qf(1-alpha, J, N-K) # 分位数,or临界值\n",
    "mod1 <- lm(sales~price+advert+I(advert^2), data=andy) \n",
    "anov <- anova(mod1)\n",
    "anov # prints 'anova' table for the unrestricted model"
   ]
  },
  {
   "cell_type": "code",
   "execution_count": 8,
   "metadata": {},
   "outputs": [
    {
     "data": {
      "text/html": [
       "<table>\n",
       "<thead><tr><th></th><th scope=col>Df</th><th scope=col>Sum Sq</th><th scope=col>Mean Sq</th><th scope=col>F value</th><th scope=col>Pr(&gt;F)</th></tr></thead>\n",
       "<tbody>\n",
       "\t<tr><th scope=row>price</th><td> 1          </td><td>1219.091    </td><td>1219.09103  </td><td>46.9279     </td><td>1.970778e-09</td></tr>\n",
       "\t<tr><th scope=row>Residuals</th><td>73          </td><td>1896.391    </td><td>  25.97796  </td><td>     NA     </td><td>          NA</td></tr>\n",
       "</tbody>\n",
       "</table>\n"
      ],
      "text/latex": [
       "\\begin{tabular}{r|lllll}\n",
       "  & Df & Sum Sq & Mean Sq & F value & Pr(>F)\\\\\n",
       "\\hline\n",
       "\tprice &  1           & 1219.091     & 1219.09103   & 46.9279      & 1.970778e-09\\\\\n",
       "\tResiduals & 73           & 1896.391     &   25.97796   &      NA      &           NA\\\\\n",
       "\\end{tabular}\n"
      ],
      "text/markdown": [
       "\n",
       "| <!--/--> | Df | Sum Sq | Mean Sq | F value | Pr(>F) | \n",
       "|---|---|\n",
       "| price |  1           | 1219.091     | 1219.09103   | 46.9279      | 1.970778e-09 | \n",
       "| Residuals | 73           | 1896.391     |   25.97796   |      NA      |           NA | \n",
       "\n",
       "\n"
      ],
      "text/plain": [
       "          Df Sum Sq   Mean Sq    F value Pr(>F)      \n",
       "price      1 1219.091 1219.09103 46.9279 1.970778e-09\n",
       "Residuals 73 1896.391   25.97796      NA           NA"
      ]
     },
     "metadata": {},
     "output_type": "display_data"
    }
   ],
   "source": [
    "SSEu <- anov[4, 2]\n",
    "mod2 <- lm(sales~price, data=andy) # restricted\n",
    "anov <- anova(mod2)\n",
    "anov # prints the 'anova' table for the restrictred model"
   ]
  },
  {
   "cell_type": "code",
   "execution_count": 9,
   "metadata": {},
   "outputs": [
    {
     "data": {
      "text/html": [
       "8.44135997806643"
      ],
      "text/latex": [
       "8.44135997806643"
      ],
      "text/markdown": [
       "8.44135997806643"
      ],
      "text/plain": [
       "[1] 8.44136"
      ]
     },
     "metadata": {},
     "output_type": "display_data"
    },
    {
     "data": {
      "text/html": [
       "0.000514159058423669"
      ],
      "text/latex": [
       "0.000514159058423669"
      ],
      "text/markdown": [
       "0.000514159058423669"
      ],
      "text/plain": [
       "[1] 0.0005141591"
      ]
     },
     "metadata": {},
     "output_type": "display_data"
    }
   ],
   "source": [
    "SSEr <- anov[2,2]\n",
    "fval <- ((SSEr-SSEu)/J) / (SSEu/(N-K)) # 大于前面计算的 fcr\n",
    "pval <- 1-pf(fval, J, N-K) # 小于给定的显著性水平：alpha=0.05\n",
    "fval;pval"
   ]
  },
  {
   "cell_type": "code",
   "execution_count": 10,
   "metadata": {},
   "outputs": [
    {
     "data": {
      "text/html": [
       "<table>\n",
       "<thead><tr><th scope=col>Res.Df</th><th scope=col>RSS</th><th scope=col>Df</th><th scope=col>Sum of Sq</th><th scope=col>F</th><th scope=col>Pr(&gt;F)</th></tr></thead>\n",
       "<tbody>\n",
       "\t<tr><td>73          </td><td>1896.391    </td><td>NA          </td><td>      NA    </td><td>     NA     </td><td>          NA</td></tr>\n",
       "\t<tr><td>71          </td><td>1532.084    </td><td> 2          </td><td>364.3064    </td><td>8.44136     </td><td>0.0005141591</td></tr>\n",
       "</tbody>\n",
       "</table>\n"
      ],
      "text/latex": [
       "\\begin{tabular}{r|llllll}\n",
       " Res.Df & RSS & Df & Sum of Sq & F & Pr(>F)\\\\\n",
       "\\hline\n",
       "\t 73           & 1896.391     & NA           &       NA     &      NA      &           NA\\\\\n",
       "\t 71           & 1532.084     &  2           & 364.3064     & 8.44136      & 0.0005141591\\\\\n",
       "\\end{tabular}\n"
      ],
      "text/markdown": [
       "\n",
       "Res.Df | RSS | Df | Sum of Sq | F | Pr(>F) | \n",
       "|---|---|\n",
       "| 73           | 1896.391     | NA           |       NA     |      NA      |           NA | \n",
       "| 71           | 1532.084     |  2           | 364.3064     | 8.44136      | 0.0005141591 | \n",
       "\n",
       "\n"
      ],
      "text/plain": [
       "  Res.Df RSS      Df Sum of Sq F       Pr(>F)      \n",
       "1 73     1896.391 NA       NA       NA           NA\n",
       "2 71     1532.084  2 364.3064  8.44136 0.0005141591"
      ]
     },
     "metadata": {},
     "output_type": "display_data"
    }
   ],
   "source": [
    "Hnull <- c(\"advert=0\", \"I(advert^2)=0\") # 原假设\n",
    "linearHypothesis(mod1,Hnull)"
   ]
  },
  {
   "cell_type": "code",
   "execution_count": 11,
   "metadata": {},
   "outputs": [
    {
     "data": {
      "text/plain": [
       "\n",
       "Call:\n",
       "lm(formula = sales ~ price + advert + I(advert^2), data = andy)\n",
       "\n",
       "Residuals:\n",
       "     Min       1Q   Median       3Q      Max \n",
       "-12.2553  -3.1430  -0.0117   2.8513  11.8050 \n",
       "\n",
       "Coefficients:\n",
       "            Estimate Std. Error t value Pr(>|t|)    \n",
       "(Intercept) 109.7190     6.7990  16.137  < 2e-16 ***\n",
       "price        -7.6400     1.0459  -7.304 3.24e-10 ***\n",
       "advert       12.1512     3.5562   3.417  0.00105 ** \n",
       "I(advert^2)  -2.7680     0.9406  -2.943  0.00439 ** \n",
       "---\n",
       "Signif. codes:  0 '***' 0.001 '**' 0.01 '*' 0.05 '.' 0.1 ' ' 1\n",
       "\n",
       "Residual standard error: 4.645 on 71 degrees of freedom\n",
       "Multiple R-squared:  0.5082,\tAdjusted R-squared:  0.4875 \n",
       "F-statistic: 24.46 on 3 and 71 DF,  p-value: 5.6e-11\n"
      ]
     },
     "metadata": {},
     "output_type": "display_data"
    },
    {
     "data": {
      "text/plain": [
       "\n",
       "\n",
       "|term        |   estimate| std.error| statistic|   p.value|\n",
       "|:-----------|----------:|---------:|---------:|---------:|\n",
       "|(Intercept) | 109.719036|  6.799046| 16.137418| 0.0000000|\n",
       "|price       |  -7.640000|  1.045939| -7.304442| 0.0000000|\n",
       "|advert      |  12.151236|  3.556164|  3.416950| 0.0010516|\n",
       "|I(advert^2) |  -2.767963|  0.940624| -2.942688| 0.0043927|"
      ]
     },
     "metadata": {},
     "output_type": "display_data"
    },
    {
     "data": {
      "text/html": [
       "<dl class=dl-horizontal>\n",
       "\t<dt>value</dt>\n",
       "\t\t<dd>24.4593164836294</dd>\n",
       "\t<dt>numdf</dt>\n",
       "\t\t<dd>3</dd>\n",
       "\t<dt>dendf</dt>\n",
       "\t\t<dd>71</dd>\n",
       "</dl>\n"
      ],
      "text/latex": [
       "\\begin{description*}\n",
       "\\item[value] 24.4593164836294\n",
       "\\item[numdf] 3\n",
       "\\item[dendf] 71\n",
       "\\end{description*}\n"
      ],
      "text/markdown": [
       "value\n",
       ":   24.4593164836294numdf\n",
       ":   3dendf\n",
       ":   71\n",
       "\n"
      ],
      "text/plain": [
       "   value    numdf    dendf \n",
       "24.45932  3.00000 71.00000 "
      ]
     },
     "metadata": {},
     "output_type": "display_data"
    },
    {
     "data": {
      "text/plain": [
       "\n",
       "\n",
       "|term        |   estimate| std.error| statistic|   p.value|\n",
       "|:-----------|----------:|---------:|---------:|---------:|\n",
       "|(Intercept) | 109.719036|  6.799046| 16.137418| 0.0000000|\n",
       "|price       |  -7.640000|  1.045939| -7.304442| 0.0000000|\n",
       "|advert      |  12.151236|  3.556164|  3.416950| 0.0010516|\n",
       "|I(advert^2) |  -2.767963|  0.940624| -2.942688| 0.0043927|"
      ]
     },
     "metadata": {},
     "output_type": "display_data"
    },
    {
     "data": {
      "text/html": [
       "24.4593164836294"
      ],
      "text/latex": [
       "24.4593164836294"
      ],
      "text/markdown": [
       "24.4593164836294"
      ],
      "text/plain": [
       "[1] 24.45932"
      ]
     },
     "metadata": {},
     "output_type": "display_data"
    },
    {
     "data": {
      "text/plain": [
       "\n",
       "\n",
       "|  Rsq| AdjRsq|  sig|     F| pF| df|    logL|    AIC|   BIC|     dev| df.res|\n",
       "|----:|------:|----:|-----:|--:|--:|-------:|------:|-----:|-------:|------:|\n",
       "| 0.51|   0.49| 4.65| 24.46|  0|  4| -219.55| 449.11| 460.7| 1532.08|     71|"
      ]
     },
     "metadata": {},
     "output_type": "display_data"
    }
   ],
   "source": [
    "summary(mod1) # 或者使用broom包中的glance：glance(mod1) \n",
    "kable(tidy(summary(mod1)),caption=\"Tidy 'summary(mod1)' output\")\n",
    "fval<-summary(mod1)$fstatistic;fval\n",
    "kable(tidy(mod1),caption=\"'Tidy(mod1)'output\" )\n",
    "glance(mod1)$statistic # names(glance(mod1))\n",
    "kable(glance(mod1),caption=\"Function 'glance(mod1)'output\",digits=2,col.names=(c(\"Rsq\",\"AdjRsq\",'sig','F','pF','df','logL','AIC','BIC','dev','df.res')))"
   ]
  },
  {
   "cell_type": "code",
   "execution_count": 12,
   "metadata": {},
   "outputs": [
    {
     "data": {
      "text/plain": [
       "\n",
       "\n",
       "| res.df|      rss| df|   sumsq| statistic|   p.value|\n",
       "|------:|--------:|--:|-------:|---------:|---------:|\n",
       "|     73| 1779.860| NA|      NA|        NA|        NA|\n",
       "|     71| 1532.084|  2| 247.776|  5.741229| 0.0048847|"
      ]
     },
     "metadata": {},
     "output_type": "display_data"
    }
   ],
   "source": [
    "hyp <- c(\"advert+3.8*I(advert^2)=1\", \"(Intercept)+6*price+1.9*advert+3.61*I(advert^2)=80\") \n",
    "lhout <- tidy(linearHypothesis(mod1,hyp)) \n",
    "kable(lhout,caption=\"Joint hypotheses with the 'linearHypothesis' function\")"
   ]
  },
  {
   "cell_type": "markdown",
   "metadata": {},
   "source": [
    "===========================================================================\n",
    "### 6.3 Omitted Variable Bias"
   ]
  },
  {
   "cell_type": "code",
   "execution_count": 13,
   "metadata": {},
   "outputs": [
    {
     "data": {
      "text/plain": [
       "\n",
       "\n",
       "|term        |  estimate| std.error|  statistic|   p.value|\n",
       "|:-----------|---------:|---------:|----------:|---------:|\n",
       "|(Intercept) | -5533.629| 11229.533| -0.4927746| 0.6224263|\n",
       "|he          |  3131.509|   802.908|  3.9002093| 0.0001117|\n",
       "|we          |  4522.641|  1066.327|  4.2413281| 0.0000273|"
      ]
     },
     "metadata": {},
     "output_type": "display_data"
    },
    {
     "data": {
      "text/plain": [
       "\n",
       "\n",
       "|term        |  estimate| std.error| statistic|   p.value|\n",
       "|:-----------|---------:|---------:|---------:|---------:|\n",
       "|(Intercept) | 26191.270| 8541.1084|  3.066495| 0.0023038|\n",
       "|he          |  5155.483|  658.4574|  7.829639| 0.0000000|"
      ]
     },
     "metadata": {},
     "output_type": "display_data"
    }
   ],
   "source": [
    "data(\"edu_inc\", package=\"PoEdata\")\n",
    "mod1 <- lm(faminc~he+we, data=edu_inc)\n",
    "mod2 <- lm(faminc~he, data=edu_inc) \n",
    "kable(tidy(mod1), caption=\"The correct model\")\n",
    "kable(tidy(mod2), caption=\"The incorrect model ('we' omitted)\")"
   ]
  },
  {
   "cell_type": "markdown",
   "metadata": {},
   "source": [
    "========================================================================\n",
    "### 6.4 Irrelevant Variable"
   ]
  },
  {
   "cell_type": "code",
   "execution_count": 14,
   "metadata": {},
   "outputs": [
    {
     "data": {
      "text/plain": [
       "\n",
       "\n",
       "|term        |   estimate|  std.error|  statistic|   p.value|\n",
       "|:-----------|----------:|----------:|----------:|---------:|\n",
       "|(Intercept) |  -7755.330| 11162.9346| -0.6947393| 0.4875992|\n",
       "|he          |   3211.526|   796.7026|  4.0310216| 0.0000658|\n",
       "|we          |   4776.907|  1061.1637|  4.5015744| 0.0000087|\n",
       "|kl6         | -14310.921|  5003.9284| -2.8599372| 0.0044466|"
      ]
     },
     "metadata": {},
     "output_type": "display_data"
    },
    {
     "data": {
      "text/plain": [
       "\n",
       "\n",
       "|term        |    estimate| std.error|  statistic|   p.value|\n",
       "|:-----------|-----------:|---------:|----------:|---------:|\n",
       "|(Intercept) |  -7558.6131| 11195.411| -0.6751528| 0.4999484|\n",
       "|he          |   3339.7921|  1250.039|  2.6717496| 0.0078378|\n",
       "|we          |   5868.6772|  2278.067|  2.5761650| 0.0103294|\n",
       "|kl6         | -14200.1839|  5043.720| -2.8154190| 0.0050996|\n",
       "|xtra_x5     |    888.8426|  2242.491|  0.3963640| 0.6920369|\n",
       "|xtra_x6     |  -1067.1856|  1981.685| -0.5385243| 0.5904991|"
      ]
     },
     "metadata": {},
     "output_type": "display_data"
    }
   ],
   "source": [
    "mod3 <- lm(faminc~he+we+kl6, data=edu_inc)\n",
    "mod4 <- lm(faminc~he+we+kl6+xtra_x5+xtra_x6, data=edu_inc) \n",
    "kable(tidy(mod3), caption=\"Correct 'faminc' model\")\n",
    "kable(tidy(mod4),caption=\"Incorrect 'faminc' with irrelevant variables\") # 增加两个不相关变量实际上是增加了参数估计的noise，主要是影响了标准误的估计，但对结果影响不是很大"
   ]
  },
  {
   "cell_type": "markdown",
   "metadata": {},
   "source": [
    "==================================================================\n",
    "### 6.5 Model Selection Criteria\n",
    "* R_square\n",
    "* adjusted R_square\n",
    "* AIC (minimize AIC & BIC)\n",
    "* BIC\n",
    "* Ramsey specification test (RESET). This method automatically adds higher-order polynomial terms to model and tests the joint hypothesis that their coefficients are all zeros."
   ]
  },
  {
   "cell_type": "code",
   "execution_count": 15,
   "metadata": {},
   "outputs": [
    {
     "data": {
      "text/plain": [
       "\n",
       "\n",
       "|                              |    Rsq| AdjRsq|      AIC|      BIC|\n",
       "|:-----------------------------|------:|------:|--------:|--------:|\n",
       "|he                            | 0.1258| 0.1237| 10316.65| 10328.83|\n",
       "|he, we                        | 0.1613| 0.1574| 10300.91| 10317.15|\n",
       "|he, we, kl6                   | 0.1772| 0.1714| 10294.73| 10315.03|\n",
       "|he, we, kl6, xtra_x5, xtra_x6 | 0.1778| 0.1681| 10298.41| 10326.82|"
      ]
     },
     "metadata": {},
     "output_type": "display_data"
    }
   ],
   "source": [
    "mod1 <- lm(faminc~he, data=edu_inc)\n",
    "mod2 <- lm(faminc~he+we, data=edu_inc)\n",
    "mod3 <- lm(faminc~he+we+kl6, data=edu_inc)\n",
    "mod4 <- lm(faminc~he+we+kl6+xtra_x5+xtra_x6, data=edu_inc) \n",
    "r1 <- as.numeric(glance(mod1))\n",
    "r2 <- as.numeric(glance(mod2))\n",
    "r3 <- as.numeric(glance(mod3))\n",
    "r4 <- as.numeric(glance(mod4))\n",
    "tab <- data.frame(rbind(r1, r2, r3, r4))[,c(1,2,8,9)] \n",
    "row.names(tab) <- c(\"he\",\"he, we\",\"he, we, kl6\",\n",
    "                    \"he, we, kl6, xtra_x5, xtra_x6\")\n",
    "kable(tab,\n",
    "caption=\"Model comparison, 'faminc' \", digits=4, col.names=c(\"Rsq\",\"AdjRsq\",\"AIC\",\"BIC\"))"
   ]
  },
  {
   "cell_type": "code",
   "execution_count": 22,
   "metadata": {},
   "outputs": [
    {
     "data": {
      "text/html": [
       "<ol class=list-inline>\n",
       "\t<li>0.125801026832939</li>\n",
       "\t<li>0.123748916567288</li>\n",
       "\t<li>10316.6515351673</li>\n",
       "\t<li>10328.8289047541</li>\n",
       "</ol>\n"
      ],
      "text/latex": [
       "\\begin{enumerate*}\n",
       "\\item 0.125801026832939\n",
       "\\item 0.123748916567288\n",
       "\\item 10316.6515351673\n",
       "\\item 10328.8289047541\n",
       "\\end{enumerate*}\n"
      ],
      "text/markdown": [
       "1. 0.125801026832939\n",
       "2. 0.123748916567288\n",
       "3. 10316.6515351673\n",
       "4. 10328.8289047541\n",
       "\n",
       "\n"
      ],
      "text/plain": [
       "[1] 1.258010e-01 1.237489e-01 1.031665e+04 1.032883e+04"
      ]
     },
     "metadata": {},
     "output_type": "display_data"
    }
   ],
   "source": [
    "library(stats)\n",
    "smod1 <- summary(mod1)\n",
    "Rsq <- smod1$r.squared\n",
    "AdjRsq <- smod1$adj.r.squared\n",
    "aic <- AIC (mod1)\n",
    "bic <- BIC (mod1)\n",
    "c (Rsq, AdjRsq, aic, bic)"
   ]
  },
  {
   "cell_type": "code",
   "execution_count": 26,
   "metadata": {},
   "outputs": [
    {
     "data": {
      "text/plain": [
       "\n",
       "\tRESET test\n",
       "\n",
       "data:  mod3\n",
       "RESET = 5.984, df1 = 1, df2 = 423, p-value = 0.01484\n"
      ]
     },
     "metadata": {},
     "output_type": "display_data"
    },
    {
     "data": {
      "text/plain": [
       "\n",
       "\tRESET test\n",
       "\n",
       "data:  mod3\n",
       "RESET = 3.1226, df1 = 2, df2 = 422, p-value = 0.04506\n"
      ]
     },
     "metadata": {},
     "output_type": "display_data"
    }
   ],
   "source": [
    "mod3 <- lm (faminc~he+we+kl6, data=edu_inc)\n",
    "resettest (mod3, power=2, type=\"fitted\")\n",
    "resettest (mod3, power=2:3, type=\"fitted\")"
   ]
  },
  {
   "cell_type": "markdown",
   "metadata": {},
   "source": [
    "=============================================================\n",
    "### 6.6 Collinearity\n",
    "* variance inflation factor,VIF. The rule of thumb is that a regressor producs collinearity if its VIF is greater than 10.$$VIF_k=\\frac{1}{1-R^2_k}$$\n"
   ]
  },
  {
   "cell_type": "code",
   "execution_count": 28,
   "metadata": {},
   "outputs": [
    {
     "data": {
      "text/plain": [
       "\n",
       "\n",
       "|term        |  estimate| std.error| statistic| p.value|\n",
       "|:-----------|---------:|---------:|---------:|-------:|\n",
       "|(Intercept) | 42.915505| 0.8348668|  51.40401|       0|\n",
       "|cyl         | -3.558078| 0.1456755| -24.42468|       0|"
      ]
     },
     "metadata": {},
     "output_type": "display_data"
    },
    {
     "data": {
      "text/plain": [
       "\n",
       "\n",
       "|term        |   estimate| std.error|  statistic|   p.value|\n",
       "|:-----------|----------:|---------:|----------:|---------:|\n",
       "|(Intercept) | 44.3709616| 1.4806851| 29.9665086| 0.0000000|\n",
       "|cyl         | -0.2677968| 0.4130673| -0.6483126| 0.5171663|\n",
       "|eng         | -0.0126740| 0.0082501| -1.5362247| 0.1252983|\n",
       "|wgt         | -0.0057079| 0.0007139| -7.9951428| 0.0000000|"
      ]
     },
     "metadata": {},
     "output_type": "display_data"
    }
   ],
   "source": [
    "data (\"cars\", package=\"PoEdata\")\n",
    "mod1 <- lm (mpg~cyl, data=cars)\n",
    "kable ( tidy (mod1), caption=\"A simple linear 'mpg' model\")\n",
    "mod2 <- lm (mpg~cyl+eng+wgt, data=cars) # cyl 变得不再显著了\n",
    "kable ( tidy (mod2), caption=\"Multivariate 'mpg' model\")"
   ]
  },
  {
   "cell_type": "code",
   "execution_count": 29,
   "metadata": {},
   "outputs": [
    {
     "data": {
      "text/plain": [
       "\n",
       "\n",
       "|regressor |       VIF|\n",
       "|:---------|---------:|\n",
       "|cyl       | 10.515508|\n",
       "|eng       | 15.786455|\n",
       "|wgt       |  7.788716|"
      ]
     },
     "metadata": {},
     "output_type": "display_data"
    }
   ],
   "source": [
    "mod2 <- lm (mpg~cyl+eng+wgt, data=cars)\n",
    "tab <- tidy ( vif (mod2)) # cyl 和 eng 未通过 VIF test\n",
    "kable (tab,\n",
    "caption=\"Variance inflation factors for the 'mpg' regression model\",\n",
    "col.names= c (\"regressor\",\"VIF\"))"
   ]
  },
  {
   "cell_type": "markdown",
   "metadata": {},
   "source": [
    "============================================================\n",
    "### 6.7 Prediction and Forecasting"
   ]
  },
  {
   "cell_type": "code",
   "execution_count": 30,
   "metadata": {},
   "outputs": [
    {
     "data": {
      "text/plain": [
       "\n",
       "\n",
       "|      fit|      lwr|      upr|\n",
       "|--------:|--------:|--------:|\n",
       "| 76.97404| 67.53258| 86.41549|"
      ]
     },
     "metadata": {},
     "output_type": "display_data"
    }
   ],
   "source": [
    "predpoint <- data.frame (price=6, advert=1.9)\n",
    "mod3 <- lm (sales~price+advert+ I (advert^2), data=andy)\n",
    "kable ( tidy ( predict (mod3, newdata=predpoint,\n",
    "interval=\"prediction\")),\n",
    "caption=\"Forecasting in the quadratic 'andy' model\")"
   ]
  },
  {
   "cell_type": "markdown",
   "metadata": {},
   "source": [
    "## Chapter 7 Using Indicator Variables\n",
    "* this chapter introduces the package __lmtest__ (Hothorn et al.2015)\n",
    "* in R, an indicator variable is called *factor*,*category*,or *enumerated type* and there is no distinction between binary or multiple-category factors\n",
    "* factors can be either numerical or character variables, ordered or not.\n",
    "### 7.1 Factor Variables"
   ]
  },
  {
   "cell_type": "code",
   "execution_count": 33,
   "metadata": {},
   "outputs": [
    {
     "name": "stderr",
     "output_type": "stream",
     "text": [
      "Warning message:\n",
      "\"package 'stargazer' was built under R version 3.4.3\"\n",
      "Please cite as: \n",
      "\n",
      " Hlavac, Marek (2018). stargazer: Well-Formatted Regression and Summary Statistics Tables.\n",
      " R package version 5.2.1. https://CRAN.R-project.org/package=stargazer \n",
      "\n"
     ]
    }
   ],
   "source": [
    "rm (list= ls ())\n",
    "library (bookdown)\n",
    "library (PoEdata)#for PoE datasets\n",
    "library (knitr) #for referenced tables with kable()\n",
    "library (xtable) #makes data frame for kable\n",
    "library (printr) #automatically prints output nicely\n",
    "library (effects)\n",
    "library (car)\n",
    "library (AER)\n",
    "library (broom) #for tidy lm output and function glance()\n",
    "library (stats)\n",
    "library (lmtest)#for coeftest() and other test functions\n",
    "library (stargazer) #nice and informative tables"
   ]
  },
  {
   "cell_type": "code",
   "execution_count": 35,
   "metadata": {},
   "outputs": [
    {
     "data": {
      "text/plain": [
       "\n",
       "\n",
       "|   |    price     |     sqft     |     age       |utown |pool  |fplace |\n",
       "|:--|:-------------|:-------------|:--------------|:-----|:-----|:------|\n",
       "|   |Min.   :134.3 |Min.   :20.03 |Min.   : 0.000 |0:481 |0:796 |0:482  |\n",
       "|   |1st Qu.:215.6 |1st Qu.:22.83 |1st Qu.: 3.000 |1:519 |1:204 |1:518  |\n",
       "|   |Median :245.8 |Median :25.36 |Median : 6.000 |NA    |NA    |NA     |\n",
       "|   |Mean   :247.7 |Mean   :25.21 |Mean   : 9.392 |NA    |NA    |NA     |\n",
       "|   |3rd Qu.:278.3 |3rd Qu.:27.75 |3rd Qu.:13.000 |NA    |NA    |NA     |\n",
       "|   |Max.   :345.2 |Max.   :30.00 |Max.   :60.000 |NA    |NA    |NA     |"
      ]
     },
     "metadata": {},
     "output_type": "display_data"
    }
   ],
   "source": [
    "library (ggplot2)\n",
    "data (\"utown\", package=\"PoEdata\")\n",
    "utown$utown <- as.factor (utown$utown)\n",
    "utown$pool <- as.factor (utown$pool)\n",
    "utown$fplace <- as.factor (utown$fplace)\n",
    "kable ( summary.data.frame (utown),\n",
    "caption=\"Summary for 'utown' dataset\")"
   ]
  },
  {
   "cell_type": "markdown",
   "metadata": {},
   "source": [
    "==============================================================================\n",
    "### 7.2 Examples"
   ]
  },
  {
   "cell_type": "code",
   "execution_count": 47,
   "metadata": {},
   "outputs": [
    {
     "data": {
      "text/plain": [
       "\n",
       "\n",
       "|term        |   estimate| std.error| statistic|   p.value|\n",
       "|:-----------|----------:|---------:|---------:|---------:|\n",
       "|(Intercept) | 24.4999849| 6.1917214|  3.956894| 0.0000813|\n",
       "|utown       | 27.4529522| 8.4225824|  3.259446| 0.0011542|\n",
       "|sqft        |  7.6121766| 0.2451765| 31.047746| 0.0000000|\n",
       "|age         | -0.1900864| 0.0512046| -3.712291| 0.0002168|\n",
       "|pool        |  4.3771633| 1.1966916|  3.657720| 0.0002678|\n",
       "|fplace      |  1.6491756| 0.9719568|  1.696758| 0.0900558|\n",
       "|utown:sqft  |  1.2994049| 0.3320478|  3.913307| 0.0000972|"
      ]
     },
     "metadata": {},
     "output_type": "display_data"
    }
   ],
   "source": [
    "# example 1\n",
    "mod4 <- lm (price~utown*sqft+age+pool+fplace, data=utown)\n",
    "kable ( tidy (mod4), caption=\"The 'house prices' model\")\n",
    "bsqft <- 1000* coef (mod4)[[\"sqft\"]]\n",
    "bsqft1 <- 1000*( coef (mod4)[[\"sqft\"]]+ coef(mod4)[[\"utown:sqft\"]])"
   ]
  },
  {
   "cell_type": "code",
   "execution_count": 50,
   "metadata": {},
   "outputs": [
    {
     "data": {
      "text/html": [
       "<ol class=list-inline>\n",
       "\t<li>'wage'</li>\n",
       "\t<li>'educ'</li>\n",
       "\t<li>'exper'</li>\n",
       "\t<li>'hrswk'</li>\n",
       "\t<li>'married'</li>\n",
       "\t<li>'female'</li>\n",
       "\t<li>'metro'</li>\n",
       "\t<li>'midwest'</li>\n",
       "\t<li>'south'</li>\n",
       "\t<li>'west'</li>\n",
       "\t<li>'black'</li>\n",
       "\t<li>'asian'</li>\n",
       "</ol>\n"
      ],
      "text/latex": [
       "\\begin{enumerate*}\n",
       "\\item 'wage'\n",
       "\\item 'educ'\n",
       "\\item 'exper'\n",
       "\\item 'hrswk'\n",
       "\\item 'married'\n",
       "\\item 'female'\n",
       "\\item 'metro'\n",
       "\\item 'midwest'\n",
       "\\item 'south'\n",
       "\\item 'west'\n",
       "\\item 'black'\n",
       "\\item 'asian'\n",
       "\\end{enumerate*}\n"
      ],
      "text/markdown": [
       "1. 'wage'\n",
       "2. 'educ'\n",
       "3. 'exper'\n",
       "4. 'hrswk'\n",
       "5. 'married'\n",
       "6. 'female'\n",
       "7. 'metro'\n",
       "8. 'midwest'\n",
       "9. 'south'\n",
       "10. 'west'\n",
       "11. 'black'\n",
       "12. 'asian'\n",
       "\n",
       "\n"
      ],
      "text/plain": [
       " [1] \"wage\"    \"educ\"    \"exper\"   \"hrswk\"   \"married\" \"female\"  \"metro\"  \n",
       " [8] \"midwest\" \"south\"   \"west\"    \"black\"   \"asian\"  "
      ]
     },
     "metadata": {},
     "output_type": "display_data"
    },
    {
     "data": {
      "text/plain": [
       "\n",
       "\n",
       "|term         |  estimate| std.error| statistic|   p.value|\n",
       "|:------------|---------:|---------:|---------:|---------:|\n",
       "|(Intercept)  | -5.281159| 1.9004677| -2.778873| 0.0055575|\n",
       "|educ         |  2.070391| 0.1348781| 15.350089| 0.0000000|\n",
       "|black        | -4.169077| 1.7747139| -2.349155| 0.0190109|\n",
       "|female       | -4.784607| 0.7734139| -6.186348| 0.0000000|\n",
       "|black:female |  3.844294| 2.3276528|  1.651575| 0.0989367|"
      ]
     },
     "metadata": {},
     "output_type": "display_data"
    }
   ],
   "source": [
    "# example 2\n",
    "data (\"cps4_small\", package=\"PoEdata\")\n",
    "names (cps4_small)\n",
    "mod5 <- lm (wage~educ+black*female, data=cps4_small)\n",
    "delta1 <- coef (mod5)[[\"black\"]]\n",
    "delta2 <- coef (mod5)[[\"female\"]]\n",
    "gamma <- coef (mod5)[[\"black:female\"]]\n",
    "blfm <- delta1+delta2+gamma\n",
    "kable ( tidy (mod5), caption=\"A wage-discrimination model\")"
   ]
  },
  {
   "cell_type": "code",
   "execution_count": 51,
   "metadata": {},
   "outputs": [
    {
     "data": {
      "text/plain": [
       "\n",
       "\n",
       "| res.df|      rss| df|    sumsq| statistic| p.value|\n",
       "|------:|--------:|--:|--------:|---------:|-------:|\n",
       "|    998| 135771.1| NA|       NA|        NA|      NA|\n",
       "|    995| 130194.7|  3| 5576.473|  14.20588|       0|"
      ]
     },
     "metadata": {},
     "output_type": "display_data"
    }
   ],
   "source": [
    "hyp <- c (\"black=0\", \"female=0\", \"black:female=0\")\n",
    "tab <- tidy ( linearHypothesis (mod5, hyp))\n",
    "kable (tab,\n",
    "caption=\"Testing a joint hypothesis for the 'wage' equation\")"
   ]
  },
  {
   "cell_type": "markdown",
   "metadata": {},
   "source": [
    "==========================================================================\n",
    "### 7.3 Comparing two Regressions: the Chow Test"
   ]
  },
  {
   "cell_type": "code",
   "execution_count": 66,
   "metadata": {},
   "outputs": [
    {
     "name": "stdout",
     "output_type": "stream",
     "text": [
      "\n",
      "Model comparison, 'wage' equation\n",
      "==================================================================\n",
      "                                 Dependent variable:              \n",
      "                   -----------------------------------------------\n",
      "                                        wage                      \n",
      "                         (1)             (2)             (3)      \n",
      "------------------------------------------------------------------\n",
      "Constant           -6.61*** (2.34) -6.61*** (2.30)  -2.66 (3.42)  \n",
      "educ               2.17*** (0.17)  2.17*** (0.16)  1.86*** (0.24) \n",
      "black               -5.09* (2.64)   -5.09* (2.60)   -3.38 (2.58)  \n",
      "female             -5.01*** (0.90) -5.01*** (0.89) -4.10*** (1.58)\n",
      "south                3.94 (4.05)                                  \n",
      "black:female         5.31 (3.50)     5.31 (3.45)     2.37 (3.38)  \n",
      "educ:south          -0.31 (0.29)                                  \n",
      "black:south          1.70 (3.63)                                  \n",
      "female:south         0.90 (1.77)                                  \n",
      "black:female:south  -2.94 (4.79)                                  \n",
      "------------------------------------------------------------------\n",
      "Observations            1,000            704             296      \n",
      "==================================================================\n",
      "Note:                                  *p<0.1; **p<0.05; ***p<0.01\n"
     ]
    },
    {
     "data": {
      "text/plain": [
       "\n",
       "\n",
       "| Res.Df|      RSS| Df| Sum of Sq|         F|    Pr(>F)|\n",
       "|------:|--------:|--:|---------:|---------:|---------:|\n",
       "|    995| 130194.7| NA|        NA|        NA|        NA|\n",
       "|    990| 129984.4|  5|  210.2582| 0.3202779| 0.9009447|"
      ]
     },
     "metadata": {},
     "output_type": "display_data"
    }
   ],
   "source": [
    "dnosouth <- cps4_small[ which (cps4_small$south==0),]#no south\n",
    "dsouth <- cps4_small[ which (cps4_small$south==1),] #south\n",
    "mod5ns <- lm (wage~educ+black*female, data=dnosouth)\n",
    "mod5s <- lm (wage~educ+black*female, data=dsouth)\n",
    "mod6 <- lm (wage~educ+black*female+south/(educ+black*female),data=cps4_small)\n",
    "#stargazer(mod6, mod5ns, mod5s, header=FALSE,type='html',title=\"Model comparison, 'wage' equation\",keep.stat=\"n\",digits=2, single.row=TRUE,intercept.bottom=FALSE,out=\"models.htm\")\n",
    "stargazer(mod6, mod5ns, mod5s, header=FALSE,type='text',title=\"Model comparison, 'wage' equation\",keep.stat=\"n\",digits=2, single.row=TRUE,intercept.bottom=FALSE)\n",
    "kable (anova (mod5, mod6),caption=\"Chow test for the 'wage' equation\") # ? Chow test ——》anova (mod5, mod6) ？？？"
   ]
  },
  {
   "cell_type": "markdown",
   "metadata": {},
   "source": [
    "===================================================================\n",
    "### 7.4 Indicator Variables in Log-Linear Models"
   ]
  },
  {
   "cell_type": "code",
   "execution_count": 69,
   "metadata": {
    "collapsed": true
   },
   "outputs": [],
   "source": [
    "data (\"cps4_small\", package=\"PoEdata\")\n",
    "mod1 <- lm ( log (wage)~educ+female, data=cps4_small)\n",
    "approx <- 100* coef (mod1)[[\"female\"]]\n",
    "exact <- 100*( exp ( coef (mod1)[[\"female\"]])-1)"
   ]
  },
  {
   "cell_type": "markdown",
   "metadata": {},
   "source": [
    "===================================================================\n",
    "### 7.5 The Linear Probability Model"
   ]
  },
  {
   "cell_type": "code",
   "execution_count": 70,
   "metadata": {},
   "outputs": [
    {
     "data": {
      "text/plain": [
       "\n",
       "\n",
       "|term        |   estimate| std.error| statistic|   p.value|\n",
       "|:-----------|----------:|---------:|---------:|---------:|\n",
       "|(Intercept) |  0.8902151| 0.0654849| 13.594207| 0.0000000|\n",
       "|pratio      | -0.4008614| 0.0613494| -6.534067| 0.0000000|\n",
       "|disp_coke   |  0.0771745| 0.0343919|  2.243970| 0.0250263|\n",
       "|disp_pepsi  | -0.1656637| 0.0355997| -4.653517| 0.0000036|"
      ]
     },
     "metadata": {},
     "output_type": "display_data"
    },
    {
     "data": {
      "image/png": "[encoded data removed]",
      "text/plain": [
       "plot without title"
      ]
     },
     "metadata": {},
     "output_type": "display_data"
    }
   ],
   "source": [
    "# Linear probability example\n",
    "data (\"coke\", package=\"PoEdata\")\n",
    "mod2 <- lm (coke~pratio+disp_coke+disp_pepsi, data=coke)\n",
    "kable ( tidy (mod2),\n",
    "caption=\"Linear probability model, the 'coke' example\")\n",
    "\n",
    "# Graph for the linear probability model\n",
    "b00 <- coef (mod2)[[1]]\n",
    "b10 <- b00+ coef (mod2)[[\"disp_coke\"]]\n",
    "b11 <- b10+ coef (mod2)[[\"disp_pepsi\"]]\n",
    "b01 <-b11- coef (mod2)[[\"disp_coke\"]]\n",
    "b2 <- coef (mod2)[[\"pratio\"]]\n",
    "plot (coke$pratio, coke$coke,\n",
    "ylab=\"Pr[coke]\", xlab=\"price ratio\")\n",
    "abline (b00, b2, lty=2, col=2)\n",
    "abline (b10,b2, lty=3, col=3)\n",
    "abline (b11,b2, lty=4, col=4)\n",
    "abline (b01,b2, lty=5, col=5)\n",
    "legend (\"topright\", c (\"00\",\"10\",\"11\",\"01\"),\n",
    "lty= c (2,3,4,5), col= c (2,3,4,5))"
   ]
  },
  {
   "cell_type": "markdown",
   "metadata": {},
   "source": [
    "===================================================================\n",
    "### 7.6 Treatment Effects"
   ]
  },
  {
   "cell_type": "code",
   "execution_count": 74,
   "metadata": {},
   "outputs": [
    {
     "name": "stdout",
     "output_type": "stream",
     "text": [
      "\n",
      "Dataset 'star' for regular classes\n",
      "============================================\n",
      "Statistic     N    Mean   St. Dev. Min  Max \n",
      "--------------------------------------------\n",
      "totalscore  4,048 918.201  72.214  635 1,253\n",
      "small       4,048  0.000   0.000    0    0  \n",
      "tchexper    4,028  9.441   5.779    0   27  \n",
      "boy         4,048  0.513   0.500    0    1  \n",
      "freelunch   4,048  0.486   0.500    0    1  \n",
      "white_asian 4,048  0.673   0.469    0    1  \n",
      "tchwhite    4,048  0.824   0.381    0    1  \n",
      "tchmasters  4,048  0.366   0.482    0    1  \n",
      "schurban    4,048  0.316   0.465    0    1  \n",
      "schrural    4,048  0.475   0.499    0    1  \n",
      "--------------------------------------------\n",
      "\n",
      "Dataset 'star' for small classes\n",
      "============================================\n",
      "Statistic     N    Mean   St. Dev. Min  Max \n",
      "--------------------------------------------\n",
      "totalscore  1,738 931.942  76.359  747 1,253\n",
      "small       1,738  1.000   0.000    1    1  \n",
      "tchexper    1,738  8.995   5.732    0   27  \n",
      "boy         1,738  0.515   0.500    0    1  \n",
      "freelunch   1,738  0.472   0.499    0    1  \n",
      "white_asian 1,738  0.685   0.465    0    1  \n",
      "tchwhite    1,738  0.862   0.344    0    1  \n",
      "tchmasters  1,738  0.318   0.466    0    1  \n",
      "schurban    1,738  0.306   0.461    0    1  \n",
      "schrural    1,738  0.463   0.499    0    1  \n",
      "--------------------------------------------\n"
     ]
    }
   ],
   "source": [
    "# Project STAR, an application of the simple difference estimator\n",
    "data (\"star\", package=\"PoEdata\")\n",
    "attach (star)\n",
    "vars <- c (\"totalscore\",\"small\",\"tchexper\",\"boy\",\n",
    "\"freelunch\",\"white_asian\",\"tchwhite\",\"tchmasters\",\n",
    "\"schurban\",\"schrural\")\n",
    "starregular <- star[ which (small==0),vars]\n",
    "starsmall <- star[ which (small==1),vars]\n",
    "detach (star)\n",
    "stargazer (starregular, type='text', header=FALSE,\n",
    "    title=\"Dataset 'star' for regular classes\")\n",
    "stargazer (starsmall, type='text', header=FALSE,title=\"Dataset 'star' for small classes\")"
   ]
  },
  {
   "cell_type": "code",
   "execution_count": 76,
   "metadata": {},
   "outputs": [
    {
     "data": {
      "text/html": [
       "13.7405532346018"
      ],
      "text/latex": [
       "13.7405532346018"
      ],
      "text/markdown": [
       "13.7405532346018"
      ],
      "text/plain": [
       "[1] 13.74055"
      ]
     },
     "metadata": {},
     "output_type": "display_data"
    }
   ],
   "source": [
    "mod3 <- lm (totalscore~small, data=star)\n",
    "b2 <- coef (mod3)[[\"small\"]];b2"
   ]
  },
  {
   "cell_type": "code",
   "execution_count": 77,
   "metadata": {},
   "outputs": [
    {
     "data": {
      "text/html": [
       "<table>\n",
       "<thead><tr><th scope=col>Res.Df</th><th scope=col>RSS</th><th scope=col>Df</th><th scope=col>Sum of Sq</th><th scope=col>F</th><th scope=col>Pr(&gt;F)</th></tr></thead>\n",
       "<tbody>\n",
       "\t<tr><td>5763         </td><td>30777461     </td><td>NA           </td><td>     NA      </td><td>     NA      </td><td>           NA</td></tr>\n",
       "\t<tr><td>5685         </td><td>24072033     </td><td>78           </td><td>6705428      </td><td>20.3025      </td><td>1.431626e-242</td></tr>\n",
       "</tbody>\n",
       "</table>\n"
      ],
      "text/latex": [
       "\\begin{tabular}{r|llllll}\n",
       " Res.Df & RSS & Df & Sum of Sq & F & Pr(>F)\\\\\n",
       "\\hline\n",
       "\t 5763          & 30777461      & NA            &      NA       &      NA       &            NA\\\\\n",
       "\t 5685          & 24072033      & 78            & 6705428       & 20.3025       & 1.431626e-242\\\\\n",
       "\\end{tabular}\n"
      ],
      "text/markdown": [
       "\n",
       "Res.Df | RSS | Df | Sum of Sq | F | Pr(>F) | \n",
       "|---|---|\n",
       "| 5763          | 30777461      | NA            |      NA       |      NA       |            NA | \n",
       "| 5685          | 24072033      | 78            | 6705428       | 20.3025       | 1.431626e-242 | \n",
       "\n",
       "\n"
      ],
      "text/plain": [
       "  Res.Df RSS      Df Sum of Sq F       Pr(>F)       \n",
       "1 5763   30777461 NA      NA        NA            NA\n",
       "2 5685   24072033 78 6705428   20.3025 1.431626e-242"
      ]
     },
     "metadata": {},
     "output_type": "display_data"
    }
   ],
   "source": [
    "school <- as.factor (star$schid)#creates dummies for schools\n",
    "mod4 <- lm (totalscore~small+tchexper, data=star)\n",
    "mod5 <- lm (totalscore~small+tchexper+school, data=star)\n",
    "b2n <- coef (mod4)[[\"small\"]]\n",
    "b2s <- coef (mod5)[[\"small\"]]\n",
    "anova (mod4, mod5)"
   ]
  },
  {
   "cell_type": "code",
   "execution_count": 78,
   "metadata": {},
   "outputs": [
    {
     "data": {
      "text/plain": [
       "\n",
       "\n",
       "|term        |   estimate| std.error|  statistic|   p.value|\n",
       "|:-----------|----------:|---------:|----------:|---------:|\n",
       "|(Intercept) |  0.3251669| 0.0188346| 17.2643537| 0.0000000|\n",
       "|boy         | -0.0002542| 0.0120979| -0.0210144| 0.9832349|\n",
       "|white_asian |  0.0123603| 0.0144885|  0.8531097| 0.3936339|\n",
       "|tchexper    | -0.0029793| 0.0010545| -2.8252420| 0.0047407|\n",
       "|freelunch   | -0.0087997| 0.0135262| -0.6505699| 0.5153501|"
      ]
     },
     "metadata": {},
     "output_type": "display_data"
    }
   ],
   "source": [
    "mod6 <- lm (small~boy+white_asian+tchexper+freelunch, data=star)\n",
    "kable ( tidy (mod6),\n",
    "caption=\"Checking random assignment in the 'star' dataset\")\n",
    "fstat <- glance (mod6)$statistic\n",
    "pf <- glance (mod6)$p.value"
   ]
  },
  {
   "cell_type": "markdown",
   "metadata": {},
   "source": [
    "===================================================================\n",
    "### 7.7 The Difference-in-Differences Estimator"
   ]
  },
  {
   "cell_type": "code",
   "execution_count": 80,
   "metadata": {
    "scrolled": false
   },
   "outputs": [
    {
     "name": "stdout",
     "output_type": "stream",
     "text": [
      "\n",
      "Difference in Differences example\n",
      "==========================================\n",
      "                  Dependent variable:     \n",
      "             -----------------------------\n",
      "                          fte             \n",
      "                (1)       (2)       (3)   \n",
      "------------------------------------------\n",
      "nj            -2.89**   -2.38**    -0.91  \n",
      "              (1.19)    (1.08)    (1.27)  \n",
      "                                          \n",
      "d              -2.17     -2.22     -2.21  \n",
      "              (1.52)    (1.37)    (1.35)  \n",
      "                                          \n",
      "kfc                    -10.45*** -10.06***\n",
      "                        (0.85)    (0.84)  \n",
      "                                          \n",
      "roys                    -1.62*    -1.69** \n",
      "                        (0.86)    (0.86)  \n",
      "                                          \n",
      "wendys                   -1.06     -1.06  \n",
      "                        (0.93)    (0.92)  \n",
      "                                          \n",
      "co_owned                 -1.17     -0.72  \n",
      "                        (0.72)    (0.72)  \n",
      "                                          \n",
      "southj                           -3.70*** \n",
      "                                  (0.78)  \n",
      "                                          \n",
      "centralj                           0.01   \n",
      "                                  (0.90)  \n",
      "                                          \n",
      "pa1                                0.92   \n",
      "                                  (1.38)  \n",
      "                                          \n",
      "nj:d           2.75      2.85*     2.81*  \n",
      "              (1.69)    (1.52)    (1.50)  \n",
      "                                          \n",
      "Constant     23.33***  25.95***  25.32*** \n",
      "              (1.07)    (1.04)    (1.21)  \n",
      "                                          \n",
      "------------------------------------------\n",
      "Observations    794       794       794   \n",
      "==========================================\n",
      "Note:          *p<0.1; **p<0.05; ***p<0.01\n"
     ]
    }
   ],
   "source": [
    "data (\"njmin3\", package=\"PoEdata\")\n",
    "mod1 <- lm (fte~nj*d, data=njmin3)\n",
    "mod2 <- lm (fte~nj*d+\n",
    "kfc+roys+wendys+co_owned, data=njmin3)\n",
    "mod3 <- lm (fte~nj*d+\n",
    "kfc+roys+wendys+co_owned+\n",
    "southj+centralj+pa1, data=njmin3)\n",
    "stargazer (mod1,mod2,mod3,\n",
    "    type='text',\n",
    "    title=\"Difference in Differences example\",\n",
    "    header=FALSE, keep.stat=\"n\",digits=2\n",
    "    # single.row=TRUE, intercept.bottom=FALSE\n",
    ")\n",
    "# t-ratio for delta, the D-in-D estimator:\n",
    "tdelta <- summary (mod1)$coefficients[4,3]"
   ]
  },
  {
   "cell_type": "code",
   "execution_count": 81,
   "metadata": {},
   "outputs": [
    {
     "data": {
      "image/png": "[encoded data removed]",
      "text/plain": [
       "plot without title"
      ]
     },
     "metadata": {},
     "output_type": "display_data"
    }
   ],
   "source": [
    "b1 <- coef (mod1)[[1]]\n",
    "b2 <- coef (mod1)[[\"nj\"]]\n",
    "b3 <- coef (mod1)[[\"d\"]]\n",
    "delta <- coef (mod1)[[\"nj:d\"]]\n",
    "C <- b1+b2+b3+delta\n",
    "E <- b1+b3\n",
    "B <- b1+b2\n",
    "A <- b1\n",
    "D <- E+(B-A)\n",
    "# This creates an empty plot:\n",
    "plot (1, type=\"n\", xlab=\"period\", ylab=\"fte\", xaxt=\"n\",\n",
    "xlim= c (-0.01, 1.01), ylim= c (18, 24))\n",
    "segments (x0=0, y0=A, x1=1, y1=E, lty=1, col=2)#control\n",
    "segments (x0=0, y0=B, x1=1, y1=C, lty=3, col=3)#treated\n",
    "segments (x0=0, y0=B, x1=1, y1=D, #counterfactual\n",
    "lty=4, col=4)\n",
    "legend (\"topright\", legend= c (\"control\", \"treated\",\n",
    "    \"counterfactual\"), lty= c (1,3,4), col= c (2,3,4))\n",
    "axis (side=1, at= c (0,1), labels=NULL)"
   ]
  },
  {
   "cell_type": "markdown",
   "metadata": {},
   "source": [
    "===============================================================\n",
    "### 7.8 Using Panel Data"
   ]
  },
  {
   "cell_type": "code",
   "execution_count": 86,
   "metadata": {},
   "outputs": [
    {
     "data": {
      "text/plain": [
       "\n",
       "\n",
       "|term        |  estimate| std.error| statistic|   p.value|\n",
       "|:-----------|---------:|---------:|---------:|---------:|\n",
       "|(Intercept) | -2.283333| 0.7312577| -3.122474| 0.0018608|\n",
       "|nj          |  2.750000| 0.8151862|  3.373462| 0.0007796|"
      ]
     },
     "metadata": {},
     "output_type": "display_data"
    },
    {
     "data": {
      "text/plain": [
       "\n",
       "Call:\n",
       "lm(formula = demp ~ nj, data = njmin3)\n",
       "\n",
       "Residuals:\n",
       "    Min      1Q  Median      3Q     Max \n",
       "-39.217  -3.967   0.533   4.533  33.533 \n",
       "\n",
       "Coefficients:\n",
       "            Estimate Std. Error t value Pr(>|t|)    \n",
       "(Intercept)  -2.2833     0.7313  -3.122  0.00186 ** \n",
       "nj            2.7500     0.8152   3.373  0.00078 ***\n",
       "---\n",
       "Signif. codes:  0 '***' 0.001 '**' 0.01 '*' 0.05 '.' 0.1 ' ' 1\n",
       "\n",
       "Residual standard error: 8.956 on 766 degrees of freedom\n",
       "  (52 observations deleted due to missingness)\n",
       "Multiple R-squared:  0.01464,\tAdjusted R-squared:  0.01335 \n",
       "F-statistic: 11.38 on 1 and 766 DF,  p-value: 0.0007796\n"
      ]
     },
     "metadata": {},
     "output_type": "display_data"
    }
   ],
   "source": [
    "mod3 <- lm (demp~nj, data=njmin3)\n",
    "kable ( tidy ( summary (mod3)),caption=\"Difference in differences with panel data\")\n",
    "(smod3 <- summary (mod3))"
   ]
  },
  {
   "cell_type": "markdown",
   "metadata": {},
   "source": [
    "===================================================================\n",
    "### 7.9 R Practicum\n",
    "#### 7.9.1 Extracting Various Information\n",
    "* focus on how to extract various results after fitting a linear model"
   ]
  },
  {
   "cell_type": "code",
   "execution_count": 90,
   "metadata": {},
   "outputs": [
    {
     "data": {
      "text/html": [
       "'====================================================='"
      ],
      "text/latex": [
       "'====================================================='"
      ],
      "text/markdown": [
       "'====================================================='"
      ],
      "text/plain": [
       "[1] \"=====================================================\""
      ]
     },
     "metadata": {},
     "output_type": "display_data"
    },
    {
     "data": {
      "text/html": [
       "<ol class=list-inline>\n",
       "\t<li>'coefficients'</li>\n",
       "\t<li>'residuals'</li>\n",
       "\t<li>'effects'</li>\n",
       "\t<li>'rank'</li>\n",
       "\t<li>'fitted.values'</li>\n",
       "\t<li>'assign'</li>\n",
       "\t<li>'qr'</li>\n",
       "\t<li>'df.residual'</li>\n",
       "\t<li>'xlevels'</li>\n",
       "\t<li>'call'</li>\n",
       "\t<li>'terms'</li>\n",
       "\t<li>'model'</li>\n",
       "</ol>\n"
      ],
      "text/latex": [
       "\\begin{enumerate*}\n",
       "\\item 'coefficients'\n",
       "\\item 'residuals'\n",
       "\\item 'effects'\n",
       "\\item 'rank'\n",
       "\\item 'fitted.values'\n",
       "\\item 'assign'\n",
       "\\item 'qr'\n",
       "\\item 'df.residual'\n",
       "\\item 'xlevels'\n",
       "\\item 'call'\n",
       "\\item 'terms'\n",
       "\\item 'model'\n",
       "\\end{enumerate*}\n"
      ],
      "text/markdown": [
       "1. 'coefficients'\n",
       "2. 'residuals'\n",
       "3. 'effects'\n",
       "4. 'rank'\n",
       "5. 'fitted.values'\n",
       "6. 'assign'\n",
       "7. 'qr'\n",
       "8. 'df.residual'\n",
       "9. 'xlevels'\n",
       "10. 'call'\n",
       "11. 'terms'\n",
       "12. 'model'\n",
       "\n",
       "\n"
      ],
      "text/plain": [
       " [1] \"coefficients\"  \"residuals\"     \"effects\"       \"rank\"         \n",
       " [5] \"fitted.values\" \"assign\"        \"qr\"            \"df.residual\"  \n",
       " [9] \"xlevels\"       \"call\"          \"terms\"         \"model\"        "
      ]
     },
     "metadata": {},
     "output_type": "display_data"
    },
    {
     "data": {
      "text/html": [
       "'====================================================='"
      ],
      "text/latex": [
       "'====================================================='"
      ],
      "text/markdown": [
       "'====================================================='"
      ],
      "text/plain": [
       "[1] \"=====================================================\""
      ]
     },
     "metadata": {},
     "output_type": "display_data"
    },
    {
     "data": {
      "text/html": [
       "<ol class=list-inline>\n",
       "\t<li>'call'</li>\n",
       "\t<li>'terms'</li>\n",
       "\t<li>'residuals'</li>\n",
       "\t<li>'coefficients'</li>\n",
       "\t<li>'aliased'</li>\n",
       "\t<li>'sigma'</li>\n",
       "\t<li>'df'</li>\n",
       "\t<li>'r.squared'</li>\n",
       "\t<li>'adj.r.squared'</li>\n",
       "\t<li>'fstatistic'</li>\n",
       "\t<li>'cov.unscaled'</li>\n",
       "</ol>\n"
      ],
      "text/latex": [
       "\\begin{enumerate*}\n",
       "\\item 'call'\n",
       "\\item 'terms'\n",
       "\\item 'residuals'\n",
       "\\item 'coefficients'\n",
       "\\item 'aliased'\n",
       "\\item 'sigma'\n",
       "\\item 'df'\n",
       "\\item 'r.squared'\n",
       "\\item 'adj.r.squared'\n",
       "\\item 'fstatistic'\n",
       "\\item 'cov.unscaled'\n",
       "\\end{enumerate*}\n"
      ],
      "text/markdown": [
       "1. 'call'\n",
       "2. 'terms'\n",
       "3. 'residuals'\n",
       "4. 'coefficients'\n",
       "5. 'aliased'\n",
       "6. 'sigma'\n",
       "7. 'df'\n",
       "8. 'r.squared'\n",
       "9. 'adj.r.squared'\n",
       "10. 'fstatistic'\n",
       "11. 'cov.unscaled'\n",
       "\n",
       "\n"
      ],
      "text/plain": [
       " [1] \"call\"          \"terms\"         \"residuals\"     \"coefficients\" \n",
       " [5] \"aliased\"       \"sigma\"         \"df\"            \"r.squared\"    \n",
       " [9] \"adj.r.squared\" \"fstatistic\"    \"cov.unscaled\" "
      ]
     },
     "metadata": {},
     "output_type": "display_data"
    },
    {
     "data": {
      "text/html": [
       "'====================================================='"
      ],
      "text/latex": [
       "'====================================================='"
      ],
      "text/markdown": [
       "'====================================================='"
      ],
      "text/plain": [
       "[1] \"=====================================================\""
      ]
     },
     "metadata": {},
     "output_type": "display_data"
    },
    {
     "data": {
      "text/html": [
       "<ol class=list-inline>\n",
       "\t<li>'r.squared'</li>\n",
       "\t<li>'adj.r.squared'</li>\n",
       "\t<li>'sigma'</li>\n",
       "\t<li>'statistic'</li>\n",
       "\t<li>'p.value'</li>\n",
       "\t<li>'df'</li>\n",
       "\t<li>'logLik'</li>\n",
       "\t<li>'AIC'</li>\n",
       "\t<li>'BIC'</li>\n",
       "\t<li>'deviance'</li>\n",
       "\t<li>'df.residual'</li>\n",
       "</ol>\n"
      ],
      "text/latex": [
       "\\begin{enumerate*}\n",
       "\\item 'r.squared'\n",
       "\\item 'adj.r.squared'\n",
       "\\item 'sigma'\n",
       "\\item 'statistic'\n",
       "\\item 'p.value'\n",
       "\\item 'df'\n",
       "\\item 'logLik'\n",
       "\\item 'AIC'\n",
       "\\item 'BIC'\n",
       "\\item 'deviance'\n",
       "\\item 'df.residual'\n",
       "\\end{enumerate*}\n"
      ],
      "text/markdown": [
       "1. 'r.squared'\n",
       "2. 'adj.r.squared'\n",
       "3. 'sigma'\n",
       "4. 'statistic'\n",
       "5. 'p.value'\n",
       "6. 'df'\n",
       "7. 'logLik'\n",
       "8. 'AIC'\n",
       "9. 'BIC'\n",
       "10. 'deviance'\n",
       "11. 'df.residual'\n",
       "\n",
       "\n"
      ],
      "text/plain": [
       " [1] \"r.squared\"     \"adj.r.squared\" \"sigma\"         \"statistic\"    \n",
       " [5] \"p.value\"       \"df\"            \"logLik\"        \"AIC\"          \n",
       " [9] \"BIC\"           \"deviance\"      \"df.residual\"  "
      ]
     },
     "metadata": {},
     "output_type": "display_data"
    }
   ],
   "source": [
    "mod5 <- lm (wage~educ+black*female, data=cps4_small)\n",
    "smod5 <- summary (mod5)\n",
    "gmod5 <- glance (mod5) #from package 'broom'\n",
    "'====================================================='\n",
    "names (mod5)\n",
    "'====================================================='\n",
    "names(smod5)\n",
    "'====================================================='\n",
    "names(gmod5)\n",
    "'====================================================='\n",
    "head(mod5$fitted.values)\n",
    "head(mod5$residuals)\n",
    "smod5$r.squared\n",
    "smod5$fstatistic\n",
    "gmod5$statistic\n",
    "mod5$df.residual"
   ]
  },
  {
   "cell_type": "code",
   "execution_count": 98,
   "metadata": {},
   "outputs": [
    {
     "data": {
      "text/html": [
       "2.07039064285034"
      ],
      "text/latex": [
       "2.07039064285034"
      ],
      "text/markdown": [
       "2.07039064285034"
      ],
      "text/plain": [
       "[1] 2.070391"
      ]
     },
     "metadata": {},
     "output_type": "display_data"
    },
    {
     "data": {
      "text/plain": [
       "\n",
       "t test of coefficients:\n",
       "\n",
       "             Estimate Std. Error t value  Pr(>|t|)    \n",
       "(Intercept)  -5.28116    1.90047 -2.7789  0.005557 ** \n",
       "educ          2.07039    0.13488 15.3501 < 2.2e-16 ***\n",
       "black        -4.16908    1.77471 -2.3492  0.019011 *  \n",
       "female       -4.78461    0.77341 -6.1863 8.981e-10 ***\n",
       "black:female  3.84429    2.32765  1.6516  0.098937 .  \n",
       "---\n",
       "Signif. codes:  0 '***' 0.001 '**' 0.01 '*' 0.05 '.' 0.1 ' ' 1\n"
      ]
     },
     "metadata": {},
     "output_type": "display_data"
    },
    {
     "data": {
      "text/html": [
       "<table>\n",
       "<thead><tr><th scope=col>term</th><th scope=col>estimate</th><th scope=col>std.error</th><th scope=col>statistic</th><th scope=col>p.value</th></tr></thead>\n",
       "<tbody>\n",
       "\t<tr><td>(Intercept) </td><td>-5.281159   </td><td>1.9004677   </td><td>-2.778873   </td><td>5.557491e-03</td></tr>\n",
       "\t<tr><td>educ        </td><td> 2.070391   </td><td>0.1348781   </td><td>15.350089   </td><td>6.909391e-48</td></tr>\n",
       "\t<tr><td>black       </td><td>-4.169077   </td><td>1.7747139   </td><td>-2.349155   </td><td>1.901086e-02</td></tr>\n",
       "\t<tr><td>female      </td><td>-4.784607   </td><td>0.7734139   </td><td>-6.186348   </td><td>8.981371e-10</td></tr>\n",
       "\t<tr><td>black:female</td><td> 3.844294   </td><td>2.3276528   </td><td> 1.651575   </td><td>9.893669e-02</td></tr>\n",
       "</tbody>\n",
       "</table>\n"
      ],
      "text/latex": [
       "\\begin{tabular}{r|lllll}\n",
       " term & estimate & std.error & statistic & p.value\\\\\n",
       "\\hline\n",
       "\t (Intercept)  & -5.281159    & 1.9004677    & -2.778873    & 5.557491e-03\\\\\n",
       "\t educ         &  2.070391    & 0.1348781    & 15.350089    & 6.909391e-48\\\\\n",
       "\t black        & -4.169077    & 1.7747139    & -2.349155    & 1.901086e-02\\\\\n",
       "\t female       & -4.784607    & 0.7734139    & -6.186348    & 8.981371e-10\\\\\n",
       "\t black:female &  3.844294    & 2.3276528    &  1.651575    & 9.893669e-02\\\\\n",
       "\\end{tabular}\n"
      ],
      "text/markdown": [
       "\n",
       "term | estimate | std.error | statistic | p.value | \n",
       "|---|---|---|---|---|\n",
       "| (Intercept)  | -5.281159    | 1.9004677    | -2.778873    | 5.557491e-03 | \n",
       "| educ         |  2.070391    | 0.1348781    | 15.350089    | 6.909391e-48 | \n",
       "| black        | -4.169077    | 1.7747139    | -2.349155    | 1.901086e-02 | \n",
       "| female       | -4.784607    | 0.7734139    | -6.186348    | 8.981371e-10 | \n",
       "| black:female |  3.844294    | 2.3276528    |  1.651575    | 9.893669e-02 | \n",
       "\n",
       "\n"
      ],
      "text/plain": [
       "  term         estimate  std.error statistic p.value     \n",
       "1 (Intercept)  -5.281159 1.9004677 -2.778873 5.557491e-03\n",
       "2 educ          2.070391 0.1348781 15.350089 6.909391e-48\n",
       "3 black        -4.169077 1.7747139 -2.349155 1.901086e-02\n",
       "4 female       -4.784607 0.7734139 -6.186348 8.981371e-10\n",
       "5 black:female  3.844294 2.3276528  1.651575 9.893669e-02"
      ]
     },
     "metadata": {},
     "output_type": "display_data"
    }
   ],
   "source": [
    "N <- nobs (mod5)\n",
    "yhat <- fitted (mod5) # fitted values\n",
    "ehat <- resid (mod5) # estimated residuals\n",
    "allcoeffs <- coef (mod5) # only coefficients, no statistics\n",
    "coef (mod5)[[2]] #or: coef(mod5)[['educ']]\n",
    "coeftest(mod5) # or: tidy(mod5)"
   ]
  },
  {
   "cell_type": "markdown",
   "metadata": {},
   "source": [
    "#### 7.9.2 ggplot2(详见另外的教程)"
   ]
  },
  {
   "cell_type": "markdown",
   "metadata": {},
   "source": [
    "## Chapter 8 Heteroskedasticity"
   ]
  },
  {
   "cell_type": "code",
   "execution_count": 99,
   "metadata": {
    "collapsed": true
   },
   "outputs": [],
   "source": [
    "rm (list= ls ()) #Removes all items in Environment!\n",
    "library (lmtest) #for coeftest() and bptest().\n",
    "library (broom) #for glance() and tidy()\n",
    "library (PoEdata) #for PoE4 datasets\n",
    "library (car) #for hccm() robust standard errors\n",
    "library (sandwich)\n",
    "library (knitr)\n",
    "library (stargazer)"
   ]
  },
  {
   "cell_type": "markdown",
   "metadata": {},
   "source": [
    "### 8.1 Spotting Heteroskedasticity in the Scatter Plots"
   ]
  },
  {
   "cell_type": "code",
   "execution_count": 101,
   "metadata": {
    "scrolled": false
   },
   "outputs": [
    {
     "data": {
      "image/png": "[encoded data removed]",
      "text/plain": [
       "plot without title"
      ]
     },
     "metadata": {},
     "output_type": "display_data"
    },
    {
     "data": {
      "image/png": "[encoded data removed]",
      "text/plain": [
       "plot without title"
      ]
     },
     "metadata": {},
     "output_type": "display_data"
    },
    {
     "data": {
      "image/png": "[encoded data removed]",
      "text/plain": [
       "plot without title"
      ]
     },
     "metadata": {},
     "output_type": "display_data"
    }
   ],
   "source": [
    "data (\"food\",package=\"PoEdata\")\n",
    "mod1 <- lm (food_exp~income, data=food)\n",
    "plot (food$income,food$food_exp, type=\"p\",\n",
    "xlab=\"income\", ylab=\"food expenditure\")\n",
    "abline (mod1)\n",
    "# 或者，可以画出 x-residual的关系图，或 fitted_value-residual的关系图\n",
    "res <- residuals (mod1)\n",
    "yhat <- fitted (mod1)\n",
    "plot (food$income,res, xlab=\"income\", ylab=\"residuals\")\n",
    "plot (yhat,res, xlab=\"fitted values\", ylab=\"residuals\")"
   ]
  },
  {
   "cell_type": "markdown",
   "metadata": {},
   "source": [
    "### 8.2 Heteroskedasticity Tests\n",
    "* __Breusch-Pagan__ heteroskedasticity test：The test we are construction assumes that the variance of the errors is a function h of a number of regressors $z_s$, which may or may not be present in the initial regression model that we want to test.$$\\hat{e}^2_i=\\alpha_1+\\alpha_2z_{i2}+\\dots+\\alpha_Sz_{iS}+v_i$$\n",
    "$$\\chi^2=N\\times R^2 \\sim \\chi^2_{(S-1)}$$ 事实上， package __lmtest__ 中的 bptest()就是Breusch-Pagan test\n",
    "* __Goldfeld-Quandt__ test：The Goldfeld-Quandt heteroskedasticity test is useful when the regression model\n",
    "to be tested includes an indicator variable among its regressors. The test compares\n",
    "the variance of one group of the indicator variable (say group 1) to the variance of\n",
    "the benchmark group (say group 0).【The Goldfeld-Quant test can be used even when there is no indicator variable in\n",
    "the model or in the dataset. One can split the dataset in two using an arbitrary\n",
    "rule. 】事实上， package __lmtest__ 中的 gqtest()就是Goldfeld-Quandt test"
   ]
  },
  {
   "cell_type": "code",
   "execution_count": 103,
   "metadata": {},
   "outputs": [
    {
     "data": {
      "text/html": [
       "0.0065791120422044"
      ],
      "text/latex": [
       "0.0065791120422044"
      ],
      "text/markdown": [
       "0.0065791120422044"
      ],
      "text/plain": [
       "[1] 0.006579112"
      ]
     },
     "metadata": {},
     "output_type": "display_data"
    }
   ],
   "source": [
    "# Breusch-Pagan heteroskedasticity test\n",
    "alpha <- 0.05\n",
    "mod1 <- lm (food_exp~income, data=food)\n",
    "ressq <- resid (mod1)^2\n",
    "#The test equation:\n",
    "modres <- lm (ressq~income, data=food)\n",
    "N <- nobs (modres)\n",
    "gmodres <- glance (modres)\n",
    "S <- gmodres$df #Number of Betas in model\n",
    "#Chi-square is always a right-tail test\n",
    "chisqcr <- qchisq (1-alpha, S-1)\n",
    "Rsqres <- gmodres$r.squared\n",
    "chisq <- N*Rsqres\n",
    "pval <- 1- pchisq (chisq,S-1);pval"
   ]
  },
  {
   "cell_type": "code",
   "execution_count": 105,
   "metadata": {},
   "outputs": [
    {
     "data": {
      "text/html": [
       "0.0228789208220929"
      ],
      "text/latex": [
       "0.0228789208220929"
      ],
      "text/markdown": [
       "0.0228789208220929"
      ],
      "text/plain": [
       "[1] 0.02287892"
      ]
     },
     "metadata": {},
     "output_type": "display_data"
    }
   ],
   "source": [
    "# the same test, but using a White version of the residuals equation\n",
    "modres <- lm (ressq~income+ I (income^2), data=food)\n",
    "gmodres <- glance (modres)\n",
    "Rsq <- gmodres$r.squared\n",
    "S <- gmodres$df #Number of Betas in model\n",
    "chisq <- N*Rsq\n",
    "pval <- 1- pchisq (chisq, S-1);pval # <alpha，说明存在 heteroskedasticity"
   ]
  },
  {
   "cell_type": "code",
   "execution_count": 111,
   "metadata": {},
   "outputs": [
    {
     "data": {
      "text/plain": [
       "\n",
       "\n",
       "| statistic|   p.value| parameter|method                         |\n",
       "|---------:|---------:|---------:|:------------------------------|\n",
       "|  7.384424| 0.0065791|         1|studentized Breusch-Pagan test |"
      ]
     },
     "metadata": {},
     "output_type": "display_data"
    }
   ],
   "source": [
    "# lmtest 中的 bptest\n",
    "mod1 <- lm (food_exp~income, data=food)\n",
    "kable ( tidy ( bptest (mod1)),\n",
    "caption=\"Breusch-Pagan heteroskedasticity test\")"
   ]
  },
  {
   "cell_type": "code",
   "execution_count": 110,
   "metadata": {},
   "outputs": [
    {
     "data": {
      "text/html": [
       "2.08776225934548"
      ],
      "text/latex": [
       "2.08776225934548"
      ],
      "text/markdown": [
       "2.08776225934548"
      ],
      "text/plain": [
       "[1] 2.087762"
      ]
     },
     "metadata": {},
     "output_type": "display_data"
    },
    {
     "data": {
      "text/html": [
       "0.805198415694798"
      ],
      "text/latex": [
       "0.805198415694798"
      ],
      "text/markdown": [
       "0.805198415694798"
      ],
      "text/plain": [
       "[1] 0.8051984"
      ]
     },
     "metadata": {},
     "output_type": "display_data"
    },
    {
     "data": {
      "text/html": [
       "1.26172971904819"
      ],
      "text/latex": [
       "1.26172971904819"
      ],
      "text/markdown": [
       "1.26172971904819"
      ],
      "text/plain": [
       "[1] 1.26173"
      ]
     },
     "metadata": {},
     "output_type": "display_data"
    },
    {
     "data": {
      "text/html": [
       "1.21503326921215"
      ],
      "text/latex": [
       "1.21503326921215"
      ],
      "text/markdown": [
       "1.21503326921215"
      ],
      "text/plain": [
       "[1] 1.215033"
      ]
     },
     "metadata": {},
     "output_type": "display_data"
    }
   ],
   "source": [
    "# Goldfeld-Quandt test\n",
    "alpha <- 0.05 #two tail, will take alpha/2\n",
    "data (\"cps2\", package=\"PoEdata\")\n",
    "#Create the two groups, m (metro) and r (rural)\n",
    "m <- cps2[ which (cps2$metro==1),]\n",
    "r <- cps2[ which (cps2$metro==0),]\n",
    "wg1 <- lm (wage~educ+exper, data=m)\n",
    "wg0 <- lm (wage~educ+exper, data=r)\n",
    "df1 <- wg1$df.residual #Numerator degrees of freedom\n",
    "df0 <- wg0$df.residual #Denominatot df\n",
    "sig1squared <- glance (wg1)$sigma^2\n",
    "sig0squared <- glance (wg0)$sigma^2\n",
    "# 双边检验，实际中也可以单边检验，视具体情况而定\n",
    "fstat <- sig1squared/sig0squared; fstat\n",
    "Flc <- qf (alpha/2, df1, df0);Flc#Left (lower) critical F\n",
    "Fuc <- qf (1-alpha/2, df1, df0);Fuc #Right (upper) critical F"
   ]
  },
  {
   "cell_type": "code",
   "execution_count": null,
   "metadata": {
    "collapsed": true
   },
   "outputs": [],
   "source": [
    "# 依某种标准将样本分为多个\n",
    "alpha <- 0.05\n",
    "data (\"food\", package=\"PoEdata\")\n",
    "medianincome <- median (food$income)\n",
    "li <- food[ which (food$income<=medianincome),]\n",
    "hi <- food[ which (food$income>=medianincome),]\n",
    "eqli <- lm (food_exp~income, data=li)\n",
    "eqhi <- lm (food_exp~income, data=hi)\n",
    "dfli <- eqli$df.residual\n",
    "dfhi <- eqhi$df.residual\n",
    "sigsqli <- glance (eqli)$sigma^2\n",
    "sigsqhi <- glance (eqhi)$sigma^2\n",
    "fstat <- sigsqhi/sigsqli #The larger var in numerator\n",
    "Fc <- qf (1-alpha, dfhi, dfli)\n",
    "pval <- 1- pf (fstat, dfhi, dfli)"
   ]
  },
  {
   "cell_type": "code",
   "execution_count": null,
   "metadata": {
    "collapsed": true
   },
   "outputs": [],
   "source": [
    "# lmtest中的 gqtest\n",
    "foodeq <- lm (food_exp~income, data=food)\n",
    "tst <- gqtest (foodeq, point=0.5, alternative=\"greater\",\n",
    "order.by=food$income)\n",
    "kable ( tidy (tst),\n",
    "caption=\"R function `gqtest()` with the 'food' equation\")"
   ]
  },
  {
   "cell_type": "markdown",
   "metadata": {},
   "source": [
    "### 8.3 Heteroskedasticity-Consistent Standard Errors\n",
    "* __White__ robust standard errors——》 hccm(), which is part of the __car__ package and yields a heteroskedasticity-robust coefficient covariance matrix"
   ]
  },
  {
   "cell_type": "code",
   "execution_count": 112,
   "metadata": {},
   "outputs": [
    {
     "data": {
      "text/plain": [
       "\n",
       "\n",
       "|term        | estimate| std.error| statistic|   p.value|\n",
       "|:-----------|--------:|---------:|---------:|---------:|\n",
       "|(Intercept) | 83.41600| 43.410163|  1.921578| 0.0621824|\n",
       "|income      | 10.20964|  2.093263|  4.877381| 0.0000195|"
      ]
     },
     "metadata": {},
     "output_type": "display_data"
    },
    {
     "data": {
      "text/plain": [
       "\n",
       "\n",
       "|term        | estimate| std.error| statistic|   p.value|\n",
       "|:-----------|--------:|---------:|---------:|---------:|\n",
       "|(Intercept) | 83.41600| 27.463748|  3.037313| 0.0042989|\n",
       "|income      | 10.20964|  1.809077|  5.643566| 0.0000018|"
      ]
     },
     "metadata": {},
     "output_type": "display_data"
    }
   ],
   "source": [
    "foodeq <- lm (food_exp~income,data=food)\n",
    "kable ( tidy (foodeq),caption=\n",
    "\"Regular standard errors in the 'food' equation\")\n",
    "cov1 <- hccm (foodeq, type=\"hc1\") #needs package 'car'\n",
    "food.HC1 <- coeftest (foodeq, vcov.=cov1)\n",
    "kable ( tidy (food.HC1),caption=\n",
    "\"Robust (HC1) standard errors in the 'food' equation\") #  it can be observed that the robust standard errors are smaller "
   ]
  },
  {
   "cell_type": "code",
   "execution_count": 114,
   "metadata": {},
   "outputs": [
    {
     "data": {
      "text/plain": [
       "\n",
       "\n",
       "| res.df| df| statistic| p.value|\n",
       "|------:|--:|---------:|-------:|\n",
       "|     73| NA|        NA|      NA|\n",
       "|     72|  1|  23.38698| 7.3e-06|"
      ]
     },
     "metadata": {},
     "output_type": "display_data"
    },
    {
     "data": {
      "text/plain": [
       "\n",
       "\n",
       "| res.df|      rss| df|    sumsq| statistic|  p.value|\n",
       "|------:|--------:|--:|--------:|---------:|--------:|\n",
       "|     73| 2254.715| NA|       NA|        NA|       NA|\n",
       "|     72| 1718.943|  1| 535.7719|  22.44145| 1.06e-05|"
      ]
     },
     "metadata": {},
     "output_type": "display_data"
    }
   ],
   "source": [
    "#  performing a ﬁctitious linear hypothesis test on the basic ‘andy’ model, to test the hypothesis H0 : β2 + β3 = 0\n",
    "data (\"andy\", package=\"PoEdata\")\n",
    "andy.eq <- lm (sales~price+advert, data=andy)\n",
    "bp <- bptest (andy.eq) #Heteroskedsticity test\n",
    "b2 <- coef (andy.eq)[[\"price\"]]\n",
    "b3 <- coef (andy.eq)[[\"advert\"]]\n",
    "H0 <- \"price+advert=0\"\n",
    "kable ( tidy ( linearHypothesis (andy.eq, H0,\n",
    "vcov= hccm (andy.eq, type=\"hc1\"))),\n",
    "caption=\"Linear hypothesis with robust standard errors\")\n",
    "kable ( tidy ( linearHypothesis (andy.eq, H0)),\n",
    "caption=\"Linear hypothesis with regular standard errors\")"
   ]
  },
  {
   "cell_type": "markdown",
   "metadata": {},
   "source": [
    "### 8.4 GLS: Known Form of Variance"
   ]
  },
  {
   "cell_type": "code",
   "execution_count": 115,
   "metadata": {},
   "outputs": [
    {
     "data": {
      "text/plain": [
       "\n",
       "\n",
       "|term        | estimate| std.error| statistic|   p.value|\n",
       "|:-----------|--------:|---------:|---------:|---------:|\n",
       "|(Intercept) | 83.41600| 43.410163|  1.921578| 0.0621824|\n",
       "|income      | 10.20964|  2.093263|  4.877381| 0.0000195|"
      ]
     },
     "metadata": {},
     "output_type": "display_data"
    },
    {
     "data": {
      "text/plain": [
       "\n",
       "\n",
       "|term        | estimate| std.error| statistic|   p.value|\n",
       "|:-----------|--------:|---------:|---------:|---------:|\n",
       "|(Intercept) | 78.68408| 23.788722|  3.307621| 0.0020641|\n",
       "|income      | 10.45101|  1.385891|  7.541002| 0.0000000|"
      ]
     },
     "metadata": {},
     "output_type": "display_data"
    },
    {
     "data": {
      "text/plain": [
       "\n",
       "\n",
       "|term        | estimate| std.error| statistic|   p.value|\n",
       "|:-----------|--------:|---------:|---------:|---------:|\n",
       "|(Intercept) | 83.41600| 27.463748|  3.037313| 0.0042989|\n",
       "|income      | 10.20964|  1.809077|  5.643566| 0.0000018|"
      ]
     },
     "metadata": {},
     "output_type": "display_data"
    }
   ],
   "source": [
    "# wls\n",
    "w <- 1/food$income\n",
    "food.wls <- lm (food_exp~income, weights=w, data=food)\n",
    "vcvfoodeq <- coeftest (foodeq, vcov.=cov1)\n",
    "kable ( tidy (foodeq),\n",
    "caption=\"OLS estimates for the 'food' equation\")\n",
    "kable ( tidy (food.wls),\n",
    "caption=\"WLS estimates for the 'food' equation\" )\n",
    "kable ( tidy (vcvfoodeq),caption=\n",
    "\"OLS estimates for the 'food' equation with robust standard errors\" )"
   ]
  },
  {
   "cell_type": "markdown",
   "metadata": {},
   "source": [
    "### 8.5 Grouped data"
   ]
  },
  {
   "cell_type": "code",
   "execution_count": 119,
   "metadata": {},
   "outputs": [
    {
     "name": "stdout",
     "output_type": "stream",
     "text": [
      "\n",
      "OLS vs. FGLS estimates for the 'cps2' data\n",
      "============================================\n",
      "                Dependent variable: wage    \n",
      "             -------------------------------\n",
      "              Rural   Metro   FGLS     HC1  \n",
      "--------------------------------------------\n",
      "Constant     -6.166  -9.052  -9.398  -9.914 \n",
      "             (1.899) (1.189) (1.020) (1.218)\n",
      "                                            \n",
      "educ          0.956   1.282   1.196   1.234 \n",
      "             (0.133) (0.080) (0.069) (0.084)\n",
      "                                            \n",
      "exper         0.126   0.135   0.132   0.133 \n",
      "             (0.025) (0.018) (0.015) (0.016)\n",
      "                                            \n",
      "metro                         1.539   1.524 \n",
      "                             (0.346) (0.346)\n",
      "                                            \n",
      "--------------------------------------------\n",
      "Observations   192     808    1,000         \n",
      "============================================\n"
     ]
    }
   ],
   "source": [
    "# feasible generalized least squares\n",
    "data (\"cps2\", package=\"PoEdata\")\n",
    "rural.lm <- lm (wage~educ+exper, data=cps2, subset=(metro==0))\n",
    "sigR <- summary (rural.lm)$sigma\n",
    "metro.lm <- lm (wage~educ+exper, data=cps2, subset=(metro==1))\n",
    "sigM <- summary (metro.lm)$sigma\n",
    "cps2$wght <- rep (0, nrow (cps2))\n",
    "# Create a vector of weights\n",
    "for (i in 1:1000){\n",
    "    if (cps2$metro[i]==0){cps2$wght[i] <- 1/sigR^2}\n",
    "    else{cps2$wght[i] <- 1/sigM^2}\n",
    "    }\n",
    "wge.fgls <- lm (wage~educ+exper+metro, weights=wght, data=cps2)\n",
    "wge.lm <- lm (wage~educ+exper+metro, data=cps2)\n",
    "wge.hce <- coeftest (wge.lm, vcov.= hccm (wge.lm, data=cps2)) # \n",
    "stargazer (rural.lm, metro.lm, wge.fgls,wge.hce,\n",
    "    header=FALSE,\n",
    "    title=\"OLS vs. FGLS estimates for the 'cps2' data\",\n",
    "    type='text', # \"html\" or \"latex\" (in index.Rmd)\n",
    "    keep.stat=\"n\", # what statistics to print\n",
    "    omit.table.layout=\"n\",\n",
    "    star.cutoffs=NA,\n",
    "    digits=3,\n",
    "    # single.row=TRUE,\n",
    "    intercept.bottom=FALSE, #moves the intercept coef to top\n",
    "    column.labels= c (\"Rural\",\"Metro\",\"FGLS\", \"HC1\"),\n",
    "    dep.var.labels.include = FALSE,\n",
    "    model.numbers = FALSE,\n",
    "    dep.var.caption=\"Dependent variable: wage\",\n",
    "    model.names=FALSE,\n",
    "    star.char=NULL) #supresses the stars"
   ]
  },
  {
   "cell_type": "markdown",
   "metadata": {},
   "source": [
    "### 8.6 GLS: Unknown Form of Variance"
   ]
  },
  {
   "cell_type": "code",
   "execution_count": 120,
   "metadata": {},
   "outputs": [
    {
     "name": "stdout",
     "output_type": "stream",
     "text": [
      "\n",
      "Comparing various 'food' models\n",
      "======================================================\n",
      "              Dependent variable: 'food expenditure'  \n",
      "             -----------------------------------------\n",
      "                OLS        HC1        WLS       FGLS  \n",
      "------------------------------------------------------\n",
      "Constant       83.416     83.416     78.684    76.054 \n",
      "              (43.410)   (27.464)   (23.789)  (9.713) \n",
      "                                                      \n",
      "income         10.210     10.210     10.451    10.633 \n",
      "              (2.093)    (1.809)    (1.386)   (0.972) \n",
      "                                                      \n",
      "------------------------------------------------------\n",
      "Observations     40                    40        40   \n",
      "======================================================\n"
     ]
    }
   ],
   "source": [
    "data (\"food\", package=\"PoEdata\")\n",
    "food.ols <- lm (food_exp~income, data=food)\n",
    "ehatsq <- resid (food.ols)^2\n",
    "sighatsq.ols <- lm ( log (ehatsq)~ log (income), data=food)\n",
    "vari <- exp ( fitted (sighatsq.ols))\n",
    "food.fgls <- lm (food_exp~income, weights=1/vari, data=food)\n",
    "stargazer (food.ols, food.HC1, food.wls, food.fgls,\n",
    "    header=FALSE,\n",
    "    title=\"Comparing various 'food' models\",\n",
    "    type='text', # \"html\" or \"latex\" (in index.Rmd)\n",
    "    keep.stat=\"n\", # what statistics to print\n",
    "    omit.table.layout=\"n\",\n",
    "    star.cutoffs=NA,\n",
    "    digits=3,\n",
    "    # single.row=TRUE,\n",
    "    intercept.bottom=FALSE, #moves the intercept coef to top\n",
    "    column.labels= c (\"OLS\",\"HC1\",\"WLS\",\"FGLS\"),\n",
    "    dep.var.labels.include = FALSE,\n",
    "    model.numbers = FALSE,\n",
    "    dep.var.caption=\"Dependent variable: 'food expenditure'\",\n",
    "    model.names=FALSE,\n",
    "    star.char=NULL) #supresses the stars"
   ]
  },
  {
   "cell_type": "markdown",
   "metadata": {},
   "source": [
    "### 8.7  Heteroskedasticity in the Linear Probability Model"
   ]
  },
  {
   "cell_type": "code",
   "execution_count": 121,
   "metadata": {},
   "outputs": [
    {
     "name": "stdout",
     "output_type": "stream",
     "text": [
      "\n",
      "Comparing various 'coke' models\n",
      "====================================================\n",
      "              Dependent variable: 'choice of coke'  \n",
      "             ---------------------------------------\n",
      "                OLS       HC1    GLS-trunc GLS-omit \n",
      "----------------------------------------------------\n",
      "Constant      0.8902    0.8902    0.6505    0.8795  \n",
      "             (0.0655)  (0.0653)  (0.0568)  (0.0594) \n",
      "                                                    \n",
      "pratio        -0.4009   -0.4009   -0.1652   -0.3859 \n",
      "             (0.0613)  (0.0604)  (0.0444)  (0.0527) \n",
      "                                                    \n",
      "disp_coke     0.0772    0.0772    0.0940    0.0760  \n",
      "             (0.0344)  (0.0339)  (0.0399)  (0.0353) \n",
      "                                                    \n",
      "disp_pepsi    -0.1657   -0.1657   -0.1314   -0.1587 \n",
      "             (0.0356)  (0.0344)  (0.0354)  (0.0360) \n",
      "                                                    \n",
      "----------------------------------------------------\n",
      "Observations   1,140               1,140     1,124  \n",
      "====================================================\n"
     ]
    }
   ],
   "source": [
    "data (\"coke\", package=\"PoEdata\")\n",
    "coke.ols <- lm (coke~pratio+disp_coke+disp_pepsi, data=coke)\n",
    "coke.hc1 <- coeftest (coke.ols, vcov.= hccm (coke.ols, type=\"hc1\"))\n",
    "p <- fitted (coke.ols)\n",
    "# Truncate negative or >1 values of p\n",
    "pt<-p\n",
    "pt[pt<0.01] <- 0.01\n",
    "pt[pt>0.99] <- 0.99\n",
    "sigsq <- pt*(1-pt)\n",
    "wght <- 1/sigsq\n",
    "coke.gls.trunc <- lm (coke~pratio+disp_coke+disp_pepsi,\n",
    "data=coke, weights=wght)\n",
    "# Eliminate negative or >1 values of p\n",
    "p1 <- p\n",
    "p1[p1<0.01 | p1>0.99] <- NA\n",
    "sigsq <- p1*(1-p1)\n",
    "wght <- 1/sigsq\n",
    "coke.gls.omit <- lm (coke~pratio+disp_coke+disp_pepsi,\n",
    "data=coke, weights=wght)\n",
    "stargazer (coke.ols, coke.hc1, coke.gls.trunc, coke.gls.omit,\n",
    "    header=FALSE,\n",
    "    title=\"Comparing various 'coke' models\",\n",
    "    type='text', # \"html\" or \"latex\" (in index.Rmd)\n",
    "    keep.stat=\"n\", # what statistics to print\n",
    "    omit.table.layout=\"n\",\n",
    "    star.cutoffs=NA,\n",
    "    digits=4,\n",
    "    # single.row=TRUE,\n",
    "    intercept.bottom=FALSE, #moves the intercept coef to top\n",
    "    column.labels= c (\"OLS\",\"HC1\",\"GLS-trunc\",\"GLS-omit\"),\n",
    "    dep.var.labels.include = FALSE,\n",
    "    model.numbers = FALSE,\n",
    "    dep.var.caption=\"Dependent variable: 'choice of coke'\",\n",
    "    model.names=FALSE,\n",
    "    star.char=NULL) #supresses the stars"
   ]
  },
  {
   "cell_type": "markdown",
   "metadata": {},
   "source": [
    "## Chapter 9 Time-Series: Stationary Variables"
   ]
  },
  {
   "cell_type": "code",
   "execution_count": 128,
   "metadata": {},
   "outputs": [],
   "source": [
    "rm (list= ls ()) #Removes all items in Environment!\n",
    "library (dynlm) #for the `dynlm()` function\n",
    "library (orcutt) # for the `cochrane.orcutt()` function\n",
    "library (nlWaldTest) # for the `nlWaldtest()` function\n",
    "library (zoo) # for time series functions (not much used here)\n",
    "library (pdfetch) # for retrieving data (just mentioned here)\n",
    "library (lmtest) #for `coeftest()` and `bptest()`.\n",
    "library (broom) #for `glance(`) and `tidy()`\n",
    "library (PoEdata) #for PoE4 datasets\n",
    "library (car) #for `hccm()` robust standard errors\n",
    "library (sandwich)\n",
    "library (knitr) #for kable()\n",
    "library (forecast)"
   ]
  },
  {
   "cell_type": "markdown",
   "metadata": {},
   "source": [
    "### 9.2 Finite Distributed Lags"
   ]
  },
  {
   "cell_type": "code",
   "execution_count": 129,
   "metadata": {},
   "outputs": [
    {
     "data": {
      "text/plain": [
       "\n",
       "\n",
       "|   g|   u| uL1|   du| gL1| gL2| gL3|\n",
       "|---:|---:|---:|----:|---:|---:|---:|\n",
       "| 1.4| 7.3|  NA|   NA|  NA|  NA|  NA|\n",
       "| 2.0| 7.2| 7.3| -0.1| 1.4|  NA|  NA|\n",
       "| 1.4| 7.0| 7.2| -0.2| 2.0| 1.4|  NA|\n",
       "| 1.5| 7.0| 7.0|  0.0| 1.4| 2.0| 1.4|\n",
       "| 0.9| 7.2| 7.0|  0.2| 1.5| 1.4| 2.0|\n",
       "| 1.5| 7.0| 7.2| -0.2| 0.9| 1.5| 1.4|"
      ]
     },
     "metadata": {},
     "output_type": "display_data"
    }
   ],
   "source": [
    "data (\"okun\", package=\"PoEdata\")\n",
    "library (dynlm)\n",
    "check.ts <- is.ts (okun) # \"is structured as time series?\"\n",
    "okun.ts <- ts (okun, start= c (1985,2), end= c (2009,3),frequency=4)\n",
    "okun.ts.tab <- cbind (okun.ts,\n",
    "    lag (okun.ts[,2], -1),\n",
    "    diff (okun.ts[,2], lag=1),\n",
    "    lag (okun.ts[,1], -1),\n",
    "    lag (okun.ts[,1], -2),\n",
    "    lag (okun.ts[,1], -3))\n",
    "kable ( head (okun.ts.tab),\n",
    "    caption=\"The `okun` dataset with differences and lags\",\n",
    "    col.names= c (\"g\",\"u\",\"uL1\",\"du\",\"gL1\",\"gL2\",\"gL3\"))"
   ]
  },
  {
   "cell_type": "code",
   "execution_count": 143,
   "metadata": {},
   "outputs": [
    {
     "data": {
      "text/plain": [
       "\n",
       "\n",
       "|term        | estimate| std.error| statistic| p.value|\n",
       "|:-----------|--------:|---------:|---------:|-------:|\n",
       "|(Intercept) |   0.5836|    0.0472|   12.3604|  0.0000|\n",
       "|L(g, 0:2)0  |  -0.2020|    0.0324|   -6.2385|  0.0000|\n",
       "|L(g, 0:2)1  |  -0.1653|    0.0335|   -4.9297|  0.0000|\n",
       "|L(g, 0:2)2  |  -0.0700|    0.0331|   -2.1152|  0.0371|"
      ]
     },
     "metadata": {},
     "output_type": "display_data"
    },
    {
     "data": {
      "text/plain": [
       "\n",
       "\n",
       "|term        | estimate| std.error| statistic| p.value|\n",
       "|:-----------|--------:|---------:|---------:|-------:|\n",
       "|(Intercept) |   0.5810|    0.0539|   10.7809|  0.0000|\n",
       "|L(g, 0:3)0  |  -0.2021|    0.0330|   -6.1204|  0.0000|\n",
       "|L(g, 0:3)1  |  -0.1645|    0.0358|   -4.5937|  0.0000|\n",
       "|L(g, 0:3)2  |  -0.0716|    0.0353|   -2.0268|  0.0456|\n",
       "|L(g, 0:3)3  |   0.0033|    0.0363|    0.0911|  0.9276|"
      ]
     },
     "metadata": {},
     "output_type": "display_data"
    },
    {
     "data": {
      "text/plain": [
       "\n",
       "\n",
       "| r.squared| statistic|       AIC|       BIC|\n",
       "|---------:|---------:|---------:|---------:|\n",
       "| 0.6524058|  42.23065| -55.43179| -40.10853|\n",
       "| 0.6539460|  57.95148| -58.95107| -46.12932|"
      ]
     },
     "metadata": {},
     "output_type": "display_data"
    }
   ],
   "source": [
    "okunL2.dyn <- dynlm ( d (u)~ L (g, 0:2), data=okun.ts)\n",
    "kable ( tidy ( summary (okunL2.dyn)), digits=4,\n",
    "    caption=\"The `okun` distributed lag model with two lags\")\n",
    "# ===============================================================\n",
    "okunL3.dyn <- dynlm ( d (u)~ L (g, 0:3), data=okun.ts)\n",
    "kable ( tidy ( summary (okunL3.dyn)), digits=4,\n",
    "    caption=\"The `okun` distributed lag model with three lags\")\n",
    "# ===============================================================\n",
    "glL3 <- glance (okunL3.dyn)[ c (\"r.squared\",\"statistic\",\"AIC\",\"BIC\")]\n",
    "glL2 <- glance (okunL2.dyn)[ c (\"r.squared\",\"statistic\",\"AIC\",\"BIC\")]\n",
    "tabl <- rbind (glL3, as.numeric (glL2))\n",
    "kable (tabl, caption=\"Goodness-of-fit statistics for `okun` models\")"
   ]
  },
  {
   "cell_type": "markdown",
   "metadata": {},
   "source": [
    "### 9.3 Serial Correlation"
   ]
  },
  {
   "cell_type": "code",
   "execution_count": 144,
   "metadata": {},
   "outputs": [
    {
     "data": {
      "image/png": "[encoded data removed]",
      "text/plain": [
       "plot without title"
      ]
     },
     "metadata": {},
     "output_type": "display_data"
    },
    {
     "data": {
      "image/png": "[encoded data removed]",
      "text/plain": [
       "plot without title"
      ]
     },
     "metadata": {},
     "output_type": "display_data"
    }
   ],
   "source": [
    "plot (okun.ts[,\"g\"], ylab=\"growth\")\n",
    "plot (okun.ts[,\"u\"], ylab=\"unemployment\")"
   ]
  },
  {
   "cell_type": "code",
   "execution_count": 145,
   "metadata": {},
   "outputs": [
    {
     "data": {
      "image/png": "[encoded data removed]",
      "text/plain": [
       "plot without title"
      ]
     },
     "metadata": {},
     "output_type": "display_data"
    },
    {
     "data": {
      "image/png": "[encoded data removed]",
      "text/plain": [
       "plot without title"
      ]
     },
     "metadata": {},
     "output_type": "display_data"
    }
   ],
   "source": [
    "ggL1 <- data.frame ( cbind (okun.ts[,\"g\"], lag (okun.ts[,\"g\"],-1)))\n",
    "names (ggL1) <- c (\"g\",\"gL1\")\n",
    "plot (ggL1)\n",
    "meang <- mean (ggL1$g, na.rm=TRUE)\n",
    "abline (v=meang, lty=2)\n",
    "abline (h= mean (ggL1$gL1, na.rm=TRUE), lty=2)\n",
    "# =================================================================\n",
    "ggL2 <- data.frame ( cbind (okun.ts[,\"g\"], lag (okun.ts[,\"g\"],-2)))\n",
    "names (ggL2) <- c (\"g\",\"gL2\")\n",
    "plot (ggL2)\n",
    "meang <- mean (ggL2$g, na.rm=TRUE)\n",
    "abline (v=meang, lty=2)\n",
    "abline (h= mean (ggL2$gL2, na.rm=TRUE), lty=2)"
   ]
  },
  {
   "cell_type": "code",
   "execution_count": 146,
   "metadata": {},
   "outputs": [
    {
     "data": {
      "image/png": "[encoded data removed]",
      "text/plain": [
       "Plot with title \"Series  growth_rate\""
      ]
     },
     "metadata": {},
     "output_type": "display_data"
    }
   ],
   "source": [
    "growth_rate <- okun.ts[,\"g\"]\n",
    "acf (growth_rate)"
   ]
  },
  {
   "cell_type": "code",
   "execution_count": 147,
   "metadata": {},
   "outputs": [
    {
     "data": {
      "image/png": "[encoded data removed]",
      "text/plain": [
       "plot without title"
      ]
     },
     "metadata": {},
     "output_type": "display_data"
    },
    {
     "data": {
      "image/png": "[encoded data removed]",
      "text/plain": [
       "plot without title"
      ]
     },
     "metadata": {},
     "output_type": "display_data"
    }
   ],
   "source": [
    "data (\"phillips_aus\", package=\"PoEdata\")\n",
    "phill.ts <- ts (phillips_aus,\n",
    "start= c (1987,1),\n",
    "end= c (2009,3),\n",
    "frequency=4)\n",
    "inflation <- phill.ts[,\"inf\"]\n",
    "Du <- diff (phill.ts[,\"u\"])\n",
    "plot (inflation)\n",
    "plot (Du)"
   ]
  },
  {
   "cell_type": "code",
   "execution_count": 150,
   "metadata": {
    "scrolled": false
   },
   "outputs": [
    {
     "data": {
      "text/plain": [
       "\n",
       "\n",
       "|term        |   estimate| std.error| statistic|   p.value|\n",
       "|:-----------|----------:|---------:|---------:|---------:|\n",
       "|(Intercept) |  0.7776213| 0.0658249| 11.813474| 0.0000000|\n",
       "|diff(u)     | -0.5278638| 0.2294049| -2.301014| 0.0237539|"
      ]
     },
     "metadata": {},
     "output_type": "display_data"
    },
    {
     "data": {
      "image/png": "[encoded data removed]",
      "text/plain": [
       "plot without title"
      ]
     },
     "metadata": {},
     "output_type": "display_data"
    },
    {
     "data": {
      "image/png": "[encoded data removed]",
      "text/plain": [
       "Plot with title \"Series  ehat\""
      ]
     },
     "metadata": {},
     "output_type": "display_data"
    }
   ],
   "source": [
    "phill.dyn <- dynlm (inf~ diff (u),data=phill.ts)\n",
    "ehat <- resid (phill.dyn)\n",
    "kable ( tidy (phill.dyn), caption=\"Summary of the `phillips` model\")\n",
    "plot (ehat)\n",
    "abline (h=0, lty=2)\n",
    "corrgm <- acf (ehat)\n",
    "plot (corrgm)\n",
    "# 实际上，可以直接使用 bgtest() 函数【Breusch-Godfrey test】\n",
    "a <- bgtest (phill.dyn, order=1, type=\"F\", fill=0)\n",
    "b <- bgtest (phill.dyn, order=1, type=\"F\", fill=NA)\n",
    "c <- bgtest (phill.dyn, order=4, type=\"Chisq\", fill=0)\n",
    "d <- bgtest (phill.dyn, order=4, type=\"Chisq\", fill=NA)\n",
    "dfr <- data.frame ( rbind (a[ c (1,2,4)],\n",
    "b[ c (1,2,4)],\n",
    "c[ c (1,2,4)],\n",
    "d[ c (1,2,4)]\n",
    "))\n",
    "dfr <- cbind ( c (\"1, F, 0\",\n",
    "\"1, F, NA\", \"4, Chisq, 0\", \"4, Chisq, NA\"), dfr)\n",
    "names (dfr)<- c (\"Method\", \"Statistic\", \"Parameters\", \"p-Value\")\n",
    "kable (dfr, caption=\"Breusch-Godfrey test for the Phillips example\")\n",
    "# 或者使用 dwtest() 函数【Durbin-Watson test(实际中，很少用了，因为诸多限制)】"
   ]
  },
  {
   "cell_type": "markdown",
   "metadata": {},
   "source": [
    "### 9.4 Estimation with Serially Correlated Errors"
   ]
  },
  {
   "cell_type": "code",
   "execution_count": 153,
   "metadata": {},
   "outputs": [
    {
     "data": {
      "text/plain": [
       "\n",
       "\n",
       "|           | Incorrect| vcovHAC| NeweyWest| kernHAC|\n",
       "|:----------|---------:|-------:|---------:|-------:|\n",
       "|(Intercept |     0.066|   0.095|     0.128|   0.131|\n",
       "|Du         |     0.229|   0.304|     0.331|   0.335|"
      ]
     },
     "metadata": {},
     "output_type": "display_data"
    }
   ],
   "source": [
    "# HAC, heterokesdasticity and autocorrelation consistent\n",
    "library (sandwich)\n",
    "s0 <- coeftest (phill.dyn)\n",
    "s1 <- coeftest (phill.dyn, vcov.= vcovHAC (phill.dyn))\n",
    "s2 <- coeftest (phill.dyn, vcov.= NeweyWest (phill.dyn))\n",
    "s3 <- coeftest (phill.dyn, vcov.= kernHAC (phill.dyn))\n",
    "tbl <- data.frame ( cbind (s0[ c (3,4)],s1[ c (3,4)],\n",
    "s2[ c (3,4)],s3[ c (3,4)]))\n",
    "names (tbl) <- c (\"Incorrect\",\"vcovHAC\", \"NeweyWest\", \"kernHAC\")\n",
    "row.names (tbl) <- c (\"(Intercept\", \"Du\")\n",
    "kable (tbl, digits=3,\n",
    "caption=\"Comparing standard errors for the Phillips model\")"
   ]
  },
  {
   "cell_type": "code",
   "execution_count": 154,
   "metadata": {},
   "outputs": [
    {
     "data": {
      "text/html": [
       "<ol class=list-inline>\n",
       "\t<li>0.548658640152002</li>\n",
       "\t<li>0.455732478276321</li>\n",
       "\t<li>0.43321578451034</li>\n",
       "\t<li>0.420493577266375</li>\n",
       "\t<li>0.339034189151539</li>\n",
       "</ol>\n"
      ],
      "text/latex": [
       "\\begin{enumerate*}\n",
       "\\item 0.548658640152002\n",
       "\\item 0.455732478276321\n",
       "\\item 0.43321578451034\n",
       "\\item 0.420493577266375\n",
       "\\item 0.339034189151539\n",
       "\\end{enumerate*}\n"
      ],
      "text/markdown": [
       "1. 0.548658640152002\n",
       "2. 0.455732478276321\n",
       "3. 0.43321578451034\n",
       "4. 0.420493577266375\n",
       "5. 0.339034189151539\n",
       "\n",
       "\n"
      ],
      "text/plain": [
       "[1] 0.5486586 0.4557325 0.4332158 0.4204936 0.3390342"
      ]
     },
     "metadata": {},
     "output_type": "display_data"
    }
   ],
   "source": [
    "ehat <- resid (phill.dyn)\n",
    "ac <- acf (ehat, plot=FALSE)\n",
    "# The Phillips equation: five lag correlations in residuals\n",
    "ac$acf[2:6]"
   ]
  },
  {
   "cell_type": "markdown",
   "metadata": {},
   "source": [
    "### 9.5 Nonlinear Least Squares Estimation "
   ]
  },
  {
   "cell_type": "code",
   "execution_count": 161,
   "metadata": {},
   "outputs": [
    {
     "data": {
      "text/plain": [
       "\n",
       "t test of coefficients:\n",
       "\n",
       "             Estimate Std. Error t value  Pr(>|t|)    \n",
       "(Intercept)  0.777621   0.094854  8.1980 1.824e-12 ***\n",
       "diff(u)     -0.527864   0.304444 -1.7339   0.08644 .  \n",
       "---\n",
       "Signif. codes:  0 '***' 0.001 '**' 0.01 '*' 0.05 '.' 0.1 ' ' 1\n"
      ]
     },
     "metadata": {},
     "output_type": "display_data"
    },
    {
     "name": "stdout",
     "output_type": "stream",
     "text": [
      "[1] \"==============================================\"\n"
     ]
    },
    {
     "data": {
      "text/plain": [
       "\n",
       "Time series regression with \"ts\" data:\n",
       "Start = 1987(2), End = 2009(3)\n",
       "\n",
       "Call:\n",
       "dynlm(formula = inf ~ diff(u), data = phill.ts)\n",
       "\n",
       "Coefficients:\n",
       "(Intercept)      diff(u)  \n",
       "     0.7776      -0.5279  \n"
      ]
     },
     "metadata": {},
     "output_type": "display_data"
    },
    {
     "name": "stdout",
     "output_type": "stream",
     "text": [
      "[1] \"==============================================\"\n"
     ]
    },
    {
     "data": {
      "text/plain": [
       "Nonlinear regression model\n",
       "  model: inf ~ b1 * (1 - rho) + b2 * Du + rho * Linf - rho * b2 * LDu\n",
       "   data: phill.dfr\n",
       "    rho      b1      b2 \n",
       " 0.5574  0.7609 -0.6944 \n",
       " residual sum-of-squares: 23.2\n",
       "\n",
       "Number of iterations to convergence: 3 \n",
       "Achieved convergence tolerance: 8.06e-06"
      ]
     },
     "metadata": {},
     "output_type": "display_data"
    },
    {
     "name": "stdout",
     "output_type": "stream",
     "text": [
      "[1] \"==============================================\"\n"
     ]
    },
    {
     "data": {
      "text/html": [
       "0.557397711979879"
      ],
      "text/latex": [
       "0.557397711979879"
      ],
      "text/markdown": [
       "0.557397711979879"
      ],
      "text/plain": [
       "[1] 0.5573977"
      ]
     },
     "metadata": {},
     "output_type": "display_data"
    }
   ],
   "source": [
    "library (dynlm)\n",
    "phill.dyn <- dynlm (inf~ diff (u), data=phill.ts)\n",
    "# Non-linear AR(1) model with 'Cochrane-Orcutt method'nls'\n",
    "phill.ts.tab <- cbind (phill.ts[,\"inf\"],\n",
    "    phill.ts[,\"u\"],\n",
    "    lag (phill.ts[,\"inf\"], -1),\n",
    "    diff (phill.ts[,\"u\"], lag=1),\n",
    "    lag ( diff (phill.ts[,2],lag=1), -1))\n",
    "phill.dfr <- data.frame (phill.ts.tab)\n",
    "names (phill.dfr) <- c (\"inf\", \"u\", \"Linf\", \"Du\", \"LDu\")\n",
    "phill.nls <- nls (inf~b1*(1-rho)+b2*Du+rho*Linf-rho*b2*LDu,\n",
    "    data=phill.dfr,\n",
    "    start= list (rho=0.5, b1=0.5, b2=-0.5))\n",
    "# ============================================\n",
    "s1 # This is `phill.dyn` with HAC errors:\n",
    "print('==============================================')\n",
    "phill.dyn # The simple linear model:\n",
    "print('==============================================')\n",
    "phill.nls # The 'nls' model:\n",
    "print('==============================================')\n",
    "coef (phill.nls)[[\"rho\"]]"
   ]
  },
  {
   "cell_type": "markdown",
   "metadata": {},
   "source": [
    "### 9.6 A more general model"
   ]
  },
  {
   "cell_type": "code",
   "execution_count": 164,
   "metadata": {},
   "outputs": [
    {
     "data": {
      "text/plain": [
       "\n",
       "\n",
       "|term        |   estimate| std.error| statistic|   p.value|\n",
       "|:-----------|----------:|---------:|---------:|---------:|\n",
       "|(Intercept) |  0.3336325| 0.0899028|  3.711037| 0.0003677|\n",
       "|L(inf)      |  0.5592676| 0.0907962|  6.159589| 0.0000000|\n",
       "|d(u)        | -0.6881852| 0.2498704| -2.754169| 0.0071953|\n",
       "|L(d(u))     |  0.3199526| 0.2575040|  1.242515| 0.2174635|"
      ]
     },
     "metadata": {},
     "output_type": "display_data"
    },
    {
     "data": {
      "text/plain": [
       "\n",
       "\n",
       "|term             |   estimate| std.error| statistic|   p.value|\n",
       "|:----------------|----------:|---------:|---------:|---------:|\n",
       "|(Intercept)      |  0.3336325| 0.0899028|  3.711037| 0.0003677|\n",
       "|lag(inf, -1)     |  0.5592676| 0.0907962|  6.159589| 0.0000000|\n",
       "|diff(u)          | -0.6881852| 0.2498704| -2.754169| 0.0071953|\n",
       "|lag(diff(u), -1) |  0.3199526| 0.2575040|  1.242515| 0.2174635|"
      ]
     },
     "metadata": {},
     "output_type": "display_data"
    }
   ],
   "source": [
    "s.nls <- summary (phill.nls)\n",
    "phill.gen <- dynlm (inf~ L (inf)+ d (u)+ L ( d (u)),\n",
    "data=phill.ts)\n",
    "s.gen <- summary (phill.gen)\n",
    "nlW <- nlWaldtest (phill.gen, texts=\"b[4]=-b[2]*b[3]\") # nlWaldtest() function for Wald test in package nlWaldtest\n",
    "phill1.gen <- dynlm (inf~ lag (inf, -1)+ diff (u)+ lag ( diff (u), -1), data=phill.ts)\n",
    "kable ( tidy (phill.gen),caption=\"Using dynlm with L and d operators\")\n",
    "kable ( tidy (phill1.gen),caption=\"Using dynlm with lag and diff operators\")"
   ]
  },
  {
   "cell_type": "markdown",
   "metadata": {},
   "source": [
    "### 9.7 Autoregressive Models"
   ]
  },
  {
   "cell_type": "code",
   "execution_count": 166,
   "metadata": {},
   "outputs": [
    {
     "data": {
      "text/plain": [
       "\n",
       "\n",
       "|term        | estimate| std.error| statistic| p.value|\n",
       "|:-----------|--------:|---------:|---------:|-------:|\n",
       "|(Intercept) |   0.4657|    0.1433|    3.2510|  0.0016|\n",
       "|L(g)        |   0.3770|    0.1000|    3.7692|  0.0003|\n",
       "|L(g, 2)     |   0.2462|    0.1029|    2.3937|  0.0187|"
      ]
     },
     "metadata": {},
     "output_type": "display_data"
    },
    {
     "data": {
      "image/png": "[encoded data removed]",
      "text/plain": [
       "Plot with title \"Series  res.ar2\""
      ]
     },
     "metadata": {},
     "output_type": "display_data"
    }
   ],
   "source": [
    "data (okun)\n",
    "okun.ts <- ts (okun)\n",
    "okun.ar2 <- dynlm (g~ L (g)+ L (g,2), data=okun.ts)\n",
    "kable ( tidy (okun.ar2), digits=4,caption=\"Autoregressive model of order 2 using the dataset $okun$\")\n",
    "res.ar2 <- resid (okun.ar2)\n",
    "Acf (res.ar2, lag.max=12) # New: Acf() from package forecast"
   ]
  },
  {
   "cell_type": "code",
   "execution_count": 167,
   "metadata": {},
   "outputs": [
    {
     "data": {
      "text/plain": [
       "\n",
       "\n",
       "|    |   1   |   2   |   3   |   4   |   5   |\n",
       "|:---|:-----:|:-----:|:-----:|:-----:|:-----:|\n",
       "|AIC | 169.4 | 163.5 | 163.1 | 161.6 | 162.5 |\n",
       "|BIC | 177.1 | 173.8 | 175.9 | 176.9 | 180.3 |"
      ]
     },
     "metadata": {},
     "output_type": "display_data"
    }
   ],
   "source": [
    "aics <- rep (0,5)\n",
    "bics <- rep (0,5)\n",
    "y <- okun.ts[,\"g\"]\n",
    "for (i in 1:5){\n",
    "    ari <- dynlm (y~ L (y,1:i), start=i)\n",
    "    aics[i] <- AIC (ari)\n",
    "    bics[i] <- BIC (ari)\n",
    "    }\n",
    "tbl <- data.frame ( rbind (aics, bics))\n",
    "names (tbl) <- c (\"1\",\"2\",\"3\",\"4\",\"5\")\n",
    "row.names (tbl) <- c (\"AIC\",\"BIC\")\n",
    "kable (tbl, digits=1, align='c',caption=\"Lag order selection for an AR model\")"
   ]
  },
  {
   "cell_type": "markdown",
   "metadata": {},
   "source": [
    "### 9.8 Forecasting"
   ]
  },
  {
   "cell_type": "code",
   "execution_count": 169,
   "metadata": {},
   "outputs": [
    {
     "data": {
      "text/plain": [
       "\n",
       "\n",
       "|term        |  estimate| std.error| statistic|   p.value|\n",
       "|:-----------|---------:|---------:|---------:|---------:|\n",
       "|(Intercept) | 0.4657262| 0.1432576|  3.250970| 0.0016024|\n",
       "|L(y, 1:2)1  | 0.3770015| 0.1000210|  3.769225| 0.0002874|\n",
       "|L(y, 1:2)2  | 0.2462394| 0.1028688|  2.393723| 0.0186861|"
      ]
     },
     "metadata": {},
     "output_type": "display_data"
    },
    {
     "data": {
      "text/plain": [
       "\n",
       "\n",
       "|    | Point.Forecast| Lo.80| Hi.80|  Lo.95| Hi.95|\n",
       "|:---|--------------:|-----:|-----:|------:|-----:|\n",
       "|99  |          0.718| 0.021| 1.415| -0.348| 1.784|\n",
       "|100 |          0.933| 0.188| 1.678| -0.206| 2.073|\n",
       "|101 |          0.994| 0.202| 1.787| -0.218| 2.207|"
      ]
     },
     "metadata": {},
     "output_type": "display_data"
    },
    {
     "data": {
      "image/png": "[encoded data removed]",
      "text/plain": [
       "Plot with title \"Forecasts from AR(2)\""
      ]
     },
     "metadata": {},
     "output_type": "display_data"
    }
   ],
   "source": [
    "y <- okun.ts[,\"g\"]\n",
    "g.ar2 <- dynlm (y~ L (y, 1:2))\n",
    "kable ( tidy (g.ar2), caption=\"The AR(2) growth model\")\n",
    "ar2g <- ar (y, aic=FALSE, order.max=2, method=\"ols\")\n",
    "fcst <- data.frame ( forecast (ar2g, 3))\n",
    "kable (fcst, digits=3,\n",
    "caption=\"Forcasts for the AR(2) growth model\")\n",
    "plot ( forecast (ar2g,3))"
   ]
  },
  {
   "cell_type": "code",
   "execution_count": 170,
   "metadata": {},
   "outputs": [
    {
     "data": {
      "image/png": "[encoded data removed]",
      "text/plain": [
       "Plot with title \"Forecasts from ETS(A,N,N)\""
      ]
     },
     "metadata": {},
     "output_type": "display_data"
    },
    {
     "data": {
      "image/png": "[encoded data removed]",
      "text/plain": [
       "Plot with title \"Holt-Winters filtering\""
      ]
     },
     "metadata": {},
     "output_type": "display_data"
    }
   ],
   "source": [
    "y <- okun.ts[,\"g\"]\n",
    "okun.ets <- ets (y)\n",
    "okunf.ets <- forecast (okun.ets,1) #one-period forecast\n",
    "plot (okunf.ets)\n",
    "okun.HW <- HoltWinters (y, beta=FALSE, gamma=FALSE)\n",
    "plot (okun.HW)\n",
    "okunf.HW <- forecast (okun.HW,1)"
   ]
  },
  {
   "cell_type": "markdown",
   "metadata": {},
   "source": [
    "### 9.9 Multiplier Analysis"
   ]
  },
  {
   "cell_type": "markdown",
   "metadata": {},
   "source": [
    "## Chapter 10 Random Regressors"
   ]
  },
  {
   "cell_type": "code",
   "execution_count": 171,
   "metadata": {
    "collapsed": true
   },
   "outputs": [],
   "source": [
    "rm (list= ls ()) #Removes all items in Environment!\n",
    "library (AER) #for `ivreg()`\n",
    "library (lmtest) #for `coeftest()` and `bptest()`.\n",
    "library (broom) #for `glance(`) and `tidy()`\n",
    "library (PoEdata) #for PoE4 datasets\n",
    "library (car) #for `hccm()` robust standard errors\n",
    "library (sandwich)\n",
    "library (knitr) #for making neat tables with `kable()`\n",
    "library (stargazer)"
   ]
  },
  {
   "cell_type": "markdown",
   "metadata": {},
   "source": [
    "## Chapter 12 Time Series: Nonstationarity"
   ]
  },
  {
   "cell_type": "code",
   "execution_count": 172,
   "metadata": {
    "collapsed": true
   },
   "outputs": [],
   "source": [
    "rm (list= ls ()) #Removes all items in Environment!\n",
    "library (tseries) # for ADF unit root tests\n",
    "library (dynlm)\n",
    "library (nlWaldTest) # for the `nlWaldtest()` function\n",
    "library (lmtest) #for `coeftest()` and `bptest()`.\n",
    "library (broom) #for `glance(`) and `tidy()`\n",
    "library (PoEdata) #for PoE4 datasets\n",
    "library (car) #for `hccm()` robust standard errors\n",
    "library (sandwich)\n",
    "library (knitr) #for kable()\n",
    "library (forecast)"
   ]
  },
  {
   "cell_type": "code",
   "execution_count": null,
   "metadata": {
    "collapsed": true
   },
   "outputs": [],
   "source": []
  }
 ],
 "metadata": {
  "kernelspec": {
   "display_name": "R",
   "language": "R",
   "name": "ir"
  },
  "language_info": {
   "codemirror_mode": "r",
   "file_extension": ".r",
   "mimetype": "text/x-r-source",
   "name": "R",
   "pygments_lexer": "r",
   "version": "3.4.1"
  }
 },
 "nbformat": 4,
 "nbformat_minor": 2
}
