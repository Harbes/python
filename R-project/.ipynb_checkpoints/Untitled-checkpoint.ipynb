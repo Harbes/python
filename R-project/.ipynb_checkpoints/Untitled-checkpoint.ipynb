{
 "cells": [
  {
   "cell_type": "markdown",
   "metadata": {
    "collapsed": true
   },
   "source": [
    "# 1、基础"
   ]
  },
  {
   "cell_type": "code",
   "execution_count": null,
   "metadata": {
    "collapsed": true
   },
   "outputs": [],
   "source": [
    "x=1:10\n",
    "y=x+rnorm(10,0,1)\n",
    "fit=lm(y~x)\n",
    "summary(fit)\n",
    "plot(y)"
   ]
  },
  {
   "cell_type": "code",
   "execution_count": null,
   "metadata": {
    "collapsed": true
   },
   "outputs": [],
   "source": [
    "data(\"discoveries\")\n",
    "plot(discoveries,col=\"#333333\",lwd=0.3,xlab=\"Year\",main=\"Number of important discoveries per year\")"
   ]
  },
  {
   "cell_type": "code",
   "execution_count": null,
   "metadata": {
    "collapsed": true
   },
   "outputs": [],
   "source": [
    "y=runif(1000,min=0,max=1)#y=rnorm(1000)\n",
    "r_y=round(y)\n",
    "plot(y)\n",
    "plot(r_y)"
   ]
  },
  {
   "cell_type": "code",
   "execution_count": null,
   "metadata": {
    "collapsed": true
   },
   "outputs": [],
   "source": [
    "5L#长整型用L结尾\n",
    "class(5L)"
   ]
  },
  {
   "cell_type": "code",
   "execution_count": null,
   "metadata": {
    "collapsed": true
   },
   "outputs": [],
   "source": [
    "1+2.0\n",
    "6.66-0.06\n",
    "6*8\n",
    "9/5\n",
    "10%%3#没有10%3这种运算"
   ]
  },
  {
   "cell_type": "code",
   "execution_count": null,
   "metadata": {
    "collapsed": true
   },
   "outputs": [],
   "source": [
    "#特殊数值类型\n",
    "class(NaN)\n",
    "class(Inf)#例如会在积分中用到：integrate(dnorm,3,Inf)\n",
    "class(NA)#\"logical\"\n",
    "class(NULL)"
   ]
  },
  {
   "cell_type": "code",
   "execution_count": null,
   "metadata": {
    "collapsed": true
   },
   "outputs": [],
   "source": [
    "#简单列表\n",
    "c(1,2,3,4,5,6,7,8)\n",
    "c('a','b','c','d')\n",
    "c('a','b','c','d')=='abcd'\n",
    "c('a','b','c','d')=='a'"
   ]
  },
  {
   "cell_type": "code",
   "execution_count": null,
   "metadata": {
    "collapsed": true
   },
   "outputs": [],
   "source": [
    "#序列生成以及一些有趣的序列\n",
    "1:10\n",
    "seq(from=0,to=100,by=2)\n",
    "letters\n",
    "LETTERS\n",
    "month\n",
    "month.name\n",
    "month.abb"
   ]
  },
  {
   "cell_type": "code",
   "execution_count": null,
   "metadata": {
    "collapsed": true
   },
   "outputs": [],
   "source": [
    "letters[8]\n",
    "month.name[8]\n",
    "c(1,2,3,4,5,6,7,8)[8]\n",
    "(1:10)[8]\n",
    "seq(from=0,to=100,by=2)[8]"
   ]
  },
  {
   "cell_type": "code",
   "execution_count": null,
   "metadata": {
    "collapsed": true
   },
   "outputs": [],
   "source": [
    "#字符串和字符在R语言中没有区别(character)\n",
    "'Harbes'\n",
    "class('Harbes')\n",
    "substr(\"My name is Harbes\",12,18)#选取第12-18位的字符串\n",
    "gsub('a','A',\"My name is Harbes\")#将所有”a“替换成”A“"
   ]
  },
  {
   "cell_type": "code",
   "execution_count": null,
   "metadata": {
    "collapsed": true
   },
   "outputs": [],
   "source": [
    "#逻辑值：布尔值+NA\n",
    "class(TRUE)\n",
    "class(FALSE)\n",
    "class(NA)\n",
    "TRUE==TRUE\n",
    "TRUE==1\n",
    "TRUE==c(0)\n",
    "TRUE!=FALSE\n",
    "TRUE!=NA# use \"is.na\" to check whether expression evaluates NA\n",
    "is.na(NA)#TRUE\n"
   ]
  },
  {
   "cell_type": "code",
   "execution_count": null,
   "metadata": {
    "collapsed": true
   },
   "outputs": [],
   "source": [
    "#因子(为数据分类排序设计的)\n",
    "list=c(1,2,3,'a',1,2,3,'a','b','c')#当存在字符串时，list中所有元素均为”character“\n",
    "list2=c(1,2,3)#元素为”numeric“\n",
    "f=factor(list)\n",
    "levels(f)"
   ]
  },
  {
   "cell_type": "code",
   "execution_count": null,
   "metadata": {
    "collapsed": true
   },
   "outputs": [],
   "source": [
    "#自带数据\n",
    "data(infert)#加载数据{自然以及引产导致的不育症}\n",
    "infert$education"
   ]
  },
  {
   "cell_type": "code",
   "execution_count": null,
   "metadata": {
    "collapsed": true
   },
   "outputs": [],
   "source": [
    "#赋值\n",
    "x=5\n",
    "y<- \"1\" #推荐\n",
    "1->z #可行，但很怪"
   ]
  },
  {
   "cell_type": "code",
   "execution_count": null,
   "metadata": {
    "collapsed": true
   },
   "outputs": [],
   "source": [
    "#转变数据类型\n",
    "as.numeric(y)\n",
    "as.character(x)"
   ]
  },
  {
   "cell_type": "code",
   "execution_count": null,
   "metadata": {
    "collapsed": true
   },
   "outputs": [],
   "source": [
    "#for循环【注意，无论if还是while循环，都很慢。推荐使用apply()来操作一串数据】\n",
    "for (i in 1:8){\n",
    "    print(i)\n",
    "}\n",
    "#或者\n",
    "for (i in 1:9){print(i)}"
   ]
  },
  {
   "cell_type": "code",
   "execution_count": null,
   "metadata": {
    "collapsed": true
   },
   "outputs": [],
   "source": [
    "# while 循环\n",
    "a=10\n",
    "while(a>0){cat(a,\"...\",sep='');a=a-1}\n",
    "#或者\n",
    "while(a>-10){\n",
    "    cat(a,\"...\",sep='')\n",
    "    a=a-1\n",
    "}"
   ]
  },
  {
   "cell_type": "code",
   "execution_count": null,
   "metadata": {
    "collapsed": true
   },
   "outputs": [],
   "source": [
    "#if/else\n",
    "if (4>3){\n",
    "    print('Yes!')\n",
    "}else{\n",
    "    print('No!')\n",
    "}"
   ]
  },
  {
   "cell_type": "code",
   "execution_count": null,
   "metadata": {
    "collapsed": true
   },
   "outputs": [],
   "source": [
    "#函数\n",
    "jiggle=function(x){\n",
    "    x=x+rnorm(1,sd=.1)\n",
    "    return(x)\n",
    "}\n",
    "set.seed(2716057)\n",
    "jiggle(5)"
   ]
  },
  {
   "cell_type": "markdown",
   "metadata": {},
   "source": [
    "# 2、数据容器\n",
    "常用的有：vactors,matrices,data frames,arrays"
   ]
  },
  {
   "cell_type": "code",
   "execution_count": null,
   "metadata": {
    "collapsed": true
   },
   "outputs": [],
   "source": [
    "vec=c(1,2,3,4)\n",
    "c(TRUE,8)\n",
    "c('Harbes',TRUE,8)"
   ]
  },
  {
   "cell_type": "code",
   "execution_count": null,
   "metadata": {
    "collapsed": true
   },
   "outputs": [],
   "source": [
    "#数据索引与切片\n",
    "vec[1]\n",
    "which(vec%%2==0)\n",
    "head(vec,1)\n",
    "tail(vec,1)\n",
    "vec[6]#c超出索引范围，NA\n",
    "length(vec)\n",
    "vec[2:3]\n",
    "vec*4\n"
   ]
  },
  {
   "cell_type": "code",
   "execution_count": null,
   "metadata": {
    "collapsed": true
   },
   "outputs": [],
   "source": [
    "#一些内置函数\n",
    "mean(vec)\n",
    "sum(vec)\n",
    "var(vec)\n",
    "sd(vec)\n",
    "abs((sd(vec))^2-var(vec))<1e-8\n",
    "max(vec)\n",
    "min(vec)"
   ]
  },
  {
   "cell_type": "code",
   "execution_count": null,
   "metadata": {
    "collapsed": true
   },
   "outputs": [],
   "source": [
    "mat=matrix(nrow=6,ncol=8,1:48)\n",
    "mat\n",
    "class(mat)\n",
    "mat[1,]\n",
    "mat[,1]\n",
    "mat[6,6]\n",
    "t(mat)\n",
    "mat2=cbind(matrix(nrow=4,ncol=2,1:8),7:10)#把两个矩阵按列合并"
   ]
  },
  {
   "cell_type": "code",
   "execution_count": null,
   "metadata": {
    "collapsed": true
   },
   "outputs": [],
   "source": [
    "df=data.frame(c(6,7,8,9),c('dog','cat','bird','dog'))\n",
    "names(df)=c('number','species')\n",
    "class(df)\n",
    "df\n",
    "df$number\n",
    "df[,1]\n",
    "df[,'number']\n",
    "class(df$number)\n",
    "df[,2]\n",
    "class(df[,2])#\"factor\",data.frame()会将字符向量转换为factor向量"
   ]
  },
  {
   "cell_type": "code",
   "execution_count": null,
   "metadata": {
    "collapsed": true
   },
   "outputs": [],
   "source": [
    "array(c(c(1,2,3,4),c(8,9,3,6)),dim=c(2,4))\n",
    "array(c(c(c(2,300,4),c(8,9,0)),c(c(5,6,0),c(66,7,8))),dim=c(3,2,2))"
   ]
  },
  {
   "cell_type": "code",
   "execution_count": null,
   "metadata": {
    "collapsed": true
   },
   "outputs": [],
   "source": [
    "#列表(多维，允许不同类型)\n",
    "list1=list(time=1:40)\n",
    "list1$price=c(rnorm(40,0.5*list1$time,4))\n",
    "list1"
   ]
  },
  {
   "cell_type": "markdown",
   "metadata": {},
   "source": [
    "# 3、apply()函数组\n",
    "主要包括：apply(),lapply(),sapply()"
   ]
  },
  {
   "cell_type": "code",
   "execution_count": null,
   "metadata": {
    "collapsed": true
   },
   "outputs": [],
   "source": [
    "#用法apply(x,MAR,function),其中，将function应用到行或者列，MAR=1表示行，MAR=2表示列\n",
    "mat\n",
    "myFun=function(x){return(x%%2)}\n",
    "apply(mat,MAR=2,myFun)\n",
    "?lapply\n",
    "?sapply"
   ]
  },
  {
   "cell_type": "code",
   "execution_count": null,
   "metadata": {
    "collapsed": true
   },
   "outputs": [],
   "source": [
    "#plyr程序包的作用是用来改进apply()函数族\n",
    "#install.packages(\"plyr\")\n",
    "require(plyr)\n",
    "?plyr"
   ]
  },
  {
   "cell_type": "markdown",
   "metadata": {},
   "source": [
    "# 4、载入数据"
   ]
  },
  {
   "cell_type": "code",
   "execution_count": null,
   "metadata": {
    "collapsed": true
   },
   "outputs": [],
   "source": [
    "#读取网上的一个文本\n",
    "pets=read.csv(\"http://learnxinyminutes.com/docs/pets.csv\")\n",
    "head(pets,2)#前两行"
   ]
  },
  {
   "cell_type": "code",
   "execution_count": null,
   "metadata": {
    "collapsed": true
   },
   "outputs": [],
   "source": [
    "#保存数据\n",
    "write.csv(pets,\"pets.csv\")"
   ]
  },
  {
   "cell_type": "markdown",
   "metadata": {},
   "source": [
    "# 5、画图"
   ]
  },
  {
   "cell_type": "code",
   "execution_count": null,
   "metadata": {
    "collapsed": true
   },
   "outputs": [],
   "source": [
    "#散点图\n",
    "plot(list1$time,list1$price,main='fake data')"
   ]
  },
  {
   "cell_type": "code",
   "execution_count": null,
   "metadata": {
    "collapsed": true
   },
   "outputs": [],
   "source": [
    "#回归图\n",
    "linearModel=lm(price~time,data=list1)\n",
    "linearModel#拟合结果\n",
    "abline(linearModel,col='red')#展示拟合结果\n",
    "plot(linearModel)"
   ]
  },
  {
   "cell_type": "code",
   "execution_count": null,
   "metadata": {
    "collapsed": true
   },
   "outputs": [],
   "source": [
    "#直方图\n",
    "hist(rpois(n=10000,lambda=5),col='thistle')"
   ]
  },
  {
   "cell_type": "code",
   "execution_count": null,
   "metadata": {
    "collapsed": true
   },
   "outputs": [],
   "source": [
    "#柱状图\n",
    "barplot(c(1,4,5,1,2),names.arg=c('red','blue','purple','green','yellow'))"
   ]
  }
 ],
 "metadata": {
  "kernelspec": {
   "display_name": "R",
   "language": "R",
   "name": "ir"
  },
  "language_info": {
   "codemirror_mode": "r",
   "file_extension": ".r",
   "mimetype": "text/x-r-source",
   "name": "R",
   "pygments_lexer": "r",
   "version": "3.4.1"
  }
 },
 "nbformat": 4,
 "nbformat_minor": 2
}
