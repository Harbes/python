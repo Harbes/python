{
 "cells": [
  {
   "cell_type": "markdown",
   "metadata": {
    "collapsed": true
   },
   "source": [
    "# 1、基础"
   ]
  },
  {
   "cell_type": "code",
   "execution_count": null,
   "metadata": {
    "collapsed": true
   },
   "outputs": [],
   "source": [
    "x=1:10\n",
    "y=x+rnorm(10,0,1)\n",
    "fit=lm(y~x)\n",
    "summary(fit)\n",
    "plot(y)"
   ]
  },
  {
   "cell_type": "code",
   "execution_count": null,
   "metadata": {
    "collapsed": true
   },
   "outputs": [],
   "source": [
    "data(\"discoveries\")\n",
    "plot(discoveries,col=\"#333333\",lwd=0.3,xlab=\"Year\",main=\"Number of important discoveries per year\")"
   ]
  },
  {
   "cell_type": "code",
   "execution_count": null,
   "metadata": {
    "collapsed": true,
    "scrolled": true
   },
   "outputs": [],
   "source": [
    "y=runif(1000,min=0,max=1)#y=rnorm(1000)\n",
    "r_y=round(y)\n",
    "plot(y)\n",
    "plot(r_y)"
   ]
  },
  {
   "cell_type": "code",
   "execution_count": null,
   "metadata": {
    "collapsed": true
   },
   "outputs": [],
   "source": [
    "5L#长整型用L结尾\n",
    "class(5L)"
   ]
  },
  {
   "cell_type": "code",
   "execution_count": null,
   "metadata": {
    "collapsed": true
   },
   "outputs": [],
   "source": [
    "1+2.0\n",
    "6.66-0.06\n",
    "6*8\n",
    "9/5\n",
    "10%%3#没有10%3这种运算"
   ]
  },
  {
   "cell_type": "code",
   "execution_count": null,
   "metadata": {
    "collapsed": true
   },
   "outputs": [],
   "source": [
    "#特殊数值类型\n",
    "class(NaN)\n",
    "class(Inf)#例如会在积分中用到：integrate(dnorm,3,Inf)\n",
    "class(NA)#\"logical\"\n",
    "class(NULL)"
   ]
  },
  {
   "cell_type": "code",
   "execution_count": null,
   "metadata": {
    "collapsed": true
   },
   "outputs": [],
   "source": [
    "#简单列表\n",
    "c(1,2,3,4,5,6,7,8)\n",
    "c('a','b','c','d')\n",
    "c('a','b','c','d')=='abcd'\n",
    "c('a','b','c','d')=='a'"
   ]
  },
  {
   "cell_type": "code",
   "execution_count": null,
   "metadata": {
    "collapsed": true
   },
   "outputs": [],
   "source": [
    "#序列生成以及一些有趣的序列\n",
    "1:10\n",
    "seq(from=0,to=100,by=2)\n",
    "letters\n",
    "LETTERS\n",
    "month\n",
    "month.name\n",
    "month.abb"
   ]
  },
  {
   "cell_type": "code",
   "execution_count": null,
   "metadata": {
    "collapsed": true
   },
   "outputs": [],
   "source": [
    "letters[8]\n",
    "month.name[8]\n",
    "c(1,2,3,4,5,6,7,8)[8]\n",
    "(1:10)[8]\n",
    "seq(from=0,to=100,by=2)[8]"
   ]
  },
  {
   "cell_type": "code",
   "execution_count": null,
   "metadata": {
    "collapsed": true
   },
   "outputs": [],
   "source": [
    "#字符串和字符在R语言中没有区别(character)\n",
    "'Harbes'\n",
    "class('Harbes')\n",
    "substr(\"My name is Harbes\",12,18)#选取第12-18位的字符串\n",
    "gsub('a','A',\"My name is Harbes\")#将所有”a“替换成”A“"
   ]
  },
  {
   "cell_type": "code",
   "execution_count": null,
   "metadata": {
    "collapsed": true
   },
   "outputs": [],
   "source": [
    "#逻辑值：布尔值+NA\n",
    "class(TRUE)\n",
    "class(FALSE)\n",
    "class(NA)\n",
    "TRUE==TRUE\n",
    "TRUE==1\n",
    "TRUE==c(0)\n",
    "TRUE!=FALSE\n",
    "TRUE!=NA# use \"is.na\" to check whether expression evaluates NA\n",
    "is.na(NA)#TRUE\n"
   ]
  },
  {
   "cell_type": "code",
   "execution_count": null,
   "metadata": {
    "collapsed": true
   },
   "outputs": [],
   "source": [
    "#因子(为数据分类排序设计的)\n",
    "list=c(1,2,3,'a',1,2,3,'a','b','c')#当存在字符串时，list中所有元素均为”character“\n",
    "list2=c(1,2,3)#元素为”numeric“\n",
    "f=factor(list)\n",
    "levels(f)"
   ]
  },
  {
   "cell_type": "code",
   "execution_count": null,
   "metadata": {
    "collapsed": true
   },
   "outputs": [],
   "source": [
    "#自带数据\n",
    "data(infert)#加载数据{自然以及引产导致的不育症}\n",
    "infert$education"
   ]
  },
  {
   "cell_type": "code",
   "execution_count": null,
   "metadata": {
    "collapsed": true
   },
   "outputs": [],
   "source": [
    "#赋值\n",
    "x=5\n",
    "y<- \"1\" #推荐\n",
    "1->z #可行，但很怪"
   ]
  },
  {
   "cell_type": "code",
   "execution_count": null,
   "metadata": {
    "collapsed": true
   },
   "outputs": [],
   "source": [
    "#转变数据类型\n",
    "as.numeric(y)\n",
    "as.character(x)"
   ]
  },
  {
   "cell_type": "code",
   "execution_count": null,
   "metadata": {
    "collapsed": true
   },
   "outputs": [],
   "source": [
    "#for循环【注意，无论if还是while循环，都很慢。推荐使用apply()来操作一串数据】\n",
    "for (i in 1:8){\n",
    "    print(i)\n",
    "}\n",
    "#或者\n",
    "for (i in 1:9){print(i)}"
   ]
  },
  {
   "cell_type": "code",
   "execution_count": null,
   "metadata": {
    "collapsed": true
   },
   "outputs": [],
   "source": [
    "# while 循环\n",
    "a=10\n",
    "while(a>0){cat(a,\"...\",sep='');a=a-1}\n",
    "#或者\n",
    "while(a>-10){\n",
    "    cat(a,\"...\",sep='')\n",
    "    a=a-1\n",
    "}"
   ]
  },
  {
   "cell_type": "code",
   "execution_count": null,
   "metadata": {
    "collapsed": true
   },
   "outputs": [],
   "source": [
    "#if/else\n",
    "if (4>3){\n",
    "    print('Yes!')\n",
    "}else{\n",
    "    print('No!')\n",
    "}"
   ]
  },
  {
   "cell_type": "code",
   "execution_count": null,
   "metadata": {
    "collapsed": true
   },
   "outputs": [],
   "source": [
    "#函数\n",
    "jiggle=function(x){\n",
    "    x=x+rnorm(1,sd=.1)\n",
    "    return(x)\n",
    "}\n",
    "set.seed(2716057)\n",
    "jiggle(5)"
   ]
  },
  {
   "cell_type": "markdown",
   "metadata": {},
   "source": [
    "# 2、数据容器\n",
    "常用的有：vactors,matrices,data frames,arrays"
   ]
  },
  {
   "cell_type": "code",
   "execution_count": null,
   "metadata": {
    "collapsed": true
   },
   "outputs": [],
   "source": [
    "vec=c(1,2,3,4)\n",
    "c(TRUE,8)\n",
    "c('Harbes',TRUE,8)"
   ]
  },
  {
   "cell_type": "code",
   "execution_count": null,
   "metadata": {
    "collapsed": true
   },
   "outputs": [],
   "source": [
    "#数据索引与切片\n",
    "vec[1]\n",
    "which(vec%%2==0)\n",
    "head(vec,1)\n",
    "tail(vec,1)\n",
    "vec[6]#c超出索引范围，NA\n",
    "length(vec)\n",
    "vec[2:3]\n",
    "vec*4\n"
   ]
  },
  {
   "cell_type": "code",
   "execution_count": null,
   "metadata": {
    "collapsed": true
   },
   "outputs": [],
   "source": [
    "#一些内置函数\n",
    "mean(vec)\n",
    "sum(vec)\n",
    "var(vec)\n",
    "sd(vec)\n",
    "abs((sd(vec))^2-var(vec))<1e-8\n",
    "max(vec)\n",
    "min(vec)"
   ]
  },
  {
   "cell_type": "code",
   "execution_count": null,
   "metadata": {
    "collapsed": true
   },
   "outputs": [],
   "source": [
    "mat=matrix(nrow=6,ncol=8,1:48)\n",
    "mat\n",
    "class(mat)\n",
    "mat[1,]\n",
    "mat[,1]\n",
    "mat[6,6]\n",
    "t(mat)\n",
    "mat2=cbind(matrix(nrow=4,ncol=2,1:8),7:10)#把两个矩阵按列合并"
   ]
  },
  {
   "cell_type": "code",
   "execution_count": null,
   "metadata": {
    "collapsed": true
   },
   "outputs": [],
   "source": [
    "df=data.frame(c(6,7,8,9),c('dog','cat','bird','dog'))\n",
    "names(df)=c('number','species')\n",
    "class(df)\n",
    "df\n",
    "df$number\n",
    "df[,1]\n",
    "df[,'number']\n",
    "class(df$number)\n",
    "df[,2]\n",
    "class(df[,2])#\"factor\",data.frame()会将字符向量转换为factor向量"
   ]
  },
  {
   "cell_type": "code",
   "execution_count": null,
   "metadata": {
    "collapsed": true
   },
   "outputs": [],
   "source": [
    "array(c(c(1,2,3,4),c(8,9,3,6)),dim=c(2,4))\n",
    "array(c(c(c(2,300,4),c(8,9,0)),c(c(5,6,0),c(66,7,8))),dim=c(3,2,2))"
   ]
  },
  {
   "cell_type": "code",
   "execution_count": null,
   "metadata": {
    "collapsed": true
   },
   "outputs": [],
   "source": [
    "#列表(多维，允许不同类型)\n",
    "list1=list(time=1:40)\n",
    "list1$price=c(rnorm(40,0.5*list1$time,4))\n",
    "list1"
   ]
  },
  {
   "cell_type": "markdown",
   "metadata": {},
   "source": [
    "# 3、apply()函数组\n",
    "主要包括：apply(),lapply(),sapply()"
   ]
  },
  {
   "cell_type": "code",
   "execution_count": null,
   "metadata": {
    "collapsed": true
   },
   "outputs": [],
   "source": [
    "#用法apply(x,MAR,function),其中，将function应用到行或者列，MAR=1表示行，MAR=2表示列\n",
    "mat\n",
    "myFun=function(x){return(x%%2)}\n",
    "apply(mat,MAR=2,myFun)\n",
    "?lapply\n",
    "?sapply"
   ]
  },
  {
   "cell_type": "code",
   "execution_count": null,
   "metadata": {
    "collapsed": true
   },
   "outputs": [],
   "source": [
    "#plyr程序包的作用是用来改进apply()函数族\n",
    "#install.packages(\"plyr\")\n",
    "require(plyr)\n",
    "?plyr"
   ]
  },
  {
   "cell_type": "markdown",
   "metadata": {},
   "source": [
    "# 4、载入数据"
   ]
  },
  {
   "cell_type": "code",
   "execution_count": null,
   "metadata": {
    "collapsed": true
   },
   "outputs": [],
   "source": [
    "#读取网上的一个文本\n",
    "pets=read.csv(\"http://learnxinyminutes.com/docs/pets.csv\")\n",
    "head(pets,2)#前两行"
   ]
  },
  {
   "cell_type": "code",
   "execution_count": null,
   "metadata": {
    "collapsed": true
   },
   "outputs": [],
   "source": [
    "#保存数据\n",
    "write.csv(pets,\"pets.csv\")"
   ]
  },
  {
   "cell_type": "markdown",
   "metadata": {},
   "source": [
    "# 5、画图"
   ]
  },
  {
   "cell_type": "code",
   "execution_count": null,
   "metadata": {
    "collapsed": true,
    "scrolled": true
   },
   "outputs": [],
   "source": [
    "#散点图\n",
    "plot(list1$time,list1$price,main='fake data')"
   ]
  },
  {
   "cell_type": "code",
   "execution_count": null,
   "metadata": {
    "collapsed": true
   },
   "outputs": [],
   "source": [
    "#回归图\n",
    "linearModel=lm(price~time,data=list1)\n",
    "linearModel#拟合结果\n",
    "#abline(linearModel)#展示拟合结果\n",
    "plot(linearModel)"
   ]
  },
  {
   "cell_type": "code",
   "execution_count": null,
   "metadata": {
    "collapsed": true,
    "scrolled": true
   },
   "outputs": [],
   "source": [
    "#直方图\n",
    "hist(rpois(n=10000,lambda=5),col='thistle')"
   ]
  },
  {
   "cell_type": "code",
   "execution_count": null,
   "metadata": {
    "collapsed": true
   },
   "outputs": [],
   "source": [
    "#柱状图\n",
    "barplot(c(1,4,5,1,2),names.arg=c('red','blue','purple','green','yellow'))"
   ]
  },
  {
   "cell_type": "markdown",
   "metadata": {},
   "source": [
    "# 教程《R in action》\n"
   ]
  },
  {
   "cell_type": "markdown",
   "metadata": {
    "collapsed": true
   },
   "source": [
    "## Chapter 1：introduction to R"
   ]
  },
  {
   "cell_type": "code",
   "execution_count": null,
   "metadata": {
    "collapsed": true
   },
   "outputs": [],
   "source": [
    "# Listing 1.1 - A Sample R session\n",
    "age <- c(1,3,5,2,11,9,3,9,12,3)\n",
    "weight <- c(4.4,5.3,7.2,5.2,8.5,7.3,6.0,10.4,10.2,6.1)\n",
    "mean(weight)\n",
    "sd(weight)\n",
    "cor(age,weight)\n",
    "plot(age,weight)"
   ]
  },
  {
   "cell_type": "code",
   "execution_count": null,
   "metadata": {
    "collapsed": true
   },
   "outputs": [],
   "source": [
    "# Listing 1.2 - An example of commands used to manage the R Workspace. \n",
    "\n",
    "#setwd(\"C:/myprojects/project1\") # change the path to one of your directories\n",
    "options() #o ption settings are displayed \n",
    "options(digits=3) # numbers are formatted to print with three digitsafter the decimal place\n",
    "x <- runif(20)\n",
    "summary(x)\n",
    "hist(x)\n",
    "savehistory()\n",
    "save.image()"
   ]
  },
  {
   "cell_type": "code",
   "execution_count": null,
   "metadata": {
    "collapsed": true
   },
   "outputs": [],
   "source": [
    "# Listing 1.3 - Working with a new package\n",
    "\n",
    "help.start()\n",
    "install.packages(\"vcd\")\n",
    "help(package=\"vcd\")\n",
    "library(vcd)\n",
    "help(Arthritis)\n",
    "Arthritis\n",
    "example(Arthritis)"
   ]
  },
  {
   "cell_type": "markdown",
   "metadata": {},
   "source": [
    "## Chapter 2：creating a dataset\n",
    "### 2.1 R中常见的几种数据结构\n",
    "* vector\n",
    "* matrix\n",
    "* array\n",
    "* dataframe\n",
    "* factor\n",
    "* list"
   ]
  },
  {
   "cell_type": "code",
   "execution_count": null,
   "metadata": {
    "collapsed": true
   },
   "outputs": [],
   "source": [
    "#  Creating vectors\n",
    "a <- c(1, 2, 5, 3, 6, -2, 4)\n",
    "b <- c(\"one\", \"two\", \"three\")\n",
    "c <- c(TRUE, TRUE, TRUE, FALSE, TRUE, FALSE)"
   ]
  },
  {
   "cell_type": "code",
   "execution_count": null,
   "metadata": {
    "collapsed": true
   },
   "outputs": [],
   "source": [
    "# Using vector subscripts\n",
    "a <- c(1, 2, 5, 3, 6, -2, 4)\n",
    "a[3] # R语言的索引是从1开始的\n",
    "a[c(1, 3, 5)]\n",
    "a[2:6]                     \n"
   ]
  },
  {
   "cell_type": "code",
   "execution_count": null,
   "metadata": {
    "collapsed": true
   },
   "outputs": [],
   "source": [
    "a <- c(\"k\", \"j\", \"h\", \"a\", \"c\", \"m\")\n",
    "a[3]\n",
    "a[c(1, 3, 5)]\n",
    "a[2:6]"
   ]
  },
  {
   "cell_type": "code",
   "execution_count": null,
   "metadata": {
    "collapsed": true
   },
   "outputs": [],
   "source": [
    "# Listing 2.1 - Creating Matrices\n",
    "y <- matrix(1:20, nrow=5, ncol=4) # 注意数字排列的方式，默认是先按列，也可以通过后面的byrow参数来调整\n",
    "y\n",
    "cells    <- c(1,26,24,68)\n",
    "rnames   <- c(\"R1\", \"R2\")\n",
    "cnames   <- c(\"C1\", \"C2\") \n",
    "mymatrix <- matrix(cells, nrow=2, ncol=2, byrow=TRUE,\n",
    "                   dimnames=list(rnames, cnames)) \n",
    "mymatrix\n",
    "mymatrix <- matrix(cells, nrow=2, ncol=2, byrow=FALSE,\n",
    "                   dimnames=list(rnames, cnames))\n",
    "mymatrix"
   ]
  },
  {
   "cell_type": "code",
   "execution_count": null,
   "metadata": {
    "collapsed": true
   },
   "outputs": [],
   "source": [
    "# Listing 2.2 - Using matrix subscripts【R的索引方式】\n",
    "x <- matrix(1:10, nrow=2)\n",
    "x\n",
    "x[2,]\n",
    "x[,2]\n",
    "x[1,4]\n",
    "x[1, c(4,5)]\n",
    "x[2,3:5]"
   ]
  },
  {
   "cell_type": "code",
   "execution_count": null,
   "metadata": {
    "collapsed": true
   },
   "outputs": [],
   "source": [
    "# Listing 2.3 - Creating an array\n",
    "dim1 <- c(\"A1\", \"A2\")\n",
    "dim2 <- c(\"B1\", \"B2\", \"B3\")\n",
    "dim3 <- c(\"C1\", \"C2\", \"C3\", \"C4\")\n",
    "z <- array(1:24, c(2,3,4), dimnames=list(dim1, dim2, dim3))\n",
    "z"
   ]
  },
  {
   "cell_type": "code",
   "execution_count": null,
   "metadata": {
    "collapsed": true
   },
   "outputs": [],
   "source": [
    "# Listing 2.4 - Creating a dataframe\n",
    "patientID <- c(1, 2, 3, 4)\n",
    "age <- c(25, 34, 28, 52)\n",
    "diabetes <- c(\"Type1\", \"Type2\", \"Type1\", \"Type1\")\n",
    "status <- c(\"Poor\", \"Improved\", \"Excellent\", \"Poor\")\n",
    "patientdata <- data.frame(patientID, age, diabetes, status)\n",
    "patientdata"
   ]
  },
  {
   "cell_type": "code",
   "execution_count": null,
   "metadata": {
    "collapsed": true
   },
   "outputs": [],
   "source": [
    "# Listing 2.5 - Specifying elements of a dataframe\n",
    "patientdata[1:2] # 【注意】此处不是dataframe的前两行，而是前两个label对应的数据\n",
    "patientdata[c(\"diabetes\",\"status\")]\n",
    "patientdata$age     \n",
    "patientdata[1,2]"
   ]
  },
  {
   "cell_type": "code",
   "execution_count": null,
   "metadata": {
    "collapsed": true
   },
   "outputs": [],
   "source": [
    "# Listing 2.6 - Using factors\n",
    "# 一般，变量有名义型(类别)、有序型(顺序)以及连续型变量(顺序+数量关系)。\n",
    "# R中的因子(factor)就是指名义型变量以及有序型变量。\n",
    "patientID <- c(1, 2, 3, 4)\n",
    "age <- c(25, 34, 28, 52)\n",
    "diabetes <- c(\"Type1\", \"Type2\", \"Type1\", \"Type1\")\n",
    "status <- c(\"Poor\", \"Improved\", \"Excellent\", \"Poor\")\n",
    "diabetes <- factor(diabetes)\n",
    "status <- factor(status, order=TRUE)\n",
    "patientdata <- data.frame(patientID, age, diabetes, status)\n",
    "str(patientdata) # 此处的str()是显示对象的结构                              \n",
    "summary(patientdata)"
   ]
  },
  {
   "cell_type": "code",
   "execution_count": null,
   "metadata": {
    "collapsed": true
   },
   "outputs": [],
   "source": [
    "# Listing 2.7 - Creating a list\n",
    "# list是个大缸，似乎什么都可以往里装。\n",
    "g <- \"My First List\"\n",
    "h <- c(25, 26, 18, 39)\n",
    "j <- matrix(1:10, nrow=5)\n",
    "k <- c(\"one\", \"two\", \"three\")\n",
    "mylist <- list(title=g, ages=h, j, k)\n",
    "mylist\n",
    "str(mylist)"
   ]
  },
  {
   "cell_type": "markdown",
   "metadata": {},
   "source": [
    "### 2.2 数据的输入"
   ]
  },
  {
   "cell_type": "code",
   "execution_count": null,
   "metadata": {
    "collapsed": true
   },
   "outputs": [],
   "source": [
    "# Entering data interactively from the keyboard\n",
    "# 但在jupyter中无法完成\n",
    "mydata <- data.frame(age=numeric(0),\n",
    "                     gender=character(0), weight=numeric(0))\n",
    "mydata <- edit(mydata)\n"
   ]
  },
  {
   "cell_type": "code",
   "execution_count": null,
   "metadata": {
    "collapsed": true
   },
   "outputs": [],
   "source": [
    "# Entering data inline\n",
    "mydatatxt <- \"\n",
    "age gender weight\n",
    "25 m 166\n",
    "30 f 115\n",
    "18 f 120\n",
    "\"\n",
    "mydata <- read.table(header=TRUE, text=mydatatxt)\n",
    "mydata\n",
    "str(mydata)"
   ]
  },
  {
   "cell_type": "code",
   "execution_count": null,
   "metadata": {
    "collapsed": true
   },
   "outputs": [],
   "source": [
    "# Importing data from a delimited text file\n",
    "# read the data into R using the read.table() function\n",
    "grades <- read.csv(\"studentgrades.csv\", header=TRUE,sep=\",\")# 原书code使用read.table有问题\n",
    "grades # print data frame\n",
    "#str(grades) # view data frame structure"
   ]
  },
  {
   "cell_type": "code",
   "execution_count": null,
   "metadata": {
    "collapsed": true
   },
   "outputs": [],
   "source": [
    "# Alternatively, import the data while specifying column classes \n",
    "grades <- read.csv(\"studentgrades.csv\", header=TRUE,\n",
    "                     row.names=\"StudentID\", sep=\",\",\n",
    "                     colClasses=c(\"character\", \"character\", \"character\",\n",
    "                                  \"numeric\", \"numeric\", \"numeric\"))\n",
    "grades # print data frame\n",
    "str(grades) # view data frame structure"
   ]
  },
  {
   "cell_type": "markdown",
   "metadata": {
    "collapsed": true
   },
   "source": [
    "## Chapter 3：getting started with graphs"
   ]
  },
  {
   "cell_type": "code",
   "execution_count": null,
   "metadata": {
    "collapsed": true
   },
   "outputs": [],
   "source": [
    "par(ask=TRUE)\n",
    "opar <- par(no.readonly=TRUE) # make a copy of current settings\n",
    "\n",
    "attach(mtcars) # be sure to execute this line # 加载自带的“mecars”数据\n",
    "\n",
    "png('Regression of MPG on Weight.png') # 保存一张图片\n",
    " plot(wt, mpg)\n",
    " abline(lm(mpg~wt)) # 向图形中添加一条最优你和曲线\n",
    " title(\"Regression of MPG on Weight\")\n",
    "dev.off()\n",
    "# Input data for drug example\n",
    "dose  <- c(20, 30, 40, 45, 60)\n",
    "drugA <- c(16, 20, 27, 40, 60)\n",
    "drugB <- c(15, 18, 25, 31, 40)\n",
    "\n",
    "plot(dose, drugA, type=\"b\")\n",
    "\n",
    "opar <- par(no.readonly=TRUE) # make a copy of current settings\n",
    "par(lty=2, pch=17)            # change line type and symbol\n",
    "plot(dose, drugA, type=\"b\")   # generate a plot\n",
    "par(opar)                     # restore the original settings \n",
    "\n",
    "plot(dose, drugA, type=\"b\", lty=3, lwd=3, pch=15, cex=2)\n"
   ]
  },
  {
   "cell_type": "code",
   "execution_count": null,
   "metadata": {
    "collapsed": true
   },
   "outputs": [],
   "source": [
    "# choosing colors\n",
    "library(RColorBrewer)\n",
    "n <- 7\n",
    "mycolors <- brewer.pal(n, \"Set1\") # 设置颜色\n",
    "barplot(rep(1,n), col=mycolors)\n",
    "\n",
    "n <- 10\n",
    "mycolors <- rainbow(n)\n",
    "pie(rep(1, n), labels=mycolors, col=mycolors)\n",
    "mygrays <- gray(0:n/n) # 注意，0:n/n 是线产生0-n的序列，然后在统一除以n\n",
    "pie(rep(1, n), labels=mygrays, col=mygrays)"
   ]
  },
  {
   "cell_type": "code",
   "execution_count": null,
   "metadata": {
    "collapsed": true
   },
   "outputs": [],
   "source": [
    "# Listing 3.1 - Using graphical parameters to control graph appearance\t\n",
    "dose <- c(20, 30, 40, 45, 60)\n",
    "drugA <- c(16, 20, 27, 40, 60)\n",
    "drugB <- c(15, 18, 25, 31, 40)\n",
    "opar <- par(no.readonly=TRUE)\n",
    "par(pin=c(2, 3)) # par()函数是用来设定图形参数的\n",
    "par(lwd=2, cex=1.5)\n",
    "par(cex.axis=.75, font.axis=3)\n",
    "plot(dose, drugA, type=\"b\", pch=19, lty=2, col=\"red\") # 线型：lty=2为虚线，=6为'.-'...。pch=17为实心三角，=19为实心圆，=23为空心四角。还可以使用par设置：par(lty=2,pch=17)\n",
    "plot(dose, drugB, type=\"b\", pch=23, lty=6, col=\"blue\", bg=\"green\")\n",
    "par(opar)\n"
   ]
  },
  {
   "cell_type": "code",
   "execution_count": null,
   "metadata": {
    "collapsed": true
   },
   "outputs": [],
   "source": [
    "# Adding text, lines, and symbols\n",
    "plot(dose, drugA, type=\"b\",  \n",
    "     col=\"red\", lty=2, pch=2, lwd=2,\n",
    "     main=\"Clinical Trials for Drug A\",  # 图标题\n",
    "     sub=\"This is hypothetical data\",   # 图下方的小标题\n",
    "     xlab=\"Dosage\", ylab=\"Drug Response\",\n",
    "     xlim=c(0, 60), ylim=c(0, 70))"
   ]
  },
  {
   "cell_type": "code",
   "execution_count": null,
   "metadata": {
    "collapsed": true
   },
   "outputs": [],
   "source": [
    "# Listing 3.2 - An Example of Custom Axes\n",
    "x <- c(1:10)\n",
    "y <- x\n",
    "z <- 10/x\n",
    "opar <- par(no.readonly=TRUE)\n",
    "par(mar=c(5, 4, 4, 8) + 0.1)\n",
    "plot(x, y, type=\"b\",\n",
    "     pch=21, col=\"red\",\n",
    "     yaxt=\"n\", lty=3, ann=FALSE)\n",
    "lines(x, z, type=\"b\", pch=22, col=\"blue\", lty=2)\n",
    "axis(2, at=x, labels=x, col.axis=\"red\", las=2)\n",
    "axis(4, at=z, labels=round(z, digits=2),\n",
    "     col.axis=\"blue\", las=2, cex.axis=0.7, tck=-.01)\n",
    "mtext(\"y=1/x\", side=4, line=3, cex.lab=1, las=2, col=\"blue\")\n",
    "title(\"An Example of Creative Axes\",\n",
    "      xlab=\"X values\",\n",
    "      ylab=\"Y=X\")\n",
    "par(opar)"
   ]
  },
  {
   "cell_type": "code",
   "execution_count": null,
   "metadata": {
    "collapsed": true
   },
   "outputs": [],
   "source": [
    "# Listing 3.3 - Comparing Drug A and Drug B response by dose\n",
    "dose <- c(20, 30, 40, 45, 60)\n",
    "drugA <- c(16, 20, 27, 40, 60)\n",
    "drugB <- c(15, 18, 25, 31, 40)\n",
    "opar <- par(no.readonly=TRUE)\n",
    "par(lwd=2, cex=1.5, font.lab=2)\n",
    "plot(dose, drugA, type=\"b\",\n",
    "     pch=15, lty=1, col=\"red\", ylim=c(0, 60),\n",
    "     main=\"Drug A vs. Drug B\",\n",
    "     xlab=\"Drug Dosage\", ylab=\"Drug Response\")\n",
    "lines(dose, drugB, type=\"b\",\n",
    "      pch=17, lty=2, col=\"blue\")\n",
    "abline(h=c(30), lwd=1.5, lty=2, col=\"gray\")\n",
    "library(Hmisc)\n",
    "minor.tick(nx=3, ny=3, tick.ratio=0.5)\n",
    "legend(\"topleft\", inset=.05, title=\"Drug Type\", c(\"A\",\"B\"),\n",
    "       lty=c(1, 2), pch=c(15, 17), col=c(\"red\", \"blue\"))\n",
    "par(opar)"
   ]
  },
  {
   "cell_type": "code",
   "execution_count": null,
   "metadata": {
    "collapsed": true,
    "scrolled": true
   },
   "outputs": [],
   "source": [
    "# Example of labeling points\n",
    "attach(mtcars)\n",
    "plot(wt, mpg,\n",
    "     main=\"Mileage vs. Car Weight\",\n",
    "     xlab=\"Weight\", ylab=\"Mileage\",\n",
    "     pch=18, col=\"blue\")\n",
    "text(wt, mpg,\n",
    "     row.names(mtcars),\n",
    "     cex=0.6, pos=4, col=\"red\")\n",
    "detach(mtcars)"
   ]
  },
  {
   "cell_type": "code",
   "execution_count": null,
   "metadata": {
    "collapsed": true
   },
   "outputs": [],
   "source": [
    "# View font families \n",
    "opar <- par(no.readonly=TRUE)\n",
    "par(cex=1.5)\n",
    "plot(1:7,1:7,type=\"n\")\n",
    "text(3,3,\"Example of default text\")\n",
    "text(4,4,family=\"mono\",\"Example of mono-spaced text\")\n",
    "text(5,5,family=\"serif\",\"Example of serif text\")\n",
    "par(opar)"
   ]
  },
  {
   "cell_type": "code",
   "execution_count": null,
   "metadata": {
    "collapsed": true,
    "scrolled": false
   },
   "outputs": [],
   "source": [
    "# Combining graphs\n",
    "attach(mtcars)\n",
    "opar <- par(no.readonly=TRUE)\n",
    "par(mfrow=c(2,2))\n",
    "plot(wt,mpg, main=\"Scatterplot of wt vs. mpg\")\n",
    "plot(wt,disp, main=\"Scatterplot of wt vs. disp\")\n",
    "hist(wt, main=\"Histogram of wt\")\n",
    "boxplot(wt, main=\"Boxplot of wt\")\n",
    "par(opar)\n",
    "detach(mtcars)\n",
    "\n",
    "attach(mtcars)\n",
    "opar <- par(no.readonly=TRUE)\n",
    "par(mfrow=c(3,1))\n",
    "hist(wt)\n",
    "hist(mpg)\n",
    "hist(disp)\n",
    "par(opar)\n",
    "detach(mtcars)\n",
    "\n",
    "attach(mtcars)\n",
    "layout(matrix(c(1,1,2,3), 2, 2, byrow = TRUE))\n",
    "hist(wt)\n",
    "hist(mpg)\n",
    "hist(disp)\n",
    "detach(mtcars)\n",
    "\n",
    "\n",
    "attach(mtcars)\n",
    "layout(matrix(c(1, 1, 2, 3), 2, 2, byrow = TRUE),\n",
    "       widths=c(3, 1), heights=c(1, 2))\n",
    "hist(wt)\n",
    "hist(mpg)\n",
    "hist(disp)\n",
    "detach(mtcars)"
   ]
  },
  {
   "cell_type": "code",
   "execution_count": null,
   "metadata": {
    "collapsed": true
   },
   "outputs": [],
   "source": [
    "# Listing 3.4 - Fine placement of figures in a graph\n",
    "opar <- par(no.readonly=TRUE)\n",
    "par(fig=c(0, 0.8, 0, 0.8))\n",
    "plot(mtcars$mpg, mtcars$wt,\n",
    "     xlab=\"Miles Per Gallon\",\n",
    "     ylab=\"Car Weight\")\n",
    "par(fig=c(0, 0.8, 0.55, 1), new=TRUE)\n",
    "boxplot(mtcars$mpg, horizontal=TRUE, axes=FALSE)\n",
    "par(fig=c(0.65, 1, 0, 0.8), new=TRUE)\n",
    "boxplot(mtcars$wt, axes=FALSE)\n",
    "mtext(\"Enhanced Scatterplot\", side=3, outer=TRUE, line=-3)\n",
    "par(opar)"
   ]
  },
  {
   "cell_type": "markdown",
   "metadata": {},
   "source": [
    "## Chapter 4：Basic data management"
   ]
  },
  {
   "cell_type": "markdown",
   "metadata": {},
   "source": [
    "## Chapter 5：Advanced data management"
   ]
  },
  {
   "cell_type": "markdown",
   "metadata": {},
   "source": [
    "## Chapter 6：Basic graphs"
   ]
  },
  {
   "cell_type": "code",
   "execution_count": null,
   "metadata": {
    "collapsed": true
   },
   "outputs": [],
   "source": [
    "par(ask=TRUE)\n",
    "opar <- par(no.readonly=TRUE) # save original parameter settings\n",
    "\n",
    "library(vcd)\n",
    "counts <- table(Arthritis$Improved)\n",
    "counts"
   ]
  },
  {
   "cell_type": "code",
   "execution_count": null,
   "metadata": {
    "collapsed": true
   },
   "outputs": [],
   "source": [
    "# Listing 6.1 - Simple bar plot\n",
    "# vertical barplot\n",
    "barplot(counts, \n",
    "        main=\"Simple Bar Plot\",\n",
    "        xlab=\"Improvement\", ylab=\"Frequency\")\n",
    "# horizontal bar plot   \n",
    "barplot(counts, \n",
    "        main=\"Horizontal Bar Plot\", \n",
    "        xlab=\"Frequency\", ylab=\"Improvement\", \n",
    "        horiz=TRUE)"
   ]
  },
  {
   "cell_type": "code",
   "execution_count": null,
   "metadata": {
    "collapsed": true
   },
   "outputs": [],
   "source": [
    "# obtain 2-way frequency table\n",
    "library(vcd)\n",
    "counts <- table(Arthritis$Improved, Arthritis$Treatment)\n",
    "counts"
   ]
  },
  {
   "cell_type": "code",
   "execution_count": null,
   "metadata": {
    "collapsed": true
   },
   "outputs": [],
   "source": [
    "# Listing 6.2 - Stacked and grouped bar plots \n",
    "# stacked barplot\n",
    "barplot(counts, \n",
    "        main=\"Stacked Bar Plot\",\n",
    "        xlab=\"Treatment\", ylab=\"Frequency\", \n",
    "        col=c(\"red\", \"yellow\",\"green\"),            \n",
    "        legend=rownames(counts)) \n",
    "\n",
    "# grouped barplot                       \n",
    "barplot(counts, \n",
    "        main=\"Grouped Bar Plot\", \n",
    "        xlab=\"Treatment\", ylab=\"Frequency\",\n",
    "        col=c(\"red\", \"yellow\", \"green\"),\n",
    "        legend=rownames(counts), beside=TRUE)"
   ]
  },
  {
   "cell_type": "code",
   "execution_count": null,
   "metadata": {
    "collapsed": true
   },
   "outputs": [],
   "source": [
    "# Listing 6.3 - Bar plot for sorted mean values\n",
    "states <- data.frame(state.region, state.x77)\n",
    "means <- aggregate(states$Illiteracy, by=list(state.region), FUN=mean)\n",
    "means\n",
    "\n",
    "means <- means[order(means$x),]  \n",
    "means\n",
    "\n",
    "barplot(means$x, names.arg=means$Group.1) \n",
    "title(\"Mean Illiteracy Rate\")  "
   ]
  },
  {
   "cell_type": "code",
   "execution_count": null,
   "metadata": {
    "collapsed": true
   },
   "outputs": [],
   "source": [
    "# Listing 6.4 - Fitting labels in bar plots\n",
    "par(las=2)                # set label text perpendicular to the axis\n",
    "par(mar=c(5,8,4,2))       # increase the y-axis margin\n",
    "counts <- table(Arthritis$Improved) # get the data for the bars\n",
    "\n",
    "# produce the graph\n",
    "barplot(counts, \n",
    "        main=\"Treatment Outcome\", horiz=TRUE, cex.names=0.8,\n",
    "        names.arg=c(\"No Improvement\", \"Some Improvement\", \"Marked Improvement\")\n",
    ")\n",
    "par(opar)\n",
    "\n",
    "\n",
    "# Spinograms\n",
    "library(vcd)\n",
    "attach(Arthritis)\n",
    "counts <- table(Treatment,Improved)\n",
    "spine(counts, main=\"Spinogram Example\")\n",
    "detach(Arthritis)"
   ]
  },
  {
   "cell_type": "code",
   "execution_count": null,
   "metadata": {
    "collapsed": true
   },
   "outputs": [],
   "source": [
    "# Listing 6.5 - Pie charts\n",
    "par(mfrow=c(2,2))                             \n",
    "slices <- c(10, 12,4, 16, 8) \n",
    "lbls <- c(\"US\", \"UK\", \"Australia\", \"Germany\", \"France\")\n",
    "\n",
    "pie(slices, labels = lbls, \n",
    "    main=\"Simple Pie Chart\")\n",
    "\n",
    "pct <- round(slices/sum(slices)*100)                      \n",
    "lbls <- paste(lbls, pct) \n",
    "lbls <- paste(lbls,\"%\",sep=\"\")\n",
    "pie(slices,labels = lbls, col=rainbow(length(lbls)),\n",
    "    main=\"Pie Chart with Percentages\")\n",
    "\n",
    "library(plotrix)                                               \n",
    "pie3D(slices, labels=lbls,explode=0.1,\n",
    "      main=\"3D Pie Chart \")\n",
    "\n",
    "mytable <- table(state.region)                                   \n",
    "lbls <- paste(names(mytable), \"\\n\", mytable, sep=\"\")\n",
    "pie(mytable, labels = lbls, \n",
    "    main=\"Pie Chart from a dataframe\\n (with sample sizes)\")\n",
    "\n",
    "par(opar)\n",
    "\n",
    "\n",
    "# Fan plots\n",
    "library(plotrix)\n",
    "slices <- c(10, 12,4, 16, 8) \n",
    "lbls <- c(\"US\", \"UK\", \"Australia\", \"Germany\", \"France\")   \n",
    "fan.plot(slices, labels = lbls, main=\"Fan Plot\")"
   ]
  },
  {
   "cell_type": "code",
   "execution_count": null,
   "metadata": {
    "collapsed": true,
    "scrolled": true
   },
   "outputs": [],
   "source": [
    "# Listing 6.6 - Histograms\n",
    "# simple histogram                                                        1\n",
    "hist(mtcars$mpg)\n",
    "\n",
    "# colored histogram with specified number of bins        \n",
    "hist(mtcars$mpg, \n",
    "     breaks=12, \n",
    "     col=\"red\", \n",
    "     xlab=\"Miles Per Gallon\", \n",
    "     main=\"Colored histogram with 12 bins\")\n",
    "\n",
    "# colored histogram with rug plot, frame, and specified number of bins \n",
    "hist(mtcars$mpg, \n",
    "     freq=FALSE, \n",
    "     breaks=12, \n",
    "     col=\"red\", \n",
    "     xlab=\"Miles Per Gallon\", \n",
    "     main=\"Histogram, rug plot, density curve\")  \n",
    "rug(jitter(mtcars$mpg)) \n",
    "lines(density(mtcars$mpg), col=\"blue\", lwd=2)\n",
    "\n",
    "# histogram with superimposed normal curve (Thanks to Peter Dalgaard)  \n",
    "x <- mtcars$mpg \n",
    "h<-hist(x, \n",
    "        breaks=12, \n",
    "        col=\"red\", \n",
    "        xlab=\"Miles Per Gallon\", \n",
    "        main=\"Histogram with normal curve and box\") \n",
    "xfit<-seq(min(x),max(x),length=40) \n",
    "yfit<-dnorm(xfit,mean=mean(x),sd=sd(x)) \n",
    "yfit <- yfit*diff(h$mids[1:2])*length(x) \n",
    "lines(xfit, yfit, col=\"blue\", lwd=2)\n",
    "box()"
   ]
  },
  {
   "cell_type": "code",
   "execution_count": null,
   "metadata": {
    "collapsed": true
   },
   "outputs": [],
   "source": [
    "# Listing 6.7 - Kernel density plot\n",
    "d <- density(mtcars$mpg) # returns the density data  \n",
    "plot(d) # plots the results \n",
    "\n",
    "d <- density(mtcars$mpg)                                  \n",
    "plot(d, main=\"Kernel Density of Miles Per Gallon\")       \n",
    "polygon(d, col=\"red\", border=\"blue\")                     \n",
    "rug(mtcars$mpg, col=\"brown\")"
   ]
  },
  {
   "cell_type": "code",
   "execution_count": null,
   "metadata": {
    "collapsed": true
   },
   "outputs": [],
   "source": [
    "# Listing 6.8 - Comparing kernel density plots\n",
    "par(lwd=2)                                                       \n",
    "library(sm)\n",
    "attach(mtcars)\n",
    "\n",
    "# create value labels \n",
    "cyl.f <- factor(cyl, levels= c(4, 6, 8),                               \n",
    "                labels = c(\"4 cylinder\", \"6 cylinder\", \"8 cylinder\")) \n",
    "\n",
    "# plot densities \n",
    "sm.density.compare(mpg, cyl, xlab=\"Miles Per Gallon\")                \n",
    "title(main=\"MPG Distribution by Car Cylinders\")\n",
    "\n",
    "# add legend via mouse click\n",
    "#colfill<-c(2:(2+length(levels(cyl.f)))) \n",
    "#cat(\"Use mouse to place legend...\",\"\\n\\n\")\n",
    "#legend(locator(1), levels(cyl.f), fill=colfill) \n",
    "#detach(mtcars)\n",
    "#par(lwd=1)\n",
    "\n",
    "\n",
    "# parallel box plots\n",
    "boxplot(mpg~cyl,data=mtcars,\n",
    "        main=\"Car Milage Data\", \n",
    "        xlab=\"Number of Cylinders\", \n",
    "        ylab=\"Miles Per Gallon\")\n",
    "\n",
    "\n",
    "# notched box plots\n",
    "boxplot(mpg~cyl,data=mtcars, \n",
    "        notch=TRUE, \n",
    "        varwidth=TRUE,\n",
    "        col=\"red\",\n",
    "        main=\"Car Mileage Data\", \n",
    "        xlab=\"Number of Cylinders\", \n",
    "        ylab=\"Miles Per Gallon\")"
   ]
  },
  {
   "cell_type": "code",
   "execution_count": null,
   "metadata": {
    "collapsed": true
   },
   "outputs": [],
   "source": [
    "# Listing 6.9 - Box plots for two crossed factors\n",
    "# create a factor for number of cylinders\n",
    "mtcars$cyl.f <- factor(mtcars$cyl,\n",
    "                       levels=c(4,6,8),\n",
    "                       labels=c(\"4\",\"6\",\"8\"))\n",
    "\n",
    "# create a factor for transmission type\n",
    "mtcars$am.f <- factor(mtcars$am, \n",
    "                      levels=c(0,1), \n",
    "                      labels=c(\"auto\",\"standard\"))\n",
    "\n",
    "# generate boxplot\n",
    "boxplot(mpg ~ am.f *cyl.f, \n",
    "        data=mtcars, \n",
    "        varwidth=TRUE,\n",
    "        col=c(\"gold\", \"darkgreen\"),\n",
    "        main=\"MPG Distribution by Auto Type\", \n",
    "        xlab=\"Auto Type\")"
   ]
  },
  {
   "cell_type": "code",
   "execution_count": null,
   "metadata": {
    "collapsed": true
   },
   "outputs": [],
   "source": [
    "# Listing 6.10 - Violin plots\n",
    "\n",
    "library(vioplot)\n",
    "x1 <- mtcars$mpg[mtcars$cyl==4] \n",
    "x2 <- mtcars$mpg[mtcars$cyl==6]\n",
    "x3 <- mtcars$mpg[mtcars$cyl==8]\n",
    "vioplot(x1, x2, x3, \n",
    "        names=c(\"4 cyl\", \"6 cyl\", \"8 cyl\"), \n",
    "        col=\"gold\")\n",
    "title(\"Violin Plots of Miles Per Gallon\")\n",
    "\n",
    "\n",
    "# dot chart\n",
    "dotchart(mtcars$mpg,labels=row.names(mtcars),cex=.7,\n",
    "         main=\"Gas Mileage for Car Models\", \n",
    "         xlab=\"Miles Per Gallon\")"
   ]
  },
  {
   "cell_type": "code",
   "execution_count": null,
   "metadata": {
    "collapsed": true
   },
   "outputs": [],
   "source": [
    "# Listing 6.11 - Dot plot grouped, sorted, and colored\n",
    "x <- mtcars[order(mtcars$mpg),]                      \n",
    "x$cyl <- factor(x$cyl)                                 \n",
    "x$color[x$cyl==4] <- \"red\"                              \n",
    "x$color[x$cyl==6] <- \"blue\"\n",
    "x$color[x$cyl==8] <- \"darkgreen\" \n",
    "dotchart(x$mpg,\n",
    "         labels = row.names(x),                               \n",
    "         cex=.7, \n",
    "         pch=19,                                              \n",
    "         groups = x$cyl,                                       \n",
    "         gcolor = \"black\",\n",
    "         color = x$color,\n",
    "         main = \"Gas Mileage for Car Models\\ngrouped by cylinder\",\n",
    "         xlab = \"Miles Per Gallon\")"
   ]
  },
  {
   "cell_type": "markdown",
   "metadata": {},
   "source": [
    "## Chapter 7：Basic statistics     "
   ]
  },
  {
   "cell_type": "code",
   "execution_count": null,
   "metadata": {
    "collapsed": true
   },
   "outputs": [],
   "source": [
    "mt <- mtcars[c(\"mpg\", \"hp\", \"wt\", \"am\")] # 注意数据引用的方式\n",
    "head(mt)"
   ]
  },
  {
   "cell_type": "code",
   "execution_count": null,
   "metadata": {
    "collapsed": true
   },
   "outputs": [],
   "source": [
    "# Listing 7.1 - Descriptive stats via summary\n",
    "mt <- mtcars[c(\"mpg\", \"hp\", \"wt\", \"am\")]\n",
    "summary(mt)"
   ]
  },
  {
   "cell_type": "code",
   "execution_count": null,
   "metadata": {
    "collapsed": true
   },
   "outputs": [],
   "source": [
    "# Listing 7.2 - descriptive stats via sapply\n",
    "mystats <- function(x, na.omit=FALSE){\n",
    "  if (na.omit)\n",
    "    x <- x[!is.na(x)]\n",
    "  m <- mean(x)\n",
    "  n <- length(x)\n",
    "  s <- sd(x)\n",
    "  skew <- sum((x-m)^3/s^3)/n\n",
    "  kurt <- sum((x-m)^4/s^4)/n - 3\n",
    "  return(c(n=n, mean=m, stdev=s, skew=skew, kurtosis=kurt))\n",
    "}\n",
    "\n",
    "myvars <- c(\"mpg\", \"hp\", \"wt\")\n",
    "sapply(mtcars[myvars], mystats)"
   ]
  },
  {
   "cell_type": "code",
   "execution_count": null,
   "metadata": {
    "collapsed": true
   },
   "outputs": [],
   "source": [
    "# Listing 7.3 - Descriptive stats via describe (Hmisc)\n",
    "library(Hmisc)\n",
    "myvars <- c(\"mpg\", \"hp\", \"wt\")\n",
    "describe(mtcars[myvars])"
   ]
  },
  {
   "cell_type": "code",
   "execution_count": null,
   "metadata": {
    "collapsed": true
   },
   "outputs": [],
   "source": [
    "# Listing 7.,4 - Descriptive stats via stat.desc (pastecs)\n",
    "library(pastecs)\n",
    "myvars <- c(\"mpg\", \"hp\", \"wt\")\n",
    "stat.desc(mtcars[myvars])"
   ]
  },
  {
   "cell_type": "code",
   "execution_count": null,
   "metadata": {
    "collapsed": true
   },
   "outputs": [],
   "source": [
    "# Listing 7.5 - Descriptive stats via describe (psych)\n",
    "library(psych)\n",
    "myvars <- c(\"mpg\", \"hp\", \"wt\")\n",
    "describe(mtcars[myvars])"
   ]
  },
  {
   "cell_type": "code",
   "execution_count": null,
   "metadata": {
    "collapsed": true
   },
   "outputs": [],
   "source": [
    "# Listing 7.6 - Descriptive stats by group with aggregate\n",
    "myvars <- c(\"mpg\", \"hp\", \"wt\")\n",
    "aggregate(mtcars[myvars], by=list(am=mtcars$am), mean)\n",
    "aggregate(mtcars[myvars], by=list(am=mtcars$am), sd)"
   ]
  },
  {
   "cell_type": "code",
   "execution_count": null,
   "metadata": {
    "collapsed": true
   },
   "outputs": [],
   "source": [
    "# Listing 7.7 - Descriptive stats by group via by\n",
    "dstats <- function(x)sapply(x, mystats)\n",
    "myvars <- c(\"mpg\", \"hp\", \"wt\")\n",
    "by(mtcars[myvars], mtcars$am, dstats)"
   ]
  },
  {
   "cell_type": "code",
   "execution_count": null,
   "metadata": {
    "collapsed": true
   },
   "outputs": [],
   "source": [
    "# Listing 7.8 - Descriptive stats by group via summaryBy\n",
    "library(doBy)\n",
    "summaryBy(mpg+hp+wt~am, data=mtcars, FUN=mystats)"
   ]
  },
  {
   "cell_type": "code",
   "execution_count": null,
   "metadata": {
    "collapsed": true
   },
   "outputs": [],
   "source": [
    "# Listing 7.9 - Descriptive stats by group via describe.by (psych)\n",
    "library(psych)\n",
    "myvars <- c(\"mpg\", \"hp\", \"wt\")\n",
    "describeBy(mtcars[myvars], list(am=mtcars$am))"
   ]
  },
  {
   "cell_type": "code",
   "execution_count": null,
   "metadata": {
    "collapsed": true
   },
   "outputs": [],
   "source": [
    "# summary statistics by group via the reshape package\n",
    "library(reshape)\n",
    "dstats <- function(x)(c(n=length(x), mean=mean(x), sd=sd(x)))\n",
    "dfm <- melt(mtcars, measure.vars=c(\"mpg\", \"hp\", \"wt\"), \n",
    "            id.vars=c(\"am\", \"cyl\"))\n",
    "cast(dfm, am + cyl + variable ~ ., dstats)"
   ]
  },
  {
   "cell_type": "code",
   "execution_count": 84,
   "metadata": {
    "collapsed": true
   },
   "outputs": [
    {
     "data": {
      "text/html": [
       "<table>\n",
       "<thead><tr><th scope=col>ID</th><th scope=col>Treatment</th><th scope=col>Sex</th><th scope=col>Age</th><th scope=col>Improved</th></tr></thead>\n",
       "<tbody>\n",
       "\t<tr><td>57     </td><td>Treated</td><td>Male   </td><td>27     </td><td>Some   </td></tr>\n",
       "\t<tr><td>46     </td><td>Treated</td><td>Male   </td><td>29     </td><td>None   </td></tr>\n",
       "\t<tr><td>77     </td><td>Treated</td><td>Male   </td><td>30     </td><td>None   </td></tr>\n",
       "\t<tr><td>17     </td><td>Treated</td><td>Male   </td><td>32     </td><td>Marked </td></tr>\n",
       "\t<tr><td>36     </td><td>Treated</td><td>Male   </td><td>46     </td><td>Marked </td></tr>\n",
       "\t<tr><td>23     </td><td>Treated</td><td>Male   </td><td>58     </td><td>Marked </td></tr>\n",
       "</tbody>\n",
       "</table>\n"
      ],
      "text/latex": [
       "\\begin{tabular}{r|lllll}\n",
       " ID & Treatment & Sex & Age & Improved\\\\\n",
       "\\hline\n",
       "\t 57      & Treated & Male    & 27      & Some   \\\\\n",
       "\t 46      & Treated & Male    & 29      & None   \\\\\n",
       "\t 77      & Treated & Male    & 30      & None   \\\\\n",
       "\t 17      & Treated & Male    & 32      & Marked \\\\\n",
       "\t 36      & Treated & Male    & 46      & Marked \\\\\n",
       "\t 23      & Treated & Male    & 58      & Marked \\\\\n",
       "\\end{tabular}\n"
      ],
      "text/markdown": [
       "\n",
       "ID | Treatment | Sex | Age | Improved | \n",
       "|---|---|---|---|---|---|\n",
       "| 57      | Treated | Male    | 27      | Some    | \n",
       "| 46      | Treated | Male    | 29      | None    | \n",
       "| 77      | Treated | Male    | 30      | None    | \n",
       "| 17      | Treated | Male    | 32      | Marked  | \n",
       "| 36      | Treated | Male    | 46      | Marked  | \n",
       "| 23      | Treated | Male    | 58      | Marked  | \n",
       "\n",
       "\n"
      ],
      "text/plain": [
       "  ID Treatment Sex  Age Improved\n",
       "1 57 Treated   Male 27  Some    \n",
       "2 46 Treated   Male 29  None    \n",
       "3 77 Treated   Male 30  None    \n",
       "4 17 Treated   Male 32  Marked  \n",
       "5 36 Treated   Male 46  Marked  \n",
       "6 23 Treated   Male 58  Marked  "
      ]
     },
     "metadata": {},
     "output_type": "display_data"
    }
   ],
   "source": [
    "# frequency tables\n",
    "library(vcd)\n",
    "head(Arthritis)"
   ]
  },
  {
   "cell_type": "code",
   "execution_count": 85,
   "metadata": {},
   "outputs": [
    {
     "data": {
      "text/plain": [
       "Improved\n",
       "  None   Some Marked \n",
       "    42     14     28 "
      ]
     },
     "metadata": {},
     "output_type": "display_data"
    },
    {
     "data": {
      "text/plain": [
       "Improved\n",
       "     None      Some    Marked \n",
       "0.5000000 0.1666667 0.3333333 "
      ]
     },
     "metadata": {},
     "output_type": "display_data"
    },
    {
     "data": {
      "text/plain": [
       "Improved\n",
       "    None     Some   Marked \n",
       "50.00000 16.66667 33.33333 "
      ]
     },
     "metadata": {},
     "output_type": "display_data"
    }
   ],
   "source": [
    "# one way table\n",
    "mytable <- with(Arthritis, table(Improved))\n",
    "mytable  # frequencies\n",
    "prop.table(mytable) # proportions\n",
    "prop.table(mytable)*100 # percentages"
   ]
  },
  {
   "cell_type": "code",
   "execution_count": 86,
   "metadata": {},
   "outputs": [
    {
     "data": {
      "text/plain": [
       "         Improved\n",
       "Treatment None Some Marked\n",
       "  Placebo   29    7      7\n",
       "  Treated   13    7     21"
      ]
     },
     "metadata": {},
     "output_type": "display_data"
    },
    {
     "data": {
      "text/plain": [
       "Treatment\n",
       "Placebo Treated \n",
       "     43      41 "
      ]
     },
     "metadata": {},
     "output_type": "display_data"
    },
    {
     "data": {
      "text/plain": [
       "Improved\n",
       "  None   Some Marked \n",
       "    42     14     28 "
      ]
     },
     "metadata": {},
     "output_type": "display_data"
    },
    {
     "data": {
      "text/plain": [
       "         Improved\n",
       "Treatment       None       Some     Marked\n",
       "  Placebo 0.34523810 0.08333333 0.08333333\n",
       "  Treated 0.15476190 0.08333333 0.25000000"
      ]
     },
     "metadata": {},
     "output_type": "display_data"
    },
    {
     "data": {
      "text/plain": [
       "         Improved\n",
       "Treatment      None      Some    Marked\n",
       "  Placebo 0.6744186 0.1627907 0.1627907\n",
       "  Treated 0.3170732 0.1707317 0.5121951"
      ]
     },
     "metadata": {},
     "output_type": "display_data"
    },
    {
     "data": {
      "text/plain": [
       "         Improved\n",
       "Treatment      None      Some    Marked\n",
       "  Placebo 0.6904762 0.5000000 0.2500000\n",
       "  Treated 0.3095238 0.5000000 0.7500000"
      ]
     },
     "metadata": {},
     "output_type": "display_data"
    },
    {
     "data": {
      "text/html": [
       "<table>\n",
       "<thead><tr><th></th><th scope=col>None</th><th scope=col>Some</th><th scope=col>Marked</th><th scope=col>Sum</th></tr></thead>\n",
       "<tbody>\n",
       "\t<tr><th scope=row>Placebo</th><td>29</td><td> 7</td><td> 7</td><td>43</td></tr>\n",
       "\t<tr><th scope=row>Treated</th><td>13</td><td> 7</td><td>21</td><td>41</td></tr>\n",
       "\t<tr><th scope=row>Sum</th><td>42</td><td>14</td><td>28</td><td>84</td></tr>\n",
       "</tbody>\n",
       "</table>\n"
      ],
      "text/latex": [
       "\\begin{tabular}{r|llll}\n",
       "  & None & Some & Marked & Sum\\\\\n",
       "\\hline\n",
       "\tPlacebo & 29 &  7 &  7 & 43\\\\\n",
       "\tTreated & 13 &  7 & 21 & 41\\\\\n",
       "\tSum & 42 & 14 & 28 & 84\\\\\n",
       "\\end{tabular}\n"
      ],
      "text/markdown": [
       "\n",
       "| <!--/--> | None | Some | Marked | Sum | \n",
       "|---|---|---|\n",
       "| Placebo | 29 |  7 |  7 | 43 | \n",
       "| Treated | 13 |  7 | 21 | 41 | \n",
       "| Sum | 42 | 14 | 28 | 84 | \n",
       "\n",
       "\n"
      ],
      "text/plain": [
       "         Improved\n",
       "Treatment None Some Marked Sum\n",
       "  Placebo 29    7    7     43 \n",
       "  Treated 13    7   21     41 \n",
       "  Sum     42   14   28     84 "
      ]
     },
     "metadata": {},
     "output_type": "display_data"
    }
   ],
   "source": [
    "# two way table\n",
    "mytable <- xtabs(~ Treatment+Improved, data=Arthritis)\n",
    "mytable # frequencies\n",
    "margin.table(mytable,1) #row sums\n",
    "margin.table(mytable, 2) # column sums\n",
    "prop.table(mytable) # cell proportions\n",
    "prop.table(mytable, 1) # row proportions\n",
    "prop.table(mytable, 2) # column proportions\n",
    "addmargins(mytable) # add row and column sums to table"
   ]
  },
  {
   "cell_type": "code",
   "execution_count": 87,
   "metadata": {},
   "outputs": [
    {
     "data": {
      "text/html": [
       "<table>\n",
       "<thead><tr><th></th><th scope=col>None</th><th scope=col>Some</th><th scope=col>Marked</th><th scope=col>Sum</th></tr></thead>\n",
       "<tbody>\n",
       "\t<tr><th scope=row>Placebo</th><td>0.3452381 </td><td>0.08333333</td><td>0.08333333</td><td>0.5119048 </td></tr>\n",
       "\t<tr><th scope=row>Treated</th><td>0.1547619 </td><td>0.08333333</td><td>0.25000000</td><td>0.4880952 </td></tr>\n",
       "\t<tr><th scope=row>Sum</th><td>0.5000000 </td><td>0.16666667</td><td>0.33333333</td><td>1.0000000 </td></tr>\n",
       "</tbody>\n",
       "</table>\n"
      ],
      "text/latex": [
       "\\begin{tabular}{r|llll}\n",
       "  & None & Some & Marked & Sum\\\\\n",
       "\\hline\n",
       "\tPlacebo & 0.3452381  & 0.08333333 & 0.08333333 & 0.5119048 \\\\\n",
       "\tTreated & 0.1547619  & 0.08333333 & 0.25000000 & 0.4880952 \\\\\n",
       "\tSum & 0.5000000  & 0.16666667 & 0.33333333 & 1.0000000 \\\\\n",
       "\\end{tabular}\n"
      ],
      "text/markdown": [
       "\n",
       "| <!--/--> | None | Some | Marked | Sum | \n",
       "|---|---|---|\n",
       "| Placebo | 0.3452381  | 0.08333333 | 0.08333333 | 0.5119048  | \n",
       "| Treated | 0.1547619  | 0.08333333 | 0.25000000 | 0.4880952  | \n",
       "| Sum | 0.5000000  | 0.16666667 | 0.33333333 | 1.0000000  | \n",
       "\n",
       "\n"
      ],
      "text/plain": [
       "         Improved\n",
       "Treatment None      Some       Marked     Sum      \n",
       "  Placebo 0.3452381 0.08333333 0.08333333 0.5119048\n",
       "  Treated 0.1547619 0.08333333 0.25000000 0.4880952\n",
       "  Sum     0.5000000 0.16666667 0.33333333 1.0000000"
      ]
     },
     "metadata": {},
     "output_type": "display_data"
    },
    {
     "data": {
      "text/html": [
       "<table>\n",
       "<thead><tr><th></th><th scope=col>None</th><th scope=col>Some</th><th scope=col>Marked</th><th scope=col>Sum</th></tr></thead>\n",
       "<tbody>\n",
       "\t<tr><th scope=row>Placebo</th><td>0.6744186</td><td>0.1627907</td><td>0.1627907</td><td>1        </td></tr>\n",
       "\t<tr><th scope=row>Treated</th><td>0.3170732</td><td>0.1707317</td><td>0.5121951</td><td>1        </td></tr>\n",
       "</tbody>\n",
       "</table>\n"
      ],
      "text/latex": [
       "\\begin{tabular}{r|llll}\n",
       "  & None & Some & Marked & Sum\\\\\n",
       "\\hline\n",
       "\tPlacebo & 0.6744186 & 0.1627907 & 0.1627907 & 1        \\\\\n",
       "\tTreated & 0.3170732 & 0.1707317 & 0.5121951 & 1        \\\\\n",
       "\\end{tabular}\n"
      ],
      "text/markdown": [
       "\n",
       "| <!--/--> | None | Some | Marked | Sum | \n",
       "|---|---|\n",
       "| Placebo | 0.6744186 | 0.1627907 | 0.1627907 | 1         | \n",
       "| Treated | 0.3170732 | 0.1707317 | 0.5121951 | 1         | \n",
       "\n",
       "\n"
      ],
      "text/plain": [
       "         Improved\n",
       "Treatment None      Some      Marked    Sum\n",
       "  Placebo 0.6744186 0.1627907 0.1627907 1  \n",
       "  Treated 0.3170732 0.1707317 0.5121951 1  "
      ]
     },
     "metadata": {},
     "output_type": "display_data"
    },
    {
     "data": {
      "text/html": [
       "<table>\n",
       "<thead><tr><th></th><th scope=col>None</th><th scope=col>Some</th><th scope=col>Marked</th></tr></thead>\n",
       "<tbody>\n",
       "\t<tr><th scope=row>Placebo</th><td>0.6904762</td><td>0.5      </td><td>0.25     </td></tr>\n",
       "\t<tr><th scope=row>Treated</th><td>0.3095238</td><td>0.5      </td><td>0.75     </td></tr>\n",
       "\t<tr><th scope=row>Sum</th><td>1.0000000</td><td>1.0      </td><td>1.00     </td></tr>\n",
       "</tbody>\n",
       "</table>\n"
      ],
      "text/latex": [
       "\\begin{tabular}{r|lll}\n",
       "  & None & Some & Marked\\\\\n",
       "\\hline\n",
       "\tPlacebo & 0.6904762 & 0.5       & 0.25     \\\\\n",
       "\tTreated & 0.3095238 & 0.5       & 0.75     \\\\\n",
       "\tSum & 1.0000000 & 1.0       & 1.00     \\\\\n",
       "\\end{tabular}\n"
      ],
      "text/markdown": [
       "\n",
       "| <!--/--> | None | Some | Marked | \n",
       "|---|---|---|\n",
       "| Placebo | 0.6904762 | 0.5       | 0.25      | \n",
       "| Treated | 0.3095238 | 0.5       | 0.75      | \n",
       "| Sum | 1.0000000 | 1.0       | 1.00      | \n",
       "\n",
       "\n"
      ],
      "text/plain": [
       "         Improved\n",
       "Treatment None      Some Marked\n",
       "  Placebo 0.6904762 0.5  0.25  \n",
       "  Treated 0.3095238 0.5  0.75  \n",
       "  Sum     1.0000000 1.0  1.00  "
      ]
     },
     "metadata": {},
     "output_type": "display_data"
    }
   ],
   "source": [
    "# more complex tables\n",
    "addmargins(prop.table(mytable))\n",
    "addmargins(prop.table(mytable, 1), 2)\n",
    "addmargins(prop.table(mytable, 2), 1)"
   ]
  },
  {
   "cell_type": "code",
   "execution_count": 90,
   "metadata": {},
   "outputs": [
    {
     "name": "stdout",
     "output_type": "stream",
     "text": [
      "\n",
      " \n",
      "   Cell Contents\n",
      "|-------------------------|\n",
      "|                       N |\n",
      "| Chi-square contribution |\n",
      "|           N / Row Total |\n",
      "|           N / Col Total |\n",
      "|         N / Table Total |\n",
      "|-------------------------|\n",
      "\n",
      " \n",
      "Total Observations in Table:  84 \n",
      "\n",
      " \n",
      "                    | Arthritis$Improved \n",
      "Arthritis$Treatment |      None |      Some |    Marked | Row Total | \n",
      "--------------------|-----------|-----------|-----------|-----------|\n",
      "            Placebo |        29 |         7 |         7 |        43 | \n",
      "                    |     2.616 |     0.004 |     3.752 |           | \n",
      "                    |     0.674 |     0.163 |     0.163 |     0.512 | \n",
      "                    |     0.690 |     0.500 |     0.250 |           | \n",
      "                    |     0.345 |     0.083 |     0.083 |           | \n",
      "--------------------|-----------|-----------|-----------|-----------|\n",
      "            Treated |        13 |         7 |        21 |        41 | \n",
      "                    |     2.744 |     0.004 |     3.935 |           | \n",
      "                    |     0.317 |     0.171 |     0.512 |     0.488 | \n",
      "                    |     0.310 |     0.500 |     0.750 |           | \n",
      "                    |     0.155 |     0.083 |     0.250 |           | \n",
      "--------------------|-----------|-----------|-----------|-----------|\n",
      "       Column Total |        42 |        14 |        28 |        84 | \n",
      "                    |     0.500 |     0.167 |     0.333 |           | \n",
      "--------------------|-----------|-----------|-----------|-----------|\n",
      "\n",
      " \n"
     ]
    }
   ],
   "source": [
    "# Listing 7.10 - Two way table using CrossTable\n",
    "library(gmodels)\n",
    "CrossTable(Arthritis$Treatment, Arthritis$Improved)"
   ]
  },
  {
   "cell_type": "code",
   "execution_count": 91,
   "metadata": {},
   "outputs": [
    {
     "data": {
      "text/plain": [
       ", , Improved = None\n",
       "\n",
       "         Sex\n",
       "Treatment Female Male\n",
       "  Placebo     19   10\n",
       "  Treated      6    7\n",
       "\n",
       ", , Improved = Some\n",
       "\n",
       "         Sex\n",
       "Treatment Female Male\n",
       "  Placebo      7    0\n",
       "  Treated      5    2\n",
       "\n",
       ", , Improved = Marked\n",
       "\n",
       "         Sex\n",
       "Treatment Female Male\n",
       "  Placebo      6    1\n",
       "  Treated     16    5\n"
      ]
     },
     "metadata": {},
     "output_type": "display_data"
    },
    {
     "data": {
      "text/plain": [
       "                 Improved None Some Marked\n",
       "Treatment Sex                             \n",
       "Placebo   Female            19    7      6\n",
       "          Male              10    0      1\n",
       "Treated   Female             6    5     16\n",
       "          Male               7    2      5"
      ]
     },
     "metadata": {},
     "output_type": "display_data"
    },
    {
     "data": {
      "text/plain": [
       "Treatment\n",
       "Placebo Treated \n",
       "     43      41 "
      ]
     },
     "metadata": {},
     "output_type": "display_data"
    },
    {
     "data": {
      "text/plain": [
       "Sex\n",
       "Female   Male \n",
       "    59     25 "
      ]
     },
     "metadata": {},
     "output_type": "display_data"
    },
    {
     "data": {
      "text/plain": [
       "Sex\n",
       "Female   Male \n",
       "    59     25 "
      ]
     },
     "metadata": {},
     "output_type": "display_data"
    },
    {
     "data": {
      "text/plain": [
       "         Improved\n",
       "Treatment None Some Marked\n",
       "  Placebo   29    7      7\n",
       "  Treated   13    7     21"
      ]
     },
     "metadata": {},
     "output_type": "display_data"
    },
    {
     "data": {
      "text/plain": [
       "                 Improved       None       Some     Marked\n",
       "Treatment Sex                                             \n",
       "Placebo   Female          0.59375000 0.21875000 0.18750000\n",
       "          Male            0.90909091 0.00000000 0.09090909\n",
       "Treated   Female          0.22222222 0.18518519 0.59259259\n",
       "          Male            0.50000000 0.14285714 0.35714286"
      ]
     },
     "metadata": {},
     "output_type": "display_data"
    },
    {
     "data": {
      "text/plain": [
       "                 Improved       None       Some     Marked        Sum\n",
       "Treatment Sex                                                        \n",
       "Placebo   Female          0.59375000 0.21875000 0.18750000 1.00000000\n",
       "          Male            0.90909091 0.00000000 0.09090909 1.00000000\n",
       "Treated   Female          0.22222222 0.18518519 0.59259259 1.00000000\n",
       "          Male            0.50000000 0.14285714 0.35714286 1.00000000"
      ]
     },
     "metadata": {},
     "output_type": "display_data"
    }
   ],
   "source": [
    "# Listing 7.11 - Three way table\n",
    "mytable <- xtabs(~ Treatment+Sex+Improved, data=Arthritis)\n",
    "mytable\n",
    "ftable(mytable) \n",
    "margin.table(mytable, 1)\n",
    "margin.table(mytable, 2)\n",
    "margin.table(mytable, 2)\n",
    "margin.table(mytable, c(1,3))\n",
    "ftable(prop.table(mytable, c(1,2)))\n",
    "ftable(addmargins(prop.table(mytable, c(1, 2)), 3))"
   ]
  },
  {
   "cell_type": "code",
   "execution_count": 93,
   "metadata": {},
   "outputs": [
    {
     "data": {
      "text/plain": [
       "\n",
       "\tPearson's Chi-squared test\n",
       "\n",
       "data:  mytable\n",
       "X-squared = 13.055, df = 2, p-value = 0.001463\n"
      ]
     },
     "metadata": {},
     "output_type": "display_data"
    },
    {
     "name": "stderr",
     "output_type": "stream",
     "text": [
      "Warning message in chisq.test(mytable):\n",
      "\"Chi-squared approximation may be incorrect\""
     ]
    },
    {
     "data": {
      "text/plain": [
       "\n",
       "\tPearson's Chi-squared test\n",
       "\n",
       "data:  mytable\n",
       "X-squared = 4.8407, df = 2, p-value = 0.08889\n"
      ]
     },
     "metadata": {},
     "output_type": "display_data"
    }
   ],
   "source": [
    "# Listing 7.12 - Chi-square test of independence\n",
    "library(vcd)\n",
    "mytable <- xtabs(~Treatment+Improved, data=Arthritis)\n",
    "chisq.test(mytable)\n",
    "mytable <- xtabs(~Improved+Sex, data=Arthritis)\n",
    "chisq.test(mytable)"
   ]
  },
  {
   "cell_type": "code",
   "execution_count": 94,
   "metadata": {},
   "outputs": [
    {
     "data": {
      "text/plain": [
       "\n",
       "\tFisher's Exact Test for Count Data\n",
       "\n",
       "data:  mytable\n",
       "p-value = 0.001393\n",
       "alternative hypothesis: two.sided\n"
      ]
     },
     "metadata": {},
     "output_type": "display_data"
    }
   ],
   "source": [
    "# Fisher's exact test\n",
    "mytable <- xtabs(~Treatment+Improved, data=Arthritis)\n",
    "fisher.test(mytable)"
   ]
  },
  {
   "cell_type": "code",
   "execution_count": 95,
   "metadata": {},
   "outputs": [
    {
     "data": {
      "text/plain": [
       "\n",
       "\tCochran-Mantel-Haenszel test\n",
       "\n",
       "data:  mytable\n",
       "Cochran-Mantel-Haenszel M^2 = 14.632, df = 2, p-value = 0.0006647\n"
      ]
     },
     "metadata": {},
     "output_type": "display_data"
    }
   ],
   "source": [
    "# Chochran-Mantel-Haenszel test\n",
    "mytable <- xtabs(~Treatment+Improved+Sex, data=Arthritis)\n",
    "mantelhaen.test(mytable)"
   ]
  },
  {
   "cell_type": "code",
   "execution_count": 96,
   "metadata": {},
   "outputs": [
    {
     "data": {
      "text/plain": [
       "                    X^2 df  P(> X^2)\n",
       "Likelihood Ratio 13.530  2 0.0011536\n",
       "Pearson          13.055  2 0.0014626\n",
       "\n",
       "Phi-Coefficient   : NA \n",
       "Contingency Coeff.: 0.367 \n",
       "Cramer's V        : 0.394 "
      ]
     },
     "metadata": {},
     "output_type": "display_data"
    }
   ],
   "source": [
    "# Listing 7.13 - Measures of association for a two-way table\n",
    "library(vcd)\n",
    "mytable <- xtabs(~Treatment+Improved, data=Arthritis)\n",
    "assocstats(mytable)"
   ]
  },
  {
   "cell_type": "code",
   "execution_count": 98,
   "metadata": {},
   "outputs": [
    {
     "data": {
      "text/html": [
       "<table>\n",
       "<thead><tr><th></th><th scope=col>Population</th><th scope=col>Income</th><th scope=col>Illiteracy</th><th scope=col>Life Exp</th><th scope=col>Murder</th><th scope=col>HS Grad</th></tr></thead>\n",
       "<tbody>\n",
       "\t<tr><th scope=row>Population</th><td>19931683.7588</td><td>571229.7796  </td><td> 292.8679592 </td><td>-407.8424612 </td><td>5663.523714  </td><td>-3551.509551 </td></tr>\n",
       "\t<tr><th scope=row>Income</th><td>  571229.7796</td><td>377573.3061  </td><td>-163.7020408 </td><td> 280.6631837 </td><td>-521.894286  </td><td> 3076.768980 </td></tr>\n",
       "\t<tr><th scope=row>Illiteracy</th><td>     292.8680</td><td>  -163.7020  </td><td>   0.3715306 </td><td>  -0.4815122 </td><td>   1.581776  </td><td>   -3.235469 </td></tr>\n",
       "\t<tr><th scope=row>Life Exp</th><td>    -407.8425</td><td>   280.6632  </td><td>  -0.4815122 </td><td>   1.8020204 </td><td>  -3.869480  </td><td>    6.312685 </td></tr>\n",
       "\t<tr><th scope=row>Murder</th><td>    5663.5237</td><td>  -521.8943  </td><td>   1.5817755 </td><td>  -3.8694804 </td><td>  13.627465  </td><td>  -14.549616 </td></tr>\n",
       "\t<tr><th scope=row>HS Grad</th><td>   -3551.5096</td><td>  3076.7690  </td><td>  -3.2354694 </td><td>   6.3126849 </td><td> -14.549616  </td><td>   65.237894 </td></tr>\n",
       "</tbody>\n",
       "</table>\n"
      ],
      "text/latex": [
       "\\begin{tabular}{r|llllll}\n",
       "  & Population & Income & Illiteracy & Life Exp & Murder & HS Grad\\\\\n",
       "\\hline\n",
       "\tPopulation & 19931683.7588 & 571229.7796   &  292.8679592  & -407.8424612  & 5663.523714   & -3551.509551 \\\\\n",
       "\tIncome &   571229.7796 & 377573.3061   & -163.7020408  &  280.6631837  & -521.894286   &  3076.768980 \\\\\n",
       "\tIlliteracy &      292.8680 &   -163.7020   &    0.3715306  &   -0.4815122  &    1.581776   &    -3.235469 \\\\\n",
       "\tLife Exp &     -407.8425 &    280.6632   &   -0.4815122  &    1.8020204  &   -3.869480   &     6.312685 \\\\\n",
       "\tMurder &     5663.5237 &   -521.8943   &    1.5817755  &   -3.8694804  &   13.627465   &   -14.549616 \\\\\n",
       "\tHS Grad &    -3551.5096 &   3076.7690   &   -3.2354694  &    6.3126849  &  -14.549616   &    65.237894 \\\\\n",
       "\\end{tabular}\n"
      ],
      "text/markdown": [
       "\n",
       "| <!--/--> | Population | Income | Illiteracy | Life Exp | Murder | HS Grad | \n",
       "|---|---|---|---|---|---|\n",
       "| Population | 19931683.7588 | 571229.7796   |  292.8679592  | -407.8424612  | 5663.523714   | -3551.509551  | \n",
       "| Income |   571229.7796 | 377573.3061   | -163.7020408  |  280.6631837  | -521.894286   |  3076.768980  | \n",
       "| Illiteracy |      292.8680 |   -163.7020   |    0.3715306  |   -0.4815122  |    1.581776   |    -3.235469  | \n",
       "| Life Exp |     -407.8425 |    280.6632   |   -0.4815122  |    1.8020204  |   -3.869480   |     6.312685  | \n",
       "| Murder |     5663.5237 |   -521.8943   |    1.5817755  |   -3.8694804  |   13.627465   |   -14.549616  | \n",
       "| HS Grad |    -3551.5096 |   3076.7690   |   -3.2354694  |    6.3126849  |  -14.549616   |    65.237894  | \n",
       "\n",
       "\n"
      ],
      "text/plain": [
       "           Population    Income      Illiteracy   Life Exp     Murder     \n",
       "Population 19931683.7588 571229.7796  292.8679592 -407.8424612 5663.523714\n",
       "Income       571229.7796 377573.3061 -163.7020408  280.6631837 -521.894286\n",
       "Illiteracy      292.8680   -163.7020    0.3715306   -0.4815122    1.581776\n",
       "Life Exp       -407.8425    280.6632   -0.4815122    1.8020204   -3.869480\n",
       "Murder         5663.5237   -521.8943    1.5817755   -3.8694804   13.627465\n",
       "HS Grad       -3551.5096   3076.7690   -3.2354694    6.3126849  -14.549616\n",
       "           HS Grad     \n",
       "Population -3551.509551\n",
       "Income      3076.768980\n",
       "Illiteracy    -3.235469\n",
       "Life Exp       6.312685\n",
       "Murder       -14.549616\n",
       "HS Grad       65.237894"
      ]
     },
     "metadata": {},
     "output_type": "display_data"
    },
    {
     "data": {
      "text/html": [
       "<table>\n",
       "<thead><tr><th></th><th scope=col>Population</th><th scope=col>Income</th><th scope=col>Illiteracy</th><th scope=col>Life Exp</th><th scope=col>Murder</th><th scope=col>HS Grad</th></tr></thead>\n",
       "<tbody>\n",
       "\t<tr><th scope=row>Population</th><td> 1.00000000</td><td> 0.2082276 </td><td> 0.1076224 </td><td>-0.06805195</td><td> 0.3436428 </td><td>-0.09848975</td></tr>\n",
       "\t<tr><th scope=row>Income</th><td> 0.20822756</td><td> 1.0000000 </td><td>-0.4370752 </td><td> 0.34025534</td><td>-0.2300776 </td><td> 0.61993232</td></tr>\n",
       "\t<tr><th scope=row>Illiteracy</th><td> 0.10762237</td><td>-0.4370752 </td><td> 1.0000000 </td><td>-0.58847793</td><td> 0.7029752 </td><td>-0.65718861</td></tr>\n",
       "\t<tr><th scope=row>Life Exp</th><td>-0.06805195</td><td> 0.3402553 </td><td>-0.5884779 </td><td> 1.00000000</td><td>-0.7808458 </td><td> 0.58221620</td></tr>\n",
       "\t<tr><th scope=row>Murder</th><td> 0.34364275</td><td>-0.2300776 </td><td> 0.7029752 </td><td>-0.78084575</td><td> 1.0000000 </td><td>-0.48797102</td></tr>\n",
       "\t<tr><th scope=row>HS Grad</th><td>-0.09848975</td><td> 0.6199323 </td><td>-0.6571886 </td><td> 0.58221620</td><td>-0.4879710 </td><td> 1.00000000</td></tr>\n",
       "</tbody>\n",
       "</table>\n"
      ],
      "text/latex": [
       "\\begin{tabular}{r|llllll}\n",
       "  & Population & Income & Illiteracy & Life Exp & Murder & HS Grad\\\\\n",
       "\\hline\n",
       "\tPopulation &  1.00000000 &  0.2082276  &  0.1076224  & -0.06805195 &  0.3436428  & -0.09848975\\\\\n",
       "\tIncome &  0.20822756 &  1.0000000  & -0.4370752  &  0.34025534 & -0.2300776  &  0.61993232\\\\\n",
       "\tIlliteracy &  0.10762237 & -0.4370752  &  1.0000000  & -0.58847793 &  0.7029752  & -0.65718861\\\\\n",
       "\tLife Exp & -0.06805195 &  0.3402553  & -0.5884779  &  1.00000000 & -0.7808458  &  0.58221620\\\\\n",
       "\tMurder &  0.34364275 & -0.2300776  &  0.7029752  & -0.78084575 &  1.0000000  & -0.48797102\\\\\n",
       "\tHS Grad & -0.09848975 &  0.6199323  & -0.6571886  &  0.58221620 & -0.4879710  &  1.00000000\\\\\n",
       "\\end{tabular}\n"
      ],
      "text/markdown": [
       "\n",
       "| <!--/--> | Population | Income | Illiteracy | Life Exp | Murder | HS Grad | \n",
       "|---|---|---|---|---|---|\n",
       "| Population |  1.00000000 |  0.2082276  |  0.1076224  | -0.06805195 |  0.3436428  | -0.09848975 | \n",
       "| Income |  0.20822756 |  1.0000000  | -0.4370752  |  0.34025534 | -0.2300776  |  0.61993232 | \n",
       "| Illiteracy |  0.10762237 | -0.4370752  |  1.0000000  | -0.58847793 |  0.7029752  | -0.65718861 | \n",
       "| Life Exp | -0.06805195 |  0.3402553  | -0.5884779  |  1.00000000 | -0.7808458  |  0.58221620 | \n",
       "| Murder |  0.34364275 | -0.2300776  |  0.7029752  | -0.78084575 |  1.0000000  | -0.48797102 | \n",
       "| HS Grad | -0.09848975 |  0.6199323  | -0.6571886  |  0.58221620 | -0.4879710  |  1.00000000 | \n",
       "\n",
       "\n"
      ],
      "text/plain": [
       "           Population  Income     Illiteracy Life Exp    Murder     HS Grad    \n",
       "Population  1.00000000  0.2082276  0.1076224 -0.06805195  0.3436428 -0.09848975\n",
       "Income      0.20822756  1.0000000 -0.4370752  0.34025534 -0.2300776  0.61993232\n",
       "Illiteracy  0.10762237 -0.4370752  1.0000000 -0.58847793  0.7029752 -0.65718861\n",
       "Life Exp   -0.06805195  0.3402553 -0.5884779  1.00000000 -0.7808458  0.58221620\n",
       "Murder      0.34364275 -0.2300776  0.7029752 -0.78084575  1.0000000 -0.48797102\n",
       "HS Grad    -0.09848975  0.6199323 -0.6571886  0.58221620 -0.4879710  1.00000000"
      ]
     },
     "metadata": {},
     "output_type": "display_data"
    },
    {
     "data": {
      "text/html": [
       "<table>\n",
       "<thead><tr><th></th><th scope=col>Population</th><th scope=col>Income</th><th scope=col>Illiteracy</th><th scope=col>Life Exp</th><th scope=col>Murder</th><th scope=col>HS Grad</th></tr></thead>\n",
       "<tbody>\n",
       "\t<tr><th scope=row>Population</th><td> 1.0000000</td><td> 0.1246098</td><td> 0.3130496</td><td>-0.1040171</td><td> 0.3457401</td><td>-0.3833649</td></tr>\n",
       "\t<tr><th scope=row>Income</th><td> 0.1246098</td><td> 1.0000000</td><td>-0.3145948</td><td> 0.3241050</td><td>-0.2174623</td><td> 0.5104809</td></tr>\n",
       "\t<tr><th scope=row>Illiteracy</th><td> 0.3130496</td><td>-0.3145948</td><td> 1.0000000</td><td>-0.5553735</td><td> 0.6723592</td><td>-0.6545396</td></tr>\n",
       "\t<tr><th scope=row>Life Exp</th><td>-0.1040171</td><td> 0.3241050</td><td>-0.5553735</td><td> 1.0000000</td><td>-0.7802406</td><td> 0.5239410</td></tr>\n",
       "\t<tr><th scope=row>Murder</th><td> 0.3457401</td><td>-0.2174623</td><td> 0.6723592</td><td>-0.7802406</td><td> 1.0000000</td><td>-0.4367330</td></tr>\n",
       "\t<tr><th scope=row>HS Grad</th><td>-0.3833649</td><td> 0.5104809</td><td>-0.6545396</td><td> 0.5239410</td><td>-0.4367330</td><td> 1.0000000</td></tr>\n",
       "</tbody>\n",
       "</table>\n"
      ],
      "text/latex": [
       "\\begin{tabular}{r|llllll}\n",
       "  & Population & Income & Illiteracy & Life Exp & Murder & HS Grad\\\\\n",
       "\\hline\n",
       "\tPopulation &  1.0000000 &  0.1246098 &  0.3130496 & -0.1040171 &  0.3457401 & -0.3833649\\\\\n",
       "\tIncome &  0.1246098 &  1.0000000 & -0.3145948 &  0.3241050 & -0.2174623 &  0.5104809\\\\\n",
       "\tIlliteracy &  0.3130496 & -0.3145948 &  1.0000000 & -0.5553735 &  0.6723592 & -0.6545396\\\\\n",
       "\tLife Exp & -0.1040171 &  0.3241050 & -0.5553735 &  1.0000000 & -0.7802406 &  0.5239410\\\\\n",
       "\tMurder &  0.3457401 & -0.2174623 &  0.6723592 & -0.7802406 &  1.0000000 & -0.4367330\\\\\n",
       "\tHS Grad & -0.3833649 &  0.5104809 & -0.6545396 &  0.5239410 & -0.4367330 &  1.0000000\\\\\n",
       "\\end{tabular}\n"
      ],
      "text/markdown": [
       "\n",
       "| <!--/--> | Population | Income | Illiteracy | Life Exp | Murder | HS Grad | \n",
       "|---|---|---|---|---|---|\n",
       "| Population |  1.0000000 |  0.1246098 |  0.3130496 | -0.1040171 |  0.3457401 | -0.3833649 | \n",
       "| Income |  0.1246098 |  1.0000000 | -0.3145948 |  0.3241050 | -0.2174623 |  0.5104809 | \n",
       "| Illiteracy |  0.3130496 | -0.3145948 |  1.0000000 | -0.5553735 |  0.6723592 | -0.6545396 | \n",
       "| Life Exp | -0.1040171 |  0.3241050 | -0.5553735 |  1.0000000 | -0.7802406 |  0.5239410 | \n",
       "| Murder |  0.3457401 | -0.2174623 |  0.6723592 | -0.7802406 |  1.0000000 | -0.4367330 | \n",
       "| HS Grad | -0.3833649 |  0.5104809 | -0.6545396 |  0.5239410 | -0.4367330 |  1.0000000 | \n",
       "\n",
       "\n"
      ],
      "text/plain": [
       "           Population Income     Illiteracy Life Exp   Murder     HS Grad   \n",
       "Population  1.0000000  0.1246098  0.3130496 -0.1040171  0.3457401 -0.3833649\n",
       "Income      0.1246098  1.0000000 -0.3145948  0.3241050 -0.2174623  0.5104809\n",
       "Illiteracy  0.3130496 -0.3145948  1.0000000 -0.5553735  0.6723592 -0.6545396\n",
       "Life Exp   -0.1040171  0.3241050 -0.5553735  1.0000000 -0.7802406  0.5239410\n",
       "Murder      0.3457401 -0.2174623  0.6723592 -0.7802406  1.0000000 -0.4367330\n",
       "HS Grad    -0.3833649  0.5104809 -0.6545396  0.5239410 -0.4367330  1.0000000"
      ]
     },
     "metadata": {},
     "output_type": "display_data"
    },
    {
     "data": {
      "text/html": [
       "<table>\n",
       "<thead><tr><th></th><th scope=col>Life Exp</th><th scope=col>Murder</th></tr></thead>\n",
       "<tbody>\n",
       "\t<tr><th scope=row>Population</th><td>-0.06805195</td><td> 0.3436428 </td></tr>\n",
       "\t<tr><th scope=row>Income</th><td> 0.34025534</td><td>-0.2300776 </td></tr>\n",
       "\t<tr><th scope=row>Illiteracy</th><td>-0.58847793</td><td> 0.7029752 </td></tr>\n",
       "\t<tr><th scope=row>HS Grad</th><td> 0.58221620</td><td>-0.4879710 </td></tr>\n",
       "</tbody>\n",
       "</table>\n"
      ],
      "text/latex": [
       "\\begin{tabular}{r|ll}\n",
       "  & Life Exp & Murder\\\\\n",
       "\\hline\n",
       "\tPopulation & -0.06805195 &  0.3436428 \\\\\n",
       "\tIncome &  0.34025534 & -0.2300776 \\\\\n",
       "\tIlliteracy & -0.58847793 &  0.7029752 \\\\\n",
       "\tHS Grad &  0.58221620 & -0.4879710 \\\\\n",
       "\\end{tabular}\n"
      ],
      "text/markdown": [
       "\n",
       "| <!--/--> | Life Exp | Murder | \n",
       "|---|---|---|---|\n",
       "| Population | -0.06805195 |  0.3436428  | \n",
       "| Income |  0.34025534 | -0.2300776  | \n",
       "| Illiteracy | -0.58847793 |  0.7029752  | \n",
       "| HS Grad |  0.58221620 | -0.4879710  | \n",
       "\n",
       "\n"
      ],
      "text/plain": [
       "           Life Exp    Murder    \n",
       "Population -0.06805195  0.3436428\n",
       "Income      0.34025534 -0.2300776\n",
       "Illiteracy -0.58847793  0.7029752\n",
       "HS Grad     0.58221620 -0.4879710"
      ]
     },
     "metadata": {},
     "output_type": "display_data"
    }
   ],
   "source": [
    "# Listing 7.14 Covariances and correlations\n",
    "states<- state.x77[,1:6]\n",
    "cov(states)\n",
    "cor(states)\n",
    "cor(states, method=\"spearman\")\n",
    "\n",
    "x <- states[,c(\"Population\", \"Income\", \"Illiteracy\", \"HS Grad\")]\n",
    "y <- states[,c(\"Life Exp\", \"Murder\")]\n",
    "cor(x,y)"
   ]
  },
  {
   "cell_type": "code",
   "execution_count": 101,
   "metadata": {},
   "outputs": [
    {
     "data": {
      "text/html": [
       "0.346272371372947"
      ],
      "text/latex": [
       "0.346272371372947"
      ],
      "text/markdown": [
       "0.346272371372947"
      ],
      "text/plain": [
       "[1] 0.3462724"
      ]
     },
     "metadata": {},
     "output_type": "display_data"
    }
   ],
   "source": [
    "# partial correlations\n",
    "library(ggm)\n",
    "# partial correlation of population and murder rate, controlling\n",
    "# for income, illiteracy rate, and HS graduation rate\n",
    "pcor(c(1,5,2,3,6), cov(states))"
   ]
  },
  {
   "cell_type": "code",
   "execution_count": 102,
   "metadata": {},
   "outputs": [
    {
     "data": {
      "text/plain": [
       "\n",
       "\tPearson's product-moment correlation\n",
       "\n",
       "data:  states[, 3] and states[, 5]\n",
       "t = 6.8479, df = 48, p-value = 1.258e-08\n",
       "alternative hypothesis: true correlation is not equal to 0\n",
       "95 percent confidence interval:\n",
       " 0.5279280 0.8207295\n",
       "sample estimates:\n",
       "      cor \n",
       "0.7029752 \n"
      ]
     },
     "metadata": {},
     "output_type": "display_data"
    }
   ],
   "source": [
    "# Listing 7.15 - Testing a correlation coefficient for significance\n",
    "cor.test(states[,3], states[,5])"
   ]
  },
  {
   "cell_type": "code",
   "execution_count": 103,
   "metadata": {},
   "outputs": [
    {
     "data": {
      "text/plain": [
       "Call:corr.test(x = states, use = \"complete\")\n",
       "Correlation matrix \n",
       "           Population Income Illiteracy Life Exp Murder HS Grad\n",
       "Population       1.00   0.21       0.11    -0.07   0.34   -0.10\n",
       "Income           0.21   1.00      -0.44     0.34  -0.23    0.62\n",
       "Illiteracy       0.11  -0.44       1.00    -0.59   0.70   -0.66\n",
       "Life Exp        -0.07   0.34      -0.59     1.00  -0.78    0.58\n",
       "Murder           0.34  -0.23       0.70    -0.78   1.00   -0.49\n",
       "HS Grad         -0.10   0.62      -0.66     0.58  -0.49    1.00\n",
       "Sample Size \n",
       "[1] 50\n",
       "Probability values (Entries above the diagonal are adjusted for multiple tests.) \n",
       "           Population Income Illiteracy Life Exp Murder HS Grad\n",
       "Population       0.00   0.59       1.00      1.0   0.10       1\n",
       "Income           0.15   0.00       0.01      0.1   0.54       0\n",
       "Illiteracy       0.46   0.00       0.00      0.0   0.00       0\n",
       "Life Exp         0.64   0.02       0.00      0.0   0.00       0\n",
       "Murder           0.01   0.11       0.00      0.0   0.00       0\n",
       "HS Grad          0.50   0.00       0.00      0.0   0.00       0\n",
       "\n",
       " To see confidence intervals of the correlations, print with the short=FALSE option"
      ]
     },
     "metadata": {},
     "output_type": "display_data"
    }
   ],
   "source": [
    "# Listing 7.16 - Correlation matrix and tests of significance via corr.test\n",
    "library(psych)\n",
    "corr.test(states, use=\"complete\")"
   ]
  },
  {
   "cell_type": "code",
   "execution_count": 106,
   "metadata": {},
   "outputs": [
    {
     "data": {
      "text/plain": [
       "\n",
       "\tWelch Two Sample t-test\n",
       "\n",
       "data:  Prob by So\n",
       "t = -3.8954, df = 24.925, p-value = 0.0006506\n",
       "alternative hypothesis: true difference in means is not equal to 0\n",
       "95 percent confidence interval:\n",
       " -0.03852569 -0.01187439\n",
       "sample estimates:\n",
       "mean in group 0 mean in group 1 \n",
       "     0.03851265      0.06371269 \n"
      ]
     },
     "metadata": {},
     "output_type": "display_data"
    },
    {
     "data": {
      "text/html": [
       "<table>\n",
       "<thead><tr><th></th><th scope=col>U1</th><th scope=col>U2</th></tr></thead>\n",
       "<tbody>\n",
       "\t<tr><th scope=row>mean</th><td>95.46809</td><td>33.97872</td></tr>\n",
       "\t<tr><th scope=row>sd</th><td>18.02878</td><td> 8.44545</td></tr>\n",
       "</tbody>\n",
       "</table>\n"
      ],
      "text/latex": [
       "\\begin{tabular}{r|ll}\n",
       "  & U1 & U2\\\\\n",
       "\\hline\n",
       "\tmean & 95.46809 & 33.97872\\\\\n",
       "\tsd & 18.02878 &  8.44545\\\\\n",
       "\\end{tabular}\n"
      ],
      "text/markdown": [
       "\n",
       "| <!--/--> | U1 | U2 | \n",
       "|---|---|\n",
       "| mean | 95.46809 | 33.97872 | \n",
       "| sd | 18.02878 |  8.44545 | \n",
       "\n",
       "\n"
      ],
      "text/plain": [
       "     U1       U2      \n",
       "mean 95.46809 33.97872\n",
       "sd   18.02878  8.44545"
      ]
     },
     "metadata": {},
     "output_type": "display_data"
    },
    {
     "data": {
      "text/plain": [
       "\n",
       "\tPaired t-test\n",
       "\n",
       "data:  U1 and U2\n",
       "t = 32.407, df = 46, p-value < 2.2e-16\n",
       "alternative hypothesis: true difference in means is not equal to 0\n",
       "95 percent confidence interval:\n",
       " 57.67003 65.30870\n",
       "sample estimates:\n",
       "mean of the differences \n",
       "               61.48936 \n"
      ]
     },
     "metadata": {},
     "output_type": "display_data"
    },
    {
     "data": {
      "text/plain": [
       "So: 0\n",
       "[1] 0.038201\n",
       "------------------------------------------------------------ \n",
       "So: 1\n",
       "[1] 0.055552"
      ]
     },
     "metadata": {},
     "output_type": "display_data"
    },
    {
     "data": {
      "text/plain": [
       "\n",
       "\tWilcoxon rank sum test\n",
       "\n",
       "data:  Prob by So\n",
       "W = 81, p-value = 8.488e-05\n",
       "alternative hypothesis: true location shift is not equal to 0\n"
      ]
     },
     "metadata": {},
     "output_type": "display_data"
    },
    {
     "data": {
      "text/html": [
       "<dl class=dl-horizontal>\n",
       "\t<dt>U1</dt>\n",
       "\t\t<dd>92</dd>\n",
       "\t<dt>U2</dt>\n",
       "\t\t<dd>34</dd>\n",
       "</dl>\n"
      ],
      "text/latex": [
       "\\begin{description*}\n",
       "\\item[U1] 92\n",
       "\\item[U2] 34\n",
       "\\end{description*}\n"
      ],
      "text/markdown": [
       "U1\n",
       ":   92U2\n",
       ":   34\n",
       "\n"
      ],
      "text/plain": [
       "U1 U2 \n",
       "92 34 "
      ]
     },
     "metadata": {},
     "output_type": "display_data"
    },
    {
     "name": "stderr",
     "output_type": "stream",
     "text": [
      "Warning message in wilcox.test.default(U1, U2, paired = TRUE):\n",
      "\"cannot compute exact p-value with ties\""
     ]
    },
    {
     "data": {
      "text/plain": [
       "\n",
       "\tWilcoxon signed rank test with continuity correction\n",
       "\n",
       "data:  U1 and U2\n",
       "V = 1128, p-value = 2.464e-09\n",
       "alternative hypothesis: true location shift is not equal to 0\n"
      ]
     },
     "metadata": {},
     "output_type": "display_data"
    },
    {
     "data": {
      "text/plain": [
       "\n",
       "\tKruskal-Wallis rank sum test\n",
       "\n",
       "data:  Illiteracy by state.region\n",
       "Kruskal-Wallis chi-squared = 22.672, df = 3, p-value = 4.726e-05\n"
      ]
     },
     "metadata": {},
     "output_type": "display_data"
    }
   ],
   "source": [
    "# t test\n",
    "library(MASS)\n",
    "t.test(Prob ~ So, data=UScrime)\n",
    "\n",
    "# dependent t test\n",
    "sapply(UScrime[c(\"U1\",\"U2\")], function(x)(c(mean=mean(x),sd=sd(x))))\n",
    "with(UScrime, t.test(U1, U2, paired=TRUE))\n",
    "\n",
    "\n",
    "# Wilcoxon two group comparison\n",
    "with(UScrime, by(Prob, So, median))\n",
    "wilcox.test(Prob ~ So, data=UScrime)\n",
    "\n",
    "sapply(UScrime[c(\"U1\", \"U2\")], median)\n",
    "with(UScrime, wilcox.test(U1, U2, paired=TRUE))\n",
    "\n",
    "\n",
    "# Kruskal Wallis test\n",
    "states <- data.frame(state.region, state.x77)\n",
    "kruskal.test(Illiteracy ~ state.region, data=states)"
   ]
  },
  {
   "cell_type": "code",
   "execution_count": 107,
   "metadata": {},
   "outputs": [
    {
     "name": "stdout",
     "output_type": "stream",
     "text": [
      "Descriptive Statistics\n",
      "\n",
      "           West North Central Northeast    South\n",
      "n      13.00000      12.00000   9.00000 16.00000\n",
      "median  0.60000       0.70000   1.10000  1.75000\n",
      "mad     0.14826       0.14826   0.29652  0.59304\n",
      "\n",
      "Multiple Comparisons (Wilcoxon Rank Sum Tests)\n",
      "Probability Adjustment = holm\n",
      "\n",
      "        Group.1       Group.2    W            p    \n",
      "1          West North Central 88.0 8.665618e-01    \n",
      "2          West     Northeast 46.5 8.665618e-01    \n",
      "3          West         South 39.0 1.788186e-02   *\n",
      "4 North Central     Northeast 20.5 5.359707e-02   .\n",
      "5 North Central         South  2.0 8.051509e-05 ***\n",
      "6     Northeast         South 18.0 1.187644e-02   *\n",
      "---\n",
      "Signif. codes:  0 '***' 0.001 '**' 0.01 '*' 0.05 '.' 0.1 ' ' 1\n"
     ]
    }
   ],
   "source": [
    "# Listing 7.17 - Nonparametric multiple comparisons\n",
    "source(\"http://www.statmethods.net/RiA/wmc.txt\")              \n",
    "states <- data.frame(state.region, state.x77)\n",
    "wmc(Illiteracy ~ state.region, data=states, method=\"holm\")"
   ]
  },
  {
   "cell_type": "markdown",
   "metadata": {
    "collapsed": true
   },
   "source": [
    "# Data Mining with R Learning with Case Studies 学习"
   ]
  },
  {
   "cell_type": "markdown",
   "metadata": {},
   "source": [
    "## Chapter 5：predicting stock market returns"
   ]
  },
  {
   "cell_type": "code",
   "execution_count": 6,
   "metadata": {},
   "outputs": [
    {
     "data": {
      "text/plain": [
       "           GSPC.Open GSPC.High GSPC.Low GSPC.Close GSPC.Volume GSPC.Adjusted\n",
       "1970-01-02     92.06     93.54    91.79         93     8050000            93"
      ]
     },
     "metadata": {},
     "output_type": "display_data"
    },
    {
     "data": {
      "text/plain": [
       "           GSPC.Open GSPC.High GSPC.Low GSPC.Close GSPC.Volume GSPC.Adjusted\n",
       "2016-01-25   1906.28   1906.28  1875.97    1877.08  4401380000       1877.08"
      ]
     },
     "metadata": {},
     "output_type": "display_data"
    }
   ],
   "source": [
    "####### Section:  The Available Data##\n",
    "library(xts)\n",
    "data(GSPC, package=\"DMwR2\")\n",
    "first(GSPC)\n",
    "last(GSPC)"
   ]
  },
  {
   "cell_type": "code",
   "execution_count": 10,
   "metadata": {},
   "outputs": [],
   "source": [
    "#### sub-section:  Getting the Data from the Web##\n",
    "library(quantmod)\n",
    "#GSPC <- getSymbols(\"^GSPC\",auto.assign=FALSE)\n",
    "GSPC <- getSymbols(\"^GSPC\",from=\"1970-01-02\",to=\"2016-01-25\",auto.assign=FALSE)"
   ]
  },
  {
   "cell_type": "code",
   "execution_count": 24,
   "metadata": {
    "scrolled": true
   },
   "outputs": [
    {
     "data": {
      "text/plain": [
       "     Index              GSPC.Open         GSPC.High          GSPC.Low      \n",
       " Min.   :1970-01-02   Min.   :  62.28   Min.   :  63.23   Min.   :  60.96  \n",
       " 1st Qu.:1981-07-02   1st Qu.: 122.30   1st Qu.: 123.28   1st Qu.: 121.22  \n",
       " Median :1992-12-28   Median : 433.93   Median : 435.46   Median : 432.48  \n",
       " Mean   :1993-01-02   Mean   : 669.53   Mean   : 673.81   Mean   : 665.01  \n",
       " 3rd Qu.:2004-07-09   3rd Qu.:1177.80   3rd Qu.:1184.71   3rd Qu.:1169.19  \n",
       " Max.   :2016-01-22   Max.   :2130.36   Max.   :2134.72   Max.   :2126.06  \n",
       "   GSPC.Close       GSPC.Volume        GSPC.Adjusted    \n",
       " Min.   :  62.28   Min.   :6.650e+06   Min.   :  62.28  \n",
       " 1st Qu.: 122.30   1st Qu.:4.831e+07   1st Qu.: 122.30  \n",
       " Median : 434.22   Median :2.362e+08   Median : 434.22  \n",
       " Mean   : 669.69   Mean   :1.143e+09   Mean   : 669.69  \n",
       " 3rd Qu.:1177.80   3rd Qu.:1.561e+09   3rd Qu.:1177.80  \n",
       " Max.   :2130.82   Max.   :1.146e+10   Max.   :2130.82  "
      ]
     },
     "metadata": {},
     "output_type": "display_data"
    }
   ],
   "source": [
    "summary(GSPC)"
   ]
  },
  {
   "cell_type": "code",
   "execution_count": 37,
   "metadata": {},
   "outputs": [
    {
     "name": "stdout",
     "output_type": "stream",
     "text": [
      "An 'xts' object on 1970-01-02/2016-01-22 containing:\n",
      "  Data: num [1:11621, 1:6] 92.1 93 93.5 92.8 92.6 ...\n",
      " - attr(*, \"dimnames\")=List of 2\n",
      "  ..$ : NULL\n",
      "  ..$ : chr [1:6] \"GSPC.Open\" \"GSPC.High\" \"GSPC.Low\" \"GSPC.Close\" ...\n",
      "  Indexed by objects of class: [Date] TZ: UTC\n",
      "  xts Attributes:  \n",
      "List of 2\n",
      " $ src    : chr \"yahoo\"\n",
      " $ updated: POSIXct[1:1], format: \"2017-10-04 19:24:02\"\n"
     ]
    }
   ],
   "source": [
    "str(a)"
   ]
  },
  {
   "cell_type": "code",
   "execution_count": 45,
   "metadata": {},
   "outputs": [
    {
     "data": {
      "text/plain": [
       "           GSPC.Open GSPC.High GSPC.Low GSPC.Close GSPC.Volume Date\n",
       "1970-01-02     92.06     93.54    91.79      93.00     8050000    1\n",
       "1970-01-05     93.00     94.25    92.53      93.46    11490000    4\n",
       "1970-01-06     93.46     93.81    92.13      92.82    11460000    5\n",
       "1970-01-07     92.82     93.38    91.93      92.63    10010000    6\n",
       "1970-01-08     92.63     93.47    91.99      92.68    10670000    7\n",
       "1970-01-09     92.68     93.25    91.82      92.40     9380000    8"
      ]
     },
     "metadata": {},
     "output_type": "display_data"
    }
   ],
   "source": [
    "a$Date=index(a) # Date数据以与第一天相差的天数来表示\n",
    "head(a)\n",
    "write.csv(a,'F:/python/R-project/GSPC_70_16.csv')#,sep=',',quote=T,row.names=T,col.names=T"
   ]
  },
  {
   "cell_type": "code",
   "execution_count": 48,
   "metadata": {
    "collapsed": true
   },
   "outputs": [
    {
     "ename": "ERROR",
     "evalue": "Error in eval(expr, envir, enclos): 找不到对象'opts_template'\n",
     "output_type": "error",
     "traceback": [
      "Error in eval(expr, envir, enclos): 找不到对象'opts_template'\nTraceback:\n"
     ]
    }
   ],
   "source": [
    "# 有问题\n",
    "opts_template$set(onlyShow=list(echo=TRUE, eval=FALSE,  tidy=FALSE),\n",
    "                  onlyRun=list(echo=FALSE, eval=TRUE, message=FALSE, warning=FALSE),\n",
    "                  showFig=list(fig.width=6,fig.height=6,echo=FALSE, eval=TRUE, message=FALSE, warning=FALSE,out.width=\"0.7\\\\textwidth\"),\n",
    "                  showFig2=list(fig.width=12,fig.height=6,echo=FALSE, eval=TRUE, message=FALSE, warning=FALSE,out.width=\"0.9\\\\textwidth\"),\n",
    "                  runShow=list(echo=TRUE, eval=TRUE, message=FALSE, warning=FALSE, tidy=FALSE))\n",
    "library(ggplot2)\n",
    "library(grid)\n",
    "library(DMwR2)\n",
    "library(xts)\n",
    "library(quantmod)\n",
    "data(GSPC, package=\"DMwR2\")"
   ]
  },
  {
   "cell_type": "code",
   "execution_count": 49,
   "metadata": {
    "scrolled": false
   },
   "outputs": [
    {
     "data": {},
     "metadata": {},
     "output_type": "display_data"
    },
    {
     "data": {
      "image/png": "[encoded data removed]",
      "text/plain": [
       "Plot with title \"[2015-11-02/2016-01-22]\""
      ]
     },
     "metadata": {},
     "output_type": "display_data"
    },
    {
     "data": {},
     "metadata": {},
     "output_type": "display_data"
    },
    {
     "data": {
      "image/png": "[encoded data removed]",
      "text/plain": [
       "Plot with title \"[2015-11-02/2016-01-22]\""
      ]
     },
     "metadata": {},
     "output_type": "display_data"
    },
    {
     "data": {
      "image/png": "[encoded data removed]",
      "text/plain": [
       "Plot with title \"[2015-11-02/2016-01-22]\""
      ]
     },
     "metadata": {},
     "output_type": "display_data"
    }
   ],
   "source": [
    "####### Section:  Defining the Prediction Tasks\n",
    "\n",
    "\n",
    "#### sub-section:  What to Predict?\n",
    "\n",
    "##\n",
    "T.ind <- function(quotes, tgt.margin = 0.025, n.days = 10) {\n",
    "    v <- apply(HLC(quotes), 1, mean)\n",
    "    v[1] <- Cl(quotes)[1]\n",
    "    \n",
    "    r <- matrix(NA, ncol = n.days, nrow = NROW(quotes))\n",
    "    for (x in 1:n.days) r[, x] <- Next(Delt(v, k = x), x)\n",
    "    \n",
    "    x <- apply(r, 1, function(x) sum(x[x > tgt.margin | x < -tgt.margin]))\n",
    "    \n",
    "    if (is.xts(quotes)) xts(x, time(quotes)) else x\n",
    "}\n",
    "\n",
    "##\n",
    "candleChart(last(GSPC,'3 months'),theme='white', TA=NULL)\n",
    "avgPrice <- function(p) apply(HLC(p),1,mean)\n",
    "addAvgPrice <- newTA(FUN=avgPrice,col=1,legend='AvgPrice')\n",
    "addT.ind <- newTA(FUN=T.ind,col='red', legend='tgtRet')\n",
    "addAvgPrice(on=1) \n",
    "addT.ind()\n",
    "\n",
    "##\n",
    "avgPrice <- function(p) apply(HLC(p), 1, mean) \n",
    "addAvgPrice <- newTA(FUN=avgPrice, col=1, legend='AvgPrice')\n",
    "addT.ind <- newTA(FUN=T.ind, col='red', legend='tgtRet')\n",
    "candleChart(last(GSPC,'3 months'), theme='white', TA=c(addAvgPrice(on=1), addT.ind()))\n"
   ]
  },
  {
   "cell_type": "code",
   "execution_count": null,
   "metadata": {},
   "outputs": [
    {
     "name": "stderr",
     "output_type": "stream",
     "text": [
      "randomForest 4.6-12\n",
      "Type rfNews() to see new features/changes/bug fixes.\n",
      "Warning message in sqrt(N/n * runSum(0.5 * log(OHLC[, 2]/OHLC[, 3])^2 - (2 * log(2) - :\n",
      "\"产生了NaNs\""
     ]
    }
   ],
   "source": [
    "#### sub-section:  Which Predictors?\n",
    "\n",
    "##\n",
    "library(TTR)\n",
    "myATR        <- function(x) ATR(HLC(x))[,'atr']\n",
    "mySMI        <- function(x) SMI(HLC(x))[, \"SMI\"]\n",
    "myADX        <- function(x) ADX(HLC(x))[,'ADX']\n",
    "myAroon      <- function(x) aroon(cbind(Hi(x),Lo(x)))$oscillator\n",
    "myBB         <- function(x) BBands(HLC(x))[, \"pctB\"]\n",
    "myChaikinVol <- function(x) Delt(chaikinVolatility(cbind(Hi(x),Lo(x))))[, 1]\n",
    "myCLV        <- function(x) EMA(CLV(HLC(x)))[, 1]\n",
    "myEMV        <- function(x) EMV(cbind(Hi(x),Lo(x)),Vo(x))[,2]\n",
    "myMACD       <- function(x) MACD(Cl(x))[,2]\n",
    "myMFI        <- function(x) MFI(HLC(x),  Vo(x))\n",
    "mySAR        <- function(x) SAR(cbind(Hi(x),Cl(x))) [,1]\n",
    "myVolat      <- function(x) volatility(OHLC(x),calc=\"garman\")[,1]\n",
    "##\n",
    "library(randomForest)\n",
    "data.model <- specifyModel(T.ind(GSPC) ~ Delt(Cl(GSPC),k=1:10) + \n",
    "        myATR(GSPC) + mySMI(GSPC) + myADX(GSPC) + myAroon(GSPC) + \n",
    "        myBB(GSPC)  + myChaikinVol(GSPC) + myCLV(GSPC) + \n",
    "        CMO(Cl(GSPC)) + EMA(Delt(Cl(GSPC))) + myEMV(GSPC) + \n",
    "        myVolat(GSPC)  + myMACD(GSPC) + myMFI(GSPC) + RSI(Cl(GSPC)) +\n",
    "        mySAR(GSPC) + runMean(Cl(GSPC)) + runSD(Cl(GSPC)))\n",
    "set.seed(1234)\n",
    "rf <- buildModel(data.model,method='randomForest',\n",
    "                 training.per=c(\"1995-01-01\",\"2005-12-30\"),\n",
    "                 ntree=1000, importance=TRUE)"
   ]
  },
  {
   "cell_type": "code",
   "execution_count": null,
   "metadata": {
    "collapsed": true
   },
   "outputs": [],
   "source": [
    "##\n",
    "ex.model <- specifyModel(T.ind(IBM) ~ Delt(Cl(IBM), k = 1:3))\n",
    "data <- modelData(ex.model, data.window = c(\"2009-01-01\",  \"2009-08-10\"))\n",
    "\n",
    "##\n",
    "m <- myFavouriteModellingTool(ex.model@model.formula, as.data.frame(data))\n",
    "\n",
    "##\n",
    "varImpPlot(rf@fitted.model, type = 1)\n",
    "\n",
    "##\n",
    "varImpPlot(rf@fitted.model, type = 1)\n",
    "\n",
    "##\n",
    "imp <- importance(rf@fitted.model, type = 1)\n",
    "rownames(imp)[which(imp > 30)]\n",
    "\n",
    "##\n",
    "data.model <- specifyModel(T.ind(GSPC) ~ myATR(GSPC) + mySMI(GSPC) +  myADX(GSPC) + \n",
    "                           myAroon(GSPC) + myEMV(GSPC) + myVolat(GSPC) + \n",
    "                           myMACD(GSPC) + myMFI(GSPC) + mySAR(GSPC) + \n",
    "                           runMean(Cl(GSPC)) + runSD(Cl(GSPC)))\n",
    "\n"
   ]
  }
 ],
 "metadata": {
  "kernelspec": {
   "display_name": "R",
   "language": "R",
   "name": "ir"
  },
  "language_info": {
   "codemirror_mode": "r",
   "file_extension": ".r",
   "mimetype": "text/x-r-source",
   "name": "R",
   "pygments_lexer": "r",
   "version": "3.4.1"
  }
 },
 "nbformat": 4,
 "nbformat_minor": 2
}
