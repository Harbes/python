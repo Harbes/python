{
 "cells": [
  {
   "cell_type": "markdown",
   "metadata": {},
   "source": [
    "# Book: Analysis of financial time series"
   ]
  },
  {
   "cell_type": "markdown",
   "metadata": {},
   "source": [
    "## 第1章 financial time series and their characteristics"
   ]
  },
  {
   "cell_type": "code",
   "execution_count": 1,
   "metadata": {},
   "outputs": [
    {
     "name": "stderr",
     "output_type": "stream",
     "text": [
      "Loading required package: timeDate\n",
      "Loading required package: timeSeries\n",
      "\n",
      "\n",
      "Rmetrics Package fBasics\n",
      "Analysing Markets and calculating Basic Statistics\n",
      "Copyright (C) 2005-2014 Rmetrics Association Zurich\n",
      "Educational Software for Financial Engineering and Computational Science\n",
      "Rmetrics is free software and comes with ABSOLUTELY NO WARRANTY.\n",
      "https://www.rmetrics.org --- Mail to: info@rmetrics.org\n"
     ]
    },
    {
     "data": {
      "text/html": [
       "<ol class=list-inline>\n",
       "\t<li>9845</li>\n",
       "\t<li>5</li>\n",
       "</ol>\n"
      ],
      "text/latex": [
       "\\begin{enumerate*}\n",
       "\\item 9845\n",
       "\\item 5\n",
       "\\end{enumerate*}\n"
      ],
      "text/markdown": [
       "1. 9845\n",
       "2. 5\n",
       "\n",
       "\n"
      ],
      "text/plain": [
       "[1] 9845    5"
      ]
     },
     "metadata": {},
     "output_type": "display_data"
    },
    {
     "data": {
      "text/html": [
       "<table>\n",
       "<thead><tr><th scope=col>Date</th><th scope=col>rtn</th><th scope=col>vwretd</th><th scope=col>ewretd</th><th scope=col>sprtrn</th></tr></thead>\n",
       "<tbody>\n",
       "\t<tr><td>19700102 </td><td>0.000686 </td><td> 0.012137</td><td> 0.033450</td><td> 0.010211</td></tr>\n",
       "\t<tr><td>19700105 </td><td>0.009596 </td><td> 0.006375</td><td> 0.018947</td><td> 0.004946</td></tr>\n",
       "\t<tr><td>19700106 </td><td>0.000679 </td><td>-0.007233</td><td>-0.005776</td><td>-0.006848</td></tr>\n",
       "\t<tr><td>19700107 </td><td>0.000678 </td><td>-0.001272</td><td> 0.003559</td><td>-0.002047</td></tr>\n",
       "\t<tr><td>19700108 </td><td>0.002034 </td><td> 0.000564</td><td> 0.002890</td><td> 0.000540</td></tr>\n",
       "</tbody>\n",
       "</table>\n"
      ],
      "text/latex": [
       "\\begin{tabular}{r|lllll}\n",
       " Date & rtn & vwretd & ewretd & sprtrn\\\\\n",
       "\\hline\n",
       "\t 19700102  & 0.000686  &  0.012137 &  0.033450 &  0.010211\\\\\n",
       "\t 19700105  & 0.009596  &  0.006375 &  0.018947 &  0.004946\\\\\n",
       "\t 19700106  & 0.000679  & -0.007233 & -0.005776 & -0.006848\\\\\n",
       "\t 19700107  & 0.000678  & -0.001272 &  0.003559 & -0.002047\\\\\n",
       "\t 19700108  & 0.002034  &  0.000564 &  0.002890 &  0.000540\\\\\n",
       "\\end{tabular}\n"
      ],
      "text/markdown": [
       "\n",
       "Date | rtn | vwretd | ewretd | sprtrn | \n",
       "|---|---|---|---|---|\n",
       "| 19700102  | 0.000686  |  0.012137 |  0.033450 |  0.010211 | \n",
       "| 19700105  | 0.009596  |  0.006375 |  0.018947 |  0.004946 | \n",
       "| 19700106  | 0.000679  | -0.007233 | -0.005776 | -0.006848 | \n",
       "| 19700107  | 0.000678  | -0.001272 |  0.003559 | -0.002047 | \n",
       "| 19700108  | 0.002034  |  0.000564 |  0.002890 |  0.000540 | \n",
       "\n",
       "\n"
      ],
      "text/plain": [
       "  Date     rtn      vwretd    ewretd    sprtrn   \n",
       "1 19700102 0.000686  0.012137  0.033450  0.010211\n",
       "2 19700105 0.009596  0.006375  0.018947  0.004946\n",
       "3 19700106 0.000679 -0.007233 -0.005776 -0.006848\n",
       "4 19700107 0.000678 -0.001272  0.003559 -0.002047\n",
       "5 19700108 0.002034  0.000564  0.002890  0.000540"
      ]
     },
     "metadata": {},
     "output_type": "display_data"
    },
    {
     "data": {
      "text/html": [
       "<table>\n",
       "<thead><tr><th></th><th scope=col>sibm</th></tr></thead>\n",
       "<tbody>\n",
       "\t<tr><th scope=row>nobs</th><td>9845.000000</td></tr>\n",
       "\t<tr><th scope=row>NAs</th><td>   0.000000</td></tr>\n",
       "\t<tr><th scope=row>Minimum</th><td> -22.963000</td></tr>\n",
       "\t<tr><th scope=row>Maximum</th><td>  13.163600</td></tr>\n",
       "\t<tr><th scope=row>1. Quartile</th><td>  -0.857100</td></tr>\n",
       "\t<tr><th scope=row>3. Quartile</th><td>   0.883300</td></tr>\n",
       "\t<tr><th scope=row>Mean</th><td>   0.040161</td></tr>\n",
       "\t<tr><th scope=row>Median</th><td>   0.000000</td></tr>\n",
       "\t<tr><th scope=row>Sum</th><td> 395.387600</td></tr>\n",
       "\t<tr><th scope=row>SE Mean</th><td>   0.017058</td></tr>\n",
       "\t<tr><th scope=row>LCL Mean</th><td>   0.006724</td></tr>\n",
       "\t<tr><th scope=row>UCL Mean</th><td>   0.073599</td></tr>\n",
       "\t<tr><th scope=row>Variance</th><td>   2.864705</td></tr>\n",
       "\t<tr><th scope=row>Stdev</th><td>   1.692544</td></tr>\n",
       "\t<tr><th scope=row>Skewness</th><td>   0.061399</td></tr>\n",
       "\t<tr><th scope=row>Kurtosis</th><td>   9.916359</td></tr>\n",
       "</tbody>\n",
       "</table>\n"
      ],
      "text/latex": [
       "\\begin{tabular}{r|l}\n",
       "  & sibm\\\\\n",
       "\\hline\n",
       "\tnobs & 9845.000000\\\\\n",
       "\tNAs &    0.000000\\\\\n",
       "\tMinimum &  -22.963000\\\\\n",
       "\tMaximum &   13.163600\\\\\n",
       "\t1. Quartile &   -0.857100\\\\\n",
       "\t3. Quartile &    0.883300\\\\\n",
       "\tMean &    0.040161\\\\\n",
       "\tMedian &    0.000000\\\\\n",
       "\tSum &  395.387600\\\\\n",
       "\tSE Mean &    0.017058\\\\\n",
       "\tLCL Mean &    0.006724\\\\\n",
       "\tUCL Mean &    0.073599\\\\\n",
       "\tVariance &    2.864705\\\\\n",
       "\tStdev &    1.692544\\\\\n",
       "\tSkewness &    0.061399\\\\\n",
       "\tKurtosis &    9.916359\\\\\n",
       "\\end{tabular}\n"
      ],
      "text/markdown": [
       "\n",
       "| <!--/--> | sibm | \n",
       "|---|---|---|---|---|---|---|---|---|---|---|---|---|---|---|---|\n",
       "| nobs | 9845.000000 | \n",
       "| NAs |    0.000000 | \n",
       "| Minimum |  -22.963000 | \n",
       "| Maximum |   13.163600 | \n",
       "| 1. Quartile |   -0.857100 | \n",
       "| 3. Quartile |    0.883300 | \n",
       "| Mean |    0.040161 | \n",
       "| Median |    0.000000 | \n",
       "| Sum |  395.387600 | \n",
       "| SE Mean |    0.017058 | \n",
       "| LCL Mean |    0.006724 | \n",
       "| UCL Mean |    0.073599 | \n",
       "| Variance |    2.864705 | \n",
       "| Stdev |    1.692544 | \n",
       "| Skewness |    0.061399 | \n",
       "| Kurtosis |    9.916359 | \n",
       "\n",
       "\n"
      ],
      "text/plain": [
       "            sibm       \n",
       "nobs        9845.000000\n",
       "NAs            0.000000\n",
       "Minimum      -22.963000\n",
       "Maximum       13.163600\n",
       "1. Quartile   -0.857100\n",
       "3. Quartile    0.883300\n",
       "Mean           0.040161\n",
       "Median         0.000000\n",
       "Sum          395.387600\n",
       "SE Mean        0.017058\n",
       "LCL Mean       0.006724\n",
       "UCL Mean       0.073599\n",
       "Variance       2.864705\n",
       "Stdev          1.692544\n",
       "Skewness       0.061399\n",
       "Kurtosis       9.916359"
      ]
     },
     "metadata": {},
     "output_type": "display_data"
    },
    {
     "data": {
      "text/html": [
       "<table>\n",
       "<thead><tr><th></th><th scope=col>sibm</th></tr></thead>\n",
       "<tbody>\n",
       "\t<tr><th scope=row>nobs</th><td>9845.000000</td></tr>\n",
       "\t<tr><th scope=row>NAs</th><td>   0.000000</td></tr>\n",
       "\t<tr><th scope=row>Minimum</th><td> -22.963000</td></tr>\n",
       "\t<tr><th scope=row>Maximum</th><td>  13.163600</td></tr>\n",
       "\t<tr><th scope=row>1. Quartile</th><td>  -0.857100</td></tr>\n",
       "\t<tr><th scope=row>3. Quartile</th><td>   0.883300</td></tr>\n",
       "\t<tr><th scope=row>Mean</th><td>   0.040161</td></tr>\n",
       "\t<tr><th scope=row>Median</th><td>   0.000000</td></tr>\n",
       "\t<tr><th scope=row>Sum</th><td> 395.387600</td></tr>\n",
       "\t<tr><th scope=row>SE Mean</th><td>   0.017058</td></tr>\n",
       "\t<tr><th scope=row>LCL Mean</th><td>   0.006724</td></tr>\n",
       "\t<tr><th scope=row>UCL Mean</th><td>   0.073599</td></tr>\n",
       "\t<tr><th scope=row>Variance</th><td>   2.864705</td></tr>\n",
       "\t<tr><th scope=row>Stdev</th><td>   1.692544</td></tr>\n",
       "\t<tr><th scope=row>Skewness</th><td>   0.061399</td></tr>\n",
       "\t<tr><th scope=row>Kurtosis</th><td>   9.916359</td></tr>\n",
       "</tbody>\n",
       "</table>\n"
      ],
      "text/latex": [
       "\\begin{tabular}{r|l}\n",
       "  & sibm\\\\\n",
       "\\hline\n",
       "\tnobs & 9845.000000\\\\\n",
       "\tNAs &    0.000000\\\\\n",
       "\tMinimum &  -22.963000\\\\\n",
       "\tMaximum &   13.163600\\\\\n",
       "\t1. Quartile &   -0.857100\\\\\n",
       "\t3. Quartile &    0.883300\\\\\n",
       "\tMean &    0.040161\\\\\n",
       "\tMedian &    0.000000\\\\\n",
       "\tSum &  395.387600\\\\\n",
       "\tSE Mean &    0.017058\\\\\n",
       "\tLCL Mean &    0.006724\\\\\n",
       "\tUCL Mean &    0.073599\\\\\n",
       "\tVariance &    2.864705\\\\\n",
       "\tStdev &    1.692544\\\\\n",
       "\tSkewness &    0.061399\\\\\n",
       "\tKurtosis &    9.916359\\\\\n",
       "\\end{tabular}\n"
      ],
      "text/markdown": [
       "\n",
       "| <!--/--> | sibm | \n",
       "|---|---|---|---|---|---|---|---|---|---|---|---|---|---|---|---|\n",
       "| nobs | 9845.000000 | \n",
       "| NAs |    0.000000 | \n",
       "| Minimum |  -22.963000 | \n",
       "| Maximum |   13.163600 | \n",
       "| 1. Quartile |   -0.857100 | \n",
       "| 3. Quartile |    0.883300 | \n",
       "| Mean |    0.040161 | \n",
       "| Median |    0.000000 | \n",
       "| Sum |  395.387600 | \n",
       "| SE Mean |    0.017058 | \n",
       "| LCL Mean |    0.006724 | \n",
       "| UCL Mean |    0.073599 | \n",
       "| Variance |    2.864705 | \n",
       "| Stdev |    1.692544 | \n",
       "| Skewness |    0.061399 | \n",
       "| Kurtosis |    9.916359 | \n",
       "\n",
       "\n"
      ],
      "text/plain": [
       "            sibm       \n",
       "nobs        9845.000000\n",
       "NAs            0.000000\n",
       "Minimum      -22.963000\n",
       "Maximum       13.163600\n",
       "1. Quartile   -0.857100\n",
       "3. Quartile    0.883300\n",
       "Mean           0.040161\n",
       "Median         0.000000\n",
       "Sum          395.387600\n",
       "SE Mean        0.017058\n",
       "LCL Mean       0.006724\n",
       "UCL Mean       0.073599\n",
       "Variance       2.864705\n",
       "Stdev          1.692544\n",
       "Skewness       0.061399\n",
       "Kurtosis       9.916359"
      ]
     },
     "metadata": {},
     "output_type": "display_data"
    },
    {
     "data": {
      "text/plain": [
       "\n",
       "\tOne Sample t-test\n",
       "\n",
       "data:  libm\n",
       "t = 1.5126, df = 9844, p-value = 0.1304\n",
       "alternative hypothesis: true mean is not equal to 0\n",
       "95 percent confidence interval:\n",
       " -0.007641473  0.059290531\n",
       "sample estimates:\n",
       " mean of x \n",
       "0.02582453 \n"
      ]
     },
     "metadata": {},
     "output_type": "display_data"
    },
    {
     "data": {
      "text/plain": [
       "\n",
       "Title:\n",
       " Jarque - Bera Normalality Test\n",
       "\n",
       "Test Results:\n",
       "  STATISTIC:\n",
       "    X-squared: 60921.9343\n",
       "  P VALUE:\n",
       "    Asymptotic p Value: < 2.2e-16 \n",
       "\n",
       "Description:\n",
       " Thu Aug 24 22:53:14 2017 by user: Harbes\n"
      ]
     },
     "metadata": {},
     "output_type": "display_data"
    }
   ],
   "source": [
    "#install.packages('fBasics')\n",
    "library(fBasics)\n",
    "data=read.table('d-ibm3dx7008.txt',header=T)\n",
    "dim(data)\n",
    "head(data,5)\n",
    "ibm=data[,2]\n",
    "sibm=ibm*100\n",
    "basicStats(sibm)\n",
    "ibm=data[,2]\n",
    "sibm=ibm*100\n",
    "basicStats(sibm)\n",
    "libm=log(1+ibm)*100\n",
    "t.test(libm)#对样本均值的t检验\n",
    "normalTest(libm,method='jb')"
   ]
  },
  {
   "cell_type": "markdown",
   "metadata": {
    "collapsed": true
   },
   "source": [
    "## 第2章 linear time series analysis and its application"
   ]
  },
  {
   "cell_type": "code",
   "execution_count": null,
   "metadata": {
    "collapsed": true
   },
   "outputs": [],
   "source": [
    "# Ljung-Box Q-statistics(Ljung-Box test):自相关系数是否联合等于0的联合检验\n",
    "m=round(log(length(sibm)))\n",
    "Box.test(sibm,lag=m,type='Ljung')\n",
    "Box.test(libm,lag=m,type='Ljung')"
   ]
  },
  {
   "cell_type": "code",
   "execution_count": null,
   "metadata": {
    "collapsed": true
   },
   "outputs": [],
   "source": [
    "gnp=scan(file='dgnp82.txt')\n",
    "gnp1=ts(gnp,frequency=4,start=c(1947,2))\n",
    "plot(gnp1)\n",
    "points(gnp1)"
   ]
  },
  {
   "cell_type": "code",
   "execution_count": null,
   "metadata": {
    "collapsed": true
   },
   "outputs": [],
   "source": [
    "acf(gnp1)\n",
    "pacf(gnp1)#偏自相关系数振荡衰减？"
   ]
  },
  {
   "cell_type": "code",
   "execution_count": null,
   "metadata": {
    "collapsed": true
   },
   "outputs": [],
   "source": [
    "m1=ar(gnp,method='mle')#初步探索AR阶数\n",
    "m1$aic\n",
    "m1$order#对应aic最小的那个\n"
   ]
  },
  {
   "cell_type": "code",
   "execution_count": null,
   "metadata": {
    "collapsed": true
   },
   "outputs": [],
   "source": [
    "m2=arima(gnp,order=c(3,0,0))#利用初步探索的结果进行参数估计\n",
    "m2\n",
    "sqrt(m2$sigma2)#残差标准差"
   ]
  },
  {
   "cell_type": "code",
   "execution_count": null,
   "metadata": {
    "collapsed": true
   },
   "outputs": [],
   "source": [
    "p1=c(1,-m2$coef[1:3])#特征方程的系数\n",
    "roots=polyroot(p1)#特征方程的根\n",
    "roots\n",
    "Mod(roots)\n",
    "k=2*pi/acos(1.590253/1.913308)#计算经济周期的平均长度\n",
    "k"
   ]
  },
  {
   "cell_type": "code",
   "execution_count": null,
   "metadata": {
    "collapsed": true
   },
   "outputs": [],
   "source": [
    "data=read.table('d-ibm3dx7008.txt',header=T)\n",
    "vw=data[,3]\n",
    "#acf(vw)\n",
    "#pacf(vw)\n",
    "#m3_tmp=arima(vw,order=c(4,0,2))#结果不理想\n",
    "#Box.test(m3_tmp$residuals,lag=12,type='Ljung')\n",
    "#(ar(vw,method='mle'))$order#12\n",
    "m3=arima(vw,order=c(12,0,0))#很可能存在过度拟合，尝试引入MA\n",
    "m3\n",
    "Box.test(m3$residuals,lag=12,type='Ljung')#d检查残差是否是一个白噪声#df=9的p-value：pv=1-pchisq(0.19409,9)=0.999999512374561\n",
    "#ar5,ar6,ar7,ar8,ar9,ar10都不显著\n",
    "m3=arima(vw,order=c(12,0,0),fixed=c(NA,NA,NA,NA,0,0,0,0,0,0,NA,NA,NA))#记住：不要遗漏常数项，即共有13个设定\n",
    "m3\n",
    "Box.test(m3$residuals,lag=12,type='Ljung')"
   ]
  },
  {
   "cell_type": "code",
   "execution_count": null,
   "metadata": {
    "collapsed": true
   },
   "outputs": [],
   "source": [
    "#用acf和pacf来确定ARMA的阶数是不充分的，Tsay和Tiao(1984)提出了EACF判断ARMA阶数\n",
    "library(TSA)\n",
    "library(lmtest)\n",
    "eacf(vw)#效果不显著，可能要引入异方差模型"
   ]
  },
  {
   "cell_type": "code",
   "execution_count": null,
   "metadata": {
    "collapsed": true
   },
   "outputs": [],
   "source": [
    "library(tseries)#fUnitRoots包中有个adfTest()\n",
    "data=read.table(\"q-gdpc96.txt\",header=T)\n",
    "gdp=log(data[,4])\n",
    "dgdp=diff(gdp)*100\n",
    "m1=ar(dgdp,method='mle')\n",
    "m1$order\n",
    "adf.test(gdp,k=10)#自动去除趋势成分\n",
    "#adfTest(gdp,lags=10,type=c(\"c))\n",
    "adf.test(dgdp,k=10)"
   ]
  },
  {
   "cell_type": "code",
   "execution_count": null,
   "metadata": {
    "collapsed": true
   },
   "outputs": [],
   "source": [
    "jan=rep(c(1,rep(0,11)),39)\n",
    "jan"
   ]
  },
  {
   "cell_type": "code",
   "execution_count": null,
   "metadata": {
    "collapsed": true
   },
   "outputs": [],
   "source": []
  },
  {
   "cell_type": "code",
   "execution_count": null,
   "metadata": {
    "collapsed": true
   },
   "outputs": [],
   "source": []
  },
  {
   "cell_type": "code",
   "execution_count": null,
   "metadata": {
    "collapsed": true
   },
   "outputs": [],
   "source": []
  },
  {
   "cell_type": "code",
   "execution_count": null,
   "metadata": {
    "collapsed": true
   },
   "outputs": [],
   "source": []
  }
 ],
 "metadata": {
  "kernelspec": {
   "display_name": "R",
   "language": "R",
   "name": "ir"
  },
  "language_info": {
   "codemirror_mode": "r",
   "file_extension": ".r",
   "mimetype": "text/x-r-source",
   "name": "R",
   "pygments_lexer": "r",
   "version": "3.4.1"
  }
 },
 "nbformat": 4,
 "nbformat_minor": 1
}
