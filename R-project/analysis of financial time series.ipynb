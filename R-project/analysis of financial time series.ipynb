{
 "cells": [
  {
   "cell_type": "markdown",
   "metadata": {},
   "source": [
    "# Book: Analysis of financial time series"
   ]
  },
  {
   "cell_type": "markdown",
   "metadata": {},
   "source": [
    "## 第1章 financial time series and their characteristics"
   ]
  },
  {
   "cell_type": "code",
   "execution_count": 1,
   "metadata": {},
   "outputs": [
    {
     "ename": "ERROR",
     "evalue": "Error in library(fBasics): there is no package called ‘fBasics’\n",
     "output_type": "error",
     "traceback": [
      "Error in library(fBasics): there is no package called ‘fBasics’\nTraceback:\n",
      "1. library(fBasics)",
      "2. stop(txt, domain = NA)"
     ]
    }
   ],
   "source": [
    "#install.packages('fBasics')\n",
    "library(fBasics)\n",
    "data=read.table('d-ibm3dx7008.txt',header=T)\n",
    "dim(data)\n",
    "head(data,5)\n",
    "ibm=data[,2]\n",
    "sibm=ibm*100\n",
    "basicStats(sibm)\n",
    "ibm=data[,2]\n",
    "sibm=ibm*100\n",
    "basicStats(sibm)\n",
    "libm=log(1+ibm)*100\n",
    "t.test(libm)#对样本均值的t检验\n",
    "normalTest(libm,method='jb')"
   ]
  },
  {
   "cell_type": "markdown",
   "metadata": {
    "collapsed": true
   },
   "source": [
    "## 第2章 linear time series analysis and its application"
   ]
  },
  {
   "cell_type": "code",
   "execution_count": null,
   "metadata": {
    "collapsed": true
   },
   "outputs": [],
   "source": [
    "# Ljung-Box Q-statistics(Ljung-Box test):自相关系数是否联合等于0的联合检验\n",
    "m=round(log(length(sibm)))\n",
    "Box.test(sibm,lag=m,type='Ljung')\n",
    "Box.test(libm,lag=m,type='Ljung')"
   ]
  },
  {
   "cell_type": "code",
   "execution_count": null,
   "metadata": {
    "collapsed": true
   },
   "outputs": [],
   "source": [
    "gnp=scan(file='dgnp82.txt')\n",
    "gnp1=ts(gnp,frequency=4,start=c(1947,2))\n",
    "plot(gnp1)\n",
    "points(gnp1)"
   ]
  },
  {
   "cell_type": "code",
   "execution_count": null,
   "metadata": {
    "collapsed": true
   },
   "outputs": [],
   "source": [
    "acf(gnp1)\n",
    "pacf(gnp1)#偏自相关系数振荡衰减？"
   ]
  },
  {
   "cell_type": "code",
   "execution_count": null,
   "metadata": {
    "collapsed": true
   },
   "outputs": [],
   "source": [
    "m1=ar(gnp,method='mle')#初步探索AR阶数\n",
    "m1$aic\n",
    "m1$order#对应aic最小的那个\n"
   ]
  },
  {
   "cell_type": "code",
   "execution_count": null,
   "metadata": {
    "collapsed": true
   },
   "outputs": [],
   "source": [
    "m2=arima(gnp,order=c(3,0,0))#利用初步探索的结果进行参数估计\n",
    "m2\n",
    "sqrt(m2$sigma2)#残差标准差"
   ]
  },
  {
   "cell_type": "code",
   "execution_count": null,
   "metadata": {
    "collapsed": true
   },
   "outputs": [],
   "source": [
    "p1=c(1,-m2$coef[1:3])#特征方程的系数\n",
    "roots=polyroot(p1)#特征方程的根\n",
    "roots\n",
    "Mod(roots)\n",
    "k=2*pi/acos(1.590253/1.913308)#计算经济周期的平均长度\n",
    "k"
   ]
  },
  {
   "cell_type": "code",
   "execution_count": null,
   "metadata": {
    "collapsed": true
   },
   "outputs": [],
   "source": [
    "data=read.table('d-ibm3dx7008.txt',header=T)\n",
    "vw=data[,3]\n",
    "#acf(vw)\n",
    "#pacf(vw)\n",
    "#m3_tmp=arima(vw,order=c(4,0,2))#结果不理想\n",
    "#Box.test(m3_tmp$residuals,lag=12,type='Ljung')\n",
    "#(ar(vw,method='mle'))$order#12\n",
    "m3=arima(vw,order=c(12,0,0))#很可能存在过度拟合，尝试引入MA\n",
    "m3\n",
    "Box.test(m3$residuals,lag=12,type='Ljung')#d检查残差是否是一个白噪声#df=9的p-value：pv=1-pchisq(0.19409,9)=0.999999512374561\n",
    "#ar5,ar6,ar7,ar8,ar9,ar10都不显著\n",
    "m3=arima(vw,order=c(12,0,0),fixed=c(NA,NA,NA,NA,0,0,0,0,0,0,NA,NA,NA))#记住：不要遗漏常数项，即共有13个设定\n",
    "m3\n",
    "Box.test(m3$residuals,lag=12,type='Ljung')"
   ]
  },
  {
   "cell_type": "code",
   "execution_count": null,
   "metadata": {
    "collapsed": true
   },
   "outputs": [],
   "source": [
    "#用acf和pacf来确定ARMA的阶数是不充分的，Tsay和Tiao(1984)提出了EACF判断ARMA阶数\n",
    "library(TSA)\n",
    "library(lmtest)\n",
    "eacf(vw)#效果不显著，可能要引入异方差模型"
   ]
  },
  {
   "cell_type": "code",
   "execution_count": null,
   "metadata": {
    "collapsed": true
   },
   "outputs": [],
   "source": [
    "library(tseries)#fUnitRoots包中有个adfTest()\n",
    "data=read.table(\"q-gdpc96.txt\",header=T)\n",
    "gdp=log(data[,4])\n",
    "dgdp=diff(gdp)*100\n",
    "m1=ar(dgdp,method='mle')\n",
    "m1$order\n",
    "adf.test(gdp,k=10)#自动去除趋势成分\n",
    "#adfTest(gdp,lags=10,type=c(\"c))\n",
    "adf.test(dgdp,k=10)"
   ]
  },
  {
   "cell_type": "code",
   "execution_count": null,
   "metadata": {
    "collapsed": true
   },
   "outputs": [],
   "source": [
    "jan=rep(c(1,rep(0,11)),39)\n",
    "jan"
   ]
  },
  {
   "cell_type": "code",
   "execution_count": null,
   "metadata": {
    "collapsed": true
   },
   "outputs": [],
   "source": []
  },
  {
   "cell_type": "code",
   "execution_count": null,
   "metadata": {
    "collapsed": true
   },
   "outputs": [],
   "source": []
  },
  {
   "cell_type": "code",
   "execution_count": null,
   "metadata": {
    "collapsed": true
   },
   "outputs": [],
   "source": []
  },
  {
   "cell_type": "code",
   "execution_count": null,
   "metadata": {
    "collapsed": true
   },
   "outputs": [],
   "source": []
  }
 ],
 "metadata": {
  "kernelspec": {
   "display_name": "R",
   "language": "R",
   "name": "ir"
  },
  "language_info": {
   "codemirror_mode": "r",
   "file_extension": ".r",
   "mimetype": "text/x-r-source",
   "name": "R",
   "pygments_lexer": "r",
   "version": "3.4.1"
  }
 },
 "nbformat": 4,
 "nbformat_minor": 1
}
