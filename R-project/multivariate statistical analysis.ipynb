{
 "cells": [
  {
   "cell_type": "markdown",
   "metadata": {},
   "source": [
    "# 主题：多元统计分析\n",
    "#### 参考教材：\n",
    "* 应用多元统计分析。Wolfgang Hardle; Leopold Simar\n",
    "* 实用多元统计分析。Richard A.Johnson; Dean W.Wichern"
   ]
  },
  {
   "cell_type": "code",
   "execution_count": null,
   "metadata": {
    "collapsed": true
   },
   "outputs": [],
   "source": [
    "#如果使用python，则需要先使用下面的命令\n",
    "#%load_ext rpy2.ipython\n",
    "# 而且，调用R时，前面都要加上“%%R”"
   ]
  },
  {
   "cell_type": "markdown",
   "metadata": {},
   "source": [
    "## 第1章：批量数据比较\n",
    "### 1.1 几种常见的图形"
   ]
  },
  {
   "cell_type": "code",
   "execution_count": null,
   "metadata": {
    "collapsed": true
   },
   "outputs": [],
   "source": [
    "# 导入数据\n",
    "library(gdata)\n",
    "data= read.xls(\"F:/python/R-project/mvstats.xls\",sheet='d3.1',perl=\"C:\\\\Strawberry\\\\perl\\\\bin\\\\perl.exe\",fileEncoding='utf-8',header=TRUE)#,stringsAsFactors=FALSE\n",
    "# 另一种形式：data<- read.xls(\"F:/python/R-project/mvcase.xls\",sheet=3,perl=\"C:\\\\Strawberry\\\\perl\\\\bin\\\\perl.exe\",fileEncoding='utf-8')\n",
    "row.names(data)=data$X\n",
    "data=subset(data,select=-X)\n",
    "tail(data)\n",
    "summary(data)\n",
    "\n",
    "##\n",
    "barplot(apply(data,1,mean)) # 条形图\n",
    "barplot(apply(data,2,mean))\n",
    "barplot(apply(data,2,median))\n",
    "#\n",
    "pie(apply(data,2,mean))   # 饼图\n",
    "#\n",
    "boxplot(data)    # 箱形图\n",
    "boxplot(data,horizontal=T)\n",
    "#\n",
    "stars(data,full=T) # 星相图 stars(data,full=TRUE,draw.segments=FALSE,...)。其中，full表示单个整体使用圆形还是半圆；draw.segments表示分支形状为圆形还是半圆\n",
    "stars(data,full=F,draw.segments=T)\n",
    "#\n",
    "library(DescTools) # 脸谱图需要先加载DescTools包\n",
    "PlotFaces(data)\n",
    "#\n",
    "library(andrews)  # 绘制调和曲线所需要的包\n",
    "andrews(data)"
   ]
  },
  {
   "cell_type": "markdown",
   "metadata": {},
   "source": [
    "## 第2章：矩阵代数"
   ]
  },
  {
   "cell_type": "markdown",
   "metadata": {},
   "source": [
    "## 第3章：转向高维数据"
   ]
  },
  {
   "cell_type": "markdown",
   "metadata": {},
   "source": [
    "## 第4章：多元分布"
   ]
  },
  {
   "cell_type": "markdown",
   "metadata": {},
   "source": [
    "## 第5章：均值向量的推断与比较"
   ]
  },
  {
   "cell_type": "markdown",
   "metadata": {},
   "source": [
    "## 第6章：估计理论与假设检验"
   ]
  },
  {
   "cell_type": "markdown",
   "metadata": {},
   "source": [
    "## 第7章：多元线性回归模型"
   ]
  },
  {
   "cell_type": "markdown",
   "metadata": {},
   "source": [
    "## 第8章：因子方法"
   ]
  },
  {
   "cell_type": "markdown",
   "metadata": {},
   "source": [
    "## 第9章：判别与分类"
   ]
  },
  {
   "cell_type": "code",
   "execution_count": null,
   "metadata": {
    "collapsed": true
   },
   "outputs": [],
   "source": []
  },
  {
   "cell_type": "code",
   "execution_count": null,
   "metadata": {
    "collapsed": true
   },
   "outputs": [],
   "source": [
    "# 一个引子\n",
    "wines <- read.table(\"http://archive.ics.uci.edu/ml/machine-learning-databases/wine/wine.data\",sep = \",\")\n",
    "colnames(wines)<-c('Class','Alcohol','Malic','Ash','Alcal','Mg','Phenol','Flav','Nonf','Proan','Color','Hue','Abs','Proline')\n",
    "colors<-c('green','red','blue')[wines[,1]]\n",
    "newwine<-cbind(jitter(as.integer(wines[,1])),wines[,-1])\n",
    "names(newwine)[1]=names(wines)[1]\n",
    "pairs(newwine,pch=16,cex=.3,gap=0,col=colors,xaxt='n',yaxt='n')"
   ]
  },
  {
   "cell_type": "code",
   "execution_count": null,
   "metadata": {},
   "outputs": [],
   "source": [
    "# 多项逻辑回归\n",
    "require(nnet)\n",
    "wines$Class<-as.factor(wines$Class)\n",
    "wines$rClass=relevel(wines$Class,ref=2)\n",
    "winelogit=multinom(rClass~Alcohol+Ash+Alcal+Abs+Proline,data=wines,maxit=200)\n",
    "print(ws<-summary(winelogit),digits=4)\n",
    "tratio<-ws$coefficients/ws$standard.errors\n",
    "print(2*(1-pt(abs(tratio),df=ws$edf)),digits=4)"
   ]
  },
  {
   "cell_type": "code",
   "execution_count": null,
   "metadata": {},
   "outputs": [],
   "source": [
    "# 线性判别分析1\n",
    "library(gdata)\n",
    "data= read.xls(\"F:/python/R-project/mvstats.xls\",sheet='d6.1',perl=\"C:\\\\Strawberry\\\\perl\\\\bin\\\\perl.exe\",fileEncoding='utf-8',header=TRUE)#,stringsAsFactors=FALSE\n",
    "head(data)\n",
    "#\n",
    "attach(data)\n",
    "plot(x1,x2);text(x1,x2,G,adj=-0.5)\n",
    "\n",
    "#\n",
    "library(MASS)\n",
    "(ld=lda(G~x1+x2))\n",
    "Z=predict(ld)\n",
    "newG=Z$class\n",
    "cbind(G,Z$x,newG)\n",
    "(tab=table(G,newG)) # 注意，外面加一个括号，会print结果\n",
    "sum(diag(prop.table(tab)))"
   ]
  },
  {
   "cell_type": "code",
   "execution_count": null,
   "metadata": {},
   "outputs": [],
   "source": [
    "# 线性判别分析2\n",
    "wines <- read.table(\"http://archive.ics.uci.edu/ml/machine-learning-databases/wine/wine.data\",sep = \",\")\n",
    "colnames(wines)<-c('Class','Alcohol','Malic','Ash','Alcal','Mg','Phenol','Flav','Nonf','Proan','Color','Hue','Abs','Proline')\n",
    "library(MASS)\n",
    "ld<-lda(Class~.,data=wines)\n",
    "loading<-as.matrix(wines[,2:14])%*%ld$scaling\n",
    "plot(loading,col=c(6,2,4)[wines[,1]],pch=16,cex=1.25,xlab='Fisrt linear discriminator',ylab='Second linear discriminator')\n",
    "# 给每一类添加标记\n",
    "for (i in 1:3){\n",
    "    centx<-mean(loading[wines[,1]==i,][,1])\n",
    "    centy<-mean(loading[wines[,1]==i,][,2])\n",
    "    text(centx,centy,i,cex=2)\n",
    "              }"
   ]
  },
  {
   "cell_type": "code",
   "execution_count": null,
   "metadata": {
    "scrolled": true
   },
   "outputs": [],
   "source": [
    "#支持向量机\n",
    "library(kernlab)\n",
    "library(mvtnorm)\n",
    "x<-rmvnorm(n=250,mean=c(0,0),sigma=matrix(c(1,0.1,0.1,1),2,2))\n",
    "wavy<-sin(pi*x[,1])/2\n",
    "include<-(abs(wavy-x[,2])>0.25)\n",
    "x<-x[include,]\n",
    "wavy<-wavy[include]\n",
    "group<-1+(x[,2]>wavy)\n",
    "all<-data.frame(x=x[,c(2,1)],group=group)\n",
    "colnames(all)<-c('x2','x1','group')\n",
    "sv<-ksvm(group~.,data=all,type='C-svc')\n",
    "plot(sv,data=all)"
   ]
  },
  {
   "cell_type": "code",
   "execution_count": null,
   "metadata": {},
   "outputs": [],
   "source": [
    "## 回归树\n",
    "library(MASS)\n",
    "data(crabs)\n",
    "#crabs[c(1,51,101,151),]\n",
    "group<-1+2*(crabs[,1]=='0')+(crabs[,2]=='F')\n",
    "groupch=c('B','b','O','o')[group]\n",
    "cg<-cbind(crabs,group,groupch)\n",
    "#cg[c(1,51,101,151),]\n",
    "library(mvpart)\n",
    "crabtree<-mvpart(groupch~FL+RW+CL+CW+BD,data=cg,method='class',size=7)"
   ]
  },
  {
   "cell_type": "markdown",
   "metadata": {},
   "source": [
    "## 第10章：聚类"
   ]
  },
  {
   "cell_type": "code",
   "execution_count": null,
   "metadata": {
    "collapsed": true
   },
   "outputs": [],
   "source": []
  },
  {
   "cell_type": "markdown",
   "metadata": {
    "collapsed": true
   },
   "source": [
    "## 其他"
   ]
  },
  {
   "cell_type": "code",
   "execution_count": null,
   "metadata": {
    "collapsed": true
   },
   "outputs": [],
   "source": []
  },
  {
   "cell_type": "code",
   "execution_count": null,
   "metadata": {
    "collapsed": true
   },
   "outputs": [],
   "source": []
  },
  {
   "cell_type": "code",
   "execution_count": null,
   "metadata": {
    "collapsed": true
   },
   "outputs": [],
   "source": [
    "wines"
   ]
  },
  {
   "cell_type": "code",
   "execution_count": null,
   "metadata": {
    "collapsed": true
   },
   "outputs": [],
   "source": [
    "circlize::chordDiagram(matrix(sample(10), \n",
    "                              nrow = 2, ncol = 5))"
   ]
  },
  {
   "cell_type": "code",
   "execution_count": null,
   "metadata": {
    "collapsed": true
   },
   "outputs": [],
   "source": []
  }
 ],
 "metadata": {
  "kernelspec": {
   "display_name": "R",
   "language": "R",
   "name": "ir"
  },
  "language_info": {
   "codemirror_mode": "r",
   "file_extension": ".r",
   "mimetype": "text/x-r-source",
   "name": "R",
   "pygments_lexer": "r",
   "version": "3.4.1"
  }
 },
 "nbformat": 4,
 "nbformat_minor": 2
}
