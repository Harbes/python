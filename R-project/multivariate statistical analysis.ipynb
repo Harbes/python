{
 "cells": [
  {
   "cell_type": "markdown",
   "metadata": {},
   "source": [
    "# 主题：多元统计分析\n",
    "#### 参考教材：\n",
    "* 应用多元统计分析。Wolfgang Hardle; Leopold Simar\n",
    "* 实用多元统计分析。Richard A.Johnson; Dean W.Wichern"
   ]
  },
  {
   "cell_type": "code",
   "execution_count": 1,
   "metadata": {
    "collapsed": true
   },
   "outputs": [],
   "source": [
    "#如果使用python，则需要先使用下面的命令\n",
    "#%load_ext rpy2.ipython\n",
    "# 而且，调用R时，前面都要加上“%%R”"
   ]
  },
  {
   "cell_type": "code",
   "execution_count": 3,
   "metadata": {},
   "outputs": [
    {
     "data": {
      "text/html": [
       "<table>\n",
       "<thead><tr><th scope=col>X</th><th scope=col>x1</th><th scope=col>x2</th><th scope=col>x3</th><th scope=col>x4</th></tr></thead>\n",
       "<tbody>\n",
       "\t<tr><td>广州市 </td><td>1486.05</td><td>478.55 </td><td>1454.67</td><td> 31.75 </td></tr>\n",
       "\t<tr><td>韶关市 </td><td>  28.55</td><td>  7.56 </td><td>  27.75</td><td>  0.77 </td></tr>\n",
       "\t<tr><td>深圳市 </td><td>3266.52</td><td>940.86 </td><td>3120.18</td><td>350.60 </td></tr>\n",
       "\t<tr><td>珠海市 </td><td> 465.07</td><td> 74.60 </td><td> 447.08</td><td> 37.74 </td></tr>\n",
       "\t<tr><td>汕头市 </td><td> 147.73</td><td> 43.80 </td><td> 140.01</td><td>  5.39 </td></tr>\n",
       "\t<tr><td>佛山市 </td><td> 930.49</td><td>191.99 </td><td> 891.08</td><td> 45.63 </td></tr>\n",
       "</tbody>\n",
       "</table>\n"
      ],
      "text/latex": [
       "\\begin{tabular}{r|lllll}\n",
       " X & x1 & x2 & x3 & x4\\\\\n",
       "\\hline\n",
       "\t 广州市  & 1486.05 & 478.55  & 1454.67 &  31.75 \\\\\n",
       "\t 韶关市  &   28.55 &   7.56  &   27.75 &   0.77 \\\\\n",
       "\t 深圳市  & 3266.52 & 940.86  & 3120.18 & 350.60 \\\\\n",
       "\t 珠海市  &  465.07 &  74.60  &  447.08 &  37.74 \\\\\n",
       "\t 汕头市  &  147.73 &  43.80  &  140.01 &   5.39 \\\\\n",
       "\t 佛山市  &  930.49 & 191.99  &  891.08 &  45.63 \\\\\n",
       "\\end{tabular}\n"
      ],
      "text/markdown": [
       "\n",
       "X | x1 | x2 | x3 | x4 | \n",
       "|---|---|---|---|---|---|\n",
       "| 广州市  | 1486.05 | 478.55  | 1454.67 |  31.75  | \n",
       "| 韶关市  |   28.55 |   7.56  |   27.75 |   0.77  | \n",
       "| 深圳市  | 3266.52 | 940.86  | 3120.18 | 350.60  | \n",
       "| 珠海市  |  465.07 |  74.60  |  447.08 |  37.74  | \n",
       "| 汕头市  |  147.73 |  43.80  |  140.01 |   5.39  | \n",
       "| 佛山市  |  930.49 | 191.99  |  891.08 |  45.63  | \n",
       "\n",
       "\n"
      ],
      "text/plain": [
       "  X      x1      x2     x3      x4    \n",
       "1 广州市 1486.05 478.55 1454.67  31.75\n",
       "2 韶关市   28.55   7.56   27.75   0.77\n",
       "3 深圳市 3266.52 940.86 3120.18 350.60\n",
       "4 珠海市  465.07  74.60  447.08  37.74\n",
       "5 汕头市  147.73  43.80  140.01   5.39\n",
       "6 佛山市  930.49 191.99  891.08  45.63"
      ]
     },
     "metadata": {},
     "output_type": "display_data"
    }
   ],
   "source": [
    "library(gdata)\n",
    "data<- read.xls(\"F:/python/R-project/mvcase.xls\",sheet='E3.2',perl=\"C:\\\\Strawberry\\\\perl\\\\bin\\\\perl.exe\",fileEncoding='utf-8')\n",
    "# data<- read.xls(\"F:/python/R-project/mvcase.xls\",sheet=3,perl=\"C:\\\\Strawberry\\\\perl\\\\bin\\\\perl.exe\",fileEncoding='utf-8')\n",
    "head(data) "
   ]
  },
  {
   "cell_type": "code",
   "execution_count": 37,
   "metadata": {},
   "outputs": [],
   "source": [
    "%%R\n"
   ]
  },
  {
   "cell_type": "code",
   "execution_count": 39,
   "metadata": {
    "collapsed": true
   },
   "outputs": [],
   "source": []
  },
  {
   "cell_type": "code",
   "execution_count": 40,
   "metadata": {},
   "outputs": [
    {
     "data": {
      "text/plain": [
       "array([[1465],\n",
       "       [1760],\n",
       "       [1985],\n",
       "       [2270],\n",
       "       [2980],\n",
       "       [1375],\n",
       "       [1735],\n",
       "       [1940],\n",
       "       [2220],\n",
       "       [2670],\n",
       "       [1405],\n",
       "       [1755],\n",
       "       [1965],\n",
       "       [2240],\n",
       "       [2820],\n",
       "       [1295],\n",
       "       [1645],\n",
       "       [1880],\n",
       "       [2110],\n",
       "       [2550],\n",
       "       [1355],\n",
       "       [1710],\n",
       "       [1910],\n",
       "       [2190],\n",
       "       [2600],\n",
       "       [1265],\n",
       "       [1625],\n",
       "       [1865],\n",
       "       [2095],\n",
       "       [2520],\n",
       "       [1225],\n",
       "       [1605],\n",
       "       [1845],\n",
       "       [2040],\n",
       "       [2430],\n",
       "       [1175],\n",
       "       [1595],\n",
       "       [1835],\n",
       "       [2030],\n",
       "       [2370],\n",
       "       [1000],\n",
       "       [1535],\n",
       "       [1810],\n",
       "       [2010],\n",
       "       [2290],\n",
       "       [1125],\n",
       "       [1575],\n",
       "       [1815],\n",
       "       [2030],\n",
       "       [2320]])"
      ]
     },
     "execution_count": 40,
     "metadata": {},
     "output_type": "execute_result"
    }
   ],
   "source": []
  },
  {
   "cell_type": "code",
   "execution_count": null,
   "metadata": {
    "collapsed": true
   },
   "outputs": [],
   "source": []
  }
 ],
 "metadata": {
  "kernelspec": {
   "display_name": "R",
   "language": "R",
   "name": "ir"
  },
  "language_info": {
   "codemirror_mode": "r",
   "file_extension": ".r",
   "mimetype": "text/x-r-source",
   "name": "R",
   "pygments_lexer": "r",
   "version": "3.4.1"
  }
 },
 "nbformat": 4,
 "nbformat_minor": 2
}
