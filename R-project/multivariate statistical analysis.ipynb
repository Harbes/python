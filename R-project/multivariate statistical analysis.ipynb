{
 "cells": [
  {
   "cell_type": "markdown",
   "metadata": {},
   "source": [
    "# 主题：多元统计分析\n",
    "#### 参考教材：\n",
    "* 应用多元统计分析。Wolfgang Hardle; Leopold Simar\n",
    "* 实用多元统计分析。Richard A.Johnson; Dean W.Wichern"
   ]
  },
  {
   "cell_type": "code",
   "execution_count": 1,
   "metadata": {
    "collapsed": true
   },
   "outputs": [],
   "source": [
    "#如果使用python，则需要先使用下面的命令\n",
    "#%load_ext rpy2.ipython\n",
    "# 而且，调用R时，前面都要加上“%%R”"
   ]
  },
  {
   "cell_type": "markdown",
   "metadata": {},
   "source": [
    "## 第一章：批量数据比较\n",
    "### 1.1 几种常见的图形"
   ]
  },
  {
   "cell_type": "code",
   "execution_count": 44,
   "metadata": {},
   "outputs": [
    {
     "data": {
      "text/html": [
       "<table>\n",
       "<thead><tr><th></th><th scope=col>X</th><th scope=col>食品</th><th scope=col>衣着</th><th scope=col>设备</th><th scope=col>医疗</th><th scope=col>交通</th><th scope=col>教育</th><th scope=col>居住</th><th scope=col>杂项</th></tr></thead>\n",
       "<tbody>\n",
       "\t<tr><th scope=row>26</th><td> 西藏  </td><td>3836.51</td><td> 880.10</td><td>271.29 </td><td>272.81 </td><td>866.33 </td><td> 441.02</td><td>628.35 </td><td>335.66 </td></tr>\n",
       "\t<tr><th scope=row>27</th><td> 陕西  </td><td>3063.69</td><td> 910.29</td><td>513.08 </td><td>678.38 </td><td>866.76 </td><td>1230.74</td><td>831.27 </td><td>332.84 </td></tr>\n",
       "\t<tr><th scope=row>28</th><td> 甘肃  </td><td>2824.42</td><td> 939.89</td><td>505.16 </td><td>564.25 </td><td>861.47 </td><td>1058.66</td><td>768.28 </td><td>353.65 </td></tr>\n",
       "\t<tr><th scope=row>29</th><td> 青海  </td><td>2803.45</td><td> 898.54</td><td>484.71 </td><td>613.24 </td><td>785.27 </td><td> 953.87</td><td>641.93 </td><td>331.38 </td></tr>\n",
       "\t<tr><th scope=row>30</th><td> 宁夏  </td><td>2760.74</td><td> 994.47</td><td>480.84 </td><td>645.98 </td><td>859.04 </td><td> 863.36</td><td>910.68 </td><td>302.17 </td></tr>\n",
       "\t<tr><th scope=row>31</th><td> 新疆  </td><td>2760.69</td><td>1183.69</td><td>475.23 </td><td>598.78 </td><td>890.30 </td><td> 896.79</td><td>736.99 </td><td>331.80 </td></tr>\n",
       "</tbody>\n",
       "</table>\n"
      ],
      "text/latex": [
       "\\begin{tabular}{r|lllllllll}\n",
       "  & X & 食品 & 衣着 & 设备 & 医疗 & 交通 & 教育 & 居住 & 杂项\\\\\n",
       "\\hline\n",
       "\t26 &  西藏   & 3836.51 &  880.10 & 271.29  & 272.81  & 866.33  &  441.02 & 628.35  & 335.66 \\\\\n",
       "\t27 &  陕西   & 3063.69 &  910.29 & 513.08  & 678.38  & 866.76  & 1230.74 & 831.27  & 332.84 \\\\\n",
       "\t28 &  甘肃   & 2824.42 &  939.89 & 505.16  & 564.25  & 861.47  & 1058.66 & 768.28  & 353.65 \\\\\n",
       "\t29 &  青海   & 2803.45 &  898.54 & 484.71  & 613.24  & 785.27  &  953.87 & 641.93  & 331.38 \\\\\n",
       "\t30 &  宁夏   & 2760.74 &  994.47 & 480.84  & 645.98  & 859.04  &  863.36 & 910.68  & 302.17 \\\\\n",
       "\t31 &  新疆   & 2760.69 & 1183.69 & 475.23  & 598.78  & 890.30  &  896.79 & 736.99  & 331.80 \\\\\n",
       "\\end{tabular}\n"
      ],
      "text/markdown": [
       "\n",
       "| <!--/--> | X | 食品 | 衣着 | 设备 | 医疗 | 交通 | 教育 | 居住 | 杂项 | \n",
       "|---|---|---|---|---|---|\n",
       "| 26 |  西藏   | 3836.51 |  880.10 | 271.29  | 272.81  | 866.33  |  441.02 | 628.35  | 335.66  | \n",
       "| 27 |  陕西   | 3063.69 |  910.29 | 513.08  | 678.38  | 866.76  | 1230.74 | 831.27  | 332.84  | \n",
       "| 28 |  甘肃   | 2824.42 |  939.89 | 505.16  | 564.25  | 861.47  | 1058.66 | 768.28  | 353.65  | \n",
       "| 29 |  青海   | 2803.45 |  898.54 | 484.71  | 613.24  | 785.27  |  953.87 | 641.93  | 331.38  | \n",
       "| 30 |  宁夏   | 2760.74 |  994.47 | 480.84  | 645.98  | 859.04  |  863.36 | 910.68  | 302.17  | \n",
       "| 31 |  新疆   | 2760.69 | 1183.69 | 475.23  | 598.78  | 890.30  |  896.79 | 736.99  | 331.80  | \n",
       "\n",
       "\n"
      ],
      "text/plain": [
       "   X     食品    衣着    设备   医疗   交通   教育    居住   杂项  \n",
       "26  西藏 3836.51  880.10 271.29 272.81 866.33  441.02 628.35 335.66\n",
       "27  陕西 3063.69  910.29 513.08 678.38 866.76 1230.74 831.27 332.84\n",
       "28  甘肃 2824.42  939.89 505.16 564.25 861.47 1058.66 768.28 353.65\n",
       "29  青海 2803.45  898.54 484.71 613.24 785.27  953.87 641.93 331.38\n",
       "30  宁夏 2760.74  994.47 480.84 645.98 859.04  863.36 910.68 302.17\n",
       "31  新疆 2760.69 1183.69 475.23 598.78 890.30  896.79 736.99 331.80"
      ]
     },
     "metadata": {},
     "output_type": "display_data"
    },
    {
     "data": {
      "text/plain": [
       "      X                  食品           衣着             设备      \n",
       " Length:31          Min.   :2600   Min.   : 452.9   Min.   :271.3  \n",
       " Class :character   1st Qu.:2825   1st Qu.: 910.3   1st Qu.:476.5  \n",
       " Mode  :character   Median :3384   Median : 994.5   Median :546.8  \n",
       "                    Mean   :3511   Mean   :1019.6   Mean   :565.6  \n",
       "                    3rd Qu.:3755   3rd Qu.:1095.8   3rd Qu.:653.2  \n",
       "                    Max.   :6125   Max.   :1512.9   Max.   :981.1  \n",
       "      医疗             交通             教育           居住       \n",
       " Min.   : 272.8   Min.   : 733.0   Min.   : 441   Min.   : 628.4  \n",
       " 1st Qu.: 548.3   1st Qu.: 870.3   1st Qu.: 946   1st Qu.: 776.4  \n",
       " Median : 646.0   Median :1010.5   Median :1054   Median : 869.6  \n",
       " Mean   : 674.5   Mean   :1233.9   Mean   :1231   Mean   : 936.6  \n",
       " 3rd Qu.: 751.0   3rd Qu.:1306.5   3rd Qu.:1265   3rd Qu.:1037.3  \n",
       " Max.   :1294.1   Max.   :3153.7   Max.   :2654   Max.   :1444.9  \n",
       "      杂项      \n",
       " Min.   :174.2  \n",
       " 1st Qu.:284.4  \n",
       " Median :325.6  \n",
       " Mean   :351.2  \n",
       " 3rd Qu.:385.8  \n",
       " Max.   :763.8  "
      ]
     },
     "metadata": {},
     "output_type": "display_data"
    }
   ],
   "source": [
    "# 导入数据\n",
    "library(gdata)\n",
    "data= read.xls(\"F:/python/R-project/mvstats.xls\",sheet='d3.1',perl=\"C:\\\\Strawberry\\\\perl\\\\bin\\\\perl.exe\",fileEncoding='utf-8',header=TRUE,stringsAsFactors=FALSE)\n",
    "# 另一种形式：data<- read.xls(\"F:/python/R-project/mvcase.xls\",sheet=3,perl=\"C:\\\\Strawberry\\\\perl\\\\bin\\\\perl.exe\",fileEncoding='utf-8')\n",
    "#data[is.infinite(data)] = NA\n",
    "tail(data)\n",
    "summary(data)"
   ]
  },
  {
   "cell_type": "code",
   "execution_count": 59,
   "metadata": {},
   "outputs": [
    {
     "name": "stderr",
     "output_type": "stream",
     "text": [
      "Warning message in data(is.numeric(data)):\n",
      "\"data set 'is.numeric(data)' not found\"Warning message in mean.default(X[[i]], ...):\n",
      "\"argument is not numeric or logical: returning NA\"Warning message in min(x):\n",
      "\"min里所有的参数都不存在; 回覆Inf\"Warning message in max(x):\n",
      "\"max里所有的参数都不存在；回覆-Inf\""
     ]
    },
    {
     "ename": "ERROR",
     "evalue": "Error in plot.window(xlim, ylim, log = log, ...): 'ylim'值不能是无限的\n",
     "output_type": "error",
     "traceback": [
      "Error in plot.window(xlim, ylim, log = log, ...): 'ylim'值不能是无限的\nTraceback:\n",
      "1. barplot(sapply(data(is.numeric(data)), mean))",
      "2. barplot.default(sapply(data(is.numeric(data)), mean))",
      "3. plot.window(xlim, ylim, log = log, ...)"
     ]
    },
    {
     "data": {
      "image/png": "[encoded data removed]",
      "text/plain": [
       "plot without title"
      ]
     },
     "metadata": {},
     "output_type": "display_data"
    }
   ],
   "source": [
    "barplot(sapply(data,mean))"
   ]
  },
  {
   "cell_type": "code",
   "execution_count": 51,
   "metadata": {},
   "outputs": [
    {
     "ename": "ERROR",
     "evalue": "Error in match.fun(FUN): 缺少参数\"FUN\",也没有缺省值\n",
     "output_type": "error",
     "traceback": [
      "Error in match.fun(FUN): 缺少参数\"FUN\",也没有缺省值\nTraceback:\n",
      "1. apply(colMeans, data)",
      "2. match.fun(FUN)"
     ]
    }
   ],
   "source": []
  },
  {
   "cell_type": "code",
   "execution_count": 23,
   "metadata": {},
   "outputs": [
    {
     "data": {
      "text/plain": [
       " 地区    性别     教育程度      年龄           月收入         月支出    \n",
       " A:204   男:603   低:319   Min.   : 6.00   Min.   : 637   Min.   : 797  \n",
       " B:401   女:597   高:303   1st Qu.:34.00   1st Qu.:2388   1st Qu.:1722  \n",
       " C:384            中:578   Median :40.00   Median :2978   Median :1993  \n",
       " D:211                     Mean   :40.15   Mean   :3006   Mean   :1997  \n",
       "                           3rd Qu.:47.00   3rd Qu.:3624   3rd Qu.:2262  \n",
       "                           Max.   :72.00   Max.   :6239   Max.   :3385  "
      ]
     },
     "metadata": {},
     "output_type": "display_data"
    }
   ],
   "source": [
    "data=read.table('clipboard',header=T)\n",
    "summary(data)"
   ]
  },
  {
   "cell_type": "code",
   "execution_count": 21,
   "metadata": {},
   "outputs": [
    {
     "data": {
      "text/html": [
       "<table>\n",
       "<thead><tr><th scope=col>地区</th><th scope=col>性别</th><th scope=col>教育程度</th><th scope=col>年龄</th><th scope=col>月收入</th><th scope=col>月支出</th></tr></thead>\n",
       "<tbody>\n",
       "\t<tr><td>A   </td><td>女  </td><td>中  </td><td>55  </td><td>2299</td><td>1423</td></tr>\n",
       "\t<tr><td>A   </td><td>女  </td><td>低  </td><td>39  </td><td>3378</td><td>2022</td></tr>\n",
       "\t<tr><td>A   </td><td>女  </td><td>中  </td><td>33  </td><td>3460</td><td>1868</td></tr>\n",
       "\t<tr><td>B   </td><td>男  </td><td>高  </td><td>41  </td><td>4564</td><td>1918</td></tr>\n",
       "\t<tr><td>B   </td><td>女  </td><td>高  </td><td>55  </td><td>3206</td><td>1906</td></tr>\n",
       "\t<tr><td>A   </td><td>女  </td><td>中  </td><td>48  </td><td>4043</td><td>2233</td></tr>\n",
       "\t<tr><td>D   </td><td>女  </td><td>高  </td><td>36  </td><td>3395</td><td>1428</td></tr>\n",
       "\t<tr><td>C   </td><td>男  </td><td>中  </td><td>50  </td><td>5363</td><td>1931</td></tr>\n",
       "\t<tr><td>B   </td><td>男  </td><td>中  </td><td>49  </td><td>6227</td><td>2608</td></tr>\n",
       "\t<tr><td>D   </td><td>女  </td><td>中  </td><td>21  </td><td>2836</td><td>1164</td></tr>\n",
       "\t<tr><td>A   </td><td>女  </td><td>低  </td><td>27  </td><td>3308</td><td>2417</td></tr>\n",
       "\t<tr><td>B   </td><td>男  </td><td>中  </td><td>29  </td><td>2355</td><td>1287</td></tr>\n",
       "\t<tr><td>C   </td><td>女  </td><td>中  </td><td>43  </td><td>4033</td><td>1353</td></tr>\n",
       "\t<tr><td>C   </td><td>女  </td><td>中  </td><td>31  </td><td>3048</td><td>1742</td></tr>\n",
       "\t<tr><td>C   </td><td>女  </td><td>中  </td><td>42  </td><td>4799</td><td>1754</td></tr>\n",
       "\t<tr><td>B   </td><td>男  </td><td>低  </td><td>41  </td><td>2614</td><td>1785</td></tr>\n",
       "\t<tr><td>B   </td><td>男  </td><td>低  </td><td>38  </td><td>3091</td><td>1289</td></tr>\n",
       "\t<tr><td>C   </td><td>女  </td><td>高  </td><td>54  </td><td>1513</td><td>1452</td></tr>\n",
       "\t<tr><td>C   </td><td>女  </td><td>中  </td><td>22  </td><td>1293</td><td>2266</td></tr>\n",
       "\t<tr><td>A   </td><td>女  </td><td>高  </td><td>37  </td><td>3426</td><td>1656</td></tr>\n",
       "\t<tr><td>D   </td><td>女  </td><td>中  </td><td>38  </td><td>2580</td><td>2415</td></tr>\n",
       "\t<tr><td>B   </td><td>女  </td><td>中  </td><td>19  </td><td>4076</td><td>1571</td></tr>\n",
       "\t<tr><td>B   </td><td>女  </td><td>中  </td><td>39  </td><td>1286</td><td>1985</td></tr>\n",
       "\t<tr><td>A   </td><td>女  </td><td>中  </td><td>27  </td><td>2897</td><td>2439</td></tr>\n",
       "\t<tr><td>B   </td><td>男  </td><td>中  </td><td>45  </td><td>3315</td><td>1832</td></tr>\n",
       "\t<tr><td>C   </td><td>男  </td><td>中  </td><td>38  </td><td>3564</td><td>1712</td></tr>\n",
       "\t<tr><td>C   </td><td>女  </td><td>中  </td><td>47  </td><td>3217</td><td>1744</td></tr>\n",
       "\t<tr><td>C   </td><td>男  </td><td>低  </td><td>46  </td><td>2811</td><td>1815</td></tr>\n",
       "\t<tr><td>D   </td><td>女  </td><td>中  </td><td>39  </td><td>2347</td><td>1591</td></tr>\n",
       "\t<tr><td>A   </td><td>男  </td><td>中  </td><td>42  </td><td>3627</td><td>1535</td></tr>\n",
       "\t<tr><td>...</td><td>...</td><td>...</td><td>...</td><td>...</td><td>...</td></tr>\n",
       "\t<tr><td>C   </td><td>女  </td><td>高  </td><td>62  </td><td>4298</td><td>2032</td></tr>\n",
       "\t<tr><td>B   </td><td>男  </td><td>低  </td><td>45  </td><td>3116</td><td>1934</td></tr>\n",
       "\t<tr><td>D   </td><td>男  </td><td>中  </td><td>38  </td><td>2753</td><td>2056</td></tr>\n",
       "\t<tr><td>C   </td><td>女  </td><td>高  </td><td>26  </td><td>2430</td><td>2408</td></tr>\n",
       "\t<tr><td>C   </td><td>女  </td><td>中  </td><td>53  </td><td>2638</td><td>2223</td></tr>\n",
       "\t<tr><td>C   </td><td>女  </td><td>中  </td><td>49  </td><td>4112</td><td>1087</td></tr>\n",
       "\t<tr><td>B   </td><td>女  </td><td>低  </td><td>28  </td><td>2299</td><td>1866</td></tr>\n",
       "\t<tr><td>B   </td><td>女  </td><td>低  </td><td>32  </td><td>2270</td><td>2112</td></tr>\n",
       "\t<tr><td>C   </td><td>男  </td><td>低  </td><td>55  </td><td>3129</td><td>2297</td></tr>\n",
       "\t<tr><td>A   </td><td>女  </td><td>低  </td><td>51  </td><td>3244</td><td>1711</td></tr>\n",
       "\t<tr><td>C   </td><td>女  </td><td>高  </td><td>54  </td><td>3564</td><td>1642</td></tr>\n",
       "\t<tr><td>C   </td><td>女  </td><td>高  </td><td>39  </td><td>2185</td><td>1779</td></tr>\n",
       "\t<tr><td>A   </td><td>女  </td><td>低  </td><td>34  </td><td>2953</td><td>2123</td></tr>\n",
       "\t<tr><td>B   </td><td>女  </td><td>中  </td><td>47  </td><td>2680</td><td>2497</td></tr>\n",
       "\t<tr><td>B   </td><td>女  </td><td>中  </td><td>39  </td><td>3100</td><td>1744</td></tr>\n",
       "\t<tr><td>C   </td><td>男  </td><td>高  </td><td>40  </td><td>3820</td><td>2099</td></tr>\n",
       "\t<tr><td>C   </td><td>男  </td><td>中  </td><td>48  </td><td>4364</td><td>1573</td></tr>\n",
       "\t<tr><td>C   </td><td>男  </td><td>高  </td><td>28  </td><td>3969</td><td>1451</td></tr>\n",
       "\t<tr><td>B   </td><td>女  </td><td>低  </td><td>46  </td><td>3067</td><td>1708</td></tr>\n",
       "\t<tr><td>D   </td><td>男  </td><td>低  </td><td>41  </td><td>3518</td><td>2294</td></tr>\n",
       "\t<tr><td>D   </td><td>男  </td><td>低  </td><td>42  </td><td>3822</td><td>1759</td></tr>\n",
       "\t<tr><td>C   </td><td>女  </td><td>中  </td><td>29  </td><td>2401</td><td>2133</td></tr>\n",
       "\t<tr><td>C   </td><td>女  </td><td>低  </td><td>38  </td><td>3449</td><td>2138</td></tr>\n",
       "\t<tr><td>A   </td><td>女  </td><td>高  </td><td>40  </td><td>2683</td><td>1843</td></tr>\n",
       "\t<tr><td>A   </td><td>女  </td><td>高  </td><td>43  </td><td>3768</td><td>1239</td></tr>\n",
       "\t<tr><td>C   </td><td>男  </td><td>高  </td><td>51  </td><td>2268</td><td>1315</td></tr>\n",
       "\t<tr><td>B   </td><td>女  </td><td>中  </td><td>45  </td><td>2869</td><td>2479</td></tr>\n",
       "\t<tr><td>B   </td><td>男  </td><td>中  </td><td>24  </td><td>4498</td><td>1832</td></tr>\n",
       "\t<tr><td>D   </td><td>男  </td><td>低  </td><td>22  </td><td>3802</td><td>1747</td></tr>\n",
       "\t<tr><td>B   </td><td>男  </td><td>中  </td><td>41  </td><td>3150</td><td>1480</td></tr>\n",
       "</tbody>\n",
       "</table>\n"
      ],
      "text/latex": [
       "\\begin{tabular}{r|llllll}\n",
       " 地区 & 性别 & 教育程度 & 年龄 & 月收入 & 月支出\\\\\n",
       "\\hline\n",
       "\t A    & 女   & 中   & 55   & 2299 & 1423\\\\\n",
       "\t A    & 女   & 低   & 39   & 3378 & 2022\\\\\n",
       "\t A    & 女   & 中   & 33   & 3460 & 1868\\\\\n",
       "\t B    & 男   & 高   & 41   & 4564 & 1918\\\\\n",
       "\t B    & 女   & 高   & 55   & 3206 & 1906\\\\\n",
       "\t A    & 女   & 中   & 48   & 4043 & 2233\\\\\n",
       "\t D    & 女   & 高   & 36   & 3395 & 1428\\\\\n",
       "\t C    & 男   & 中   & 50   & 5363 & 1931\\\\\n",
       "\t B    & 男   & 中   & 49   & 6227 & 2608\\\\\n",
       "\t D    & 女   & 中   & 21   & 2836 & 1164\\\\\n",
       "\t A    & 女   & 低   & 27   & 3308 & 2417\\\\\n",
       "\t B    & 男   & 中   & 29   & 2355 & 1287\\\\\n",
       "\t C    & 女   & 中   & 43   & 4033 & 1353\\\\\n",
       "\t C    & 女   & 中   & 31   & 3048 & 1742\\\\\n",
       "\t C    & 女   & 中   & 42   & 4799 & 1754\\\\\n",
       "\t B    & 男   & 低   & 41   & 2614 & 1785\\\\\n",
       "\t B    & 男   & 低   & 38   & 3091 & 1289\\\\\n",
       "\t C    & 女   & 高   & 54   & 1513 & 1452\\\\\n",
       "\t C    & 女   & 中   & 22   & 1293 & 2266\\\\\n",
       "\t A    & 女   & 高   & 37   & 3426 & 1656\\\\\n",
       "\t D    & 女   & 中   & 38   & 2580 & 2415\\\\\n",
       "\t B    & 女   & 中   & 19   & 4076 & 1571\\\\\n",
       "\t B    & 女   & 中   & 39   & 1286 & 1985\\\\\n",
       "\t A    & 女   & 中   & 27   & 2897 & 2439\\\\\n",
       "\t B    & 男   & 中   & 45   & 3315 & 1832\\\\\n",
       "\t C    & 男   & 中   & 38   & 3564 & 1712\\\\\n",
       "\t C    & 女   & 中   & 47   & 3217 & 1744\\\\\n",
       "\t C    & 男   & 低   & 46   & 2811 & 1815\\\\\n",
       "\t D    & 女   & 中   & 39   & 2347 & 1591\\\\\n",
       "\t A    & 男   & 中   & 42   & 3627 & 1535\\\\\n",
       "\t ... & ... & ... & ... & ... & ...\\\\\n",
       "\t C    & 女   & 高   & 62   & 4298 & 2032\\\\\n",
       "\t B    & 男   & 低   & 45   & 3116 & 1934\\\\\n",
       "\t D    & 男   & 中   & 38   & 2753 & 2056\\\\\n",
       "\t C    & 女   & 高   & 26   & 2430 & 2408\\\\\n",
       "\t C    & 女   & 中   & 53   & 2638 & 2223\\\\\n",
       "\t C    & 女   & 中   & 49   & 4112 & 1087\\\\\n",
       "\t B    & 女   & 低   & 28   & 2299 & 1866\\\\\n",
       "\t B    & 女   & 低   & 32   & 2270 & 2112\\\\\n",
       "\t C    & 男   & 低   & 55   & 3129 & 2297\\\\\n",
       "\t A    & 女   & 低   & 51   & 3244 & 1711\\\\\n",
       "\t C    & 女   & 高   & 54   & 3564 & 1642\\\\\n",
       "\t C    & 女   & 高   & 39   & 2185 & 1779\\\\\n",
       "\t A    & 女   & 低   & 34   & 2953 & 2123\\\\\n",
       "\t B    & 女   & 中   & 47   & 2680 & 2497\\\\\n",
       "\t B    & 女   & 中   & 39   & 3100 & 1744\\\\\n",
       "\t C    & 男   & 高   & 40   & 3820 & 2099\\\\\n",
       "\t C    & 男   & 中   & 48   & 4364 & 1573\\\\\n",
       "\t C    & 男   & 高   & 28   & 3969 & 1451\\\\\n",
       "\t B    & 女   & 低   & 46   & 3067 & 1708\\\\\n",
       "\t D    & 男   & 低   & 41   & 3518 & 2294\\\\\n",
       "\t D    & 男   & 低   & 42   & 3822 & 1759\\\\\n",
       "\t C    & 女   & 中   & 29   & 2401 & 2133\\\\\n",
       "\t C    & 女   & 低   & 38   & 3449 & 2138\\\\\n",
       "\t A    & 女   & 高   & 40   & 2683 & 1843\\\\\n",
       "\t A    & 女   & 高   & 43   & 3768 & 1239\\\\\n",
       "\t C    & 男   & 高   & 51   & 2268 & 1315\\\\\n",
       "\t B    & 女   & 中   & 45   & 2869 & 2479\\\\\n",
       "\t B    & 男   & 中   & 24   & 4498 & 1832\\\\\n",
       "\t D    & 男   & 低   & 22   & 3802 & 1747\\\\\n",
       "\t B    & 男   & 中   & 41   & 3150 & 1480\\\\\n",
       "\\end{tabular}\n"
      ],
      "text/markdown": [
       "\n",
       "地区 | 性别 | 教育程度 | 年龄 | 月收入 | 月支出 | \n",
       "|---|---|---|---|---|---|---|---|---|---|---|---|---|---|---|---|---|---|---|---|---|---|---|---|---|---|---|---|---|---|---|---|---|---|---|---|---|---|---|---|---|---|---|---|---|---|---|---|---|---|---|---|---|---|---|---|---|---|---|---|---|\n",
       "| A    | 女   | 中   | 55   | 2299 | 1423 | \n",
       "| A    | 女   | 低   | 39   | 3378 | 2022 | \n",
       "| A    | 女   | 中   | 33   | 3460 | 1868 | \n",
       "| B    | 男   | 高   | 41   | 4564 | 1918 | \n",
       "| B    | 女   | 高   | 55   | 3206 | 1906 | \n",
       "| A    | 女   | 中   | 48   | 4043 | 2233 | \n",
       "| D    | 女   | 高   | 36   | 3395 | 1428 | \n",
       "| C    | 男   | 中   | 50   | 5363 | 1931 | \n",
       "| B    | 男   | 中   | 49   | 6227 | 2608 | \n",
       "| D    | 女   | 中   | 21   | 2836 | 1164 | \n",
       "| A    | 女   | 低   | 27   | 3308 | 2417 | \n",
       "| B    | 男   | 中   | 29   | 2355 | 1287 | \n",
       "| C    | 女   | 中   | 43   | 4033 | 1353 | \n",
       "| C    | 女   | 中   | 31   | 3048 | 1742 | \n",
       "| C    | 女   | 中   | 42   | 4799 | 1754 | \n",
       "| B    | 男   | 低   | 41   | 2614 | 1785 | \n",
       "| B    | 男   | 低   | 38   | 3091 | 1289 | \n",
       "| C    | 女   | 高   | 54   | 1513 | 1452 | \n",
       "| C    | 女   | 中   | 22   | 1293 | 2266 | \n",
       "| A    | 女   | 高   | 37   | 3426 | 1656 | \n",
       "| D    | 女   | 中   | 38   | 2580 | 2415 | \n",
       "| B    | 女   | 中   | 19   | 4076 | 1571 | \n",
       "| B    | 女   | 中   | 39   | 1286 | 1985 | \n",
       "| A    | 女   | 中   | 27   | 2897 | 2439 | \n",
       "| B    | 男   | 中   | 45   | 3315 | 1832 | \n",
       "| C    | 男   | 中   | 38   | 3564 | 1712 | \n",
       "| C    | 女   | 中   | 47   | 3217 | 1744 | \n",
       "| C    | 男   | 低   | 46   | 2811 | 1815 | \n",
       "| D    | 女   | 中   | 39   | 2347 | 1591 | \n",
       "| A    | 男   | 中   | 42   | 3627 | 1535 | \n",
       "| ... | ... | ... | ... | ... | ... | \n",
       "| C    | 女   | 高   | 62   | 4298 | 2032 | \n",
       "| B    | 男   | 低   | 45   | 3116 | 1934 | \n",
       "| D    | 男   | 中   | 38   | 2753 | 2056 | \n",
       "| C    | 女   | 高   | 26   | 2430 | 2408 | \n",
       "| C    | 女   | 中   | 53   | 2638 | 2223 | \n",
       "| C    | 女   | 中   | 49   | 4112 | 1087 | \n",
       "| B    | 女   | 低   | 28   | 2299 | 1866 | \n",
       "| B    | 女   | 低   | 32   | 2270 | 2112 | \n",
       "| C    | 男   | 低   | 55   | 3129 | 2297 | \n",
       "| A    | 女   | 低   | 51   | 3244 | 1711 | \n",
       "| C    | 女   | 高   | 54   | 3564 | 1642 | \n",
       "| C    | 女   | 高   | 39   | 2185 | 1779 | \n",
       "| A    | 女   | 低   | 34   | 2953 | 2123 | \n",
       "| B    | 女   | 中   | 47   | 2680 | 2497 | \n",
       "| B    | 女   | 中   | 39   | 3100 | 1744 | \n",
       "| C    | 男   | 高   | 40   | 3820 | 2099 | \n",
       "| C    | 男   | 中   | 48   | 4364 | 1573 | \n",
       "| C    | 男   | 高   | 28   | 3969 | 1451 | \n",
       "| B    | 女   | 低   | 46   | 3067 | 1708 | \n",
       "| D    | 男   | 低   | 41   | 3518 | 2294 | \n",
       "| D    | 男   | 低   | 42   | 3822 | 1759 | \n",
       "| C    | 女   | 中   | 29   | 2401 | 2133 | \n",
       "| C    | 女   | 低   | 38   | 3449 | 2138 | \n",
       "| A    | 女   | 高   | 40   | 2683 | 1843 | \n",
       "| A    | 女   | 高   | 43   | 3768 | 1239 | \n",
       "| C    | 男   | 高   | 51   | 2268 | 1315 | \n",
       "| B    | 女   | 中   | 45   | 2869 | 2479 | \n",
       "| B    | 男   | 中   | 24   | 4498 | 1832 | \n",
       "| D    | 男   | 低   | 22   | 3802 | 1747 | \n",
       "| B    | 男   | 中   | 41   | 3150 | 1480 | \n",
       "\n",
       "\n"
      ],
      "text/plain": [
       "     地区 性别 教育程度 年龄 月收入 月支出\n",
       "1    A    女   中       55   2299   1423  \n",
       "2    A    女   低       39   3378   2022  \n",
       "3    A    女   中       33   3460   1868  \n",
       "4    B    男   高       41   4564   1918  \n",
       "5    B    女   高       55   3206   1906  \n",
       "6    A    女   中       48   4043   2233  \n",
       "7    D    女   高       36   3395   1428  \n",
       "8    C    男   中       50   5363   1931  \n",
       "9    B    男   中       49   6227   2608  \n",
       "10   D    女   中       21   2836   1164  \n",
       "11   A    女   低       27   3308   2417  \n",
       "12   B    男   中       29   2355   1287  \n",
       "13   C    女   中       43   4033   1353  \n",
       "14   C    女   中       31   3048   1742  \n",
       "15   C    女   中       42   4799   1754  \n",
       "16   B    男   低       41   2614   1785  \n",
       "17   B    男   低       38   3091   1289  \n",
       "18   C    女   高       54   1513   1452  \n",
       "19   C    女   中       22   1293   2266  \n",
       "20   A    女   高       37   3426   1656  \n",
       "21   D    女   中       38   2580   2415  \n",
       "22   B    女   中       19   4076   1571  \n",
       "23   B    女   中       39   1286   1985  \n",
       "24   A    女   中       27   2897   2439  \n",
       "25   B    男   中       45   3315   1832  \n",
       "26   C    男   中       38   3564   1712  \n",
       "27   C    女   中       47   3217   1744  \n",
       "28   C    男   低       46   2811   1815  \n",
       "29   D    女   中       39   2347   1591  \n",
       "30   A    男   中       42   3627   1535  \n",
       "...  ...  ...  ...      ...  ...    ...   \n",
       "1171 C    女   高       62   4298   2032  \n",
       "1172 B    男   低       45   3116   1934  \n",
       "1173 D    男   中       38   2753   2056  \n",
       "1174 C    女   高       26   2430   2408  \n",
       "1175 C    女   中       53   2638   2223  \n",
       "1176 C    女   中       49   4112   1087  \n",
       "1177 B    女   低       28   2299   1866  \n",
       "1178 B    女   低       32   2270   2112  \n",
       "1179 C    男   低       55   3129   2297  \n",
       "1180 A    女   低       51   3244   1711  \n",
       "1181 C    女   高       54   3564   1642  \n",
       "1182 C    女   高       39   2185   1779  \n",
       "1183 A    女   低       34   2953   2123  \n",
       "1184 B    女   中       47   2680   2497  \n",
       "1185 B    女   中       39   3100   1744  \n",
       "1186 C    男   高       40   3820   2099  \n",
       "1187 C    男   中       48   4364   1573  \n",
       "1188 C    男   高       28   3969   1451  \n",
       "1189 B    女   低       46   3067   1708  \n",
       "1190 D    男   低       41   3518   2294  \n",
       "1191 D    男   低       42   3822   1759  \n",
       "1192 C    女   中       29   2401   2133  \n",
       "1193 C    女   低       38   3449   2138  \n",
       "1194 A    女   高       40   2683   1843  \n",
       "1195 A    女   高       43   3768   1239  \n",
       "1196 C    男   高       51   2268   1315  \n",
       "1197 B    女   中       45   2869   2479  \n",
       "1198 B    男   中       24   4498   1832  \n",
       "1199 D    男   低       22   3802   1747  \n",
       "1200 B    男   中       41   3150   1480  "
      ]
     },
     "metadata": {},
     "output_type": "display_data"
    }
   ],
   "source": [
    "table(data(地区))"
   ]
  },
  {
   "cell_type": "code",
   "execution_count": null,
   "metadata": {
    "collapsed": true
   },
   "outputs": [],
   "source": []
  }
 ],
 "metadata": {
  "kernelspec": {
   "display_name": "R",
   "language": "R",
   "name": "ir"
  },
  "language_info": {
   "codemirror_mode": "r",
   "file_extension": ".r",
   "mimetype": "text/x-r-source",
   "name": "R",
   "pygments_lexer": "r",
   "version": "3.4.1"
  }
 },
 "nbformat": 4,
 "nbformat_minor": 2
}
