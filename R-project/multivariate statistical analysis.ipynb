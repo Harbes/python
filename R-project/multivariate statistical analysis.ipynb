{
 "cells": [
  {
   "cell_type": "markdown",
   "metadata": {},
   "source": [
    "# 主题：多元统计分析\n",
    "#### 参考教材：\n",
    "* 应用多元统计分析。Wolfgang Hardle; Leopold Simar\n",
    "* 实用多元统计分析。Richard A.Johnson; Dean W.Wichern"
   ]
  },
  {
   "cell_type": "code",
   "execution_count": null,
   "metadata": {
    "collapsed": true
   },
   "outputs": [],
   "source": [
    "#如果使用python，则需要先使用下面的命令\n",
    "#%load_ext rpy2.ipython\n",
    "# 而且，调用R时，前面都要加上“%%R”"
   ]
  },
  {
   "cell_type": "markdown",
   "metadata": {},
   "source": [
    "## 第一章：批量数据比较\n",
    "### 1.1 几种常见的图形"
   ]
  },
  {
   "cell_type": "code",
   "execution_count": null,
   "metadata": {
    "collapsed": true
   },
   "outputs": [],
   "source": [
    "# 导入数据\n",
    "library(gdata)\n",
    "data= read.xls(\"F:/python/R-project/mvstats.xls\",sheet='d3.1',perl=\"C:\\\\Strawberry\\\\perl\\\\bin\\\\perl.exe\",fileEncoding='utf-8',header=TRUE)#,stringsAsFactors=FALSE\n",
    "# 另一种形式：data<- read.xls(\"F:/python/R-project/mvcase.xls\",sheet=3,perl=\"C:\\\\Strawberry\\\\perl\\\\bin\\\\perl.exe\",fileEncoding='utf-8')\n",
    "row.names(data)=data$X\n",
    "data=subset(data,select=-X)\n",
    "tail(data)\n",
    "summary(data)\n",
    "\n",
    "##\n",
    "barplot(apply(data,1,mean)) # 条形图\n",
    "barplot(apply(data,2,mean))\n",
    "barplot(apply(data,2,median))\n",
    "pie(apply(data,2,mean))   # 饼图\n",
    "boxplot(data)    # 箱形图\n",
    "boxplot(data,horizontal=T)\n",
    "stars(data,full=T) # 星相图 stars(data,full=TRUE,draw.segments=FALSE,...)。其中，full表示单个整体使用圆形还是半圆；draw.segments表示分支形状为圆形还是半圆\n",
    "stars(data,full=F,draw.segments=T)\n",
    "library(DescTools) # 脸谱图需要先加载DescTools包\n",
    "PlotFaces(data)\n",
    "library(andrews)  # 绘制调和曲线所需要的包\n",
    "andrews(data)"
   ]
  },
  {
   "cell_type": "markdown",
   "metadata": {
    "collapsed": true
   },
   "source": [
    "# 判别分析及R使用\n",
    "## 线性判别分析"
   ]
  },
  {
   "cell_type": "code",
   "execution_count": null,
   "metadata": {},
   "outputs": [],
   "source": [
    "#\n",
    "library(gdata)\n",
    "data= read.xls(\"F:/python/R-project/mvstats.xls\",sheet='d6.1',perl=\"C:\\\\Strawberry\\\\perl\\\\bin\\\\perl.exe\",fileEncoding='utf-8',header=TRUE)#,stringsAsFactors=FALSE\n",
    "head(data)\n",
    "#\n",
    "attach(data)\n",
    "plot(x1,x2);text(x1,x2,G,adj=-0.5)\n",
    "\n",
    "#\n",
    "library(MASS)\n",
    "(ld=lda(G~x1+x2))\n",
    "Z=predict(ld)\n",
    "newG=Z$class\n",
    "cbind(G,Z$x,newG)\n",
    "(tab=table(G,newG)) # 注意，外面加一个括号，会print结果\n",
    "sum(diag(prop.table(tab)))"
   ]
  },
  {
   "cell_type": "code",
   "execution_count": null,
   "metadata": {
    "collapsed": true
   },
   "outputs": [],
   "source": [
    "wines <- read.table(\n",
    "\"http://archive.ics.uci.edu/ml/machine-learning-databases/\n",
    "wine/wine.data\",\n",
    "sep = \",\")"
   ]
  },
  {
   "cell_type": "code",
   "execution_count": null,
   "metadata": {},
   "outputs": [],
   "source": [
    "wines"
   ]
  },
  {
   "cell_type": "code",
   "execution_count": null,
   "metadata": {},
   "outputs": [],
   "source": [
    "circlize::chordDiagram(matrix(sample(10), \n",
    "                              nrow = 2, ncol = 5))"
   ]
  },
  {
   "cell_type": "code",
   "execution_count": null,
   "metadata": {
    "collapsed": true
   },
   "outputs": [],
   "source": []
  }
 ],
 "metadata": {
  "kernelspec": {
   "display_name": "R",
   "language": "R",
   "name": "ir"
  },
  "language_info": {
   "codemirror_mode": "r",
   "file_extension": ".r",
   "mimetype": "text/x-r-source",
   "name": "R",
   "pygments_lexer": "r",
   "version": "3.4.1"
  }
 },
 "nbformat": 4,
 "nbformat_minor": 2
}
