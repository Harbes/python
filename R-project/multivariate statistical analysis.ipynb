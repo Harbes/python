{
 "cells": [
  {
   "cell_type": "markdown",
   "metadata": {},
   "source": [
    "# 主题：多元统计分析\n",
    "#### 参考教材：\n",
    "* 应用多元统计分析。Wolfgang Hardle; Leopold Simar\n",
    "* 实用多元统计分析。Richard A.Johnson; Dean W.Wichern"
   ]
  },
  {
   "cell_type": "code",
   "execution_count": null,
   "metadata": {
    "collapsed": true
   },
   "outputs": [],
   "source": [
    "#如果使用python，则需要先使用下面的命令\n",
    "#%load_ext rpy2.ipython\n",
    "# 而且，调用R时，前面都要加上“%%R”"
   ]
  },
  {
   "cell_type": "markdown",
   "metadata": {},
   "source": [
    "## 第一章：批量数据比较\n",
    "### 1.1 几种常见的图形"
   ]
  },
  {
   "cell_type": "code",
   "execution_count": 33,
   "metadata": {
    "collapsed": true
   },
   "outputs": [
    {
     "data": {
      "text/html": [
       "<table>\n",
       "<thead><tr><th></th><th scope=col>食品</th><th scope=col>衣着</th><th scope=col>设备</th><th scope=col>医疗</th><th scope=col>交通</th><th scope=col>教育</th><th scope=col>居住</th><th scope=col>杂项</th></tr></thead>\n",
       "<tbody>\n",
       "\t<tr><th scope=row> 西藏</th><td>3836.51</td><td> 880.10</td><td>271.29 </td><td>272.81 </td><td>866.33 </td><td> 441.02</td><td>628.35 </td><td>335.66 </td></tr>\n",
       "\t<tr><th scope=row> 陕西</th><td>3063.69</td><td> 910.29</td><td>513.08 </td><td>678.38 </td><td>866.76 </td><td>1230.74</td><td>831.27 </td><td>332.84 </td></tr>\n",
       "\t<tr><th scope=row> 甘肃</th><td>2824.42</td><td> 939.89</td><td>505.16 </td><td>564.25 </td><td>861.47 </td><td>1058.66</td><td>768.28 </td><td>353.65 </td></tr>\n",
       "\t<tr><th scope=row> 青海</th><td>2803.45</td><td> 898.54</td><td>484.71 </td><td>613.24 </td><td>785.27 </td><td> 953.87</td><td>641.93 </td><td>331.38 </td></tr>\n",
       "\t<tr><th scope=row> 宁夏</th><td>2760.74</td><td> 994.47</td><td>480.84 </td><td>645.98 </td><td>859.04 </td><td> 863.36</td><td>910.68 </td><td>302.17 </td></tr>\n",
       "\t<tr><th scope=row> 新疆</th><td>2760.69</td><td>1183.69</td><td>475.23 </td><td>598.78 </td><td>890.30 </td><td> 896.79</td><td>736.99 </td><td>331.80 </td></tr>\n",
       "</tbody>\n",
       "</table>\n"
      ],
      "text/latex": [
       "\\begin{tabular}{r|llllllll}\n",
       "  & 食品 & 衣着 & 设备 & 医疗 & 交通 & 教育 & 居住 & 杂项\\\\\n",
       "\\hline\n",
       "\t 西藏 & 3836.51 &  880.10 & 271.29  & 272.81  & 866.33  &  441.02 & 628.35  & 335.66 \\\\\n",
       "\t 陕西 & 3063.69 &  910.29 & 513.08  & 678.38  & 866.76  & 1230.74 & 831.27  & 332.84 \\\\\n",
       "\t 甘肃 & 2824.42 &  939.89 & 505.16  & 564.25  & 861.47  & 1058.66 & 768.28  & 353.65 \\\\\n",
       "\t 青海 & 2803.45 &  898.54 & 484.71  & 613.24  & 785.27  &  953.87 & 641.93  & 331.38 \\\\\n",
       "\t 宁夏 & 2760.74 &  994.47 & 480.84  & 645.98  & 859.04  &  863.36 & 910.68  & 302.17 \\\\\n",
       "\t 新疆 & 2760.69 & 1183.69 & 475.23  & 598.78  & 890.30  &  896.79 & 736.99  & 331.80 \\\\\n",
       "\\end{tabular}\n"
      ],
      "text/markdown": [
       "\n",
       "| <!--/--> | 食品 | 衣着 | 设备 | 医疗 | 交通 | 教育 | 居住 | 杂项 | \n",
       "|---|---|---|---|---|---|\n",
       "|  西藏 | 3836.51 |  880.10 | 271.29  | 272.81  | 866.33  |  441.02 | 628.35  | 335.66  | \n",
       "|  陕西 | 3063.69 |  910.29 | 513.08  | 678.38  | 866.76  | 1230.74 | 831.27  | 332.84  | \n",
       "|  甘肃 | 2824.42 |  939.89 | 505.16  | 564.25  | 861.47  | 1058.66 | 768.28  | 353.65  | \n",
       "|  青海 | 2803.45 |  898.54 | 484.71  | 613.24  | 785.27  |  953.87 | 641.93  | 331.38  | \n",
       "|  宁夏 | 2760.74 |  994.47 | 480.84  | 645.98  | 859.04  |  863.36 | 910.68  | 302.17  | \n",
       "|  新疆 | 2760.69 | 1183.69 | 475.23  | 598.78  | 890.30  |  896.79 | 736.99  | 331.80  | \n",
       "\n",
       "\n"
      ],
      "text/plain": [
       "      食品    衣着    设备   医疗   交通   教育    居住   杂项  \n",
       " 西藏 3836.51  880.10 271.29 272.81 866.33  441.02 628.35 335.66\n",
       " 陕西 3063.69  910.29 513.08 678.38 866.76 1230.74 831.27 332.84\n",
       " 甘肃 2824.42  939.89 505.16 564.25 861.47 1058.66 768.28 353.65\n",
       " 青海 2803.45  898.54 484.71 613.24 785.27  953.87 641.93 331.38\n",
       " 宁夏 2760.74  994.47 480.84 645.98 859.04  863.36 910.68 302.17\n",
       " 新疆 2760.69 1183.69 475.23 598.78 890.30  896.79 736.99 331.80"
      ]
     },
     "metadata": {},
     "output_type": "display_data"
    },
    {
     "data": {
      "text/plain": [
       "      食品           衣着             设备            医疗       \n",
       " Min.   :2600   Min.   : 452.9   Min.   :271.3   Min.   : 272.8  \n",
       " 1st Qu.:2825   1st Qu.: 910.3   1st Qu.:476.5   1st Qu.: 548.3  \n",
       " Median :3384   Median : 994.5   Median :546.8   Median : 646.0  \n",
       " Mean   :3511   Mean   :1019.6   Mean   :565.6   Mean   : 674.5  \n",
       " 3rd Qu.:3755   3rd Qu.:1095.8   3rd Qu.:653.2   3rd Qu.: 751.0  \n",
       " Max.   :6125   Max.   :1512.9   Max.   :981.1   Max.   :1294.1  \n",
       "      交通             教育           居住             杂项      \n",
       " Min.   : 733.0   Min.   : 441   Min.   : 628.4   Min.   :174.2  \n",
       " 1st Qu.: 870.3   1st Qu.: 946   1st Qu.: 776.4   1st Qu.:284.4  \n",
       " Median :1010.5   Median :1054   Median : 869.6   Median :325.6  \n",
       " Mean   :1233.9   Mean   :1231   Mean   : 936.6   Mean   :351.2  \n",
       " 3rd Qu.:1306.5   3rd Qu.:1265   3rd Qu.:1037.3   3rd Qu.:385.8  \n",
       " Max.   :3153.7   Max.   :2654   Max.   :1444.9   Max.   :763.8  "
      ]
     },
     "metadata": {},
     "output_type": "display_data"
    }
   ],
   "source": [
    "# 导入数据\n",
    "library(gdata)\n",
    "data= read.xls(\"F:/python/R-project/mvstats.xls\",sheet='d3.1',perl=\"C:\\\\Strawberry\\\\perl\\\\bin\\\\perl.exe\",fileEncoding='utf-8',header=TRUE)#,stringsAsFactors=FALSE\n",
    "# 另一种形式：data<- read.xls(\"F:/python/R-project/mvcase.xls\",sheet=3,perl=\"C:\\\\Strawberry\\\\perl\\\\bin\\\\perl.exe\",fileEncoding='utf-8')\n",
    "row.names(data)=data$X\n",
    "data=subset(data,select=-X)\n",
    "tail(data)\n",
    "summary(data)\n",
    "\n",
    "##\n",
    "barplot(apply(data,1,mean)) # 条形图\n",
    "barplot(apply(data,2,mean))\n",
    "barplot(apply(data,2,median))\n",
    "pie(apply(data,2,mean))   # 饼图\n",
    "boxplot(data)    # 箱形图\n",
    "boxplot(data,horizontal=T)\n",
    "stars(data,full=T) # 星相图 stars(data,full=TRUE,draw.segments=FALSE,...)。其中，full表示单个整体使用圆形还是半圆；draw.segments表示分支形状为圆形还是半圆\n",
    "stars(data,full=F,draw.segments=T)\n",
    "faces(data)"
   ]
  },
  {
   "cell_type": "code",
   "execution_count": 44,
   "metadata": {
    "collapsed": true
   },
   "outputs": [],
   "source": [
    "# 导入数据\n",
    "library(gdata)\n",
    "data= read.xls(\"F:/python/R-project/mvstats.xls\",sheet='d3.1',perl=\"C:\\\\Strawberry\\\\perl\\\\bin\\\\perl.exe\",fileEncoding='utf-8',header=TRUE)#,stringsAsFactors=FALSE\n",
    "# 另一种形式：data<- read.xls(\"F:/python/R-project/mvcase.xls\",sheet=3,perl=\"C:\\\\Strawberry\\\\perl\\\\bin\\\\perl.exe\",fileEncoding='utf-8')\n",
    "row.names(data)=data$X\n",
    "data=subset(data,select=-X)\n"
   ]
  },
  {
   "cell_type": "code",
   "execution_count": 55,
   "metadata": {
    "scrolled": false
   },
   "outputs": [
    {
     "name": "stderr",
     "output_type": "stream",
     "text": [
      "Warning message:\n",
      "\"package 'ggChernoff' was built under R version 3.4.2\""
     ]
    },
    {
     "ename": "ERROR",
     "evalue": "Error: Mapping must be created by `aes()` or `aes_()`\n",
     "output_type": "error",
     "traceback": [
      "Error: Mapping must be created by `aes()` or `aes_()`\nTraceback:\n",
      "1. geom_chernoff(data)",
      "2. layer(geom = GeomChernoff, mapping = mapping, data = data, stat = stat, \n .     position = position, show.legend = show.legend, inherit.aes = inherit.aes, \n .     params = list(na.rm = na.rm, ...))",
      "3. stop(\"Mapping must be created by `aes()` or `aes_()`\", call. = FALSE)"
     ]
    }
   ],
   "source": [
    "library(ggChernoff)\n",
    "geom_chernoff (data)"
   ]
  },
  {
   "cell_type": "code",
   "execution_count": 37,
   "metadata": {},
   "outputs": [
    {
     "data": {
      "image/png": "[encoded data removed]",
      "text/plain": [
       "plot without title"
      ]
     },
     "metadata": {},
     "output_type": "display_data"
    }
   ],
   "source": [
    "pie(apply(data,2,mean))"
   ]
  },
  {
   "cell_type": "code",
   "execution_count": null,
   "metadata": {
    "collapsed": true
   },
   "outputs": [],
   "source": [
    "data=read.table('clipboard',header=T)\n",
    "summary(data)"
   ]
  },
  {
   "cell_type": "code",
   "execution_count": null,
   "metadata": {
    "collapsed": true
   },
   "outputs": [],
   "source": [
    "table(data(地区))"
   ]
  },
  {
   "cell_type": "code",
   "execution_count": null,
   "metadata": {
    "collapsed": true
   },
   "outputs": [],
   "source": []
  }
 ],
 "metadata": {
  "kernelspec": {
   "display_name": "R",
   "language": "R",
   "name": "ir"
  },
  "language_info": {
   "codemirror_mode": "r",
   "file_extension": ".r",
   "mimetype": "text/x-r-source",
   "name": "R",
   "pygments_lexer": "r",
   "version": "3.4.1"
  }
 },
 "nbformat": 4,
 "nbformat_minor": 2
}
