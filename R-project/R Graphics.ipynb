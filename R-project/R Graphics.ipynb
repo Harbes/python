{
 "cells": [
  {
   "cell_type": "markdown",
   "metadata": {},
   "source": [
    "# 2. Quickly Exploring Data\n",
    "## 2.1  Creating a Scatter Plot    "
   ]
  },
  {
   "cell_type": "code",
   "execution_count": null,
   "metadata": {
    "scrolled": false
   },
   "outputs": [],
   "source": [
    "# 方法一: plot\n",
    "plot(mtcars$wt, mtcars$mpg)\n",
    "# 方法二: ggplot2::qplot \n",
    "#library(ggplot2)\n",
    "ggplot2::qplot(mtcars$wt, mtcars$mpg) # 或者 qplot(wt, mpg, data=mtcars) 此方法要求两个变量在同一个数据集中\n",
    "# 方法三： ggplot2::ggplot()+geom_point()\n",
    "ggplot(mtcars, aes(x=wt, y=mpg)) + geom_point()"
   ]
  },
  {
   "cell_type": "markdown",
   "metadata": {},
   "source": [
    "## 2.2 creating a line graph"
   ]
  },
  {
   "cell_type": "code",
   "execution_count": null,
   "metadata": {
    "scrolled": false
   },
   "outputs": [],
   "source": [
    "plot(pressure$temperature,pressure$pressure,type=\"l\")\n",
    "# 也可以使用 ggplot2\n",
    "ggplot2::qplot(pressure$temperature, pressure$pressure, geom=\"line\")\n",
    "# 或者\n",
    "ggplot2::ggplot(pressure,aes(x=temperature,y=pressure))+geom_line()\n",
    "# ===\n",
    "# 如果想在同一幅图中加入更多的线图或者点图，则可以直接添加 lines() 和 points() \n",
    "plot(pressure$temperature,pressure$pressure,type=\"l\")\n",
    "points(pressure$temperature,pressure$pressure)\n",
    "lines(pressure$temperature,pressure$pressure/2,col='red')\n",
    "points(pressure$temperature,pressure$pressure/2,col='red')\n",
    "# 相应 ggplot2 版本\n",
    "ggplot2::qplot(temperature,pressure,data=pressure,geom=c('line','point'))\n",
    "# equivalent to\n",
    "ggplot2::ggplot(pressure,aes(x=temperature,y=pressure))+geom_line()+geom_point()"
   ]
  },
  {
   "cell_type": "markdown",
   "metadata": {},
   "source": [
    "## 2.3 creating a Bar graph"
   ]
  },
  {
   "cell_type": "code",
   "execution_count": null,
   "metadata": {
    "scrolled": false
   },
   "outputs": [],
   "source": [
    "#options(warn=-1)\n",
    "# 不同数据集使用不同方法，BOD$demand 类似一个归总数据，而mtcars$cyl需要先归总\n",
    "barplot(BOD$demand,names.arg=BOD$Time) #names.arg 指定横轴标记\n",
    "barplot(table(mtcars$cyl)) \n",
    "# 使用 ggplot2\n",
    "#library(ggplot2)\n",
    "# 报错，因为涉及stat参数，故此处不推荐使用qplot: qplot(factor(BOD$Time),BOD$demand,geom=\"bar\",stat=\"identity\") # convert the x variable to a factor, so that it is treated as discrete\n",
    "qplot(mtcars$cyl) # 更好使用 qplot(factor(mtcars$cyl))\n",
    "# 或者使用\n",
    "# 报错，此处不推荐使用qplot: qplot(Time,demand,data=BOD,geom=\"bar\") # 报错\n",
    "ggplot(BOD,aes(x=Time,y=demand))+geom_bar(stat=\"identity\")"
   ]
  },
  {
   "cell_type": "markdown",
   "metadata": {},
   "source": [
    "## 2.4 creating a histogram"
   ]
  },
  {
   "cell_type": "code",
   "execution_count": null,
   "metadata": {},
   "outputs": [],
   "source": [
    "hist(mtcars$mpg)\n",
    "hist(mtcars$mpg,breaks=10)\n",
    "# ggplot2\n",
    "qplot(mtcars$mpg)# 等价于 qplot(mtcars$mpg,binwidth=1)\n",
    "qplot(mpg,data=mtcars,binwidth=4) # 等价于 ggplot(mtcars,aes(x=mpg))+geom_histogram(binwidth=4)"
   ]
  },
  {
   "cell_type": "markdown",
   "metadata": {},
   "source": [
    "# 2.5 creating a box plot"
   ]
  },
  {
   "cell_type": "code",
   "execution_count": null,
   "metadata": {
    "scrolled": false
   },
   "outputs": [],
   "source": [
    "plot(ToothGrowth$supp,ToothGrowth$len) # 数据的原因（a factor of x values and a vector of y values），使得简单实用plot就可以画出box图\n",
    "boxplot(len~supp,data=ToothGrowth)\n",
    "# ggplot2\n",
    "qplot(ToothGrowth$supp,ToothGrowth$len,geom=\"boxplot\")\n",
    "qplot(supp,len,data=ToothGrowth,geom=\"boxplot\")# 等价于 ggplot(ToothGrowth,aes(x=supp,y=len))+geom_boxplot()"
   ]
  },
  {
   "cell_type": "code",
   "execution_count": null,
   "metadata": {
    "scrolled": false
   },
   "outputs": [],
   "source": [
    "# it's also possible to make box plots for multiple variables,by combining the variables with \"interaction()\"\n",
    "qplot(interaction(ToothGrowth$supp,ToothGrowth$dose),ToothGrowth$len,geom=\"boxplot\")\n",
    "qplot(interaction(supp,dose),len,data=ToothGrowth,geom=\"boxplot\")\n",
    "ggplot(ToothGrowth,aes(x=interaction(supp,dose),y=len))+geom_boxplot()"
   ]
  },
  {
   "cell_type": "markdown",
   "metadata": {},
   "source": [
    "# 2.6 plotting a function curve"
   ]
  },
  {
   "cell_type": "code",
   "execution_count": null,
   "metadata": {
    "scrolled": false
   },
   "outputs": [],
   "source": [
    "# use \"curve()\" and pass it an expression with the variable x\n",
    "curve(x^3-5*x,from=-4,to=4)\n",
    "# 或者是自定义的function\n",
    "myfun<-function(x){\n",
    "    1/(exp(-x+10))\n",
    "}\n",
    "curve(myfun(x),from=0,to=20)\n",
    "curve(1-myfun(x),add=TRUE,col=\"red\") # add a line\n",
    "# ggplot2\n",
    "ggplot(data.frame(x=c(0,20)),aes(x=x))+stat_function(fun=myfun,geom=\"line\") # 注意，似乎此处的data.frame必不可少\n"
   ]
  },
  {
   "cell_type": "markdown",
   "metadata": {},
   "source": [
    "# 3. Bar Graphs"
   ]
  },
  {
   "cell_type": "code",
   "execution_count": null,
   "metadata": {},
   "outputs": [],
   "source": []
  }
 ],
 "metadata": {
  "kernelspec": {
   "display_name": "R",
   "language": "R",
   "name": "ir"
  },
  "language_info": {
   "codemirror_mode": "r",
   "file_extension": ".r",
   "mimetype": "text/x-r-source",
   "name": "R",
   "pygments_lexer": "r",
   "version": "3.3.3"
  }
 },
 "nbformat": 4,
 "nbformat_minor": 2
}
