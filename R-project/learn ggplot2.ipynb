{
 "cells": [
  {
   "cell_type": "markdown",
   "metadata": {},
   "source": [
    "# learn ggplot2"
   ]
  },
  {
   "cell_type": "markdown",
   "metadata": {},
   "source": [
    "## Chapter 2：getting started with ggplot2"
   ]
  },
  {
   "cell_type": "code",
   "execution_count": null,
   "metadata": {},
   "outputs": [],
   "source": [
    "library(ggplot2) \n",
    "#str(mpg) # data about the fuel economy of popular car models in 1999 and 2008"
   ]
  },
  {
   "cell_type": "code",
   "execution_count": null,
   "metadata": {},
   "outputs": [],
   "source": [
    "#ggplot(mpg, aes(x = displ, y = hwy)) + geom_point() # 或者等价地使用下面的命令\n",
    "ggplot(mpg, aes(displ, hwy)) + geom_point()\n",
    "ggplot(mpg, aes(cty, hwy)) + geom_point()\n",
    "ggplot(diamonds, aes(carat, price)) + geom_point()\n",
    "ggplot(economics, aes(date, unemploy)) + geom_point()\n",
    "ggplot(mpg, aes(cty),bins=30) + geom_histogram()"
   ]
  },
  {
   "cell_type": "code",
   "execution_count": null,
   "metadata": {
    "scrolled": false
   },
   "outputs": [],
   "source": [
    "ggplot(mpg, aes(displ, hwy, colour = class)) + geom_point()\n",
    "ggplot(mpg, aes(displ, hwy, shape = drv)) + geom_point()\n",
    "ggplot(mpg, aes(displ, hwy, size = cyl)) + geom_point()\n",
    "ggplot(mpg, aes(displ, hwy)) + geom_point(aes(colour = \"blue\")) \n",
    "ggplot(mpg, aes(displ, hwy)) + geom_point(colour = \"blue\")"
   ]
  },
  {
   "cell_type": "code",
   "execution_count": null,
   "metadata": {},
   "outputs": [],
   "source": [
    "ggplot(mpg, aes(displ, hwy)) + geom_point() + facet_wrap(~class)"
   ]
  },
  {
   "cell_type": "code",
   "execution_count": null,
   "metadata": {},
   "outputs": [],
   "source": [
    "ggplot(mpg, aes(displ, hwy)) + geom_point() + geom_smooth()\n",
    "ggplot(mpg, aes(displ, hwy)) + geom_point() + geom_smooth(span=0.2)\n",
    "ggplot(mpg, aes(displ, hwy)) + geom_point() + geom_smooth(span=1)\n",
    "library(mgcv);ggplot(mpg, aes(displ, hwy)) +geom_point() +geom_smooth(method = \"gam\", formula = y~s(x))\n",
    "ggplot(mpg, aes(displ, hwy)) + geom_point() + geom_smooth(method='lm')"
   ]
  },
  {
   "cell_type": "code",
   "execution_count": null,
   "metadata": {
    "scrolled": true
   },
   "outputs": [],
   "source": [
    "ggplot(mpg, aes(drv, hwy)) + geom_point()\n",
    "ggplot(mpg, aes(drv, hwy)) + geom_jitter() \n",
    "ggplot(mpg, aes(drv, hwy)) + geom_boxplot() \n",
    "ggplot(mpg, aes(drv, hwy)) + geom_violin()"
   ]
  },
  {
   "cell_type": "code",
   "execution_count": null,
   "metadata": {},
   "outputs": [],
   "source": [
    "ggplot(mpg, aes(hwy)) + geom_histogram()\n",
    "ggplot(mpg, aes(hwy)) + geom_freqpoly()\n",
    "ggplot(mpg, aes(hwy)) + geom_freqpoly(binwidth = 2.5)\n",
    "ggplot(mpg, aes(hwy)) + geom_freqpoly(binwidth = 1)\n",
    "ggplot(mpg, aes(displ, colour = drv)) + geom_freqpoly(binwidth = 0.5)\n",
    "ggplot(mpg, aes(displ, fill = drv)) + geom_histogram(binwidth = 0.5) + facet_wrap(~drv, ncol = 1)"
   ]
  },
  {
   "cell_type": "code",
   "execution_count": null,
   "metadata": {},
   "outputs": [],
   "source": [
    "ggplot(mpg, aes(manufacturer)) + geom_bar()\n",
    "#\n",
    "drugs <- data.frame(drug = c(\"a\", \"b\", \"c\"), effect = c(4.2, 9.7, 6.1))\n",
    "ggplot(drugs, aes(drug, effect)) + geom_bar(stat = \"identity\") \n",
    "ggplot(drugs, aes(drug, effect)) + geom_point()"
   ]
  },
  {
   "cell_type": "code",
   "execution_count": null,
   "metadata": {},
   "outputs": [],
   "source": [
    "ggplot(economics, aes(date, unemploy / pop)) + geom_line()\n",
    "ggplot(economics, aes(date, uempmed)) + geom_line()\n",
    "ggplot(economics, aes(unemploy / pop, uempmed)) + geom_path() +geom_point()\n",
    "year <- function(x) as.POSIXlt(x)$year + 1900 \n",
    "ggplot(economics, aes(unemploy / pop, uempmed)) +geom_path(colour = \"grey50\") + geom_point(aes(colour = year(date)))"
   ]
  },
  {
   "cell_type": "code",
   "execution_count": null,
   "metadata": {},
   "outputs": [],
   "source": [
    "ggplot(mpg, aes(cty, hwy)) + geom_point(alpha = 1 / 3)\n",
    "ggplot(mpg, aes(cty, hwy)) + geom_point(alpha = 1 / 3) + xlab(\"city driving (mpg)\") + ylab(\"highway driving (mpg)\")\n",
    "ggplot(mpg, aes(cty, hwy)) + geom_point(alpha = 1 / 3) + xlab(NULL) +ylab(NULL)\n",
    "#\n",
    "ggplot(mpg, aes(drv, hwy)) +geom_jitter(width = 0.25)\n",
    "ggplot(mpg, aes(drv, hwy)) + geom_jitter(width = 0.25) + xlim(\"f\", \"r\") +ylim(20, 30)\n",
    "ggplot(mpg, aes(drv, hwy)) + geom_jitter(width = 0.25, na.rm = TRUE) + ylim(NA, 30)"
   ]
  },
  {
   "cell_type": "code",
   "execution_count": null,
   "metadata": {},
   "outputs": [],
   "source": [
    "p <- ggplot(mpg, aes(displ, hwy, colour = factor(cyl))) + geom_point()\n",
    "print(p)\n",
    "ggsave(\"plot.png\", width = 5, height = 5)\n",
    "summary(p)"
   ]
  },
  {
   "cell_type": "code",
   "execution_count": null,
   "metadata": {},
   "outputs": [],
   "source": [
    "qplot(displ, hwy, data = mpg)\n",
    "qplot(displ, data = mpg)\n",
    "qplot(displ, hwy, data = mpg, colour = \"blue\")\n",
    "qplot(displ, hwy, data = mpg, colour = I(\"blue\"))"
   ]
  },
  {
   "cell_type": "code",
   "execution_count": null,
   "metadata": {},
   "outputs": [],
   "source": []
  },
  {
   "cell_type": "code",
   "execution_count": null,
   "metadata": {
    "collapsed": true
   },
   "outputs": [],
   "source": []
  }
 ],
 "metadata": {
  "kernelspec": {
   "display_name": "R",
   "language": "R",
   "name": "ir"
  },
  "language_info": {
   "codemirror_mode": "r",
   "file_extension": ".r",
   "mimetype": "text/x-r-source",
   "name": "R",
   "pygments_lexer": "r",
   "version": "3.3.2"
  }
 },
 "nbformat": 4,
 "nbformat_minor": 2
}
