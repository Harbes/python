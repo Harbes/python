{
 "cells": [
  {
   "cell_type": "markdown",
   "metadata": {},
   "source": [
    "# Book: Analysis of financial time series"
   ]
  },
  {
   "cell_type": "markdown",
   "metadata": {},
   "source": [
    "## 第1章 financial time series and their characteristics"
   ]
  },
  {
   "cell_type": "code",
   "execution_count": 4,
   "metadata": {},
   "outputs": [
    {
     "ename": "ERROR",
     "evalue": "Error in library(fBasics): there is no package called ‘fBasics’\n",
     "output_type": "error",
     "traceback": [
      "Error in library(fBasics): there is no package called ‘fBasics’\nTraceback:\n",
      "1. library(fBasics)",
      "2. stop(txt, domain = NA)"
     ]
    }
   ],
   "source": [
    "#install.packages('fBasics')\n",
    "library(fBasics)\n",
    "data=read.table('d-ibm3dx7008.txt',header=T)\n",
    "dim(data)\n",
    "head(data,5)"
   ]
  },
  {
   "cell_type": "code",
   "execution_count": null,
   "metadata": {
    "collapsed": true
   },
   "outputs": [],
   "source": []
  }
 ],
 "metadata": {
  "kernelspec": {
   "display_name": "R",
   "language": "R",
   "name": "ir"
  },
  "language_info": {
   "codemirror_mode": "r",
   "file_extension": ".r",
   "mimetype": "text/x-r-source",
   "name": "R",
   "pygments_lexer": "r",
   "version": "3.4.1"
  }
 },
 "nbformat": 4,
 "nbformat_minor": 2
}
