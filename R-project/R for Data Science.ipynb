{
 "cells": [
  {
   "cell_type": "markdown",
   "metadata": {},
   "source": [
    "#  <center> 第一部分 Explore</center >\n",
    "# 1 Data Visiualization with _ggplot2_\n",
    "## 1.1 以mpg数据为例\n",
    "* mpg数据：可以通过 _str(mpg)_ 以及 _?mpg_ 加以了解\n",
    "* creating a ggplot\n",
    "```R\n",
    "  # library(tidyverse)\n",
    "  ggplot(data=mpg)+geom_point(mapping=aes(x=displ,y=hwy)) \n",
    "  # 或者也可以不要写出mapping：\n",
    "  # ggplot(data=mpg)+geom_point(aes(x=displ,y=hwy))\n",
    "```\n",
    "* 模板\n",
    "```R\n",
    "  ggplot(data = <DATA>) +\n",
    "    <GEOM_FUNCTION>(mapping = aes(<MAPPINGS>))\n",
    "```\n",
    "\n",
    "## 1.2 设置mapping/ aesthetic mapping\n",
    "* Aesthetics include things like the size, the shape, or the color of your points. For example, you can map the colors of your points to the class variable to reveal the class of each car. \n",
    "```R\n",
    "    ggplot(data = mpg) +\n",
    "      geom_point(mapping = aes(x = displ, y = hwy, color = class))\n",
    "```\n",
    "* To map an aesthetic to a variable, associate the name of the aesthetic to the name of the variable inside ___aes()___. ggplot2 will automatically assign a unique level of the aesthetic (here a unique color) to each unique value of the variable, a process known as ___scaling___. ggplot2 will also add a legend that explains which levels correspond to which values.\n",
    "* In the preceding example, we mapped class to the color aesthetic, but we could have mapped class to the size aesthetic in the same way. In this case, the exact size of each point would reveal its class affiliation. We get a warning here, because __mapping an unordered variable (class) to an ordered aesthetic (size) is not a good idea__:\n",
    "```R\n",
    "    ggplot(data = mpg) +\n",
    "      geom_point(mapping = aes(x = displ, y = hwy, size = class)) # 此处class是一个categorical variable\n",
    "    #> Warning: Using size for a discrete variable is not advised.\n",
    "```\n",
    "  - 不过，可以将class用作控制透明度(transparency)的变量，或者是点的形状\n",
    "  ```R\n",
    "    # 控制透明度(alpha=) \n",
    "    ggplot(data = mpg) +\n",
    "      geom_point(mapping = aes(x = displ, y = hwy, alpha = class))\n",
    "    # 控制点的形状(shape=)\n",
    "    ggplot(data = mpg) +\n",
    "      geom_point(mapping = aes(x = displ, y = hwy, shape = class)) # 由于ggplot2一次只能使用6个形状，因而排在最后的SUV无法标注\n",
    "  ```\n",
    "  \n",
    "## 1.3 common problems\n",
    "* One common problem when creating ggplot2 graphics is to put the + in the wrong place: it has to come at the end of the line, not the start.\n",
    "\n",
    "## 1.4 Facets\n",
    "* One way to add additional variables is with aesthetics. Another way, particularly useful for categorical variables, is to split your plot into facets, subplots that each display one subset of the data.To facet your plot by a single variable, use ___facet_wrap()___. The first argument of facet_wrap() should be a formula, which you create with ~ followed by a variable name (here “formula” is the name of a data structure in R, not a synonym for “equation”). The variable that you pass to facet_wrap() should be discrete:\n",
    "```R\n",
    "    ggplot(data = mpg) +\n",
    "      geom_point(mapping = aes(x = displ, y = hwy)) +\n",
    "      facet_wrap(~ class, nrow = 2)\n",
    "```"
   ]
  },
  {
   "cell_type": "code",
   "execution_count": 26,
   "metadata": {
    "scrolled": false
   },
   "outputs": [
    {
     "data": {},
     "metadata": {},
     "output_type": "display_data"
    },
    {
     "data": {
      "image/png": "[encoded data removed]",
      "text/plain": [
       "plot without title"
      ]
     },
     "metadata": {},
     "output_type": "display_data"
    }
   ],
   "source": [
    "ggplot(data = mpg) +\n",
    "    geom_point(mapping = aes(x = displ, y = hwy)) +\n",
    "    facet_wrap(~ class, nrow = 2)"
   ]
  },
  {
   "cell_type": "code",
   "execution_count": 8,
   "metadata": {},
   "outputs": [
    {
     "data": {},
     "metadata": {},
     "output_type": "display_data"
    },
    {
     "data": {
      "image/png": "[encoded data removed]",
      "text/plain": [
       "plot without title"
      ]
     },
     "metadata": {},
     "output_type": "display_data"
    }
   ],
   "source": []
  },
  {
   "cell_type": "markdown",
   "metadata": {},
   "source": [
    "#  <center> 第二部分 Wrangle</center >\n",
    "# 7 Tibbles with tibble\n",
    "## 7.1 Creating Tibbles\n",
    "* __as_tibble()__\n",
    "```R\n",
    " library(tidyverse)\n",
    " as_tibble(iris)\n",
    "```\n",
    "* __tibble()__\n",
    "```R\n",
    " tibble(\n",
    "     x= 1:5,\n",
    "     y=1, # 自动填充成5个1\n",
    "     z=x^2+y\n",
    "     )\n",
    "```\n",
    "  * It’s possible for a tibble to have column names that are not valid R variable names, aka ___nonsyntactic___ names.\n",
    "  ```R\n",
    "    tb <- tibble(\n",
    "      `:)` = \"smile\",\n",
    "      ` ` = \"space\",\n",
    "      `2000` = \"number\"\n",
    "    )\n",
    "    tb\n",
    "```\n",
    "* __tribble()__: transposed tibble\n",
    "```R\n",
    "    tribble(\n",
    "      ~x, ~y, ~z,\n",
    "      #--|--|----\n",
    "      \"a\", 2, 3.6,\n",
    "      \"b\", 1, 8.5\n",
    "    )\n",
    "```\n",
    "## 7.2 Tibbles Versus data.frame\n",
    "二者在使用时，主要有两种差别：printing和subsetting\n",
    "* printing\n",
    "```R\n",
    "  tibble(\n",
    "    a = lubridate::now() + runif(1e3) * 86400,\n",
    "    b = lubridate::today() + runif(1e3) * 30,\n",
    "    c = 1:1e3,\n",
    "    d = runif(1e3),\n",
    "    e = sample(letters, 1e3, replace = TRUE)\n",
    "  )\n",
    "```"
   ]
  },
  {
   "cell_type": "code",
   "execution_count": 1,
   "metadata": {
    "scrolled": true
   },
   "outputs": [
    {
     "name": "stderr",
     "output_type": "stream",
     "text": [
      "Warning message:\n",
      "\"package 'tidyverse' was built under R version 3.4.3\"-- Attaching packages --------------------------------------- tidyverse 1.2.1 --\n",
      "√ ggplot2 2.2.1     √ purrr   0.2.4\n",
      "√ tibble  1.4.2     √ dplyr   0.7.4\n",
      "√ tidyr   0.8.0     √ stringr 1.3.0\n",
      "√ readr   1.1.1     √ forcats 0.3.0\n",
      "Warning message:\n",
      "\"package 'ggplot2' was built under R version 3.4.3\"Warning message:\n",
      "\"package 'tibble' was built under R version 3.4.3\"Warning message:\n",
      "\"package 'tidyr' was built under R version 3.4.3\"Warning message:\n",
      "\"package 'readr' was built under R version 3.4.3\"Warning message:\n",
      "\"package 'purrr' was built under R version 3.4.3\"Warning message:\n",
      "\"package 'dplyr' was built under R version 3.4.3\"Warning message:\n",
      "\"package 'stringr' was built under R version 3.4.3\"Warning message:\n",
      "\"package 'forcats' was built under R version 3.4.3\"-- Conflicts ------------------------------------------ tidyverse_conflicts() --\n",
      "x dplyr::filter() masks stats::filter()\n",
      "x dplyr::lag()    masks stats::lag()\n"
     ]
    }
   ],
   "source": [
    " library(tidyverse)\n",
    "a<-tibble(\n",
    "  a = lubridate::now() + runif(1e3) * 86400,\n",
    "  b = lubridate::today() + runif(1e3) * 30,\n",
    "  c = 1:1e3,\n",
    "  d = runif(1e3),\n",
    "  e = sample(letters, 1e3, replace = TRUE)\n",
    ")"
   ]
  },
  {
   "cell_type": "code",
   "execution_count": 2,
   "metadata": {},
   "outputs": [
    {
     "name": "stdout",
     "output_type": "stream",
     "text": [
      "# A tibble: 1,000 x 5\n",
      "   a                   b              c      d e    \n",
      "   <dttm>              <date>     <int>  <dbl> <chr>\n",
      " 1 2018-02-22 02:25:59 2018-02-24     1 0.638  n    \n",
      " 2 2018-02-22 17:10:57 2018-03-13     2 0.932  y    \n",
      " 3 2018-02-22 07:52:18 2018-03-05     3 0.286  n    \n",
      " 4 2018-02-22 13:04:56 2018-03-09     4 0.634  j    \n",
      " 5 2018-02-21 23:43:28 2018-03-17     5 0.514  d    \n",
      " 6 2018-02-22 04:17:18 2018-03-14     6 0.0671 a    \n",
      " 7 2018-02-21 23:48:42 2018-03-18     7 0.790  n    \n",
      " 8 2018-02-22 02:18:19 2018-03-17     8 0.999  v    \n",
      " 9 2018-02-22 15:36:39 2018-03-15     9 0.188  d    \n",
      "10 2018-02-22 10:25:14 2018-02-24    10 0.796  c    \n",
      "# ... with 990 more rows\n"
     ]
    }
   ],
   "source": [
    "options(tibbles.print_max=15)\n",
    "print(a)"
   ]
  },
  {
   "cell_type": "code",
   "execution_count": null,
   "metadata": {
    "collapsed": true
   },
   "outputs": [],
   "source": []
  }
 ],
 "metadata": {
  "kernelspec": {
   "display_name": "R",
   "language": "R",
   "name": "ir"
  },
  "language_info": {
   "codemirror_mode": "r",
   "file_extension": ".r",
   "mimetype": "text/x-r-source",
   "name": "R",
   "pygments_lexer": "r",
   "version": "3.4.2"
  }
 },
 "nbformat": 4,
 "nbformat_minor": 2
}
